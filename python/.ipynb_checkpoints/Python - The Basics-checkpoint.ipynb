{
 "cells": [
  {
   "cell_type": "markdown",
   "id": "d8d02962",
   "metadata": {
    "heading_collapsed": true,
    "hidden": true
   },
   "source": [
    "## Install Jupyter Notebook Themes"
   ]
  },
  {
   "cell_type": "code",
   "execution_count": 1,
   "id": "3bd0789a",
   "metadata": {
    "hidden": true
   },
   "outputs": [
    {
     "name": "stdout",
     "output_type": "stream",
     "text": [
      "Collecting jupyterthemes\n",
      "  Downloading jupyterthemes-0.20.0-py2.py3-none-any.whl (7.0 MB)\n",
      "     ---------------------------------------- 0.0/7.0 MB ? eta -:--:--\n",
      "     ---------------------------------------- 0.0/7.0 MB 1.4 MB/s eta 0:00:06\n",
      "     ---------------------------------------- 0.0/7.0 MB 393.8 kB/s eta 0:00:18\n",
      "      --------------------------------------- 0.1/7.0 MB 751.6 kB/s eta 0:00:10\n",
      "      --------------------------------------- 0.1/7.0 MB 711.9 kB/s eta 0:00:10\n",
      "      --------------------------------------- 0.2/7.0 MB 756.6 kB/s eta 0:00:10\n",
      "     - -------------------------------------- 0.2/7.0 MB 765.3 kB/s eta 0:00:09\n",
      "     - -------------------------------------- 0.3/7.0 MB 886.2 kB/s eta 0:00:08\n",
      "     -- ------------------------------------- 0.4/7.0 MB 928.4 kB/s eta 0:00:08\n",
      "     -- ------------------------------------- 0.4/7.0 MB 1.0 MB/s eta 0:00:07\n",
      "     -- ------------------------------------- 0.5/7.0 MB 1.1 MB/s eta 0:00:07\n",
      "     --- ------------------------------------ 0.6/7.0 MB 1.1 MB/s eta 0:00:06\n",
      "     --- ------------------------------------ 0.6/7.0 MB 1.1 MB/s eta 0:00:06\n",
      "     ---- ----------------------------------- 0.7/7.0 MB 1.1 MB/s eta 0:00:06\n",
      "     ---- ----------------------------------- 0.8/7.0 MB 1.1 MB/s eta 0:00:06\n",
      "     ---- ----------------------------------- 0.8/7.0 MB 1.2 MB/s eta 0:00:06\n",
      "     ----- ---------------------------------- 0.9/7.0 MB 1.2 MB/s eta 0:00:06\n",
      "     ----- ---------------------------------- 1.0/7.0 MB 1.2 MB/s eta 0:00:06\n",
      "     ----- ---------------------------------- 1.0/7.0 MB 1.2 MB/s eta 0:00:05\n",
      "     ------ --------------------------------- 1.1/7.0 MB 1.2 MB/s eta 0:00:05\n",
      "     ------ --------------------------------- 1.2/7.0 MB 1.2 MB/s eta 0:00:05\n",
      "     ------- -------------------------------- 1.2/7.0 MB 1.2 MB/s eta 0:00:05\n",
      "     ------- -------------------------------- 1.3/7.0 MB 1.2 MB/s eta 0:00:05\n",
      "     ------- -------------------------------- 1.4/7.0 MB 1.2 MB/s eta 0:00:05\n",
      "     -------- ------------------------------- 1.4/7.0 MB 1.2 MB/s eta 0:00:05\n",
      "     -------- ------------------------------- 1.5/7.0 MB 1.3 MB/s eta 0:00:05\n",
      "     -------- ------------------------------- 1.6/7.0 MB 1.3 MB/s eta 0:00:05\n",
      "     --------- ------------------------------ 1.6/7.0 MB 1.3 MB/s eta 0:00:05\n",
      "     --------- ------------------------------ 1.7/7.0 MB 1.3 MB/s eta 0:00:05\n",
      "     ---------- ----------------------------- 1.8/7.0 MB 1.3 MB/s eta 0:00:05\n",
      "     ---------- ----------------------------- 1.8/7.0 MB 1.3 MB/s eta 0:00:05\n",
      "     ---------- ----------------------------- 1.9/7.0 MB 1.3 MB/s eta 0:00:04\n",
      "     ----------- ---------------------------- 1.9/7.0 MB 1.3 MB/s eta 0:00:04\n",
      "     ----------- ---------------------------- 2.0/7.0 MB 1.3 MB/s eta 0:00:04\n",
      "     ----------- ---------------------------- 2.1/7.0 MB 1.3 MB/s eta 0:00:04\n",
      "     ------------ --------------------------- 2.2/7.0 MB 1.3 MB/s eta 0:00:04\n",
      "     ------------ --------------------------- 2.2/7.0 MB 1.3 MB/s eta 0:00:04\n",
      "     ------------ --------------------------- 2.3/7.0 MB 1.3 MB/s eta 0:00:04\n",
      "     ------------- -------------------------- 2.3/7.0 MB 1.3 MB/s eta 0:00:04\n",
      "     ------------- -------------------------- 2.4/7.0 MB 1.3 MB/s eta 0:00:04\n",
      "     -------------- ------------------------- 2.5/7.0 MB 1.3 MB/s eta 0:00:04\n",
      "     -------------- ------------------------- 2.5/7.0 MB 1.3 MB/s eta 0:00:04\n",
      "     -------------- ------------------------- 2.6/7.0 MB 1.3 MB/s eta 0:00:04\n",
      "     -------------- ------------------------- 2.6/7.0 MB 1.3 MB/s eta 0:00:04\n",
      "     -------------- ------------------------- 2.6/7.0 MB 1.3 MB/s eta 0:00:04\n",
      "     ---------------- ----------------------- 2.8/7.0 MB 1.3 MB/s eta 0:00:04\n",
      "     ---------------- ----------------------- 2.9/7.0 MB 1.3 MB/s eta 0:00:04\n",
      "     ---------------- ----------------------- 3.0/7.0 MB 1.3 MB/s eta 0:00:04\n",
      "     ----------------- ---------------------- 3.0/7.0 MB 1.3 MB/s eta 0:00:03\n",
      "     ----------------- ---------------------- 3.1/7.0 MB 1.3 MB/s eta 0:00:03\n",
      "     ------------------ --------------------- 3.2/7.0 MB 1.3 MB/s eta 0:00:03\n",
      "     ------------------ --------------------- 3.2/7.0 MB 1.3 MB/s eta 0:00:03\n",
      "     ------------------ --------------------- 3.3/7.0 MB 1.3 MB/s eta 0:00:03\n",
      "     ------------------- -------------------- 3.4/7.0 MB 1.3 MB/s eta 0:00:03\n",
      "     ------------------- -------------------- 3.5/7.0 MB 1.3 MB/s eta 0:00:03\n",
      "     -------------------- ------------------- 3.5/7.0 MB 1.3 MB/s eta 0:00:03\n",
      "     -------------------- ------------------- 3.6/7.0 MB 1.3 MB/s eta 0:00:03\n",
      "     -------------------- ------------------- 3.6/7.0 MB 1.3 MB/s eta 0:00:03\n",
      "     --------------------- ------------------ 3.7/7.0 MB 1.3 MB/s eta 0:00:03\n",
      "     --------------------- ------------------ 3.8/7.0 MB 1.3 MB/s eta 0:00:03\n",
      "     --------------------- ------------------ 3.8/7.0 MB 1.3 MB/s eta 0:00:03\n",
      "     ---------------------- ----------------- 3.9/7.0 MB 1.3 MB/s eta 0:00:03\n",
      "     ---------------------- ----------------- 4.0/7.0 MB 1.3 MB/s eta 0:00:03\n",
      "     ----------------------- ---------------- 4.0/7.0 MB 1.3 MB/s eta 0:00:03\n",
      "     ----------------------- ---------------- 4.1/7.0 MB 1.3 MB/s eta 0:00:03\n",
      "     ----------------------- ---------------- 4.2/7.0 MB 1.3 MB/s eta 0:00:03\n",
      "     ------------------------ --------------- 4.2/7.0 MB 1.3 MB/s eta 0:00:03\n",
      "     ------------------------ --------------- 4.3/7.0 MB 1.3 MB/s eta 0:00:03\n",
      "     ------------------------ --------------- 4.4/7.0 MB 1.3 MB/s eta 0:00:02\n",
      "     ------------------------- -------------- 4.4/7.0 MB 1.3 MB/s eta 0:00:02\n",
      "     ------------------------- -------------- 4.5/7.0 MB 1.4 MB/s eta 0:00:02\n",
      "     ------------------------- -------------- 4.5/7.0 MB 1.4 MB/s eta 0:00:02\n",
      "     -------------------------- ------------- 4.6/7.0 MB 1.4 MB/s eta 0:00:02\n",
      "     -------------------------- ------------- 4.7/7.0 MB 1.4 MB/s eta 0:00:02\n",
      "     --------------------------- ------------ 4.8/7.0 MB 1.4 MB/s eta 0:00:02\n",
      "     --------------------------- ------------ 4.8/7.0 MB 1.4 MB/s eta 0:00:02\n",
      "     --------------------------- ------------ 4.9/7.0 MB 1.4 MB/s eta 0:00:02\n",
      "     ---------------------------- ----------- 4.9/7.0 MB 1.4 MB/s eta 0:00:02\n",
      "     ---------------------------- ----------- 5.0/7.0 MB 1.4 MB/s eta 0:00:02\n",
      "     ---------------------------- ----------- 5.1/7.0 MB 1.4 MB/s eta 0:00:02\n",
      "     ----------------------------- ---------- 5.1/7.0 MB 1.4 MB/s eta 0:00:02\n",
      "     ----------------------------- ---------- 5.2/7.0 MB 1.3 MB/s eta 0:00:02\n",
      "     ----------------------------- ---------- 5.3/7.0 MB 1.4 MB/s eta 0:00:02\n",
      "     ------------------------------ --------- 5.3/7.0 MB 1.4 MB/s eta 0:00:02\n",
      "     ------------------------------ --------- 5.4/7.0 MB 1.4 MB/s eta 0:00:02\n",
      "     ------------------------------- -------- 5.5/7.0 MB 1.4 MB/s eta 0:00:02\n",
      "     ------------------------------- -------- 5.5/7.0 MB 1.4 MB/s eta 0:00:02\n",
      "     ------------------------------- -------- 5.6/7.0 MB 1.4 MB/s eta 0:00:02\n",
      "     -------------------------------- ------- 5.7/7.0 MB 1.4 MB/s eta 0:00:01\n",
      "     -------------------------------- ------- 5.7/7.0 MB 1.4 MB/s eta 0:00:01\n",
      "     --------------------------------- ------ 5.8/7.0 MB 1.4 MB/s eta 0:00:01\n",
      "     --------------------------------- ------ 5.9/7.0 MB 1.4 MB/s eta 0:00:01\n",
      "     --------------------------------- ------ 5.9/7.0 MB 1.4 MB/s eta 0:00:01\n",
      "     ---------------------------------- ----- 6.0/7.0 MB 1.4 MB/s eta 0:00:01\n",
      "     ---------------------------------- ----- 6.1/7.0 MB 1.4 MB/s eta 0:00:01\n",
      "     ---------------------------------- ----- 6.1/7.0 MB 1.4 MB/s eta 0:00:01\n",
      "     ----------------------------------- ---- 6.2/7.0 MB 1.4 MB/s eta 0:00:01\n",
      "     ----------------------------------- ---- 6.2/7.0 MB 1.4 MB/s eta 0:00:01\n",
      "     ----------------------------------- ---- 6.3/7.0 MB 1.4 MB/s eta 0:00:01\n",
      "     ------------------------------------ --- 6.4/7.0 MB 1.4 MB/s eta 0:00:01\n",
      "     ------------------------------------ --- 6.5/7.0 MB 1.4 MB/s eta 0:00:01\n",
      "     ------------------------------------- -- 6.5/7.0 MB 1.4 MB/s eta 0:00:01\n",
      "     ------------------------------------- -- 6.6/7.0 MB 1.4 MB/s eta 0:00:01\n",
      "     ------------------------------------- -- 6.6/7.0 MB 1.4 MB/s eta 0:00:01\n",
      "     -------------------------------------- - 6.7/7.0 MB 1.4 MB/s eta 0:00:01\n",
      "     -------------------------------------- - 6.8/7.0 MB 1.4 MB/s eta 0:00:01\n",
      "     -------------------------------------- - 6.8/7.0 MB 1.4 MB/s eta 0:00:01\n",
      "     ---------------------------------------  6.9/7.0 MB 1.4 MB/s eta 0:00:01\n",
      "     ---------------------------------------  6.9/7.0 MB 1.4 MB/s eta 0:00:01\n",
      "     ---------------------------------------  7.0/7.0 MB 1.4 MB/s eta 0:00:01\n",
      "     ---------------------------------------  7.0/7.0 MB 1.3 MB/s eta 0:00:01\n",
      "     ---------------------------------------  7.0/7.0 MB 1.3 MB/s eta 0:00:01\n",
      "     ---------------------------------------  7.0/7.0 MB 1.3 MB/s eta 0:00:01\n",
      "     ---------------------------------------  7.0/7.0 MB 1.3 MB/s eta 0:00:01\n",
      "     ---------------------------------------- 7.0/7.0 MB 1.3 MB/s eta 0:00:00\n",
      "Requirement already satisfied: jupyter-core in c:\\users\\elwady\\anaconda3\\lib\\site-packages (from jupyterthemes) (5.5.0)\n",
      "Requirement already satisfied: notebook>=5.6.0 in c:\\users\\elwady\\anaconda3\\lib\\site-packages (from jupyterthemes) (7.0.6)\n",
      "Requirement already satisfied: ipython>=5.4.1 in c:\\users\\elwady\\anaconda3\\lib\\site-packages (from jupyterthemes) (8.15.0)\n",
      "Requirement already satisfied: matplotlib>=1.4.3 in c:\\users\\elwady\\anaconda3\\lib\\site-packages (from jupyterthemes) (3.8.0)\n",
      "Collecting lesscpy>=0.11.2 (from jupyterthemes)\n",
      "  Downloading lesscpy-0.15.1-py2.py3-none-any.whl (46 kB)\n",
      "     ---------------------------------------- 0.0/46.7 kB ? eta -:--:--\n",
      "     ----------------------------------- ---- 41.0/46.7 kB 2.0 MB/s eta 0:00:01\n",
      "     -------------------------------------- 46.7/46.7 kB 775.8 kB/s eta 0:00:00\n",
      "Requirement already satisfied: backcall in c:\\users\\elwady\\anaconda3\\lib\\site-packages (from ipython>=5.4.1->jupyterthemes) (0.2.0)\n",
      "Requirement already satisfied: decorator in c:\\users\\elwady\\anaconda3\\lib\\site-packages (from ipython>=5.4.1->jupyterthemes) (5.1.1)\n",
      "Requirement already satisfied: jedi>=0.16 in c:\\users\\elwady\\anaconda3\\lib\\site-packages (from ipython>=5.4.1->jupyterthemes) (0.18.1)\n",
      "Requirement already satisfied: matplotlib-inline in c:\\users\\elwady\\anaconda3\\lib\\site-packages (from ipython>=5.4.1->jupyterthemes) (0.1.6)\n",
      "Requirement already satisfied: pickleshare in c:\\users\\elwady\\anaconda3\\lib\\site-packages (from ipython>=5.4.1->jupyterthemes) (0.7.5)\n",
      "Requirement already satisfied: prompt-toolkit!=3.0.37,<3.1.0,>=3.0.30 in c:\\users\\elwady\\anaconda3\\lib\\site-packages (from ipython>=5.4.1->jupyterthemes) (3.0.36)\n",
      "Requirement already satisfied: pygments>=2.4.0 in c:\\users\\elwady\\anaconda3\\lib\\site-packages (from ipython>=5.4.1->jupyterthemes) (2.15.1)\n",
      "Requirement already satisfied: stack-data in c:\\users\\elwady\\anaconda3\\lib\\site-packages (from ipython>=5.4.1->jupyterthemes) (0.2.0)\n",
      "Requirement already satisfied: traitlets>=5 in c:\\users\\elwady\\anaconda3\\lib\\site-packages (from ipython>=5.4.1->jupyterthemes) (5.7.1)\n",
      "Requirement already satisfied: colorama in c:\\users\\elwady\\anaconda3\\lib\\site-packages (from ipython>=5.4.1->jupyterthemes) (0.4.6)\n",
      "Requirement already satisfied: ply in c:\\users\\elwady\\anaconda3\\lib\\site-packages (from lesscpy>=0.11.2->jupyterthemes) (3.11)\n",
      "Requirement already satisfied: contourpy>=1.0.1 in c:\\users\\elwady\\anaconda3\\lib\\site-packages (from matplotlib>=1.4.3->jupyterthemes) (1.2.0)\n",
      "Requirement already satisfied: cycler>=0.10 in c:\\users\\elwady\\anaconda3\\lib\\site-packages (from matplotlib>=1.4.3->jupyterthemes) (0.11.0)\n",
      "Requirement already satisfied: fonttools>=4.22.0 in c:\\users\\elwady\\anaconda3\\lib\\site-packages (from matplotlib>=1.4.3->jupyterthemes) (4.25.0)\n",
      "Requirement already satisfied: kiwisolver>=1.0.1 in c:\\users\\elwady\\anaconda3\\lib\\site-packages (from matplotlib>=1.4.3->jupyterthemes) (1.4.4)\n",
      "Requirement already satisfied: numpy<2,>=1.21 in c:\\users\\elwady\\anaconda3\\lib\\site-packages (from matplotlib>=1.4.3->jupyterthemes) (1.26.2)\n",
      "Requirement already satisfied: packaging>=20.0 in c:\\users\\elwady\\anaconda3\\lib\\site-packages (from matplotlib>=1.4.3->jupyterthemes) (23.1)\n",
      "Requirement already satisfied: pillow>=6.2.0 in c:\\users\\elwady\\anaconda3\\lib\\site-packages (from matplotlib>=1.4.3->jupyterthemes) (10.0.1)\n",
      "Requirement already satisfied: pyparsing>=2.3.1 in c:\\users\\elwady\\anaconda3\\lib\\site-packages (from matplotlib>=1.4.3->jupyterthemes) (3.0.9)\n",
      "Requirement already satisfied: python-dateutil>=2.7 in c:\\users\\elwady\\anaconda3\\lib\\site-packages (from matplotlib>=1.4.3->jupyterthemes) (2.8.2)\n",
      "Requirement already satisfied: jupyter-server<3,>=2.4.0 in c:\\users\\elwady\\anaconda3\\lib\\site-packages (from notebook>=5.6.0->jupyterthemes) (2.10.0)\n",
      "Requirement already satisfied: jupyterlab-server<3,>=2.22.1 in c:\\users\\elwady\\anaconda3\\lib\\site-packages (from notebook>=5.6.0->jupyterthemes) (2.25.1)\n",
      "Requirement already satisfied: jupyterlab<5,>=4.0.2 in c:\\users\\elwady\\anaconda3\\lib\\site-packages (from notebook>=5.6.0->jupyterthemes) (4.0.8)\n",
      "Requirement already satisfied: notebook-shim<0.3,>=0.2 in c:\\users\\elwady\\anaconda3\\lib\\site-packages (from notebook>=5.6.0->jupyterthemes) (0.2.3)\n",
      "Requirement already satisfied: tornado>=6.2.0 in c:\\users\\elwady\\anaconda3\\lib\\site-packages (from notebook>=5.6.0->jupyterthemes) (6.3.3)\n",
      "Requirement already satisfied: platformdirs>=2.5 in c:\\users\\elwady\\anaconda3\\lib\\site-packages (from jupyter-core->jupyterthemes) (3.10.0)\n",
      "Requirement already satisfied: pywin32>=300 in c:\\users\\elwady\\anaconda3\\lib\\site-packages (from jupyter-core->jupyterthemes) (305.1)\n",
      "Requirement already satisfied: parso<0.9.0,>=0.8.0 in c:\\users\\elwady\\anaconda3\\lib\\site-packages (from jedi>=0.16->ipython>=5.4.1->jupyterthemes) (0.8.3)\n",
      "Requirement already satisfied: anyio>=3.1.0 in c:\\users\\elwady\\anaconda3\\lib\\site-packages (from jupyter-server<3,>=2.4.0->notebook>=5.6.0->jupyterthemes) (3.5.0)\n",
      "Requirement already satisfied: argon2-cffi in c:\\users\\elwady\\anaconda3\\lib\\site-packages (from jupyter-server<3,>=2.4.0->notebook>=5.6.0->jupyterthemes) (21.3.0)\n",
      "Requirement already satisfied: jinja2 in c:\\users\\elwady\\anaconda3\\lib\\site-packages (from jupyter-server<3,>=2.4.0->notebook>=5.6.0->jupyterthemes) (3.1.2)\n",
      "Requirement already satisfied: jupyter-client>=7.4.4 in c:\\users\\elwady\\anaconda3\\lib\\site-packages (from jupyter-server<3,>=2.4.0->notebook>=5.6.0->jupyterthemes) (8.6.0)\n",
      "Requirement already satisfied: jupyter-events>=0.6.0 in c:\\users\\elwady\\anaconda3\\lib\\site-packages (from jupyter-server<3,>=2.4.0->notebook>=5.6.0->jupyterthemes) (0.8.0)\n",
      "Requirement already satisfied: jupyter-server-terminals in c:\\users\\elwady\\anaconda3\\lib\\site-packages (from jupyter-server<3,>=2.4.0->notebook>=5.6.0->jupyterthemes) (0.4.4)\n",
      "Requirement already satisfied: nbconvert>=6.4.4 in c:\\users\\elwady\\anaconda3\\lib\\site-packages (from jupyter-server<3,>=2.4.0->notebook>=5.6.0->jupyterthemes) (7.10.0)\n",
      "Requirement already satisfied: nbformat>=5.3.0 in c:\\users\\elwady\\anaconda3\\lib\\site-packages (from jupyter-server<3,>=2.4.0->notebook>=5.6.0->jupyterthemes) (5.9.2)\n",
      "Requirement already satisfied: overrides in c:\\users\\elwady\\anaconda3\\lib\\site-packages (from jupyter-server<3,>=2.4.0->notebook>=5.6.0->jupyterthemes) (7.4.0)\n",
      "Requirement already satisfied: prometheus-client in c:\\users\\elwady\\anaconda3\\lib\\site-packages (from jupyter-server<3,>=2.4.0->notebook>=5.6.0->jupyterthemes) (0.14.1)\n",
      "Requirement already satisfied: pywinpty in c:\\users\\elwady\\anaconda3\\lib\\site-packages (from jupyter-server<3,>=2.4.0->notebook>=5.6.0->jupyterthemes) (2.0.10)\n",
      "Requirement already satisfied: pyzmq>=24 in c:\\users\\elwady\\anaconda3\\lib\\site-packages (from jupyter-server<3,>=2.4.0->notebook>=5.6.0->jupyterthemes) (25.1.0)\n",
      "Requirement already satisfied: send2trash>=1.8.2 in c:\\users\\elwady\\anaconda3\\lib\\site-packages (from jupyter-server<3,>=2.4.0->notebook>=5.6.0->jupyterthemes) (1.8.2)\n",
      "Requirement already satisfied: terminado>=0.8.3 in c:\\users\\elwady\\anaconda3\\lib\\site-packages (from jupyter-server<3,>=2.4.0->notebook>=5.6.0->jupyterthemes) (0.17.1)\n",
      "Requirement already satisfied: websocket-client in c:\\users\\elwady\\anaconda3\\lib\\site-packages (from jupyter-server<3,>=2.4.0->notebook>=5.6.0->jupyterthemes) (0.58.0)\n",
      "Requirement already satisfied: async-lru>=1.0.0 in c:\\users\\elwady\\anaconda3\\lib\\site-packages (from jupyterlab<5,>=4.0.2->notebook>=5.6.0->jupyterthemes) (2.0.4)\n",
      "Requirement already satisfied: ipykernel in c:\\users\\elwady\\anaconda3\\lib\\site-packages (from jupyterlab<5,>=4.0.2->notebook>=5.6.0->jupyterthemes) (6.25.0)\n",
      "Requirement already satisfied: jupyter-lsp>=2.0.0 in c:\\users\\elwady\\anaconda3\\lib\\site-packages (from jupyterlab<5,>=4.0.2->notebook>=5.6.0->jupyterthemes) (2.2.0)\n",
      "Requirement already satisfied: babel>=2.10 in c:\\users\\elwady\\anaconda3\\lib\\site-packages (from jupyterlab-server<3,>=2.22.1->notebook>=5.6.0->jupyterthemes) (2.11.0)\n",
      "Requirement already satisfied: json5>=0.9.0 in c:\\users\\elwady\\anaconda3\\lib\\site-packages (from jupyterlab-server<3,>=2.22.1->notebook>=5.6.0->jupyterthemes) (0.9.6)\n",
      "Requirement already satisfied: jsonschema>=4.18.0 in c:\\users\\elwady\\anaconda3\\lib\\site-packages (from jupyterlab-server<3,>=2.22.1->notebook>=5.6.0->jupyterthemes) (4.19.2)\n",
      "Requirement already satisfied: requests>=2.31 in c:\\users\\elwady\\anaconda3\\lib\\site-packages (from jupyterlab-server<3,>=2.22.1->notebook>=5.6.0->jupyterthemes) (2.31.0)\n",
      "Requirement already satisfied: wcwidth in c:\\users\\elwady\\anaconda3\\lib\\site-packages (from prompt-toolkit!=3.0.37,<3.1.0,>=3.0.30->ipython>=5.4.1->jupyterthemes) (0.2.5)\n",
      "Requirement already satisfied: six>=1.5 in c:\\users\\elwady\\anaconda3\\lib\\site-packages (from python-dateutil>=2.7->matplotlib>=1.4.3->jupyterthemes) (1.16.0)\n",
      "Requirement already satisfied: executing in c:\\users\\elwady\\anaconda3\\lib\\site-packages (from stack-data->ipython>=5.4.1->jupyterthemes) (0.8.3)\n",
      "Requirement already satisfied: asttokens in c:\\users\\elwady\\anaconda3\\lib\\site-packages (from stack-data->ipython>=5.4.1->jupyterthemes) (2.0.5)\n",
      "Requirement already satisfied: pure-eval in c:\\users\\elwady\\anaconda3\\lib\\site-packages (from stack-data->ipython>=5.4.1->jupyterthemes) (0.2.2)\n",
      "Requirement already satisfied: idna>=2.8 in c:\\users\\elwady\\anaconda3\\lib\\site-packages (from anyio>=3.1.0->jupyter-server<3,>=2.4.0->notebook>=5.6.0->jupyterthemes) (3.4)\n",
      "Requirement already satisfied: sniffio>=1.1 in c:\\users\\elwady\\anaconda3\\lib\\site-packages (from anyio>=3.1.0->jupyter-server<3,>=2.4.0->notebook>=5.6.0->jupyterthemes) (1.2.0)\n",
      "Requirement already satisfied: pytz>=2015.7 in c:\\users\\elwady\\anaconda3\\lib\\site-packages (from babel>=2.10->jupyterlab-server<3,>=2.22.1->notebook>=5.6.0->jupyterthemes) (2023.3.post1)\n",
      "Requirement already satisfied: MarkupSafe>=2.0 in c:\\users\\elwady\\anaconda3\\lib\\site-packages (from jinja2->jupyter-server<3,>=2.4.0->notebook>=5.6.0->jupyterthemes) (2.1.1)\n",
      "Requirement already satisfied: attrs>=22.2.0 in c:\\users\\elwady\\anaconda3\\lib\\site-packages (from jsonschema>=4.18.0->jupyterlab-server<3,>=2.22.1->notebook>=5.6.0->jupyterthemes) (23.1.0)\n",
      "Requirement already satisfied: jsonschema-specifications>=2023.03.6 in c:\\users\\elwady\\anaconda3\\lib\\site-packages (from jsonschema>=4.18.0->jupyterlab-server<3,>=2.22.1->notebook>=5.6.0->jupyterthemes) (2023.7.1)\n",
      "Requirement already satisfied: referencing>=0.28.4 in c:\\users\\elwady\\anaconda3\\lib\\site-packages (from jsonschema>=4.18.0->jupyterlab-server<3,>=2.22.1->notebook>=5.6.0->jupyterthemes) (0.30.2)\n",
      "Requirement already satisfied: rpds-py>=0.7.1 in c:\\users\\elwady\\anaconda3\\lib\\site-packages (from jsonschema>=4.18.0->jupyterlab-server<3,>=2.22.1->notebook>=5.6.0->jupyterthemes) (0.10.6)\n",
      "Requirement already satisfied: python-json-logger>=2.0.4 in c:\\users\\elwady\\anaconda3\\lib\\site-packages (from jupyter-events>=0.6.0->jupyter-server<3,>=2.4.0->notebook>=5.6.0->jupyterthemes) (2.0.7)\n",
      "Requirement already satisfied: pyyaml>=5.3 in c:\\users\\elwady\\anaconda3\\lib\\site-packages (from jupyter-events>=0.6.0->jupyter-server<3,>=2.4.0->notebook>=5.6.0->jupyterthemes) (6.0.1)\n",
      "Requirement already satisfied: rfc3339-validator in c:\\users\\elwady\\anaconda3\\lib\\site-packages (from jupyter-events>=0.6.0->jupyter-server<3,>=2.4.0->notebook>=5.6.0->jupyterthemes) (0.1.4)\n",
      "Requirement already satisfied: rfc3986-validator>=0.1.1 in c:\\users\\elwady\\anaconda3\\lib\\site-packages (from jupyter-events>=0.6.0->jupyter-server<3,>=2.4.0->notebook>=5.6.0->jupyterthemes) (0.1.1)\n",
      "Requirement already satisfied: beautifulsoup4 in c:\\users\\elwady\\anaconda3\\lib\\site-packages (from nbconvert>=6.4.4->jupyter-server<3,>=2.4.0->notebook>=5.6.0->jupyterthemes) (4.12.2)\n",
      "Requirement already satisfied: bleach!=5.0.0 in c:\\users\\elwady\\anaconda3\\lib\\site-packages (from nbconvert>=6.4.4->jupyter-server<3,>=2.4.0->notebook>=5.6.0->jupyterthemes) (4.1.0)\n",
      "Requirement already satisfied: defusedxml in c:\\users\\elwady\\anaconda3\\lib\\site-packages (from nbconvert>=6.4.4->jupyter-server<3,>=2.4.0->notebook>=5.6.0->jupyterthemes) (0.7.1)\n",
      "Requirement already satisfied: jupyterlab-pygments in c:\\users\\elwady\\anaconda3\\lib\\site-packages (from nbconvert>=6.4.4->jupyter-server<3,>=2.4.0->notebook>=5.6.0->jupyterthemes) (0.1.2)\n",
      "Requirement already satisfied: mistune<4,>=2.0.3 in c:\\users\\elwady\\anaconda3\\lib\\site-packages (from nbconvert>=6.4.4->jupyter-server<3,>=2.4.0->notebook>=5.6.0->jupyterthemes) (2.0.4)\n",
      "Requirement already satisfied: nbclient>=0.5.0 in c:\\users\\elwady\\anaconda3\\lib\\site-packages (from nbconvert>=6.4.4->jupyter-server<3,>=2.4.0->notebook>=5.6.0->jupyterthemes) (0.8.0)\n",
      "Requirement already satisfied: pandocfilters>=1.4.1 in c:\\users\\elwady\\anaconda3\\lib\\site-packages (from nbconvert>=6.4.4->jupyter-server<3,>=2.4.0->notebook>=5.6.0->jupyterthemes) (1.5.0)\n",
      "Requirement already satisfied: tinycss2 in c:\\users\\elwady\\anaconda3\\lib\\site-packages (from nbconvert>=6.4.4->jupyter-server<3,>=2.4.0->notebook>=5.6.0->jupyterthemes) (1.2.1)\n",
      "Requirement already satisfied: fastjsonschema in c:\\users\\elwady\\anaconda3\\lib\\site-packages (from nbformat>=5.3.0->jupyter-server<3,>=2.4.0->notebook>=5.6.0->jupyterthemes) (2.16.2)\n",
      "Requirement already satisfied: charset-normalizer<4,>=2 in c:\\users\\elwady\\anaconda3\\lib\\site-packages (from requests>=2.31->jupyterlab-server<3,>=2.22.1->notebook>=5.6.0->jupyterthemes) (2.0.4)\n",
      "Requirement already satisfied: urllib3<3,>=1.21.1 in c:\\users\\elwady\\anaconda3\\lib\\site-packages (from requests>=2.31->jupyterlab-server<3,>=2.22.1->notebook>=5.6.0->jupyterthemes) (1.26.18)\n",
      "Requirement already satisfied: certifi>=2017.4.17 in c:\\users\\elwady\\anaconda3\\lib\\site-packages (from requests>=2.31->jupyterlab-server<3,>=2.22.1->notebook>=5.6.0->jupyterthemes) (2023.11.17)\n",
      "Requirement already satisfied: argon2-cffi-bindings in c:\\users\\elwady\\anaconda3\\lib\\site-packages (from argon2-cffi->jupyter-server<3,>=2.4.0->notebook>=5.6.0->jupyterthemes) (21.2.0)\n",
      "Requirement already satisfied: comm>=0.1.1 in c:\\users\\elwady\\anaconda3\\lib\\site-packages (from ipykernel->jupyterlab<5,>=4.0.2->notebook>=5.6.0->jupyterthemes) (0.1.2)\n",
      "Requirement already satisfied: debugpy>=1.6.5 in c:\\users\\elwady\\anaconda3\\lib\\site-packages (from ipykernel->jupyterlab<5,>=4.0.2->notebook>=5.6.0->jupyterthemes) (1.6.7)\n",
      "Requirement already satisfied: nest-asyncio in c:\\users\\elwady\\anaconda3\\lib\\site-packages (from ipykernel->jupyterlab<5,>=4.0.2->notebook>=5.6.0->jupyterthemes) (1.5.6)\n",
      "Requirement already satisfied: psutil in c:\\users\\elwady\\anaconda3\\lib\\site-packages (from ipykernel->jupyterlab<5,>=4.0.2->notebook>=5.6.0->jupyterthemes) (5.9.0)\n",
      "Requirement already satisfied: webencodings in c:\\users\\elwady\\anaconda3\\lib\\site-packages (from bleach!=5.0.0->nbconvert>=6.4.4->jupyter-server<3,>=2.4.0->notebook>=5.6.0->jupyterthemes) (0.5.1)\n",
      "Collecting fqdn (from jsonschema>=4.18.0->jupyterlab-server<3,>=2.22.1->notebook>=5.6.0->jupyterthemes)\n",
      "  Downloading fqdn-1.5.1-py3-none-any.whl (9.1 kB)\n",
      "Collecting isoduration (from jsonschema>=4.18.0->jupyterlab-server<3,>=2.22.1->notebook>=5.6.0->jupyterthemes)\n",
      "  Downloading isoduration-20.11.0-py3-none-any.whl (11 kB)\n",
      "Requirement already satisfied: jsonpointer>1.13 in c:\\users\\elwady\\anaconda3\\lib\\site-packages (from jsonschema>=4.18.0->jupyterlab-server<3,>=2.22.1->notebook>=5.6.0->jupyterthemes) (2.1)\n",
      "Collecting uri-template (from jsonschema>=4.18.0->jupyterlab-server<3,>=2.22.1->notebook>=5.6.0->jupyterthemes)\n",
      "  Obtaining dependency information for uri-template from https://files.pythonhosted.org/packages/e7/00/3fca040d7cf8a32776d3d81a00c8ee7457e00f80c649f1e4a863c8321ae9/uri_template-1.3.0-py3-none-any.whl.metadata\n",
      "  Downloading uri_template-1.3.0-py3-none-any.whl.metadata (8.8 kB)\n",
      "Collecting webcolors>=1.11 (from jsonschema>=4.18.0->jupyterlab-server<3,>=2.22.1->notebook>=5.6.0->jupyterthemes)\n",
      "  Downloading webcolors-1.13-py3-none-any.whl (14 kB)\n",
      "Requirement already satisfied: cffi>=1.0.1 in c:\\users\\elwady\\anaconda3\\lib\\site-packages (from argon2-cffi-bindings->argon2-cffi->jupyter-server<3,>=2.4.0->notebook>=5.6.0->jupyterthemes) (1.16.0)\n",
      "Requirement already satisfied: soupsieve>1.2 in c:\\users\\elwady\\anaconda3\\lib\\site-packages (from beautifulsoup4->nbconvert>=6.4.4->jupyter-server<3,>=2.4.0->notebook>=5.6.0->jupyterthemes) (2.5)\n",
      "Requirement already satisfied: pycparser in c:\\users\\elwady\\anaconda3\\lib\\site-packages (from cffi>=1.0.1->argon2-cffi-bindings->argon2-cffi->jupyter-server<3,>=2.4.0->notebook>=5.6.0->jupyterthemes) (2.21)\n",
      "Requirement already satisfied: arrow>=0.15.0 in c:\\users\\elwady\\anaconda3\\lib\\site-packages (from isoduration->jsonschema>=4.18.0->jupyterlab-server<3,>=2.22.1->notebook>=5.6.0->jupyterthemes) (1.2.3)\n",
      "Downloading uri_template-1.3.0-py3-none-any.whl (11 kB)\n",
      "Installing collected packages: webcolors, uri-template, lesscpy, fqdn, isoduration, jupyterthemes\n",
      "Successfully installed fqdn-1.5.1 isoduration-20.11.0 jupyterthemes-0.20.0 lesscpy-0.15.1 uri-template-1.3.0 webcolors-1.13\n"
     ]
    }
   ],
   "source": [
    "!pip install jupyterthemes"
   ]
  },
  {
   "cell_type": "code",
   "execution_count": 2,
   "id": "f591ae7a",
   "metadata": {
    "hidden": true
   },
   "outputs": [
    {
     "name": "stdout",
     "output_type": "stream",
     "text": [
      "Requirement already satisfied: jupyterthemes in c:\\users\\elwady\\anaconda3\\lib\\site-packages (0.20.0)\n",
      "Requirement already satisfied: jupyter-core in c:\\users\\elwady\\anaconda3\\lib\\site-packages (from jupyterthemes) (5.5.0)\n",
      "Requirement already satisfied: notebook>=5.6.0 in c:\\users\\elwady\\anaconda3\\lib\\site-packages (from jupyterthemes) (7.0.6)\n",
      "Requirement already satisfied: ipython>=5.4.1 in c:\\users\\elwady\\anaconda3\\lib\\site-packages (from jupyterthemes) (8.15.0)\n",
      "Requirement already satisfied: matplotlib>=1.4.3 in c:\\users\\elwady\\anaconda3\\lib\\site-packages (from jupyterthemes) (3.8.0)\n",
      "Requirement already satisfied: lesscpy>=0.11.2 in c:\\users\\elwady\\anaconda3\\lib\\site-packages (from jupyterthemes) (0.15.1)\n",
      "Requirement already satisfied: backcall in c:\\users\\elwady\\anaconda3\\lib\\site-packages (from ipython>=5.4.1->jupyterthemes) (0.2.0)\n",
      "Requirement already satisfied: decorator in c:\\users\\elwady\\anaconda3\\lib\\site-packages (from ipython>=5.4.1->jupyterthemes) (5.1.1)\n",
      "Requirement already satisfied: jedi>=0.16 in c:\\users\\elwady\\anaconda3\\lib\\site-packages (from ipython>=5.4.1->jupyterthemes) (0.18.1)\n",
      "Requirement already satisfied: matplotlib-inline in c:\\users\\elwady\\anaconda3\\lib\\site-packages (from ipython>=5.4.1->jupyterthemes) (0.1.6)\n",
      "Requirement already satisfied: pickleshare in c:\\users\\elwady\\anaconda3\\lib\\site-packages (from ipython>=5.4.1->jupyterthemes) (0.7.5)\n",
      "Requirement already satisfied: prompt-toolkit!=3.0.37,<3.1.0,>=3.0.30 in c:\\users\\elwady\\anaconda3\\lib\\site-packages (from ipython>=5.4.1->jupyterthemes) (3.0.36)\n",
      "Requirement already satisfied: pygments>=2.4.0 in c:\\users\\elwady\\anaconda3\\lib\\site-packages (from ipython>=5.4.1->jupyterthemes) (2.15.1)\n",
      "Requirement already satisfied: stack-data in c:\\users\\elwady\\anaconda3\\lib\\site-packages (from ipython>=5.4.1->jupyterthemes) (0.2.0)\n",
      "Requirement already satisfied: traitlets>=5 in c:\\users\\elwady\\anaconda3\\lib\\site-packages (from ipython>=5.4.1->jupyterthemes) (5.7.1)\n",
      "Requirement already satisfied: colorama in c:\\users\\elwady\\anaconda3\\lib\\site-packages (from ipython>=5.4.1->jupyterthemes) (0.4.6)\n",
      "Requirement already satisfied: ply in c:\\users\\elwady\\anaconda3\\lib\\site-packages (from lesscpy>=0.11.2->jupyterthemes) (3.11)\n",
      "Requirement already satisfied: contourpy>=1.0.1 in c:\\users\\elwady\\anaconda3\\lib\\site-packages (from matplotlib>=1.4.3->jupyterthemes) (1.2.0)\n",
      "Requirement already satisfied: cycler>=0.10 in c:\\users\\elwady\\anaconda3\\lib\\site-packages (from matplotlib>=1.4.3->jupyterthemes) (0.11.0)\n",
      "Requirement already satisfied: fonttools>=4.22.0 in c:\\users\\elwady\\anaconda3\\lib\\site-packages (from matplotlib>=1.4.3->jupyterthemes) (4.25.0)\n",
      "Requirement already satisfied: kiwisolver>=1.0.1 in c:\\users\\elwady\\anaconda3\\lib\\site-packages (from matplotlib>=1.4.3->jupyterthemes) (1.4.4)\n",
      "Requirement already satisfied: numpy<2,>=1.21 in c:\\users\\elwady\\anaconda3\\lib\\site-packages (from matplotlib>=1.4.3->jupyterthemes) (1.26.2)\n",
      "Requirement already satisfied: packaging>=20.0 in c:\\users\\elwady\\anaconda3\\lib\\site-packages (from matplotlib>=1.4.3->jupyterthemes) (23.1)\n",
      "Requirement already satisfied: pillow>=6.2.0 in c:\\users\\elwady\\anaconda3\\lib\\site-packages (from matplotlib>=1.4.3->jupyterthemes) (10.0.1)\n",
      "Requirement already satisfied: pyparsing>=2.3.1 in c:\\users\\elwady\\anaconda3\\lib\\site-packages (from matplotlib>=1.4.3->jupyterthemes) (3.0.9)\n",
      "Requirement already satisfied: python-dateutil>=2.7 in c:\\users\\elwady\\anaconda3\\lib\\site-packages (from matplotlib>=1.4.3->jupyterthemes) (2.8.2)\n",
      "Requirement already satisfied: jupyter-server<3,>=2.4.0 in c:\\users\\elwady\\anaconda3\\lib\\site-packages (from notebook>=5.6.0->jupyterthemes) (2.10.0)\n",
      "Requirement already satisfied: jupyterlab-server<3,>=2.22.1 in c:\\users\\elwady\\anaconda3\\lib\\site-packages (from notebook>=5.6.0->jupyterthemes) (2.25.1)\n",
      "Requirement already satisfied: jupyterlab<5,>=4.0.2 in c:\\users\\elwady\\anaconda3\\lib\\site-packages (from notebook>=5.6.0->jupyterthemes) (4.0.8)\n",
      "Requirement already satisfied: notebook-shim<0.3,>=0.2 in c:\\users\\elwady\\anaconda3\\lib\\site-packages (from notebook>=5.6.0->jupyterthemes) (0.2.3)\n",
      "Requirement already satisfied: tornado>=6.2.0 in c:\\users\\elwady\\anaconda3\\lib\\site-packages (from notebook>=5.6.0->jupyterthemes) (6.3.3)\n",
      "Requirement already satisfied: platformdirs>=2.5 in c:\\users\\elwady\\anaconda3\\lib\\site-packages (from jupyter-core->jupyterthemes) (3.10.0)\n",
      "Requirement already satisfied: pywin32>=300 in c:\\users\\elwady\\anaconda3\\lib\\site-packages (from jupyter-core->jupyterthemes) (305.1)\n",
      "Requirement already satisfied: parso<0.9.0,>=0.8.0 in c:\\users\\elwady\\anaconda3\\lib\\site-packages (from jedi>=0.16->ipython>=5.4.1->jupyterthemes) (0.8.3)\n",
      "Requirement already satisfied: anyio>=3.1.0 in c:\\users\\elwady\\anaconda3\\lib\\site-packages (from jupyter-server<3,>=2.4.0->notebook>=5.6.0->jupyterthemes) (3.5.0)\n",
      "Requirement already satisfied: argon2-cffi in c:\\users\\elwady\\anaconda3\\lib\\site-packages (from jupyter-server<3,>=2.4.0->notebook>=5.6.0->jupyterthemes) (21.3.0)\n",
      "Requirement already satisfied: jinja2 in c:\\users\\elwady\\anaconda3\\lib\\site-packages (from jupyter-server<3,>=2.4.0->notebook>=5.6.0->jupyterthemes) (3.1.2)\n",
      "Requirement already satisfied: jupyter-client>=7.4.4 in c:\\users\\elwady\\anaconda3\\lib\\site-packages (from jupyter-server<3,>=2.4.0->notebook>=5.6.0->jupyterthemes) (8.6.0)\n",
      "Requirement already satisfied: jupyter-events>=0.6.0 in c:\\users\\elwady\\anaconda3\\lib\\site-packages (from jupyter-server<3,>=2.4.0->notebook>=5.6.0->jupyterthemes) (0.8.0)\n",
      "Requirement already satisfied: jupyter-server-terminals in c:\\users\\elwady\\anaconda3\\lib\\site-packages (from jupyter-server<3,>=2.4.0->notebook>=5.6.0->jupyterthemes) (0.4.4)\n",
      "Requirement already satisfied: nbconvert>=6.4.4 in c:\\users\\elwady\\anaconda3\\lib\\site-packages (from jupyter-server<3,>=2.4.0->notebook>=5.6.0->jupyterthemes) (7.10.0)\n",
      "Requirement already satisfied: nbformat>=5.3.0 in c:\\users\\elwady\\anaconda3\\lib\\site-packages (from jupyter-server<3,>=2.4.0->notebook>=5.6.0->jupyterthemes) (5.9.2)\n",
      "Requirement already satisfied: overrides in c:\\users\\elwady\\anaconda3\\lib\\site-packages (from jupyter-server<3,>=2.4.0->notebook>=5.6.0->jupyterthemes) (7.4.0)\n",
      "Requirement already satisfied: prometheus-client in c:\\users\\elwady\\anaconda3\\lib\\site-packages (from jupyter-server<3,>=2.4.0->notebook>=5.6.0->jupyterthemes) (0.14.1)\n",
      "Requirement already satisfied: pywinpty in c:\\users\\elwady\\anaconda3\\lib\\site-packages (from jupyter-server<3,>=2.4.0->notebook>=5.6.0->jupyterthemes) (2.0.10)\n",
      "Requirement already satisfied: pyzmq>=24 in c:\\users\\elwady\\anaconda3\\lib\\site-packages (from jupyter-server<3,>=2.4.0->notebook>=5.6.0->jupyterthemes) (25.1.0)\n",
      "Requirement already satisfied: send2trash>=1.8.2 in c:\\users\\elwady\\anaconda3\\lib\\site-packages (from jupyter-server<3,>=2.4.0->notebook>=5.6.0->jupyterthemes) (1.8.2)\n",
      "Requirement already satisfied: terminado>=0.8.3 in c:\\users\\elwady\\anaconda3\\lib\\site-packages (from jupyter-server<3,>=2.4.0->notebook>=5.6.0->jupyterthemes) (0.17.1)\n",
      "Requirement already satisfied: websocket-client in c:\\users\\elwady\\anaconda3\\lib\\site-packages (from jupyter-server<3,>=2.4.0->notebook>=5.6.0->jupyterthemes) (0.58.0)\n",
      "Requirement already satisfied: async-lru>=1.0.0 in c:\\users\\elwady\\anaconda3\\lib\\site-packages (from jupyterlab<5,>=4.0.2->notebook>=5.6.0->jupyterthemes) (2.0.4)\n",
      "Requirement already satisfied: ipykernel in c:\\users\\elwady\\anaconda3\\lib\\site-packages (from jupyterlab<5,>=4.0.2->notebook>=5.6.0->jupyterthemes) (6.25.0)\n",
      "Requirement already satisfied: jupyter-lsp>=2.0.0 in c:\\users\\elwady\\anaconda3\\lib\\site-packages (from jupyterlab<5,>=4.0.2->notebook>=5.6.0->jupyterthemes) (2.2.0)\n",
      "Requirement already satisfied: babel>=2.10 in c:\\users\\elwady\\anaconda3\\lib\\site-packages (from jupyterlab-server<3,>=2.22.1->notebook>=5.6.0->jupyterthemes) (2.11.0)\n",
      "Requirement already satisfied: json5>=0.9.0 in c:\\users\\elwady\\anaconda3\\lib\\site-packages (from jupyterlab-server<3,>=2.22.1->notebook>=5.6.0->jupyterthemes) (0.9.6)\n",
      "Requirement already satisfied: jsonschema>=4.18.0 in c:\\users\\elwady\\anaconda3\\lib\\site-packages (from jupyterlab-server<3,>=2.22.1->notebook>=5.6.0->jupyterthemes) (4.19.2)\n",
      "Requirement already satisfied: requests>=2.31 in c:\\users\\elwady\\anaconda3\\lib\\site-packages (from jupyterlab-server<3,>=2.22.1->notebook>=5.6.0->jupyterthemes) (2.31.0)\n",
      "Requirement already satisfied: wcwidth in c:\\users\\elwady\\anaconda3\\lib\\site-packages (from prompt-toolkit!=3.0.37,<3.1.0,>=3.0.30->ipython>=5.4.1->jupyterthemes) (0.2.5)\n",
      "Requirement already satisfied: six>=1.5 in c:\\users\\elwady\\anaconda3\\lib\\site-packages (from python-dateutil>=2.7->matplotlib>=1.4.3->jupyterthemes) (1.16.0)\n",
      "Requirement already satisfied: executing in c:\\users\\elwady\\anaconda3\\lib\\site-packages (from stack-data->ipython>=5.4.1->jupyterthemes) (0.8.3)\n",
      "Requirement already satisfied: asttokens in c:\\users\\elwady\\anaconda3\\lib\\site-packages (from stack-data->ipython>=5.4.1->jupyterthemes) (2.0.5)\n",
      "Requirement already satisfied: pure-eval in c:\\users\\elwady\\anaconda3\\lib\\site-packages (from stack-data->ipython>=5.4.1->jupyterthemes) (0.2.2)\n",
      "Requirement already satisfied: idna>=2.8 in c:\\users\\elwady\\anaconda3\\lib\\site-packages (from anyio>=3.1.0->jupyter-server<3,>=2.4.0->notebook>=5.6.0->jupyterthemes) (3.4)\n",
      "Requirement already satisfied: sniffio>=1.1 in c:\\users\\elwady\\anaconda3\\lib\\site-packages (from anyio>=3.1.0->jupyter-server<3,>=2.4.0->notebook>=5.6.0->jupyterthemes) (1.2.0)\n",
      "Requirement already satisfied: pytz>=2015.7 in c:\\users\\elwady\\anaconda3\\lib\\site-packages (from babel>=2.10->jupyterlab-server<3,>=2.22.1->notebook>=5.6.0->jupyterthemes) (2023.3.post1)\n",
      "Requirement already satisfied: MarkupSafe>=2.0 in c:\\users\\elwady\\anaconda3\\lib\\site-packages (from jinja2->jupyter-server<3,>=2.4.0->notebook>=5.6.0->jupyterthemes) (2.1.1)\n",
      "Requirement already satisfied: attrs>=22.2.0 in c:\\users\\elwady\\anaconda3\\lib\\site-packages (from jsonschema>=4.18.0->jupyterlab-server<3,>=2.22.1->notebook>=5.6.0->jupyterthemes) (23.1.0)\n",
      "Requirement already satisfied: jsonschema-specifications>=2023.03.6 in c:\\users\\elwady\\anaconda3\\lib\\site-packages (from jsonschema>=4.18.0->jupyterlab-server<3,>=2.22.1->notebook>=5.6.0->jupyterthemes) (2023.7.1)\n",
      "Requirement already satisfied: referencing>=0.28.4 in c:\\users\\elwady\\anaconda3\\lib\\site-packages (from jsonschema>=4.18.0->jupyterlab-server<3,>=2.22.1->notebook>=5.6.0->jupyterthemes) (0.30.2)\n",
      "Requirement already satisfied: rpds-py>=0.7.1 in c:\\users\\elwady\\anaconda3\\lib\\site-packages (from jsonschema>=4.18.0->jupyterlab-server<3,>=2.22.1->notebook>=5.6.0->jupyterthemes) (0.10.6)\n",
      "Requirement already satisfied: python-json-logger>=2.0.4 in c:\\users\\elwady\\anaconda3\\lib\\site-packages (from jupyter-events>=0.6.0->jupyter-server<3,>=2.4.0->notebook>=5.6.0->jupyterthemes) (2.0.7)\n",
      "Requirement already satisfied: pyyaml>=5.3 in c:\\users\\elwady\\anaconda3\\lib\\site-packages (from jupyter-events>=0.6.0->jupyter-server<3,>=2.4.0->notebook>=5.6.0->jupyterthemes) (6.0.1)\n",
      "Requirement already satisfied: rfc3339-validator in c:\\users\\elwady\\anaconda3\\lib\\site-packages (from jupyter-events>=0.6.0->jupyter-server<3,>=2.4.0->notebook>=5.6.0->jupyterthemes) (0.1.4)\n",
      "Requirement already satisfied: rfc3986-validator>=0.1.1 in c:\\users\\elwady\\anaconda3\\lib\\site-packages (from jupyter-events>=0.6.0->jupyter-server<3,>=2.4.0->notebook>=5.6.0->jupyterthemes) (0.1.1)\n",
      "Requirement already satisfied: beautifulsoup4 in c:\\users\\elwady\\anaconda3\\lib\\site-packages (from nbconvert>=6.4.4->jupyter-server<3,>=2.4.0->notebook>=5.6.0->jupyterthemes) (4.12.2)\n",
      "Requirement already satisfied: bleach!=5.0.0 in c:\\users\\elwady\\anaconda3\\lib\\site-packages (from nbconvert>=6.4.4->jupyter-server<3,>=2.4.0->notebook>=5.6.0->jupyterthemes) (4.1.0)\n",
      "Requirement already satisfied: defusedxml in c:\\users\\elwady\\anaconda3\\lib\\site-packages (from nbconvert>=6.4.4->jupyter-server<3,>=2.4.0->notebook>=5.6.0->jupyterthemes) (0.7.1)\n",
      "Requirement already satisfied: jupyterlab-pygments in c:\\users\\elwady\\anaconda3\\lib\\site-packages (from nbconvert>=6.4.4->jupyter-server<3,>=2.4.0->notebook>=5.6.0->jupyterthemes) (0.1.2)\n",
      "Requirement already satisfied: mistune<4,>=2.0.3 in c:\\users\\elwady\\anaconda3\\lib\\site-packages (from nbconvert>=6.4.4->jupyter-server<3,>=2.4.0->notebook>=5.6.0->jupyterthemes) (2.0.4)\n",
      "Requirement already satisfied: nbclient>=0.5.0 in c:\\users\\elwady\\anaconda3\\lib\\site-packages (from nbconvert>=6.4.4->jupyter-server<3,>=2.4.0->notebook>=5.6.0->jupyterthemes) (0.8.0)\n",
      "Requirement already satisfied: pandocfilters>=1.4.1 in c:\\users\\elwady\\anaconda3\\lib\\site-packages (from nbconvert>=6.4.4->jupyter-server<3,>=2.4.0->notebook>=5.6.0->jupyterthemes) (1.5.0)\n",
      "Requirement already satisfied: tinycss2 in c:\\users\\elwady\\anaconda3\\lib\\site-packages (from nbconvert>=6.4.4->jupyter-server<3,>=2.4.0->notebook>=5.6.0->jupyterthemes) (1.2.1)\n",
      "Requirement already satisfied: fastjsonschema in c:\\users\\elwady\\anaconda3\\lib\\site-packages (from nbformat>=5.3.0->jupyter-server<3,>=2.4.0->notebook>=5.6.0->jupyterthemes) (2.16.2)\n",
      "Requirement already satisfied: charset-normalizer<4,>=2 in c:\\users\\elwady\\anaconda3\\lib\\site-packages (from requests>=2.31->jupyterlab-server<3,>=2.22.1->notebook>=5.6.0->jupyterthemes) (2.0.4)\n",
      "Requirement already satisfied: urllib3<3,>=1.21.1 in c:\\users\\elwady\\anaconda3\\lib\\site-packages (from requests>=2.31->jupyterlab-server<3,>=2.22.1->notebook>=5.6.0->jupyterthemes) (1.26.18)\n",
      "Requirement already satisfied: certifi>=2017.4.17 in c:\\users\\elwady\\anaconda3\\lib\\site-packages (from requests>=2.31->jupyterlab-server<3,>=2.22.1->notebook>=5.6.0->jupyterthemes) (2023.11.17)\n",
      "Requirement already satisfied: argon2-cffi-bindings in c:\\users\\elwady\\anaconda3\\lib\\site-packages (from argon2-cffi->jupyter-server<3,>=2.4.0->notebook>=5.6.0->jupyterthemes) (21.2.0)\n",
      "Requirement already satisfied: comm>=0.1.1 in c:\\users\\elwady\\anaconda3\\lib\\site-packages (from ipykernel->jupyterlab<5,>=4.0.2->notebook>=5.6.0->jupyterthemes) (0.1.2)\n",
      "Requirement already satisfied: debugpy>=1.6.5 in c:\\users\\elwady\\anaconda3\\lib\\site-packages (from ipykernel->jupyterlab<5,>=4.0.2->notebook>=5.6.0->jupyterthemes) (1.6.7)\n",
      "Requirement already satisfied: nest-asyncio in c:\\users\\elwady\\anaconda3\\lib\\site-packages (from ipykernel->jupyterlab<5,>=4.0.2->notebook>=5.6.0->jupyterthemes) (1.5.6)\n",
      "Requirement already satisfied: psutil in c:\\users\\elwady\\anaconda3\\lib\\site-packages (from ipykernel->jupyterlab<5,>=4.0.2->notebook>=5.6.0->jupyterthemes) (5.9.0)\n",
      "Requirement already satisfied: webencodings in c:\\users\\elwady\\anaconda3\\lib\\site-packages (from bleach!=5.0.0->nbconvert>=6.4.4->jupyter-server<3,>=2.4.0->notebook>=5.6.0->jupyterthemes) (0.5.1)\n",
      "Requirement already satisfied: fqdn in c:\\users\\elwady\\anaconda3\\lib\\site-packages (from jsonschema>=4.18.0->jupyterlab-server<3,>=2.22.1->notebook>=5.6.0->jupyterthemes) (1.5.1)\n",
      "Requirement already satisfied: isoduration in c:\\users\\elwady\\anaconda3\\lib\\site-packages (from jsonschema>=4.18.0->jupyterlab-server<3,>=2.22.1->notebook>=5.6.0->jupyterthemes) (20.11.0)\n",
      "Requirement already satisfied: jsonpointer>1.13 in c:\\users\\elwady\\anaconda3\\lib\\site-packages (from jsonschema>=4.18.0->jupyterlab-server<3,>=2.22.1->notebook>=5.6.0->jupyterthemes) (2.1)\n",
      "Requirement already satisfied: uri-template in c:\\users\\elwady\\anaconda3\\lib\\site-packages (from jsonschema>=4.18.0->jupyterlab-server<3,>=2.22.1->notebook>=5.6.0->jupyterthemes) (1.3.0)\n",
      "Requirement already satisfied: webcolors>=1.11 in c:\\users\\elwady\\anaconda3\\lib\\site-packages (from jsonschema>=4.18.0->jupyterlab-server<3,>=2.22.1->notebook>=5.6.0->jupyterthemes) (1.13)\n",
      "Requirement already satisfied: cffi>=1.0.1 in c:\\users\\elwady\\anaconda3\\lib\\site-packages (from argon2-cffi-bindings->argon2-cffi->jupyter-server<3,>=2.4.0->notebook>=5.6.0->jupyterthemes) (1.16.0)\n",
      "Requirement already satisfied: soupsieve>1.2 in c:\\users\\elwady\\anaconda3\\lib\\site-packages (from beautifulsoup4->nbconvert>=6.4.4->jupyter-server<3,>=2.4.0->notebook>=5.6.0->jupyterthemes) (2.5)\n",
      "Requirement already satisfied: pycparser in c:\\users\\elwady\\anaconda3\\lib\\site-packages (from cffi>=1.0.1->argon2-cffi-bindings->argon2-cffi->jupyter-server<3,>=2.4.0->notebook>=5.6.0->jupyterthemes) (2.21)\n",
      "Requirement already satisfied: arrow>=0.15.0 in c:\\users\\elwady\\anaconda3\\lib\\site-packages (from isoduration->jsonschema>=4.18.0->jupyterlab-server<3,>=2.22.1->notebook>=5.6.0->jupyterthemes) (1.2.3)\n"
     ]
    }
   ],
   "source": [
    "!pip install --upgrade jupyterthemes"
   ]
  },
  {
   "cell_type": "markdown",
   "id": "7d316f0a",
   "metadata": {
    "heading_collapsed": true,
    "hidden": true
   },
   "source": [
    "## List available Themes"
   ]
  },
  {
   "cell_type": "code",
   "execution_count": 3,
   "id": "78147f7d",
   "metadata": {
    "hidden": true
   },
   "outputs": [
    {
     "name": "stdout",
     "output_type": "stream",
     "text": [
      "Available Themes: \n",
      "   chesterish\n",
      "   grade3\n",
      "   gruvboxd\n",
      "   gruvboxl\n",
      "   monokai\n",
      "   oceans16\n",
      "   onedork\n",
      "   solarizedd\n",
      "   solarizedl\n"
     ]
    }
   ],
   "source": [
    "!jt -l"
   ]
  },
  {
   "cell_type": "markdown",
   "id": "c631b615",
   "metadata": {
    "heading_collapsed": true,
    "hidden": true
   },
   "source": [
    "## Change current theme"
   ]
  },
  {
   "cell_type": "code",
   "execution_count": 6,
   "id": "434f76cb",
   "metadata": {
    "hidden": true
   },
   "outputs": [],
   "source": [
    "!jt -t solarizedl"
   ]
  },
  {
   "cell_type": "markdown",
   "id": "a96c9e4f",
   "metadata": {
    "heading_collapsed": true,
    "hidden": true
   },
   "source": [
    "### Restore default theme"
   ]
  },
  {
   "cell_type": "code",
   "execution_count": 47,
   "id": "f09b1a57",
   "metadata": {
    "hidden": true
   },
   "outputs": [
    {
     "name": "stdout",
     "output_type": "stream",
     "text": [
      "Reset css and font defaults in:\n",
      "C:\\Users\\elwady\\.jupyter\\custom &\n",
      "C:\\Users\\elwady\\AppData\\Roaming\\jupyter\\nbextensions\n"
     ]
    }
   ],
   "source": [
    "!jt -r"
   ]
  },
  {
   "cell_type": "markdown",
   "id": "97347348",
   "metadata": {
    "heading_collapsed": true
   },
   "source": [
    "# Guido Van Rossum"
   ]
  },
  {
   "cell_type": "markdown",
   "id": "8d9b4dc7",
   "metadata": {
    "hidden": true
   },
   "source": [
    "![Guiso Van Rossum](./images/Guido.jpg)"
   ]
  },
  {
   "cell_type": "markdown",
   "id": "cd8c0cab",
   "metadata": {
    "heading_collapsed": true
   },
   "source": [
    "# Why Python?"
   ]
  },
  {
   "cell_type": "markdown",
   "id": "a47ca074",
   "metadata": {
    "hidden": true
   },
   "source": [
    "- General Purpose\n",
    "- High Level\n",
    "- Easy \n",
    "- Dynamically Typed\n",
    "- Exceptional Community Support\n",
    "- Huge Library"
   ]
  },
  {
   "cell_type": "markdown",
   "id": "6eaf41b4",
   "metadata": {
    "hidden": true
   },
   "source": [
    "<img src=\"./images/Python.png\" alt=\"drawing\" width=\"600\" align=\"left\"/>"
   ]
  },
  {
   "cell_type": "markdown",
   "id": "10e3e316",
   "metadata": {
    "heading_collapsed": true
   },
   "source": [
    "# Books"
   ]
  },
  {
   "cell_type": "markdown",
   "id": "acfa55d0",
   "metadata": {
    "hidden": true
   },
   "source": [
    "[Intro to Python for Computer Science and Data Science: Learning to Program with AI, Big Data and The Cloud](https://www.amazon.com/Intro-Python-Computer-Science-Data/dp/0135404673/ref=sr_1_3?crid=22TEJMOYJCMZ9&keywords=intro+to+python&qid=1640574135&sprefix=intro+to+python%2Caps%2C87&sr=8-3)"
   ]
  },
  {
   "cell_type": "markdown",
   "id": "0d3efad1",
   "metadata": {
    "hidden": true
   },
   "source": [
    "<img src=\"./images/intro.jpeg\" alt=\"drawing\" width=\"300\" align=\"left\"/>"
   ]
  },
  {
   "cell_type": "markdown",
   "id": "30122409",
   "metadata": {
    "hidden": true
   },
   "source": [
    "[Python Crash Course, 2nd Edition: A Hands-On, Project-Based Introduction to Programming](https://www.amazon.com/Python-Crash-Course-2nd-Edition/dp/1593279280/ref=sr_1_1?keywords=python+crash+course&qid=1640574418&sprefix=python+crash+%2Caps%2C82&sr=8-1)"
   ]
  },
  {
   "cell_type": "markdown",
   "id": "cfbffc30",
   "metadata": {
    "hidden": true
   },
   "source": [
    "<img src=\"./images/crashcourse.jpeg\" alt=\"drawing\" width=\"300\" align=\"left\"/>"
   ]
  },
  {
   "cell_type": "markdown",
   "id": "7107028e",
   "metadata": {
    "heading_collapsed": true
   },
   "source": [
    "# Prepare your working environment"
   ]
  },
  {
   "cell_type": "markdown",
   "id": "a32970e0",
   "metadata": {
    "hidden": true
   },
   "source": [
    "**0. What is python and why using?**  \n",
    "- Open python-org + https://pypi.org/ + https://docs.python.org/3/library/index.html\n",
    "- Create folder python-work\n",
    "\n",
    "**1. Show default python version installed + path**  \n",
    "``python --version`` x  \n",
    "``python3 --version``  \n",
    "``which python3 --version``  \n",
    "``whereis python``  \n",
    "\n",
    "**2. Test code in console (interactive and script):**  \n",
    "- print\n",
    "- math ops\n",
    "- create file using vim and execute (script/batch mode)\n",
    "\n",
    "**3. Python in vscode + extension**  \n",
    "\n",
    "**4. examine different versions of python in python.org:**  \n",
    "- if you are using ubuntu 2004 and earlier => `sudo add-apt-repository ppa:deadsnakes/ppa`  \n",
    "- install v3.10  \n",
    "- install v2  \n",
    "- check locations  \n",
    "\n",
    "**5. check versions in vscode= test execution in v2 vs v3**  \n",
    "\n",
    "**6. take one step back and install ipython for better interactive mode:**  \n",
    "- check interactive execution\n",
    "- REPL concept\n",
    "- ipython is enhanced python interactive\n",
    "- auto complete (intellisense)c\t\n",
    "- magic functions\n",
    "\n",
    "**7. Package primer:**  \n",
    "- what is a package\n",
    "- use os and system packages (python standard library) - c language packages - https://docs.python.org/3/library/index.html -- https://github.com/python/cpython/tree/main/Modules\n",
    "- try importing matplotlib ==> it should fail\n",
    "- introduce pip:\n",
    "\t* install pip `apt install python3-pip`  \n",
    "\t* list installed packages\n",
    "\t* import matplotlib  \n",
    "``import matplotlib.pyplot as plt``  \n",
    "``plt.plot([1, 2, 3, 4])``  \n",
    "``plt.ylabel('some numbers')``  \n",
    "``plt.show()``  \n",
    "\t- https://pypi.org/ - explore python package index  \n",
    "\n",
    "**8. python versions, packages, package versions, tools, etc. ==>> enter the virtual environment:**  \n",
    "- where is python looking for packages (sys.path)\n",
    "- use venv: `sudo apt install python3-venv`  \n",
    "- create an env with python3 and matplotlib (list with pip): `python3 -m venv testing-env`  \n",
    "- activate venv: means changes prompt and changes sys.path to add new folder of the venv `source ./venv/bin/activate`  \n",
    "- deactivate venv: `deactivate`  \n",
    "- show venv in vscode\n",
    "- create another environment with python2 without matplotlib (list with pip)\n",
    "- show how you can import packages in one venv but not able on the other\n",
    "- use \"Python environment manager\" extension in vscode to explore environments\n",
    "\n",
    "**9. Easier way to manage packages, virtual environments, nice IDEs, etc. ==> Enter Anaconda:**  \n",
    "- what is Anaconda?\n",
    "- install Anaconda https://docs.anaconda.com/anaconda/install/linux/\n",
    "- what is conda (How it replaces pip + venv)?\n",
    "- conda cheatsheet https://conda.io/projects/conda/en/latest/_downloads/843d9e0198f2a193a3484886fa28163c/conda-cheatsheet.pdf\n",
    "- Optional: PyViz Navigation https://pyviz.org/tools.html\n",
    "\n",
    "**10. Intro to Jupyter Notebook**  \n",
    "- run from anaconda navigator\n",
    "- run from cli\n",
    "- explore the interface\n",
    "- cell types + examples  \n",
    "`import seaborn as sns`  \n",
    "`sns.set()`  \n",
    "`df = sns.load_dataset(\"iris\")`  \n",
    "`sns.pairplot(df, hue=\"species\")`  \n",
    "- save notebooks\n",
    "- nbextensions https://jupyter-contrib-nbextensions.readthedocs.io/en/latest/install.html"
   ]
  },
  {
   "cell_type": "code",
   "execution_count": 1,
   "id": "679a9aeb",
   "metadata": {
    "hidden": true,
    "scrolled": true
   },
   "outputs": [
    {
     "name": "stdout",
     "output_type": "stream",
     "text": [
      "Hello Python world!\n"
     ]
    }
   ],
   "source": [
    "print(\"Hello Python world!\")"
   ]
  },
  {
   "cell_type": "markdown",
   "id": "255473cd",
   "metadata": {
    "heading_collapsed": true
   },
   "source": [
    "# Variables"
   ]
  },
  {
   "cell_type": "code",
   "execution_count": 2,
   "id": "b923353e",
   "metadata": {
    "hidden": true
   },
   "outputs": [
    {
     "data": {
      "text/plain": [
       "13"
      ]
     },
     "execution_count": 2,
     "metadata": {},
     "output_type": "execute_result"
    }
   ],
   "source": [
    "13"
   ]
  },
  {
   "cell_type": "code",
   "execution_count": 3,
   "id": "6bb55d41",
   "metadata": {
    "hidden": true
   },
   "outputs": [
    {
     "data": {
      "text/plain": [
       "114"
      ]
     },
     "execution_count": 3,
     "metadata": {},
     "output_type": "execute_result"
    }
   ],
   "source": [
    "29 + 85"
   ]
  },
  {
   "cell_type": "code",
   "execution_count": 4,
   "id": "e3b49fa1",
   "metadata": {
    "hidden": true
   },
   "outputs": [
    {
     "data": {
      "text/plain": [
       "12.8"
      ]
     },
     "execution_count": 4,
     "metadata": {},
     "output_type": "execute_result"
    }
   ],
   "source": [
    "12.8"
   ]
  },
  {
   "cell_type": "code",
   "execution_count": 5,
   "id": "92ed92fd",
   "metadata": {
    "hidden": true
   },
   "outputs": [
    {
     "data": {
      "text/plain": [
       "21.75"
      ]
     },
     "execution_count": 5,
     "metadata": {},
     "output_type": "execute_result"
    }
   ],
   "source": [
    "5 * (12.7 - 4) / 2"
   ]
  },
  {
   "cell_type": "code",
   "execution_count": 6,
   "id": "96428d3c",
   "metadata": {
    "hidden": true,
    "scrolled": true
   },
   "outputs": [
    {
     "data": {
      "text/plain": [
       "'Hello World'"
      ]
     },
     "execution_count": 6,
     "metadata": {},
     "output_type": "execute_result"
    }
   ],
   "source": [
    "'Hello World' "
   ]
  },
  {
   "cell_type": "markdown",
   "id": "a3fb2589",
   "metadata": {
    "heading_collapsed": true,
    "hidden": true
   },
   "source": [
    "## Variables and Assignment Statements"
   ]
  },
  {
   "cell_type": "code",
   "execution_count": 61,
   "id": "e21fdec4-b533-4690-881c-2671baa2ea1f",
   "metadata": {},
   "outputs": [],
   "source": [
    "## python has 3 types of data type of nambers \n",
    "## integers, floating point numbers, and complex numbers"
   ]
  },
  {
   "cell_type": "code",
   "execution_count": 7,
   "id": "5672c60b",
   "metadata": {
    "hidden": true
   },
   "outputs": [],
   "source": [
    "x = 7"
   ]
  },
  {
   "cell_type": "code",
   "execution_count": 8,
   "id": "2c6418ed",
   "metadata": {
    "hidden": true
   },
   "outputs": [],
   "source": [
    "y = 3"
   ]
  },
  {
   "cell_type": "code",
   "execution_count": 9,
   "id": "a7a92bc2",
   "metadata": {
    "hidden": true
   },
   "outputs": [
    {
     "data": {
      "text/plain": [
       "10"
      ]
     },
     "execution_count": 9,
     "metadata": {},
     "output_type": "execute_result"
    }
   ],
   "source": [
    "x + y"
   ]
  },
  {
   "cell_type": "code",
   "execution_count": 10,
   "id": "63096c5e",
   "metadata": {
    "hidden": true
   },
   "outputs": [],
   "source": [
    "total = x + y"
   ]
  },
  {
   "cell_type": "code",
   "execution_count": 11,
   "id": "f0402a67",
   "metadata": {
    "hidden": true
   },
   "outputs": [
    {
     "data": {
      "text/plain": [
       "10"
      ]
     },
     "execution_count": 11,
     "metadata": {},
     "output_type": "execute_result"
    }
   ],
   "source": [
    "total"
   ]
  },
  {
   "cell_type": "code",
   "execution_count": 12,
   "id": "b566599c",
   "metadata": {
    "hidden": true
   },
   "outputs": [],
   "source": [
    "x = 9.3 # float"
   ]
  },
  {
   "cell_type": "code",
   "execution_count": 13,
   "id": "d119b98b",
   "metadata": {
    "hidden": true
   },
   "outputs": [],
   "source": [
    "y = -2 # integer"
   ]
  },
  {
   "cell_type": "code",
   "execution_count": 14,
   "id": "0c603f96",
   "metadata": {
    "hidden": true
   },
   "outputs": [
    {
     "data": {
      "text/plain": [
       "11.3"
      ]
     },
     "execution_count": 14,
     "metadata": {},
     "output_type": "execute_result"
    }
   ],
   "source": [
    "x - y"
   ]
  },
  {
   "cell_type": "code",
   "execution_count": null,
   "id": "c5780d70",
   "metadata": {
    "hidden": true
   },
   "outputs": [],
   "source": []
  },
  {
   "cell_type": "code",
   "execution_count": 15,
   "id": "42e526b1",
   "metadata": {
    "hidden": true
   },
   "outputs": [
    {
     "data": {
      "text/plain": [
       "14000000000"
      ]
     },
     "execution_count": 15,
     "metadata": {},
     "output_type": "execute_result"
    }
   ],
   "source": [
    "# very large numbers can be more readable by underscores\n",
    "universe_age = 14_000_000_000\n",
    "universe_age"
   ]
  },
  {
   "cell_type": "code",
   "execution_count": 16,
   "id": "4c06e755",
   "metadata": {
    "hidden": true
   },
   "outputs": [],
   "source": [
    "# multiple assignments\n",
    "x, y, z = 1, 2, 3\n",
    "#متعملش كدا"
   ]
  },
  {
   "cell_type": "code",
   "execution_count": 17,
   "id": "dfeb594d",
   "metadata": {
    "hidden": true
   },
   "outputs": [
    {
     "data": {
      "text/plain": [
       "3"
      ]
     },
     "execution_count": 17,
     "metadata": {},
     "output_type": "execute_result"
    }
   ],
   "source": [
    "z"
   ]
  },
  {
   "cell_type": "code",
   "execution_count": 18,
   "id": "f502f421",
   "metadata": {
    "hidden": true
   },
   "outputs": [],
   "source": [
    "x = y = 108"
   ]
  },
  {
   "cell_type": "code",
   "execution_count": 19,
   "id": "7422aae5",
   "metadata": {
    "hidden": true
   },
   "outputs": [
    {
     "data": {
      "text/plain": [
       "108"
      ]
     },
     "execution_count": 19,
     "metadata": {},
     "output_type": "execute_result"
    }
   ],
   "source": [
    "x"
   ]
  },
  {
   "cell_type": "code",
   "execution_count": 20,
   "id": "d8df51c5",
   "metadata": {
    "hidden": true
   },
   "outputs": [
    {
     "data": {
      "text/plain": [
       "108"
      ]
     },
     "execution_count": 20,
     "metadata": {},
     "output_type": "execute_result"
    }
   ],
   "source": [
    "y "
   ]
  },
  {
   "cell_type": "markdown",
   "id": "90620317",
   "metadata": {
    "heading_collapsed": true,
    "hidden": true
   },
   "source": [
    "## Numbers"
   ]
  },
  {
   "cell_type": "markdown",
   "id": "b1f355c1",
   "metadata": {
    "heading_collapsed": true,
    "hidden": true
   },
   "source": [
    "### Assignment Operators"
   ]
  },
  {
   "cell_type": "markdown",
   "id": "4f877b4a",
   "metadata": {
    "hidden": true
   },
   "source": [
    "<img src=\"./images/5.png\" alt=\"drawing\" width=\"900\" align=\"left\"/>"
   ]
  },
  {
   "cell_type": "code",
   "execution_count": 21,
   "id": "65a6a314",
   "metadata": {
    "hidden": true
   },
   "outputs": [
    {
     "name": "stdout",
     "output_type": "stream",
     "text": [
      "20\n",
      "10\n",
      "100\n",
      "100000000000000000000\n"
     ]
    }
   ],
   "source": [
    "x = 10\n",
    "\n",
    "x += 10 # x = x + 10\n",
    "print(x)\n",
    "\n",
    "x -= 10 # x = x - 10\n",
    "print(x)\n",
    "\n",
    "x *= 10 # x = x * 10\n",
    "print(x)\n",
    "\n",
    "x **= 10\n",
    "print(x)\n"
   ]
  },
  {
   "cell_type": "markdown",
   "id": "ffc5de1a",
   "metadata": {
    "heading_collapsed": true,
    "hidden": true
   },
   "source": [
    "### Arithmetic Operators"
   ]
  },
  {
   "cell_type": "markdown",
   "id": "25d8c995",
   "metadata": {
    "hidden": true
   },
   "source": [
    "<img src=\"./images/1.png\" alt=\"drawing\" width=\"900\" align=\"left\"/>"
   ]
  },
  {
   "cell_type": "markdown",
   "id": "fbcaaa41",
   "metadata": {
    "heading_collapsed": true,
    "hidden": true
   },
   "source": [
    "### Multiplication (`*`)"
   ]
  },
  {
   "cell_type": "code",
   "execution_count": 22,
   "id": "f930958e",
   "metadata": {
    "hidden": true
   },
   "outputs": [
    {
     "data": {
      "text/plain": [
       "28"
      ]
     },
     "execution_count": 22,
     "metadata": {},
     "output_type": "execute_result"
    }
   ],
   "source": [
    "7 * 4"
   ]
  },
  {
   "cell_type": "markdown",
   "id": "e683b483",
   "metadata": {
    "heading_collapsed": true,
    "hidden": true
   },
   "source": [
    "### Exponentiation (`**`)"
   ]
  },
  {
   "cell_type": "code",
   "execution_count": 23,
   "id": "66b990ed",
   "metadata": {
    "hidden": true
   },
   "outputs": [
    {
     "data": {
      "text/plain": [
       "1024"
      ]
     },
     "execution_count": 23,
     "metadata": {},
     "output_type": "execute_result"
    }
   ],
   "source": [
    "2 ** 10"
   ]
  },
  {
   "cell_type": "code",
   "execution_count": 24,
   "id": "ff15a066",
   "metadata": {
    "hidden": true
   },
   "outputs": [
    {
     "data": {
      "text/plain": [
       "3.0"
      ]
     },
     "execution_count": 24,
     "metadata": {},
     "output_type": "execute_result"
    }
   ],
   "source": [
    "9 ** (1 / 2)"
   ]
  },
  {
   "cell_type": "markdown",
   "id": "7a3cc850",
   "metadata": {
    "heading_collapsed": true,
    "hidden": true
   },
   "source": [
    "### True Division (`/`) vs. Floor Division (`//`)"
   ]
  },
  {
   "cell_type": "code",
   "execution_count": 25,
   "id": "b9e89654",
   "metadata": {
    "hidden": true
   },
   "outputs": [
    {
     "data": {
      "text/plain": [
       "1.75"
      ]
     },
     "execution_count": 25,
     "metadata": {},
     "output_type": "execute_result"
    }
   ],
   "source": [
    "7 / 4"
   ]
  },
  {
   "cell_type": "code",
   "execution_count": 26,
   "id": "5fcc603c",
   "metadata": {
    "hidden": true
   },
   "outputs": [
    {
     "data": {
      "text/plain": [
       "1"
      ]
     },
     "execution_count": 26,
     "metadata": {},
     "output_type": "execute_result"
    }
   ],
   "source": [
    "7 // 4 # 1 3/4 -- 1 -  1.75 - 2 "
   ]
  },
  {
   "cell_type": "code",
   "execution_count": 27,
   "id": "43a07004",
   "metadata": {
    "hidden": true
   },
   "outputs": [
    {
     "data": {
      "text/plain": [
       "0"
      ]
     },
     "execution_count": 27,
     "metadata": {},
     "output_type": "execute_result"
    }
   ],
   "source": [
    "3 // 5"
   ]
  },
  {
   "cell_type": "code",
   "execution_count": 28,
   "id": "4ef6cf5f",
   "metadata": {
    "hidden": true
   },
   "outputs": [
    {
     "data": {
      "text/plain": [
       "2"
      ]
     },
     "execution_count": 28,
     "metadata": {},
     "output_type": "execute_result"
    }
   ],
   "source": [
    "14 // 7"
   ]
  },
  {
   "cell_type": "code",
   "execution_count": 29,
   "id": "bfdc461a",
   "metadata": {
    "hidden": true
   },
   "outputs": [
    {
     "data": {
      "text/plain": [
       "-2"
      ]
     },
     "execution_count": 29,
     "metadata": {},
     "output_type": "execute_result"
    }
   ],
   "source": [
    "-14 // 7"
   ]
  },
  {
   "cell_type": "code",
   "execution_count": 30,
   "id": "e64ffc93",
   "metadata": {
    "hidden": true
   },
   "outputs": [
    {
     "data": {
      "text/plain": [
       "-3.25"
      ]
     },
     "execution_count": 30,
     "metadata": {},
     "output_type": "execute_result"
    }
   ],
   "source": [
    "-13 / 4"
   ]
  },
  {
   "cell_type": "code",
   "execution_count": 31,
   "id": "251870b2",
   "metadata": {
    "hidden": true
   },
   "outputs": [
    {
     "data": {
      "text/plain": [
       "3"
      ]
     },
     "execution_count": 31,
     "metadata": {},
     "output_type": "execute_result"
    }
   ],
   "source": [
    "13 // 4"
   ]
  },
  {
   "cell_type": "code",
   "execution_count": 32,
   "id": "95dfce5f",
   "metadata": {
    "hidden": true
   },
   "outputs": [
    {
     "data": {
      "text/plain": [
       "-4"
      ]
     },
     "execution_count": 32,
     "metadata": {},
     "output_type": "execute_result"
    }
   ],
   "source": [
    "-13 // 4 # -4 -  -3.25 - -3"
   ]
  },
  {
   "cell_type": "code",
   "execution_count": 45,
   "id": "3fc4816a",
   "metadata": {
    "hidden": true
   },
   "outputs": [
    {
     "name": "stdout",
     "output_type": "stream",
     "text": [
      "Couldn't find program: 'python2.7'\n"
     ]
    }
   ],
   "source": [
    "%%script python2.7\n",
    "print(3.0/2)\n",
    "## will give you  1 here becouse python2 use (ineger / integer = integer)"
   ]
  },
  {
   "cell_type": "code",
   "execution_count": 46,
   "id": "6d8d278f",
   "metadata": {
    "hidden": true
   },
   "outputs": [
    {
     "data": {
      "text/plain": [
       "3.0"
      ]
     },
     "execution_count": 46,
     "metadata": {},
     "output_type": "execute_result"
    }
   ],
   "source": [
    "1.0 + 2"
   ]
  },
  {
   "cell_type": "markdown",
   "id": "9c270b2e",
   "metadata": {
    "heading_collapsed": true,
    "hidden": true
   },
   "source": [
    "### Exceptions and Tracebacks"
   ]
  },
  {
   "cell_type": "code",
   "execution_count": 47,
   "id": "571ed577",
   "metadata": {
    "hidden": true
   },
   "outputs": [
    {
     "ename": "ZeroDivisionError",
     "evalue": "division by zero",
     "output_type": "error",
     "traceback": [
      "\u001b[1;31m---------------------------------------------------------------------------\u001b[0m",
      "\u001b[1;31mZeroDivisionError\u001b[0m                         Traceback (most recent call last)",
      "Cell \u001b[1;32mIn[47], line 1\u001b[0m\n\u001b[1;32m----> 1\u001b[0m \u001b[38;5;241m123\u001b[39m \u001b[38;5;241m/\u001b[39m \u001b[38;5;241m0\u001b[39m\n",
      "\u001b[1;31mZeroDivisionError\u001b[0m: division by zero"
     ]
    }
   ],
   "source": [
    "123 / 0   ## zero diveson error "
   ]
  },
  {
   "cell_type": "code",
   "execution_count": 48,
   "id": "cf57c341",
   "metadata": {
    "hidden": true
   },
   "outputs": [
    {
     "ename": "NameError",
     "evalue": "name 'q' is not defined",
     "output_type": "error",
     "traceback": [
      "\u001b[1;31m---------------------------------------------------------------------------\u001b[0m",
      "\u001b[1;31mNameError\u001b[0m                                 Traceback (most recent call last)",
      "Cell \u001b[1;32mIn[48], line 1\u001b[0m\n\u001b[1;32m----> 1\u001b[0m q \u001b[38;5;241m+\u001b[39m \u001b[38;5;241m7\u001b[39m\n",
      "\u001b[1;31mNameError\u001b[0m: name 'q' is not defined"
     ]
    }
   ],
   "source": [
    "q + 7  # name error"
   ]
  },
  {
   "cell_type": "markdown",
   "id": "981a6230",
   "metadata": {
    "heading_collapsed": true,
    "hidden": true
   },
   "source": [
    "### Remainder Operator"
   ]
  },
  {
   "cell_type": "code",
   "execution_count": 49,
   "id": "600d5be0",
   "metadata": {
    "hidden": true
   },
   "outputs": [
    {
     "data": {
      "text/plain": [
       "2"
      ]
     },
     "execution_count": 49,
     "metadata": {},
     "output_type": "execute_result"
    }
   ],
   "source": [
    "17 % 5 # 3 2/5"
   ]
  },
  {
   "cell_type": "code",
   "execution_count": 50,
   "id": "cc103206",
   "metadata": {
    "hidden": true
   },
   "outputs": [
    {
     "data": {
      "text/plain": [
       "0"
      ]
     },
     "execution_count": 50,
     "metadata": {},
     "output_type": "execute_result"
    }
   ],
   "source": [
    "4 % 2"
   ]
  },
  {
   "cell_type": "code",
   "execution_count": 51,
   "id": "983e9dd2",
   "metadata": {
    "hidden": true
   },
   "outputs": [
    {
     "data": {
      "text/plain": [
       "0.5"
      ]
     },
     "execution_count": 51,
     "metadata": {},
     "output_type": "execute_result"
    }
   ],
   "source": [
    "7.5 % 3.5"
   ]
  },
  {
   "cell_type": "markdown",
   "id": "76f7c865",
   "metadata": {
    "heading_collapsed": true,
    "hidden": true
   },
   "source": [
    "### Grouping Expressions with Parenthesis"
   ]
  },
  {
   "cell_type": "code",
   "execution_count": 52,
   "id": "19c302c3",
   "metadata": {
    "hidden": true
   },
   "outputs": [
    {
     "data": {
      "text/plain": [
       "80"
      ]
     },
     "execution_count": 52,
     "metadata": {},
     "output_type": "execute_result"
    }
   ],
   "source": [
    "10 * (5 + 3)"
   ]
  },
  {
   "cell_type": "code",
   "execution_count": 53,
   "id": "b8d6d7b2",
   "metadata": {
    "hidden": true
   },
   "outputs": [
    {
     "data": {
      "text/plain": [
       "53"
      ]
     },
     "execution_count": 53,
     "metadata": {},
     "output_type": "execute_result"
    }
   ],
   "source": [
    "10 * 5 + 3"
   ]
  },
  {
   "cell_type": "markdown",
   "id": "4bdc73dd",
   "metadata": {
    "heading_collapsed": true,
    "hidden": true
   },
   "source": [
    "## Strings"
   ]
  },
  {
   "cell_type": "code",
   "execution_count": 54,
   "id": "8e30d62b",
   "metadata": {
    "hidden": true
   },
   "outputs": [
    {
     "data": {
      "text/plain": [
       "'This is a string'"
      ]
     },
     "execution_count": 54,
     "metadata": {},
     "output_type": "execute_result"
    }
   ],
   "source": [
    "\"This is a string\""
   ]
  },
  {
   "cell_type": "code",
   "execution_count": 55,
   "id": "8bf961e8",
   "metadata": {
    "hidden": true
   },
   "outputs": [
    {
     "data": {
      "text/plain": [
       "'This is also a string'"
      ]
     },
     "execution_count": 55,
     "metadata": {},
     "output_type": "execute_result"
    }
   ],
   "source": [
    "'This is also a string'"
   ]
  },
  {
   "cell_type": "code",
   "execution_count": 56,
   "id": "8fe383af",
   "metadata": {
    "hidden": true
   },
   "outputs": [
    {
     "ename": "SyntaxError",
     "evalue": "invalid syntax (2257908778.py, line 1)",
     "output_type": "error",
     "traceback": [
      "\u001b[1;36m  Cell \u001b[1;32mIn[56], line 1\u001b[1;36m\u001b[0m\n\u001b[1;33m    \"This is a \"string\"\"\u001b[0m\n\u001b[1;37m                ^\u001b[0m\n\u001b[1;31mSyntaxError\u001b[0m\u001b[1;31m:\u001b[0m invalid syntax\n"
     ]
    }
   ],
   "source": [
    "\"This is a \"string\"\""
   ]
  },
  {
   "cell_type": "code",
   "execution_count": 57,
   "id": "3ece5e57",
   "metadata": {
    "hidden": true
   },
   "outputs": [
    {
     "data": {
      "text/plain": [
       "'I told my friend, \"Python is my favorite language!\"'"
      ]
     },
     "execution_count": 57,
     "metadata": {},
     "output_type": "execute_result"
    }
   ],
   "source": [
    "'I told my friend, \"Python is my favorite language!\"'"
   ]
  },
  {
   "cell_type": "code",
   "execution_count": 58,
   "id": "8c7ec196",
   "metadata": {
    "hidden": true
   },
   "outputs": [
    {
     "data": {
      "text/plain": [
       "\"The language 'Python' is named after Monty Python, not the snake.\""
      ]
     },
     "execution_count": 58,
     "metadata": {},
     "output_type": "execute_result"
    }
   ],
   "source": [
    "\"The language 'Python' is named after Monty Python, not the snake.\""
   ]
  },
  {
   "cell_type": "code",
   "execution_count": 62,
   "id": "40e4e17d",
   "metadata": {
    "hidden": true
   },
   "outputs": [
    {
     "ename": "SyntaxError",
     "evalue": "invalid syntax (3517570175.py, line 1)",
     "output_type": "error",
     "traceback": [
      "\u001b[1;36m  Cell \u001b[1;32mIn[62], line 1\u001b[1;36m\u001b[0m\n\u001b[1;33m    \"One of Python's strengths is its \"diverse\" and supportive community.\"\u001b[0m\n\u001b[1;37m                                       ^\u001b[0m\n\u001b[1;31mSyntaxError\u001b[0m\u001b[1;31m:\u001b[0m invalid syntax\n"
     ]
    }
   ],
   "source": [
    "\"One of Python's strengths is its \"diverse\" and supportive community.\""
   ]
  },
  {
   "cell_type": "markdown",
   "id": "c0223d5e",
   "metadata": {
    "heading_collapsed": true,
    "hidden": true
   },
   "source": [
    "### Escape characters"
   ]
  },
  {
   "cell_type": "markdown",
   "id": "e856d158",
   "metadata": {
    "hidden": true
   },
   "source": [
    "<img src=\"./images/3.png\" alt=\"drawing\" width=\"700\" align=\"left\"/>"
   ]
  },
  {
   "cell_type": "code",
   "execution_count": 63,
   "id": "76f5b571",
   "metadata": {
    "hidden": true
   },
   "outputs": [
    {
     "data": {
      "text/plain": [
       "\"I told my friend, 'Python is my favorite language!' \""
      ]
     },
     "execution_count": 63,
     "metadata": {},
     "output_type": "execute_result"
    }
   ],
   "source": [
    "'I told my friend, \\'Python is my favorite language!\\' '"
   ]
  },
  {
   "cell_type": "code",
   "execution_count": 64,
   "id": "e297b419",
   "metadata": {
    "hidden": true
   },
   "outputs": [
    {
     "data": {
      "text/plain": [
       "'I told my friend, \"Python is my favorite language!\" '"
      ]
     },
     "execution_count": 64,
     "metadata": {},
     "output_type": "execute_result"
    }
   ],
   "source": [
    "\"I told my friend, \\\"Python is my favorite language!\\\" \""
   ]
  },
  {
   "cell_type": "markdown",
   "id": "023c7894",
   "metadata": {
    "heading_collapsed": true,
    "hidden": true
   },
   "source": [
    "### Triple-quoted strings"
   ]
  },
  {
   "cell_type": "code",
   "execution_count": 65,
   "id": "92a1e0c3",
   "metadata": {
    "hidden": true,
    "scrolled": true
   },
   "outputs": [
    {
     "data": {
      "text/plain": [
       "'Display \"hi\" and \\'bye\\' in quotes'"
      ]
     },
     "execution_count": 65,
     "metadata": {},
     "output_type": "execute_result"
    }
   ],
   "source": [
    "\"\"\"Display \"hi\" and 'bye' in quotes\"\"\""
   ]
  },
  {
   "cell_type": "code",
   "execution_count": 66,
   "id": "9b5a3562",
   "metadata": {
    "hidden": true
   },
   "outputs": [],
   "source": [
    "triple_quoted_string = \"\"\"This is a triple-quoted\n",
    "string that spans two lines\"\"\""
   ]
  },
  {
   "cell_type": "code",
   "execution_count": 67,
   "id": "6955c60d",
   "metadata": {
    "hidden": true
   },
   "outputs": [
    {
     "name": "stdout",
     "output_type": "stream",
     "text": [
      "This is a triple-quoted\n",
      "string that spans two lines\n"
     ]
    }
   ],
   "source": [
    "print(triple_quoted_string)"
   ]
  },
  {
   "cell_type": "code",
   "execution_count": 68,
   "id": "d41d5dff",
   "metadata": {
    "hidden": true
   },
   "outputs": [
    {
     "data": {
      "text/plain": [
       "'This is a triple-quoted\\nstring that spans two lines'"
      ]
     },
     "execution_count": 68,
     "metadata": {},
     "output_type": "execute_result"
    }
   ],
   "source": [
    "triple_quoted_string"
   ]
  },
  {
   "cell_type": "code",
   "execution_count": 69,
   "id": "3a6aeee8",
   "metadata": {
    "hidden": true
   },
   "outputs": [
    {
     "name": "stdout",
     "output_type": "stream",
     "text": [
      "This is a triple-quoted\n",
      "string that spans two lines\n"
     ]
    }
   ],
   "source": [
    "print('This is a triple-quoted\\nstring that spans two lines')"
   ]
  },
  {
   "cell_type": "markdown",
   "id": "fbb3d9ec",
   "metadata": {
    "heading_collapsed": true,
    "hidden": true
   },
   "source": [
    "### Built-in Functions\n"
   ]
  },
  {
   "cell_type": "markdown",
   "id": "46f38c43",
   "metadata": {
    "hidden": true
   },
   "source": [
    "<img src=\"./images/2.png\" alt=\"drawing\" width=\"600\" align=\"left\"/>\n"
   ]
  },
  {
   "cell_type": "markdown",
   "id": "9ff875db",
   "metadata": {
    "hidden": true
   },
   "source": [
    "**[Built-in Function](https://docs.python.org/3/library/functions.html)**"
   ]
  },
  {
   "cell_type": "markdown",
   "id": "ca85b054",
   "metadata": {
    "heading_collapsed": true,
    "hidden": true
   },
   "source": [
    "### Using built-in functions"
   ]
  },
  {
   "cell_type": "code",
   "execution_count": 70,
   "id": "975bc89d",
   "metadata": {
    "hidden": true
   },
   "outputs": [
    {
     "name": "stdout",
     "output_type": "stream",
     "text": [
      "Welcome to Python!\n"
     ]
    }
   ],
   "source": [
    "print('Welcome to Python!')"
   ]
  },
  {
   "cell_type": "code",
   "execution_count": 71,
   "id": "72433dee",
   "metadata": {
    "hidden": true
   },
   "outputs": [
    {
     "data": {
      "text/plain": [
       "45"
      ]
     },
     "execution_count": 71,
     "metadata": {},
     "output_type": "execute_result"
    }
   ],
   "source": [
    "abs(-45)"
   ]
  },
  {
   "cell_type": "code",
   "execution_count": 72,
   "id": "349c6b59",
   "metadata": {
    "hidden": true
   },
   "outputs": [
    {
     "data": {
      "text/plain": [
       "'E'"
      ]
     },
     "execution_count": 72,
     "metadata": {},
     "output_type": "execute_result"
    }
   ],
   "source": [
    "chr(69)  ## write the ascii code and tell you the  character "
   ]
  },
  {
   "cell_type": "code",
   "execution_count": 74,
   "id": "9401da7a",
   "metadata": {
    "hidden": true
   },
   "outputs": [
    {
     "data": {
      "text/plain": [
       "77"
      ]
     },
     "execution_count": 74,
     "metadata": {},
     "output_type": "execute_result"
    }
   ],
   "source": [
    "ord('M') ## write the character and tell you the ascii"
   ]
  },
  {
   "cell_type": "code",
   "execution_count": 75,
   "id": "487f0768",
   "metadata": {
    "hidden": true
   },
   "outputs": [
    {
     "data": {
      "text/plain": [
       "6"
      ]
     },
     "execution_count": 75,
     "metadata": {},
     "output_type": "execute_result"
    }
   ],
   "source": [
    "len('python')"
   ]
  },
  {
   "cell_type": "code",
   "execution_count": 76,
   "id": "efbb493d",
   "metadata": {
    "hidden": true
   },
   "outputs": [
    {
     "data": {
      "text/plain": [
       "56"
      ]
     },
     "execution_count": 76,
     "metadata": {},
     "output_type": "execute_result"
    }
   ],
   "source": [
    "max(45, 12, -90, 56, 1)"
   ]
  },
  {
   "cell_type": "code",
   "execution_count": 77,
   "id": "197acff7",
   "metadata": {
    "hidden": true
   },
   "outputs": [
    {
     "data": {
      "text/plain": [
       "-90"
      ]
     },
     "execution_count": 77,
     "metadata": {},
     "output_type": "execute_result"
    }
   ],
   "source": [
    "min(45, 12, -90, 56, 1)"
   ]
  },
  {
   "cell_type": "code",
   "execution_count": 78,
   "id": "0a180c73",
   "metadata": {
    "hidden": true
   },
   "outputs": [
    {
     "data": {
      "text/plain": [
       "24"
      ]
     },
     "execution_count": 78,
     "metadata": {},
     "output_type": "execute_result"
    }
   ],
   "source": [
    "sum([45, 12, -90, 56, 1])"
   ]
  },
  {
   "cell_type": "code",
   "execution_count": 79,
   "id": "57a27290",
   "metadata": {
    "hidden": true
   },
   "outputs": [
    {
     "name": "stdout",
     "output_type": "stream",
     "text": [
      "I am 45 years old\n"
     ]
    }
   ],
   "source": [
    "age = 45\n",
    "print('I am', age, 'years old')"
   ]
  },
  {
   "cell_type": "code",
   "execution_count": 80,
   "id": "afef1d3c",
   "metadata": {
    "hidden": true
   },
   "outputs": [
    {
     "name": "stdout",
     "output_type": "stream",
     "text": [
      "\tPython\n"
     ]
    }
   ],
   "source": [
    "print(\"\\tPython\")"
   ]
  },
  {
   "cell_type": "code",
   "execution_count": 81,
   "id": "aa119021",
   "metadata": {
    "hidden": true
   },
   "outputs": [
    {
     "name": "stdout",
     "output_type": "stream",
     "text": [
      "Languages:\n",
      "Python\n",
      "C\n",
      "JavaScript\n"
     ]
    }
   ],
   "source": [
    "print(\"Languages:\\nPython\\nC\\nJavaScript\")"
   ]
  },
  {
   "cell_type": "code",
   "execution_count": 82,
   "id": "9898f372",
   "metadata": {
    "hidden": true
   },
   "outputs": [
    {
     "name": "stdout",
     "output_type": "stream",
     "text": [
      "Languages:\n",
      "\tPython\n",
      "\tC\n",
      "\tJavaScript\n"
     ]
    }
   ],
   "source": [
    "print(\"Languages:\\n\\tPython\\n\\tC\\n\\tJavaScript\")"
   ]
  },
  {
   "cell_type": "code",
   "execution_count": null,
   "id": "5f00f72d",
   "metadata": {
    "hidden": true
   },
   "outputs": [],
   "source": []
  },
  {
   "cell_type": "markdown",
   "id": "dcd1b1ba",
   "metadata": {
    "heading_collapsed": true,
    "hidden": true
   },
   "source": [
    "## Getting Input from the User"
   ]
  },
  {
   "cell_type": "markdown",
   "id": "0efd2ebb",
   "metadata": {
    "heading_collapsed": true,
    "hidden": true
   },
   "source": [
    "### Using `input()` built-in function"
   ]
  },
  {
   "cell_type": "code",
   "execution_count": 83,
   "id": "a7d94a39",
   "metadata": {
    "hidden": true
   },
   "outputs": [
    {
     "name": "stdin",
     "output_type": "stream",
     "text": [
      "What's your name?  Khaled\n"
     ]
    }
   ],
   "source": [
    "name = input(\"What's your name? \")"
   ]
  },
  {
   "cell_type": "code",
   "execution_count": 84,
   "id": "d9409289",
   "metadata": {
    "hidden": true
   },
   "outputs": [
    {
     "data": {
      "text/plain": [
       "'Khaled'"
      ]
     },
     "execution_count": 84,
     "metadata": {},
     "output_type": "execute_result"
    }
   ],
   "source": [
    "name"
   ]
  },
  {
   "cell_type": "code",
   "execution_count": 85,
   "id": "b7b04717",
   "metadata": {
    "hidden": true
   },
   "outputs": [
    {
     "name": "stdout",
     "output_type": "stream",
     "text": [
      "Khaled\n"
     ]
    }
   ],
   "source": [
    "print(name)"
   ]
  },
  {
   "cell_type": "code",
   "execution_count": 87,
   "id": "3ddb4575",
   "metadata": {
    "hidden": true
   },
   "outputs": [
    {
     "name": "stdin",
     "output_type": "stream",
     "text": [
      "What's your name?  Khaled\n"
     ]
    },
    {
     "name": "stdout",
     "output_type": "stream",
     "text": [
      "Hello Mr. Khaled\n"
     ]
    }
   ],
   "source": [
    "name = input(\"What's your name? \")\n",
    "print('Hello Mr. ' + name)"
   ]
  },
  {
   "cell_type": "code",
   "execution_count": null,
   "id": "cb4d70c6",
   "metadata": {
    "hidden": true
   },
   "outputs": [],
   "source": []
  },
  {
   "cell_type": "markdown",
   "id": "cd5046dc",
   "metadata": {
    "heading_collapsed": true,
    "hidden": true
   },
   "source": [
    "### Function `input()` Always Returns a String"
   ]
  },
  {
   "cell_type": "code",
   "execution_count": 89,
   "id": "4708abc9",
   "metadata": {
    "hidden": true
   },
   "outputs": [
    {
     "name": "stdin",
     "output_type": "stream",
     "text": [
      "Enter first number:  55\n",
      "Enter second number:  45\n"
     ]
    },
    {
     "data": {
      "text/plain": [
       "'5545'"
      ]
     },
     "execution_count": 89,
     "metadata": {},
     "output_type": "execute_result"
    }
   ],
   "source": [
    "value1 = input('Enter first number: ')\n",
    "value2 = input('Enter second number: ')\n",
    "\n",
    "value1 + value2"
   ]
  },
  {
   "cell_type": "code",
   "execution_count": null,
   "id": "28137aa1",
   "metadata": {
    "hidden": true
   },
   "outputs": [],
   "source": []
  },
  {
   "cell_type": "code",
   "execution_count": 90,
   "id": "e279a336",
   "metadata": {
    "hidden": true,
    "scrolled": true
   },
   "outputs": [
    {
     "name": "stdin",
     "output_type": "stream",
     "text": [
      "What is your name?  Khaled\n",
      "And what is your age? 25\n"
     ]
    },
    {
     "name": "stdout",
     "output_type": "stream",
     "text": [
      "Hi Khaled ,you are  25 years old\n"
     ]
    }
   ],
   "source": [
    "name = input('What is your name? ')\n",
    "age = input('And what is your age?')\n",
    "\n",
    "print ('Hi',name,',you are ',age, 'years old')"
   ]
  },
  {
   "cell_type": "code",
   "execution_count": null,
   "id": "a427c4a8",
   "metadata": {
    "hidden": true
   },
   "outputs": [],
   "source": []
  },
  {
   "cell_type": "markdown",
   "id": "ed59c8b1",
   "metadata": {
    "heading_collapsed": true,
    "hidden": true
   },
   "source": [
    "### Getting an Integer from the user and using `int()` function"
   ]
  },
  {
   "cell_type": "code",
   "execution_count": 93,
   "id": "1b470875",
   "metadata": {
    "hidden": true
   },
   "outputs": [
    {
     "name": "stdin",
     "output_type": "stream",
     "text": [
      "What is your name?  Khaled Ahmed\n",
      "And what is your year of birth? 1999\n"
     ]
    },
    {
     "ename": "TypeError",
     "evalue": "unsupported operand type(s) for -: 'int' and 'str'",
     "output_type": "error",
     "traceback": [
      "\u001b[1;31m---------------------------------------------------------------------------\u001b[0m",
      "\u001b[1;31mTypeError\u001b[0m                                 Traceback (most recent call last)",
      "Cell \u001b[1;32mIn[93], line 5\u001b[0m\n\u001b[0;32m      2\u001b[0m yob \u001b[38;5;241m=\u001b[39m \u001b[38;5;28minput\u001b[39m(\u001b[38;5;124m'\u001b[39m\u001b[38;5;124mAnd what is your year of birth?\u001b[39m\u001b[38;5;124m'\u001b[39m)\n\u001b[0;32m      3\u001b[0m \u001b[38;5;66;03m## input alwasy return string \u001b[39;00m\n\u001b[1;32m----> 5\u001b[0m age \u001b[38;5;241m=\u001b[39m \u001b[38;5;241m2024\u001b[39m \u001b[38;5;241m-\u001b[39m yob\n\u001b[0;32m      7\u001b[0m \u001b[38;5;28mprint\u001b[39m (\u001b[38;5;124m'\u001b[39m\u001b[38;5;124mHi\u001b[39m\u001b[38;5;124m'\u001b[39m,name,\u001b[38;5;124m'\u001b[39m\u001b[38;5;124m,you are \u001b[39m\u001b[38;5;124m'\u001b[39m,age, \u001b[38;5;124m'\u001b[39m\u001b[38;5;124myears old\u001b[39m\u001b[38;5;124m'\u001b[39m)\n",
      "\u001b[1;31mTypeError\u001b[0m: unsupported operand type(s) for -: 'int' and 'str'"
     ]
    }
   ],
   "source": [
    "name = input('What is your name? ')\n",
    "yob = input('And what is your year of birth?')\n",
    "## input alwasy return string \n",
    "\n",
    "age = 2024 - yob\n",
    "\n",
    "print ('Hi',name,',you are ',age, 'years old')"
   ]
  },
  {
   "cell_type": "code",
   "execution_count": 95,
   "id": "c96005e8",
   "metadata": {
    "hidden": true
   },
   "outputs": [
    {
     "name": "stdin",
     "output_type": "stream",
     "text": [
      "Enter an integer:  34\n"
     ]
    }
   ],
   "source": [
    "value = input('Enter an integer: ')"
   ]
  },
  {
   "cell_type": "code",
   "execution_count": 96,
   "id": "65408620",
   "metadata": {
    "hidden": true
   },
   "outputs": [
    {
     "data": {
      "text/plain": [
       "'34'"
      ]
     },
     "execution_count": 96,
     "metadata": {},
     "output_type": "execute_result"
    }
   ],
   "source": [
    "value"
   ]
  },
  {
   "cell_type": "code",
   "execution_count": 97,
   "id": "81bbe0c1",
   "metadata": {
    "hidden": true
   },
   "outputs": [],
   "source": [
    "value = int(value)"
   ]
  },
  {
   "cell_type": "code",
   "execution_count": 98,
   "id": "f977189a",
   "metadata": {
    "hidden": true
   },
   "outputs": [
    {
     "data": {
      "text/plain": [
       "34"
      ]
     },
     "execution_count": 98,
     "metadata": {},
     "output_type": "execute_result"
    }
   ],
   "source": [
    "value"
   ]
  },
  {
   "cell_type": "code",
   "execution_count": 99,
   "id": "981a2b34",
   "metadata": {
    "hidden": true
   },
   "outputs": [
    {
     "name": "stdin",
     "output_type": "stream",
     "text": [
      "Enter another integer:  45\n"
     ]
    }
   ],
   "source": [
    "another_value = int(input('Enter another integer: '))"
   ]
  },
  {
   "cell_type": "code",
   "execution_count": 100,
   "id": "544dd47d",
   "metadata": {
    "hidden": true
   },
   "outputs": [
    {
     "data": {
      "text/plain": [
       "45"
      ]
     },
     "execution_count": 100,
     "metadata": {},
     "output_type": "execute_result"
    }
   ],
   "source": [
    "another_value"
   ]
  },
  {
   "cell_type": "code",
   "execution_count": 101,
   "id": "49f656bb",
   "metadata": {
    "hidden": true
   },
   "outputs": [
    {
     "data": {
      "text/plain": [
       "79"
      ]
     },
     "execution_count": 101,
     "metadata": {},
     "output_type": "execute_result"
    }
   ],
   "source": [
    "value + another_value"
   ]
  },
  {
   "cell_type": "code",
   "execution_count": 102,
   "id": "f06578b9",
   "metadata": {
    "hidden": true
   },
   "outputs": [
    {
     "name": "stdin",
     "output_type": "stream",
     "text": [
      "Enter another integer:  3.5\n"
     ]
    },
    {
     "ename": "ValueError",
     "evalue": "invalid literal for int() with base 10: '3.5'",
     "output_type": "error",
     "traceback": [
      "\u001b[1;31m---------------------------------------------------------------------------\u001b[0m",
      "\u001b[1;31mValueError\u001b[0m                                Traceback (most recent call last)",
      "Cell \u001b[1;32mIn[102], line 1\u001b[0m\n\u001b[1;32m----> 1\u001b[0m bad_value \u001b[38;5;241m=\u001b[39m \u001b[38;5;28mint\u001b[39m(\u001b[38;5;28minput\u001b[39m(\u001b[38;5;124m'\u001b[39m\u001b[38;5;124mEnter another integer: \u001b[39m\u001b[38;5;124m'\u001b[39m))\n",
      "\u001b[1;31mValueError\u001b[0m: invalid literal for int() with base 10: '3.5'"
     ]
    }
   ],
   "source": [
    "bad_value = int(input('Enter another integer: '))"
   ]
  },
  {
   "cell_type": "code",
   "execution_count": 103,
   "id": "55bae1cc",
   "metadata": {
    "hidden": true,
    "scrolled": true
   },
   "outputs": [
    {
     "data": {
      "text/plain": [
       "10"
      ]
     },
     "execution_count": 103,
     "metadata": {},
     "output_type": "execute_result"
    }
   ],
   "source": [
    "int(10.5)"
   ]
  },
  {
   "cell_type": "code",
   "execution_count": null,
   "id": "ddce9988",
   "metadata": {
    "hidden": true
   },
   "outputs": [],
   "source": []
  },
  {
   "cell_type": "markdown",
   "id": "53e9f56e",
   "metadata": {
    "heading_collapsed": true,
    "hidden": true
   },
   "source": [
    "## Everything is an object"
   ]
  },
  {
   "cell_type": "markdown",
   "id": "0ac780c8",
   "metadata": {
    "heading_collapsed": true,
    "hidden": true
   },
   "source": [
    "### Using `type()` function"
   ]
  },
  {
   "cell_type": "code",
   "execution_count": 104,
   "id": "a9503a4f",
   "metadata": {
    "hidden": true
   },
   "outputs": [
    {
     "data": {
      "text/plain": [
       "int"
      ]
     },
     "execution_count": 104,
     "metadata": {},
     "output_type": "execute_result"
    }
   ],
   "source": [
    "type(7)"
   ]
  },
  {
   "cell_type": "code",
   "execution_count": 105,
   "id": "6dbf2fe2",
   "metadata": {
    "hidden": true
   },
   "outputs": [
    {
     "data": {
      "text/plain": [
       "float"
      ]
     },
     "execution_count": 105,
     "metadata": {},
     "output_type": "execute_result"
    }
   ],
   "source": [
    "type(10.4)"
   ]
  },
  {
   "cell_type": "code",
   "execution_count": 106,
   "id": "8373c15b",
   "metadata": {
    "hidden": true
   },
   "outputs": [
    {
     "data": {
      "text/plain": [
       "str"
      ]
     },
     "execution_count": 106,
     "metadata": {},
     "output_type": "execute_result"
    }
   ],
   "source": [
    "type('python')"
   ]
  },
  {
   "cell_type": "code",
   "execution_count": 107,
   "id": "cd6525c4",
   "metadata": {
    "hidden": true
   },
   "outputs": [
    {
     "data": {
      "text/plain": [
       "int"
      ]
     },
     "execution_count": 107,
     "metadata": {},
     "output_type": "execute_result"
    }
   ],
   "source": [
    "x = 7\n",
    "type(x)"
   ]
  },
  {
   "cell_type": "code",
   "execution_count": 108,
   "id": "3498280a",
   "metadata": {
    "hidden": true
   },
   "outputs": [
    {
     "data": {
      "text/plain": [
       "343"
      ]
     },
     "execution_count": 108,
     "metadata": {},
     "output_type": "execute_result"
    }
   ],
   "source": [
    "x ** 3"
   ]
  },
  {
   "cell_type": "code",
   "execution_count": 109,
   "id": "429e6a98",
   "metadata": {
    "hidden": true
   },
   "outputs": [
    {
     "data": {
      "text/plain": [
       "str"
      ]
     },
     "execution_count": 109,
     "metadata": {},
     "output_type": "execute_result"
    }
   ],
   "source": [
    "y = 'python'\n",
    "type(y)"
   ]
  },
  {
   "cell_type": "code",
   "execution_count": 110,
   "id": "7e17ec28",
   "metadata": {
    "hidden": true
   },
   "outputs": [
    {
     "ename": "TypeError",
     "evalue": "unsupported operand type(s) for ** or pow(): 'str' and 'int'",
     "output_type": "error",
     "traceback": [
      "\u001b[1;31m---------------------------------------------------------------------------\u001b[0m",
      "\u001b[1;31mTypeError\u001b[0m                                 Traceback (most recent call last)",
      "Cell \u001b[1;32mIn[110], line 1\u001b[0m\n\u001b[1;32m----> 1\u001b[0m y \u001b[38;5;241m*\u001b[39m\u001b[38;5;241m*\u001b[39m \u001b[38;5;241m2\u001b[39m\n",
      "\u001b[1;31mTypeError\u001b[0m: unsupported operand type(s) for ** or pow(): 'str' and 'int'"
     ]
    }
   ],
   "source": [
    "y ** 2"
   ]
  },
  {
   "cell_type": "code",
   "execution_count": 111,
   "id": "675f66e2",
   "metadata": {
    "hidden": true
   },
   "outputs": [
    {
     "data": {
      "text/plain": [
       "str"
      ]
     },
     "execution_count": 111,
     "metadata": {},
     "output_type": "execute_result"
    }
   ],
   "source": [
    "type(\"python\")"
   ]
  },
  {
   "cell_type": "code",
   "execution_count": 112,
   "id": "2b94f85a",
   "metadata": {
    "hidden": true
   },
   "outputs": [
    {
     "data": {
      "text/plain": [
       "str"
      ]
     },
     "execution_count": 112,
     "metadata": {},
     "output_type": "execute_result"
    }
   ],
   "source": [
    "type(\"\"\"python\"\"\")"
   ]
  },
  {
   "cell_type": "code",
   "execution_count": 113,
   "id": "fddf3797",
   "metadata": {
    "hidden": true
   },
   "outputs": [
    {
     "data": {
      "text/plain": [
       "str"
      ]
     },
     "execution_count": 113,
     "metadata": {},
     "output_type": "execute_result"
    }
   ],
   "source": [
    "type('''python''')"
   ]
  },
  {
   "cell_type": "code",
   "execution_count": 114,
   "id": "05789961",
   "metadata": {
    "hidden": true
   },
   "outputs": [],
   "source": [
    "x = 9"
   ]
  },
  {
   "cell_type": "code",
   "execution_count": 115,
   "id": "1d8a457f",
   "metadata": {
    "hidden": true
   },
   "outputs": [
    {
     "data": {
      "text/plain": [
       "int"
      ]
     },
     "execution_count": 115,
     "metadata": {},
     "output_type": "execute_result"
    }
   ],
   "source": [
    "type(x)"
   ]
  },
  {
   "cell_type": "code",
   "execution_count": 116,
   "id": "69bd7772",
   "metadata": {
    "hidden": true
   },
   "outputs": [],
   "source": [
    "some_text = 'This is a text'"
   ]
  },
  {
   "cell_type": "code",
   "execution_count": 117,
   "id": "c254d418",
   "metadata": {
    "hidden": true
   },
   "outputs": [
    {
     "data": {
      "text/plain": [
       "str"
      ]
     },
     "execution_count": 117,
     "metadata": {},
     "output_type": "execute_result"
    }
   ],
   "source": [
    "type(some_text)"
   ]
  },
  {
   "cell_type": "markdown",
   "id": "61854981",
   "metadata": {
    "heading_collapsed": true,
    "hidden": true
   },
   "source": [
    "### Dynamic Typing"
   ]
  },
  {
   "cell_type": "code",
   "execution_count": 118,
   "id": "83687cd4",
   "metadata": {
    "hidden": true
   },
   "outputs": [
    {
     "data": {
      "text/plain": [
       "int"
      ]
     },
     "execution_count": 118,
     "metadata": {},
     "output_type": "execute_result"
    }
   ],
   "source": [
    "type(x)"
   ]
  },
  {
   "cell_type": "code",
   "execution_count": 119,
   "id": "76b6ea35",
   "metadata": {
    "hidden": true
   },
   "outputs": [],
   "source": [
    "x = 4.1"
   ]
  },
  {
   "cell_type": "code",
   "execution_count": 120,
   "id": "79086e8b",
   "metadata": {
    "hidden": true
   },
   "outputs": [
    {
     "data": {
      "text/plain": [
       "float"
      ]
     },
     "execution_count": 120,
     "metadata": {},
     "output_type": "execute_result"
    }
   ],
   "source": [
    "type(x)"
   ]
  },
  {
   "cell_type": "code",
   "execution_count": 121,
   "id": "95af68b8",
   "metadata": {
    "hidden": true
   },
   "outputs": [],
   "source": [
    "x = 'dog'"
   ]
  },
  {
   "cell_type": "code",
   "execution_count": 122,
   "id": "afc18c37",
   "metadata": {
    "hidden": true
   },
   "outputs": [
    {
     "data": {
      "text/plain": [
       "str"
      ]
     },
     "execution_count": 122,
     "metadata": {},
     "output_type": "execute_result"
    }
   ],
   "source": [
    "type(x)"
   ]
  },
  {
   "cell_type": "code",
   "execution_count": 123,
   "id": "3fb369d8",
   "metadata": {
    "hidden": true
   },
   "outputs": [],
   "source": [
    "x: int = 79   "
   ]
  },
  {
   "cell_type": "code",
   "execution_count": 124,
   "id": "12c9392c",
   "metadata": {
    "hidden": true,
    "scrolled": true
   },
   "outputs": [
    {
     "data": {
      "text/plain": [
       "79"
      ]
     },
     "execution_count": 124,
     "metadata": {},
     "output_type": "execute_result"
    }
   ],
   "source": [
    "x "
   ]
  },
  {
   "cell_type": "code",
   "execution_count": 125,
   "id": "9b7cafe6",
   "metadata": {
    "hidden": true
   },
   "outputs": [
    {
     "data": {
      "text/plain": [
       "int"
      ]
     },
     "execution_count": 125,
     "metadata": {},
     "output_type": "execute_result"
    }
   ],
   "source": [
    "type(x)"
   ]
  },
  {
   "cell_type": "code",
   "execution_count": 126,
   "id": "3fad4f11",
   "metadata": {
    "hidden": true
   },
   "outputs": [],
   "source": [
    "x = 'a'"
   ]
  },
  {
   "cell_type": "code",
   "execution_count": 127,
   "id": "70967517",
   "metadata": {
    "hidden": true
   },
   "outputs": [
    {
     "data": {
      "text/plain": [
       "int"
      ]
     },
     "execution_count": 127,
     "metadata": {},
     "output_type": "execute_result"
    }
   ],
   "source": [
    "y = 29\n",
    "type(y)"
   ]
  },
  {
   "cell_type": "code",
   "execution_count": 128,
   "id": "05d8270b",
   "metadata": {
    "hidden": true
   },
   "outputs": [
    {
     "data": {
      "text/plain": [
       "float"
      ]
     },
     "execution_count": 128,
     "metadata": {},
     "output_type": "execute_result"
    }
   ],
   "source": [
    "type(29.5)"
   ]
  },
  {
   "cell_type": "code",
   "execution_count": null,
   "id": "930b44a9",
   "metadata": {
    "hidden": true
   },
   "outputs": [],
   "source": []
  },
  {
   "cell_type": "code",
   "execution_count": null,
   "id": "60804b60",
   "metadata": {
    "hidden": true
   },
   "outputs": [],
   "source": []
  },
  {
   "cell_type": "markdown",
   "id": "6b8c76d6",
   "metadata": {
    "heading_collapsed": true,
    "hidden": true
   },
   "source": [
    "### String and Numbers as Objects"
   ]
  },
  {
   "cell_type": "markdown",
   "id": "c940651c",
   "metadata": {
    "heading_collapsed": true,
    "hidden": true
   },
   "source": [
    "#### Strings as objects"
   ]
  },
  {
   "cell_type": "code",
   "execution_count": 129,
   "id": "e597018c",
   "metadata": {
    "hidden": true
   },
   "outputs": [
    {
     "name": "stdout",
     "output_type": "stream",
     "text": [
      "Ada Lovelace\n"
     ]
    }
   ],
   "source": [
    "name = \"ada lovelace\"\n",
    "print(name.title()) # title() is called a method\n"
   ]
  },
  {
   "cell_type": "code",
   "execution_count": 130,
   "id": "799e48b5",
   "metadata": {
    "hidden": true
   },
   "outputs": [
    {
     "name": "stdout",
     "output_type": "stream",
     "text": [
      "ADA LOVELACE\n",
      "ada lovelace\n"
     ]
    }
   ],
   "source": [
    "name = \"Ada Lovelace\"\n",
    "print(name.upper())\n",
    "print(name.lower())"
   ]
  },
  {
   "cell_type": "code",
   "execution_count": 135,
   "id": "1a31768d",
   "metadata": {
    "hidden": true
   },
   "outputs": [
    {
     "name": "stdout",
     "output_type": "stream",
     "text": [
      "Ada Lovelace\n",
      "ada lovelace\n"
     ]
    }
   ],
   "source": [
    "name = \"ada lovelace\"\n",
    "print(name.title())\n",
    "first_name = \"ada\"\n",
    "last_name = \"lovelace\"\n",
    "full_name = first_name + \" \" + last_name\n",
    "print(full_name)"
   ]
  },
  {
   "cell_type": "code",
   "execution_count": 132,
   "id": "438fa12e",
   "metadata": {
    "hidden": true
   },
   "outputs": [
    {
     "name": "stdout",
     "output_type": "stream",
     "text": [
      "Hello, Ada Lovelace!\n"
     ]
    }
   ],
   "source": [
    "first_name = \"ada\"\n",
    "last_name = \"lovelace\"\n",
    "full_name = first_name + \" \" + last_name\n",
    "\n",
    "print(\"Hello, \" + full_name.title() + \"!\")"
   ]
  },
  {
   "cell_type": "code",
   "execution_count": 133,
   "id": "2e17ae04",
   "metadata": {
    "hidden": true
   },
   "outputs": [
    {
     "data": {
      "text/plain": [
       "'PYTHON'"
      ]
     },
     "execution_count": 133,
     "metadata": {},
     "output_type": "execute_result"
    }
   ],
   "source": [
    "'python'.upper()"
   ]
  },
  {
   "cell_type": "code",
   "execution_count": 136,
   "id": "0947f5aa",
   "metadata": {
    "hidden": true
   },
   "outputs": [
    {
     "name": "stdout",
     "output_type": "stream",
     "text": [
      "Hello, Ada Lovelace!\n"
     ]
    }
   ],
   "source": [
    "first_name = \"ada\"\n",
    "last_name = \"lovelace\"\n",
    "full_name = first_name + \" \" + last_name\n",
    "\n",
    "message = \"Hello, \" + full_name.title() + \"!\"\n",
    "\n",
    "print(message)"
   ]
  },
  {
   "cell_type": "code",
   "execution_count": 137,
   "id": "b47fbf62",
   "metadata": {
    "hidden": true
   },
   "outputs": [
    {
     "data": {
      "text/plain": [
       "'python '"
      ]
     },
     "execution_count": 137,
     "metadata": {},
     "output_type": "execute_result"
    }
   ],
   "source": [
    "favorite_language = 'python '\n",
    "favorite_language"
   ]
  },
  {
   "cell_type": "code",
   "execution_count": 138,
   "id": "f579a8a0",
   "metadata": {
    "hidden": true
   },
   "outputs": [
    {
     "data": {
      "text/plain": [
       "'python'"
      ]
     },
     "execution_count": 138,
     "metadata": {},
     "output_type": "execute_result"
    }
   ],
   "source": [
    "favorite_language.rstrip()"
   ]
  },
  {
   "cell_type": "code",
   "execution_count": 139,
   "id": "5bba062d",
   "metadata": {
    "hidden": true
   },
   "outputs": [
    {
     "data": {
      "text/plain": [
       "'python'"
      ]
     },
     "execution_count": 139,
     "metadata": {},
     "output_type": "execute_result"
    }
   ],
   "source": [
    "favorite_language = 'python '\n",
    "favorite_language = favorite_language.rstrip()\n",
    "favorite_language"
   ]
  },
  {
   "cell_type": "code",
   "execution_count": 140,
   "id": "2558282c",
   "metadata": {
    "hidden": true
   },
   "outputs": [],
   "source": [
    "favorite_language = ' python '"
   ]
  },
  {
   "cell_type": "code",
   "execution_count": 141,
   "id": "83e33d1e",
   "metadata": {
    "hidden": true
   },
   "outputs": [
    {
     "data": {
      "text/plain": [
       "'python'"
      ]
     },
     "execution_count": 141,
     "metadata": {},
     "output_type": "execute_result"
    }
   ],
   "source": [
    "favorite_language.strip()"
   ]
  },
  {
   "cell_type": "code",
   "execution_count": 142,
   "id": "b90409a2",
   "metadata": {
    "hidden": true
   },
   "outputs": [
    {
     "ename": "TypeError",
     "evalue": "can only concatenate str (not \"int\") to str",
     "output_type": "error",
     "traceback": [
      "\u001b[1;31m---------------------------------------------------------------------------\u001b[0m",
      "\u001b[1;31mTypeError\u001b[0m                                 Traceback (most recent call last)",
      "Cell \u001b[1;32mIn[142], line 2\u001b[0m\n\u001b[0;32m      1\u001b[0m age \u001b[38;5;241m=\u001b[39m \u001b[38;5;241m23\u001b[39m\n\u001b[1;32m----> 2\u001b[0m message \u001b[38;5;241m=\u001b[39m \u001b[38;5;124m\"\u001b[39m\u001b[38;5;124mHappy \u001b[39m\u001b[38;5;124m\"\u001b[39m \u001b[38;5;241m+\u001b[39m age \u001b[38;5;241m+\u001b[39m \u001b[38;5;124m\"\u001b[39m\u001b[38;5;124mrd Birthday!\u001b[39m\u001b[38;5;124m\"\u001b[39m\n\u001b[0;32m      3\u001b[0m \u001b[38;5;28mprint\u001b[39m(message)\n",
      "\u001b[1;31mTypeError\u001b[0m: can only concatenate str (not \"int\") to str"
     ]
    }
   ],
   "source": [
    "age = 23\n",
    "message = \"Happy \" + age + \"rd Birthday!\"\n",
    "print(message)"
   ]
  },
  {
   "cell_type": "code",
   "execution_count": 143,
   "id": "6ae43e58",
   "metadata": {
    "hidden": true
   },
   "outputs": [
    {
     "name": "stdout",
     "output_type": "stream",
     "text": [
      "Happy 23rd Birthday!\n"
     ]
    }
   ],
   "source": [
    "age = 23\n",
    "message = \"Happy \" + str(age) + \"rd Birthday!\"\n",
    "\n",
    "print(message)"
   ]
  },
  {
   "cell_type": "markdown",
   "id": "07124713",
   "metadata": {
    "heading_collapsed": true,
    "hidden": true
   },
   "source": [
    "#### Numbers as objects"
   ]
  },
  {
   "cell_type": "code",
   "execution_count": 144,
   "id": "51588a05",
   "metadata": {
    "hidden": true
   },
   "outputs": [],
   "source": [
    "x = 109"
   ]
  },
  {
   "cell_type": "code",
   "execution_count": 145,
   "id": "c03d5eaf",
   "metadata": {
    "hidden": true
   },
   "outputs": [
    {
     "data": {
      "text/plain": [
       "7"
      ]
     },
     "execution_count": 145,
     "metadata": {},
     "output_type": "execute_result"
    }
   ],
   "source": [
    "x.bit_length()"
   ]
  },
  {
   "cell_type": "code",
   "execution_count": 146,
   "id": "997c350c",
   "metadata": {
    "hidden": true
   },
   "outputs": [
    {
     "data": {
      "text/plain": [
       "'0b1101101'"
      ]
     },
     "execution_count": 146,
     "metadata": {},
     "output_type": "execute_result"
    }
   ],
   "source": [
    "bin(x)"
   ]
  },
  {
   "cell_type": "code",
   "execution_count": 150,
   "id": "68f934d1",
   "metadata": {
    "hidden": true
   },
   "outputs": [
    {
     "data": {
      "text/plain": [
       "(109, 1)"
      ]
     },
     "execution_count": 150,
     "metadata": {},
     "output_type": "execute_result"
    }
   ],
   "source": [
    "x.as_integer_ratio()"
   ]
  },
  {
   "cell_type": "code",
   "execution_count": 151,
   "id": "82aa2c5a",
   "metadata": {
    "hidden": true
   },
   "outputs": [],
   "source": [
    "y = 39.02"
   ]
  },
  {
   "cell_type": "code",
   "execution_count": 152,
   "id": "dd33ed7b",
   "metadata": {
    "hidden": true
   },
   "outputs": [
    {
     "data": {
      "text/plain": [
       "(5491576795624899, 140737488355328)"
      ]
     },
     "execution_count": 152,
     "metadata": {},
     "output_type": "execute_result"
    }
   ],
   "source": [
    "y.as_integer_ratio()  #  ادينى رقمين لو اتقسمه هيدينى الرقم ده"
   ]
  },
  {
   "cell_type": "code",
   "execution_count": 153,
   "id": "58f1974a",
   "metadata": {
    "hidden": true
   },
   "outputs": [
    {
     "data": {
      "text/plain": [
       "109.0"
      ]
     },
     "execution_count": 153,
     "metadata": {},
     "output_type": "execute_result"
    }
   ],
   "source": [
    "float(x) # int() "
   ]
  },
  {
   "cell_type": "code",
   "execution_count": 157,
   "id": "cb559791",
   "metadata": {
    "hidden": true
   },
   "outputs": [
    {
     "name": "stdout",
     "output_type": "stream",
     "text": [
      "1700.0\n"
     ]
    },
    {
     "data": {
      "text/plain": [
       "11"
      ]
     },
     "execution_count": 157,
     "metadata": {},
     "output_type": "execute_result"
    }
   ],
   "source": [
    "z = 1.7e3  ## e3  يعنى عشرة اوس تلاته \n",
    "print(z) \n",
    "int(z).bit_length()"
   ]
  },
  {
   "cell_type": "code",
   "execution_count": 158,
   "id": "f2f4d60b",
   "metadata": {
    "hidden": true,
    "scrolled": true
   },
   "outputs": [
    {
     "data": {
      "text/plain": [
       "'0b11010100100'"
      ]
     },
     "execution_count": 158,
     "metadata": {},
     "output_type": "execute_result"
    }
   ],
   "source": [
    "bin(int(z))"
   ]
  },
  {
   "cell_type": "code",
   "execution_count": 159,
   "id": "e335004d",
   "metadata": {
    "hidden": true
   },
   "outputs": [
    {
     "data": {
      "text/plain": [
       "'0b11111111'"
      ]
     },
     "execution_count": 159,
     "metadata": {},
     "output_type": "execute_result"
    }
   ],
   "source": [
    "bin(255)"
   ]
  },
  {
   "cell_type": "markdown",
   "id": "0461cecb",
   "metadata": {
    "heading_collapsed": true,
    "hidden": true
   },
   "source": [
    "#### Using `dir()` function to display possible attributes"
   ]
  },
  {
   "cell_type": "code",
   "execution_count": 161,
   "id": "ffc5c910",
   "metadata": {
    "hidden": true
   },
   "outputs": [
    {
     "data": {
      "text/plain": [
       "['__add__',\n",
       " '__class__',\n",
       " '__contains__',\n",
       " '__delattr__',\n",
       " '__dir__',\n",
       " '__doc__',\n",
       " '__eq__',\n",
       " '__format__',\n",
       " '__ge__',\n",
       " '__getattribute__',\n",
       " '__getitem__',\n",
       " '__getnewargs__',\n",
       " '__getstate__',\n",
       " '__gt__',\n",
       " '__hash__',\n",
       " '__init__',\n",
       " '__init_subclass__',\n",
       " '__iter__',\n",
       " '__le__',\n",
       " '__len__',\n",
       " '__lt__',\n",
       " '__mod__',\n",
       " '__mul__',\n",
       " '__ne__',\n",
       " '__new__',\n",
       " '__reduce__',\n",
       " '__reduce_ex__',\n",
       " '__repr__',\n",
       " '__rmod__',\n",
       " '__rmul__',\n",
       " '__setattr__',\n",
       " '__sizeof__',\n",
       " '__str__',\n",
       " '__subclasshook__',\n",
       " 'capitalize',\n",
       " 'casefold',\n",
       " 'center',\n",
       " 'count',\n",
       " 'encode',\n",
       " 'endswith',\n",
       " 'expandtabs',\n",
       " 'find',\n",
       " 'format',\n",
       " 'format_map',\n",
       " 'index',\n",
       " 'isalnum',\n",
       " 'isalpha',\n",
       " 'isascii',\n",
       " 'isdecimal',\n",
       " 'isdigit',\n",
       " 'isidentifier',\n",
       " 'islower',\n",
       " 'isnumeric',\n",
       " 'isprintable',\n",
       " 'isspace',\n",
       " 'istitle',\n",
       " 'isupper',\n",
       " 'join',\n",
       " 'ljust',\n",
       " 'lower',\n",
       " 'lstrip',\n",
       " 'maketrans',\n",
       " 'partition',\n",
       " 'removeprefix',\n",
       " 'removesuffix',\n",
       " 'replace',\n",
       " 'rfind',\n",
       " 'rindex',\n",
       " 'rjust',\n",
       " 'rpartition',\n",
       " 'rsplit',\n",
       " 'rstrip',\n",
       " 'split',\n",
       " 'splitlines',\n",
       " 'startswith',\n",
       " 'strip',\n",
       " 'swapcase',\n",
       " 'title',\n",
       " 'translate',\n",
       " 'upper',\n",
       " 'zfill']"
      ]
     },
     "execution_count": 161,
     "metadata": {},
     "output_type": "execute_result"
    }
   ],
   "source": [
    "name = 'Michael'\n",
    "\n",
    "dir(name)  ## display all method you could use in name"
   ]
  },
  {
   "cell_type": "code",
   "execution_count": 162,
   "id": "ade559c0",
   "metadata": {
    "hidden": true
   },
   "outputs": [
    {
     "data": {
      "text/plain": [
       "['__abs__',\n",
       " '__add__',\n",
       " '__and__',\n",
       " '__bool__',\n",
       " '__ceil__',\n",
       " '__class__',\n",
       " '__delattr__',\n",
       " '__dir__',\n",
       " '__divmod__',\n",
       " '__doc__',\n",
       " '__eq__',\n",
       " '__float__',\n",
       " '__floor__',\n",
       " '__floordiv__',\n",
       " '__format__',\n",
       " '__ge__',\n",
       " '__getattribute__',\n",
       " '__getnewargs__',\n",
       " '__getstate__',\n",
       " '__gt__',\n",
       " '__hash__',\n",
       " '__index__',\n",
       " '__init__',\n",
       " '__init_subclass__',\n",
       " '__int__',\n",
       " '__invert__',\n",
       " '__le__',\n",
       " '__lshift__',\n",
       " '__lt__',\n",
       " '__mod__',\n",
       " '__mul__',\n",
       " '__ne__',\n",
       " '__neg__',\n",
       " '__new__',\n",
       " '__or__',\n",
       " '__pos__',\n",
       " '__pow__',\n",
       " '__radd__',\n",
       " '__rand__',\n",
       " '__rdivmod__',\n",
       " '__reduce__',\n",
       " '__reduce_ex__',\n",
       " '__repr__',\n",
       " '__rfloordiv__',\n",
       " '__rlshift__',\n",
       " '__rmod__',\n",
       " '__rmul__',\n",
       " '__ror__',\n",
       " '__round__',\n",
       " '__rpow__',\n",
       " '__rrshift__',\n",
       " '__rshift__',\n",
       " '__rsub__',\n",
       " '__rtruediv__',\n",
       " '__rxor__',\n",
       " '__setattr__',\n",
       " '__sizeof__',\n",
       " '__str__',\n",
       " '__sub__',\n",
       " '__subclasshook__',\n",
       " '__truediv__',\n",
       " '__trunc__',\n",
       " '__xor__',\n",
       " 'as_integer_ratio',\n",
       " 'bit_count',\n",
       " 'bit_length',\n",
       " 'conjugate',\n",
       " 'denominator',\n",
       " 'from_bytes',\n",
       " 'imag',\n",
       " 'numerator',\n",
       " 'real',\n",
       " 'to_bytes']"
      ]
     },
     "execution_count": 162,
     "metadata": {},
     "output_type": "execute_result"
    }
   ],
   "source": [
    "age = 45\n",
    "dir(age)"
   ]
  },
  {
   "cell_type": "code",
   "execution_count": null,
   "id": "2ed47ac8",
   "metadata": {
    "hidden": true
   },
   "outputs": [],
   "source": []
  },
  {
   "cell_type": "markdown",
   "id": "a0c66992",
   "metadata": {
    "heading_collapsed": true,
    "hidden": true
   },
   "source": [
    "## Boolean"
   ]
  },
  {
   "cell_type": "markdown",
   "id": "9f864e8d",
   "metadata": {
    "heading_collapsed": true,
    "hidden": true
   },
   "source": [
    "### True or False"
   ]
  },
  {
   "cell_type": "code",
   "execution_count": 163,
   "id": "bc020900",
   "metadata": {
    "hidden": true
   },
   "outputs": [
    {
     "data": {
      "text/plain": [
       "bool"
      ]
     },
     "execution_count": 163,
     "metadata": {},
     "output_type": "execute_result"
    }
   ],
   "source": [
    "type(True)"
   ]
  },
  {
   "cell_type": "code",
   "execution_count": 164,
   "id": "57880a11",
   "metadata": {
    "hidden": true
   },
   "outputs": [
    {
     "data": {
      "text/plain": [
       "bool"
      ]
     },
     "execution_count": 164,
     "metadata": {},
     "output_type": "execute_result"
    }
   ],
   "source": [
    "type(False)"
   ]
  },
  {
   "cell_type": "code",
   "execution_count": 165,
   "id": "4b6d81bb",
   "metadata": {
    "hidden": true
   },
   "outputs": [
    {
     "data": {
      "text/plain": [
       "True"
      ]
     },
     "execution_count": 165,
     "metadata": {},
     "output_type": "execute_result"
    }
   ],
   "source": [
    "True"
   ]
  },
  {
   "cell_type": "code",
   "execution_count": 166,
   "id": "f46efb57",
   "metadata": {
    "hidden": true
   },
   "outputs": [
    {
     "data": {
      "text/plain": [
       "False"
      ]
     },
     "execution_count": 166,
     "metadata": {},
     "output_type": "execute_result"
    }
   ],
   "source": [
    "False"
   ]
  },
  {
   "cell_type": "code",
   "execution_count": 167,
   "id": "dd3f34a8",
   "metadata": {
    "hidden": true
   },
   "outputs": [
    {
     "ename": "NameError",
     "evalue": "name 'true' is not defined",
     "output_type": "error",
     "traceback": [
      "\u001b[1;31m---------------------------------------------------------------------------\u001b[0m",
      "\u001b[1;31mNameError\u001b[0m                                 Traceback (most recent call last)",
      "Cell \u001b[1;32mIn[167], line 1\u001b[0m\n\u001b[1;32m----> 1\u001b[0m true\n",
      "\u001b[1;31mNameError\u001b[0m: name 'true' is not defined"
     ]
    }
   ],
   "source": [
    "true"
   ]
  },
  {
   "cell_type": "code",
   "execution_count": 168,
   "id": "cd403514",
   "metadata": {
    "hidden": true
   },
   "outputs": [
    {
     "ename": "NameError",
     "evalue": "name 'false' is not defined",
     "output_type": "error",
     "traceback": [
      "\u001b[1;31m---------------------------------------------------------------------------\u001b[0m",
      "\u001b[1;31mNameError\u001b[0m                                 Traceback (most recent call last)",
      "Cell \u001b[1;32mIn[168], line 1\u001b[0m\n\u001b[1;32m----> 1\u001b[0m false\n",
      "\u001b[1;31mNameError\u001b[0m: name 'false' is not defined"
     ]
    }
   ],
   "source": [
    "false"
   ]
  },
  {
   "cell_type": "code",
   "execution_count": 169,
   "id": "6bb6ae6b",
   "metadata": {
    "hidden": true
   },
   "outputs": [
    {
     "data": {
      "text/plain": [
       "True"
      ]
     },
     "execution_count": 169,
     "metadata": {},
     "output_type": "execute_result"
    }
   ],
   "source": [
    "True and True"
   ]
  },
  {
   "cell_type": "code",
   "execution_count": 170,
   "id": "28c7e0f9",
   "metadata": {
    "hidden": true
   },
   "outputs": [
    {
     "data": {
      "text/plain": [
       "True"
      ]
     },
     "execution_count": 170,
     "metadata": {},
     "output_type": "execute_result"
    }
   ],
   "source": [
    "True or True"
   ]
  },
  {
   "cell_type": "code",
   "execution_count": 171,
   "id": "0d230ebc",
   "metadata": {
    "hidden": true
   },
   "outputs": [
    {
     "data": {
      "text/plain": [
       "False"
      ]
     },
     "execution_count": 171,
     "metadata": {},
     "output_type": "execute_result"
    }
   ],
   "source": [
    "False and False"
   ]
  },
  {
   "cell_type": "code",
   "execution_count": 172,
   "id": "66f61e6a",
   "metadata": {
    "hidden": true,
    "scrolled": true
   },
   "outputs": [
    {
     "data": {
      "text/plain": [
       "False"
      ]
     },
     "execution_count": 172,
     "metadata": {},
     "output_type": "execute_result"
    }
   ],
   "source": [
    "False or False"
   ]
  },
  {
   "cell_type": "code",
   "execution_count": 173,
   "id": "80073521",
   "metadata": {
    "hidden": true
   },
   "outputs": [
    {
     "data": {
      "text/plain": [
       "False"
      ]
     },
     "execution_count": 173,
     "metadata": {},
     "output_type": "execute_result"
    }
   ],
   "source": [
    "True and False"
   ]
  },
  {
   "cell_type": "code",
   "execution_count": 174,
   "id": "0d413d72",
   "metadata": {
    "hidden": true
   },
   "outputs": [
    {
     "data": {
      "text/plain": [
       "True"
      ]
     },
     "execution_count": 174,
     "metadata": {},
     "output_type": "execute_result"
    }
   ],
   "source": [
    "True or False"
   ]
  },
  {
   "cell_type": "markdown",
   "id": "fe456958",
   "metadata": {
    "heading_collapsed": true,
    "hidden": true
   },
   "source": [
    "### Comparison Operators"
   ]
  },
  {
   "cell_type": "markdown",
   "id": "4baf87d7",
   "metadata": {
    "hidden": true
   },
   "source": [
    "<img src=\"./images/4.png\" alt=\"drawing\" width=\"400\" align=\"center\"/>\n"
   ]
  },
  {
   "cell_type": "code",
   "execution_count": 175,
   "id": "bb0ec0fa",
   "metadata": {
    "hidden": true
   },
   "outputs": [
    {
     "data": {
      "text/plain": [
       "False"
      ]
     },
     "execution_count": 175,
     "metadata": {},
     "output_type": "execute_result"
    }
   ],
   "source": [
    "1 == 2"
   ]
  },
  {
   "cell_type": "code",
   "execution_count": 176,
   "id": "917a5c68",
   "metadata": {
    "hidden": true
   },
   "outputs": [
    {
     "data": {
      "text/plain": [
       "True"
      ]
     },
     "execution_count": 176,
     "metadata": {},
     "output_type": "execute_result"
    }
   ],
   "source": [
    "4 > 2"
   ]
  },
  {
   "cell_type": "code",
   "execution_count": 177,
   "id": "f1714859",
   "metadata": {
    "hidden": true
   },
   "outputs": [
    {
     "data": {
      "text/plain": [
       "True"
      ]
     },
     "execution_count": 177,
     "metadata": {},
     "output_type": "execute_result"
    }
   ],
   "source": [
    "not 1 == 2"
   ]
  },
  {
   "cell_type": "code",
   "execution_count": 178,
   "id": "f457e3fb",
   "metadata": {
    "hidden": true
   },
   "outputs": [
    {
     "data": {
      "text/plain": [
       "True"
      ]
     },
     "execution_count": 178,
     "metadata": {},
     "output_type": "execute_result"
    }
   ],
   "source": [
    "12 != 18"
   ]
  },
  {
   "cell_type": "code",
   "execution_count": 179,
   "id": "d4c2a40b",
   "metadata": {
    "hidden": true
   },
   "outputs": [
    {
     "data": {
      "text/plain": [
       "bool"
      ]
     },
     "execution_count": 179,
     "metadata": {},
     "output_type": "execute_result"
    }
   ],
   "source": [
    "type (not 89 < 100)"
   ]
  },
  {
   "cell_type": "markdown",
   "id": "f518b7a0",
   "metadata": {
    "heading_collapsed": true,
    "hidden": true
   },
   "source": [
    "### Chaining comparison operators"
   ]
  },
  {
   "cell_type": "code",
   "execution_count": 180,
   "id": "8b1fb09c",
   "metadata": {
    "hidden": true
   },
   "outputs": [],
   "source": [
    "x = 6"
   ]
  },
  {
   "cell_type": "code",
   "execution_count": 181,
   "id": "e2015753",
   "metadata": {
    "hidden": true
   },
   "outputs": [
    {
     "data": {
      "text/plain": [
       "False"
      ]
     },
     "execution_count": 181,
     "metadata": {},
     "output_type": "execute_result"
    }
   ],
   "source": [
    "1 <= x <= 5"
   ]
  },
  {
   "cell_type": "markdown",
   "id": "64143e54",
   "metadata": {
    "heading_collapsed": true,
    "hidden": true
   },
   "source": [
    "### 0 is False, any other number is True"
   ]
  },
  {
   "cell_type": "code",
   "execution_count": 182,
   "id": "74989541",
   "metadata": {
    "hidden": true
   },
   "outputs": [
    {
     "data": {
      "text/plain": [
       "True"
      ]
     },
     "execution_count": 182,
     "metadata": {},
     "output_type": "execute_result"
    }
   ],
   "source": [
    "bool(9892.3)"
   ]
  },
  {
   "cell_type": "code",
   "execution_count": 183,
   "id": "d319c9ce",
   "metadata": {
    "hidden": true
   },
   "outputs": [
    {
     "data": {
      "text/plain": [
       "True"
      ]
     },
     "execution_count": 183,
     "metadata": {},
     "output_type": "execute_result"
    }
   ],
   "source": [
    "bool(-209)"
   ]
  },
  {
   "cell_type": "code",
   "execution_count": 184,
   "id": "2c90cd68",
   "metadata": {
    "hidden": true
   },
   "outputs": [
    {
     "data": {
      "text/plain": [
       "False"
      ]
     },
     "execution_count": 184,
     "metadata": {},
     "output_type": "execute_result"
    }
   ],
   "source": [
    "bool(0)"
   ]
  },
  {
   "cell_type": "markdown",
   "id": "f9ec811f",
   "metadata": {
    "heading_collapsed": true,
    "hidden": true
   },
   "source": [
    "### Empty string is False, any other string is True"
   ]
  },
  {
   "cell_type": "code",
   "execution_count": 185,
   "id": "dfe9553d",
   "metadata": {
    "hidden": true
   },
   "outputs": [
    {
     "data": {
      "text/plain": [
       "True"
      ]
     },
     "execution_count": 185,
     "metadata": {},
     "output_type": "execute_result"
    }
   ],
   "source": [
    "bool(\"Hello\")"
   ]
  },
  {
   "cell_type": "code",
   "execution_count": 186,
   "id": "69a48770",
   "metadata": {
    "hidden": true
   },
   "outputs": [
    {
     "data": {
      "text/plain": [
       "True"
      ]
     },
     "execution_count": 186,
     "metadata": {},
     "output_type": "execute_result"
    }
   ],
   "source": [
    "bool(\" \")"
   ]
  },
  {
   "cell_type": "code",
   "execution_count": 187,
   "id": "2f9b188a",
   "metadata": {
    "hidden": true
   },
   "outputs": [
    {
     "data": {
      "text/plain": [
       "False"
      ]
     },
     "execution_count": 187,
     "metadata": {},
     "output_type": "execute_result"
    }
   ],
   "source": [
    "bool(\"\")"
   ]
  },
  {
   "cell_type": "markdown",
   "id": "1763da05",
   "metadata": {
    "heading_collapsed": true,
    "hidden": true
   },
   "source": [
    "### converting to and from boolean"
   ]
  },
  {
   "cell_type": "code",
   "execution_count": 188,
   "id": "61eb61c6",
   "metadata": {
    "hidden": true
   },
   "outputs": [
    {
     "data": {
      "text/plain": [
       "'True'"
      ]
     },
     "execution_count": 188,
     "metadata": {},
     "output_type": "execute_result"
    }
   ],
   "source": [
    "str(True)"
   ]
  },
  {
   "cell_type": "code",
   "execution_count": 189,
   "id": "d76426f6",
   "metadata": {
    "hidden": true
   },
   "outputs": [
    {
     "data": {
      "text/plain": [
       "'False'"
      ]
     },
     "execution_count": 189,
     "metadata": {},
     "output_type": "execute_result"
    }
   ],
   "source": [
    "str(False)"
   ]
  },
  {
   "cell_type": "code",
   "execution_count": 190,
   "id": "4f905a7a",
   "metadata": {
    "hidden": true
   },
   "outputs": [
    {
     "data": {
      "text/plain": [
       "1"
      ]
     },
     "execution_count": 190,
     "metadata": {},
     "output_type": "execute_result"
    }
   ],
   "source": [
    "int(True)"
   ]
  },
  {
   "cell_type": "code",
   "execution_count": 191,
   "id": "c565b559",
   "metadata": {
    "hidden": true
   },
   "outputs": [
    {
     "data": {
      "text/plain": [
       "0"
      ]
     },
     "execution_count": 191,
     "metadata": {},
     "output_type": "execute_result"
    }
   ],
   "source": [
    "int(False)"
   ]
  },
  {
   "cell_type": "code",
   "execution_count": 192,
   "id": "f0144559",
   "metadata": {
    "hidden": true
   },
   "outputs": [
    {
     "data": {
      "text/plain": [
       "6"
      ]
     },
     "execution_count": 192,
     "metadata": {},
     "output_type": "execute_result"
    }
   ],
   "source": [
    "5 + True"
   ]
  },
  {
   "cell_type": "code",
   "execution_count": 193,
   "id": "4cefefc6",
   "metadata": {
    "hidden": true
   },
   "outputs": [
    {
     "data": {
      "text/plain": [
       "0"
      ]
     },
     "execution_count": 193,
     "metadata": {},
     "output_type": "execute_result"
    }
   ],
   "source": [
    "13 * False"
   ]
  },
  {
   "cell_type": "code",
   "execution_count": 195,
   "id": "c0f2195c",
   "metadata": {
    "hidden": true
   },
   "outputs": [
    {
     "data": {
      "text/plain": [
       "'pythonpython'"
      ]
     },
     "execution_count": 195,
     "metadata": {},
     "output_type": "execute_result"
    }
   ],
   "source": [
    "'python' * 2"
   ]
  },
  {
   "cell_type": "markdown",
   "id": "8154a697",
   "metadata": {
    "hidden": true
   },
   "source": []
  },
  {
   "cell_type": "markdown",
   "id": "9f122356",
   "metadata": {
    "heading_collapsed": true,
    "hidden": true
   },
   "source": [
    "### Boolean assignment"
   ]
  },
  {
   "cell_type": "code",
   "execution_count": 196,
   "id": "47a05c36",
   "metadata": {
    "hidden": true
   },
   "outputs": [],
   "source": [
    "boolean_true = 25 >= 25"
   ]
  },
  {
   "cell_type": "code",
   "execution_count": 197,
   "id": "cee30da4",
   "metadata": {
    "hidden": true
   },
   "outputs": [
    {
     "name": "stdout",
     "output_type": "stream",
     "text": [
      "True\n"
     ]
    }
   ],
   "source": [
    "print(boolean_true)"
   ]
  },
  {
   "cell_type": "code",
   "execution_count": 198,
   "id": "0cac143b",
   "metadata": {
    "hidden": true
   },
   "outputs": [
    {
     "name": "stdout",
     "output_type": "stream",
     "text": [
      "False\n"
     ]
    }
   ],
   "source": [
    "print (not boolean_true)"
   ]
  },
  {
   "cell_type": "code",
   "execution_count": 199,
   "id": "2d781e71",
   "metadata": {
    "hidden": true
   },
   "outputs": [
    {
     "name": "stdout",
     "output_type": "stream",
     "text": [
      "True\n"
     ]
    }
   ],
   "source": [
    "print (not (not boolean_true))"
   ]
  },
  {
   "cell_type": "code",
   "execution_count": 200,
   "id": "78092117",
   "metadata": {
    "hidden": true
   },
   "outputs": [],
   "source": [
    "boolean_false = 0 != 0"
   ]
  },
  {
   "cell_type": "code",
   "execution_count": 201,
   "id": "93da3838",
   "metadata": {
    "hidden": true
   },
   "outputs": [
    {
     "data": {
      "text/plain": [
       "False"
      ]
     },
     "execution_count": 201,
     "metadata": {},
     "output_type": "execute_result"
    }
   ],
   "source": [
    "boolean_false"
   ]
  },
  {
   "cell_type": "code",
   "execution_count": 202,
   "id": "866a8dc2",
   "metadata": {
    "hidden": true
   },
   "outputs": [
    {
     "data": {
      "text/plain": [
       "True"
      ]
     },
     "execution_count": 202,
     "metadata": {},
     "output_type": "execute_result"
    }
   ],
   "source": [
    "boolean_true"
   ]
  },
  {
   "cell_type": "code",
   "execution_count": 203,
   "id": "9cb51a1f",
   "metadata": {
    "hidden": true
   },
   "outputs": [
    {
     "name": "stdout",
     "output_type": "stream",
     "text": [
      "False\n"
     ]
    }
   ],
   "source": [
    "print( boolean_true and boolean_false)"
   ]
  },
  {
   "cell_type": "code",
   "execution_count": 204,
   "id": "00a082b8",
   "metadata": {
    "hidden": true
   },
   "outputs": [
    {
     "name": "stdout",
     "output_type": "stream",
     "text": [
      "True\n"
     ]
    }
   ],
   "source": [
    "print( boolean_true or boolean_false)"
   ]
  },
  {
   "cell_type": "markdown",
   "id": "82e22467",
   "metadata": {
    "heading_collapsed": true,
    "hidden": true
   },
   "source": [
    "### `is` and `in` keywords"
   ]
  },
  {
   "cell_type": "code",
   "execution_count": 205,
   "id": "1c1fb486",
   "metadata": {
    "hidden": true
   },
   "outputs": [
    {
     "data": {
      "text/plain": [
       "True"
      ]
     },
     "execution_count": 205,
     "metadata": {},
     "output_type": "execute_result"
    }
   ],
   "source": [
    "'e' in 'Hello'"
   ]
  },
  {
   "cell_type": "code",
   "execution_count": 206,
   "id": "ee08d8d8",
   "metadata": {
    "hidden": true
   },
   "outputs": [
    {
     "data": {
      "text/plain": [
       "False"
      ]
     },
     "execution_count": 206,
     "metadata": {},
     "output_type": "execute_result"
    }
   ],
   "source": [
    "'3' in [1,2,3]"
   ]
  },
  {
   "cell_type": "code",
   "execution_count": 207,
   "id": "cc1d98fb",
   "metadata": {
    "hidden": true
   },
   "outputs": [
    {
     "data": {
      "text/plain": [
       "True"
      ]
     },
     "execution_count": 207,
     "metadata": {},
     "output_type": "execute_result"
    }
   ],
   "source": [
    "3 in [1,2,3]"
   ]
  },
  {
   "cell_type": "code",
   "execution_count": 208,
   "id": "1a058916",
   "metadata": {
    "hidden": true
   },
   "outputs": [
    {
     "name": "stderr",
     "output_type": "stream",
     "text": [
      "<>:1: SyntaxWarning: \"is\" with a literal. Did you mean \"==\"?\n",
      "<>:1: SyntaxWarning: \"is\" with a literal. Did you mean \"==\"?\n",
      "C:\\Users\\elwady\\AppData\\Local\\Temp\\ipykernel_12772\\1633268123.py:1: SyntaxWarning: \"is\" with a literal. Did you mean \"==\"?\n",
      "  'Hello' is 'Hello'\n"
     ]
    },
    {
     "data": {
      "text/plain": [
       "True"
      ]
     },
     "execution_count": 208,
     "metadata": {},
     "output_type": "execute_result"
    }
   ],
   "source": [
    "'Hello' is 'Hello'"
   ]
  },
  {
   "cell_type": "code",
   "execution_count": 209,
   "id": "0eefabe8",
   "metadata": {
    "hidden": true
   },
   "outputs": [
    {
     "name": "stderr",
     "output_type": "stream",
     "text": [
      "<>:1: SyntaxWarning: \"is\" with a literal. Did you mean \"==\"?\n",
      "<>:1: SyntaxWarning: \"is\" with a literal. Did you mean \"==\"?\n",
      "C:\\Users\\elwady\\AppData\\Local\\Temp\\ipykernel_12772\\3938569512.py:1: SyntaxWarning: \"is\" with a literal. Did you mean \"==\"?\n",
      "  10 is 10\n"
     ]
    },
    {
     "data": {
      "text/plain": [
       "True"
      ]
     },
     "execution_count": 209,
     "metadata": {},
     "output_type": "execute_result"
    }
   ],
   "source": [
    "10 is 10"
   ]
  },
  {
   "cell_type": "code",
   "execution_count": 210,
   "id": "7939b102",
   "metadata": {
    "hidden": true
   },
   "outputs": [],
   "source": [
    "x = 16\n",
    "y = 16"
   ]
  },
  {
   "cell_type": "code",
   "execution_count": 211,
   "id": "58d5f86c",
   "metadata": {
    "hidden": true
   },
   "outputs": [
    {
     "data": {
      "text/plain": [
       "True"
      ]
     },
     "execution_count": 211,
     "metadata": {},
     "output_type": "execute_result"
    }
   ],
   "source": [
    "x is y"
   ]
  },
  {
   "cell_type": "code",
   "execution_count": 212,
   "id": "0c2e41e1",
   "metadata": {
    "hidden": true
   },
   "outputs": [
    {
     "data": {
      "text/plain": [
       "True"
      ]
     },
     "execution_count": 212,
     "metadata": {},
     "output_type": "execute_result"
    }
   ],
   "source": [
    "x == y"
   ]
  },
  {
   "cell_type": "code",
   "execution_count": 213,
   "id": "c26d43d2",
   "metadata": {
    "hidden": true
   },
   "outputs": [
    {
     "name": "stdout",
     "output_type": "stream",
     "text": [
      "140729258382600\n",
      "140729258382600\n"
     ]
    }
   ],
   "source": [
    "print(id(x))\n",
    "print(id(y))"
   ]
  },
  {
   "cell_type": "code",
   "execution_count": 214,
   "id": "6fbdbc5c",
   "metadata": {
    "hidden": true
   },
   "outputs": [],
   "source": [
    "x = [1,2,3]\n",
    "y = [1,2,3]"
   ]
  },
  {
   "cell_type": "code",
   "execution_count": 215,
   "id": "4de198f2",
   "metadata": {
    "hidden": true
   },
   "outputs": [
    {
     "data": {
      "text/plain": [
       "True"
      ]
     },
     "execution_count": 215,
     "metadata": {},
     "output_type": "execute_result"
    }
   ],
   "source": [
    "x == y"
   ]
  },
  {
   "cell_type": "code",
   "execution_count": 216,
   "id": "cd3698f3",
   "metadata": {
    "hidden": true
   },
   "outputs": [
    {
     "data": {
      "text/plain": [
       "False"
      ]
     },
     "execution_count": 216,
     "metadata": {},
     "output_type": "execute_result"
    }
   ],
   "source": [
    "x is y"
   ]
  },
  {
   "cell_type": "code",
   "execution_count": 217,
   "id": "94e37e7d",
   "metadata": {
    "hidden": true,
    "scrolled": true
   },
   "outputs": [
    {
     "name": "stdout",
     "output_type": "stream",
     "text": [
      "2260992419840\n",
      "2260993514880\n"
     ]
    }
   ],
   "source": [
    "print(id(x))\n",
    "print(id(y))"
   ]
  },
  {
   "cell_type": "code",
   "execution_count": 218,
   "id": "fa8a5024",
   "metadata": {
    "hidden": true,
    "scrolled": true
   },
   "outputs": [
    {
     "data": {
      "text/plain": [
       "'0x20e6da66800'"
      ]
     },
     "execution_count": 218,
     "metadata": {},
     "output_type": "execute_result"
    }
   ],
   "source": [
    "hex(id(x))"
   ]
  },
  {
   "cell_type": "code",
   "execution_count": 219,
   "id": "65861ae3",
   "metadata": {
    "hidden": true
   },
   "outputs": [
    {
     "data": {
      "text/plain": [
       "140729258382120"
      ]
     },
     "execution_count": 219,
     "metadata": {},
     "output_type": "execute_result"
    }
   ],
   "source": [
    "id(y[0])"
   ]
  },
  {
   "cell_type": "code",
   "execution_count": 220,
   "id": "fd921b0f",
   "metadata": {
    "hidden": true
   },
   "outputs": [
    {
     "data": {
      "text/plain": [
       "140729258382120"
      ]
     },
     "execution_count": 220,
     "metadata": {},
     "output_type": "execute_result"
    }
   ],
   "source": [
    "id(x[0])"
   ]
  },
  {
   "cell_type": "markdown",
   "id": "c56163d4",
   "metadata": {
    "heading_collapsed": true,
    "hidden": true
   },
   "source": [
    "## None type"
   ]
  },
  {
   "cell_type": "code",
   "execution_count": 221,
   "id": "572f1a18",
   "metadata": {
    "hidden": true
   },
   "outputs": [],
   "source": [
    "# None in Python is similar to null in other languages"
   ]
  },
  {
   "cell_type": "code",
   "execution_count": 222,
   "id": "aad008cb",
   "metadata": {
    "hidden": true
   },
   "outputs": [
    {
     "data": {
      "text/plain": [
       "NoneType"
      ]
     },
     "execution_count": 222,
     "metadata": {},
     "output_type": "execute_result"
    }
   ],
   "source": [
    "type(None)"
   ]
  },
  {
   "cell_type": "code",
   "execution_count": 223,
   "id": "42073aaf",
   "metadata": {
    "hidden": true
   },
   "outputs": [],
   "source": [
    "x = None"
   ]
  },
  {
   "cell_type": "code",
   "execution_count": 224,
   "id": "e953ea1d",
   "metadata": {
    "hidden": true
   },
   "outputs": [],
   "source": [
    "x"
   ]
  },
  {
   "cell_type": "code",
   "execution_count": 225,
   "id": "cedf89ec",
   "metadata": {
    "hidden": true
   },
   "outputs": [
    {
     "name": "stdout",
     "output_type": "stream",
     "text": [
      "None\n"
     ]
    }
   ],
   "source": [
    "print(x)"
   ]
  },
  {
   "cell_type": "code",
   "execution_count": 226,
   "id": "ae472a44",
   "metadata": {
    "hidden": true
   },
   "outputs": [
    {
     "name": "stdout",
     "output_type": "stream",
     "text": [
      "True\n"
     ]
    }
   ],
   "source": [
    "print(None is None)"
   ]
  },
  {
   "cell_type": "code",
   "execution_count": 227,
   "id": "c83c480a",
   "metadata": {
    "hidden": true
   },
   "outputs": [
    {
     "name": "stdout",
     "output_type": "stream",
     "text": [
      "False\n"
     ]
    }
   ],
   "source": [
    "print(None == False)"
   ]
  },
  {
   "cell_type": "code",
   "execution_count": 228,
   "id": "1ccd9530",
   "metadata": {
    "hidden": true
   },
   "outputs": [
    {
     "data": {
      "text/plain": [
       "False"
      ]
     },
     "execution_count": 228,
     "metadata": {},
     "output_type": "execute_result"
    }
   ],
   "source": [
    "bool(None)"
   ]
  },
  {
   "cell_type": "code",
   "execution_count": 229,
   "id": "2da5c65b",
   "metadata": {
    "hidden": true
   },
   "outputs": [
    {
     "data": {
      "text/plain": [
       "True"
      ]
     },
     "execution_count": 229,
     "metadata": {},
     "output_type": "execute_result"
    }
   ],
   "source": [
    "bool(None) == bool(\"\")"
   ]
  },
  {
   "cell_type": "code",
   "execution_count": 230,
   "id": "95353384",
   "metadata": {
    "hidden": true
   },
   "outputs": [
    {
     "data": {
      "text/plain": [
       "['__bool__',\n",
       " '__class__',\n",
       " '__delattr__',\n",
       " '__dir__',\n",
       " '__doc__',\n",
       " '__eq__',\n",
       " '__format__',\n",
       " '__ge__',\n",
       " '__getattribute__',\n",
       " '__getstate__',\n",
       " '__gt__',\n",
       " '__hash__',\n",
       " '__init__',\n",
       " '__init_subclass__',\n",
       " '__le__',\n",
       " '__lt__',\n",
       " '__ne__',\n",
       " '__new__',\n",
       " '__reduce__',\n",
       " '__reduce_ex__',\n",
       " '__repr__',\n",
       " '__setattr__',\n",
       " '__sizeof__',\n",
       " '__str__',\n",
       " '__subclasshook__']"
      ]
     },
     "execution_count": 230,
     "metadata": {},
     "output_type": "execute_result"
    }
   ],
   "source": [
    "dir(None)"
   ]
  },
  {
   "cell_type": "markdown",
   "id": "694a59b2",
   "metadata": {
    "heading_collapsed": true,
    "hidden": true
   },
   "source": [
    "## Comments"
   ]
  },
  {
   "cell_type": "markdown",
   "id": "e1a1bc09",
   "metadata": {
    "heading_collapsed": true,
    "hidden": true
   },
   "source": [
    "### How Do You Write Comments?"
   ]
  },
  {
   "cell_type": "code",
   "execution_count": 231,
   "id": "91812bc5",
   "metadata": {
    "hidden": true
   },
   "outputs": [
    {
     "name": "stdout",
     "output_type": "stream",
     "text": [
      "Hello Python people!\n"
     ]
    }
   ],
   "source": [
    "# Say hello to everyone.\n",
    "print(\"Hello Python people!\")"
   ]
  },
  {
   "cell_type": "markdown",
   "id": "0ac6d3ab",
   "metadata": {
    "heading_collapsed": true,
    "hidden": true
   },
   "source": [
    "### What Kind of Commments Should You Write?"
   ]
  },
  {
   "cell_type": "markdown",
   "id": "211ee723",
   "metadata": {
    "hidden": true
   },
   "source": [
    "- Collaboration\n",
    "- Notes\n",
    "- Missing Code\n",
    "- Explanation\n",
    "- bla bla bla"
   ]
  },
  {
   "cell_type": "markdown",
   "id": "03ab1fea",
   "metadata": {
    "heading_collapsed": true,
    "hidden": true
   },
   "source": [
    "## The Zen of Python"
   ]
  },
  {
   "cell_type": "code",
   "execution_count": 232,
   "id": "ded21f3d",
   "metadata": {
    "hidden": true
   },
   "outputs": [
    {
     "name": "stdout",
     "output_type": "stream",
     "text": [
      "The Zen of Python, by Tim Peters\n",
      "\n",
      "Beautiful is better than ugly.\n",
      "Explicit is better than implicit.\n",
      "Simple is better than complex.\n",
      "Complex is better than complicated.\n",
      "Flat is better than nested.\n",
      "Sparse is better than dense.\n",
      "Readability counts.\n",
      "Special cases aren't special enough to break the rules.\n",
      "Although practicality beats purity.\n",
      "Errors should never pass silently.\n",
      "Unless explicitly silenced.\n",
      "In the face of ambiguity, refuse the temptation to guess.\n",
      "There should be one-- and preferably only one --obvious way to do it.\n",
      "Although that way may not be obvious at first unless you're Dutch.\n",
      "Now is better than never.\n",
      "Although never is often better than *right* now.\n",
      "If the implementation is hard to explain, it's a bad idea.\n",
      "If the implementation is easy to explain, it may be a good idea.\n",
      "Namespaces are one honking great idea -- let's do more of those!\n"
     ]
    }
   ],
   "source": [
    "import this"
   ]
  },
  {
   "cell_type": "code",
   "execution_count": 233,
   "id": "1d0592cd",
   "metadata": {
    "hidden": true
   },
   "outputs": [
    {
     "name": "stdout",
     "output_type": "stream",
     "text": [
      "Gur Mra bs Clguba, ol Gvz Crgref\n",
      "\n",
      "Ornhgvshy vf orggre guna htyl.\n",
      "Rkcyvpvg vf orggre guna vzcyvpvg.\n",
      "Fvzcyr vf orggre guna pbzcyrk.\n",
      "Pbzcyrk vf orggre guna pbzcyvpngrq.\n",
      "Syng vf orggre guna arfgrq.\n",
      "Fcnefr vf orggre guna qrafr.\n",
      "Ernqnovyvgl pbhagf.\n",
      "Fcrpvny pnfrf nera'g fcrpvny rabhtu gb oernx gur ehyrf.\n",
      "Nygubhtu cenpgvpnyvgl orngf chevgl.\n",
      "Reebef fubhyq arire cnff fvyragyl.\n",
      "Hayrff rkcyvpvgyl fvyraprq.\n",
      "Va gur snpr bs nzovthvgl, ershfr gur grzcgngvba gb thrff.\n",
      "Gurer fubhyq or bar-- naq cersrenoyl bayl bar --boivbhf jnl gb qb vg.\n",
      "Nygubhtu gung jnl znl abg or boivbhf ng svefg hayrff lbh'er Qhgpu.\n",
      "Abj vf orggre guna arire.\n",
      "Nygubhtu arire vf bsgra orggre guna *evtug* abj.\n",
      "Vs gur vzcyrzragngvba vf uneq gb rkcynva, vg'f n onq vqrn.\n",
      "Vs gur vzcyrzragngvba vf rnfl gb rkcynva, vg znl or n tbbq vqrn.\n",
      "Anzrfcnprf ner bar ubaxvat terng vqrn -- yrg'f qb zber bs gubfr!\n"
     ]
    }
   ],
   "source": [
    "print(this.s)"
   ]
  },
  {
   "cell_type": "markdown",
   "id": "8b7772c4",
   "metadata": {
    "heading_collapsed": true
   },
   "source": [
    "# [Sequences]"
   ]
  },
  {
   "cell_type": "markdown",
   "id": "d3c85f24",
   "metadata": {
    "hidden": true
   },
   "source": [
    "**Containers that hold some values**\n",
    "![Python Sequences](./images/6.png)"
   ]
  },
  {
   "cell_type": "markdown",
   "id": "917ae615",
   "metadata": {
    "hidden": true
   },
   "source": [
    "[Built-in Types](https://docs.python.org/3.3/library/stdtypes.html)"
   ]
  },
  {
   "cell_type": "markdown",
   "id": "79a18520",
   "metadata": {
    "heading_collapsed": true,
    "hidden": true
   },
   "source": [
    "## Python *Ordered* Sequences "
   ]
  },
  {
   "cell_type": "markdown",
   "id": "481a2708",
   "metadata": {
    "hidden": true
   },
   "source": [
    "- Strings\n",
    "- Lists\n",
    "- Tuples\n",
    "- range()\n",
    "- Bytes Sequences\n",
    "- Bytes Array"
   ]
  },
  {
   "cell_type": "markdown",
   "id": "86c1deb2",
   "metadata": {
    "heading_collapsed": true,
    "hidden": true
   },
   "source": [
    "## Python *Unordered* Sequences"
   ]
  },
  {
   "cell_type": "markdown",
   "id": "68b2640e",
   "metadata": {
    "hidden": true
   },
   "source": [
    "- Sets\n",
    "- Dictionaries"
   ]
  },
  {
   "cell_type": "code",
   "execution_count": null,
   "id": "88d1afa6",
   "metadata": {
    "hidden": true
   },
   "outputs": [],
   "source": [
    "Iterable"
   ]
  },
  {
   "cell_type": "markdown",
   "id": "f7aeb91a",
   "metadata": {
    "heading_collapsed": true
   },
   "source": [
    "# [[Ordered Sequences]]"
   ]
  },
  {
   "cell_type": "markdown",
   "id": "c88d3551",
   "metadata": {
    "heading_collapsed": true
   },
   "source": [
    "# Lists"
   ]
  },
  {
   "cell_type": "markdown",
   "id": "725a18ed",
   "metadata": {
    "heading_collapsed": true,
    "hidden": true
   },
   "source": [
    "## What Is a List?"
   ]
  },
  {
   "cell_type": "markdown",
   "id": "3f1f149a",
   "metadata": {
    "hidden": true
   },
   "source": [
    "**Equivalent but not equal to arrays**  \n",
    "**Python doesn't have arrays as part of the standard types, but has array module in the Standard Library**  \n",
    "[Python `array` module](https://docs.python.org/3.3/library/array.html#module-array)"
   ]
  },
  {
   "cell_type": "code",
   "execution_count": 20,
   "id": "2a0bc090",
   "metadata": {
    "hidden": true
   },
   "outputs": [
    {
     "data": {
      "text/plain": [
       "[54, -12, 0, 77, 1976]"
      ]
     },
     "execution_count": 20,
     "metadata": {},
     "output_type": "execute_result"
    }
   ],
   "source": [
    "numbers = [54, -12, 0, 77, 1976]\n",
    "numbers"
   ]
  },
  {
   "cell_type": "code",
   "execution_count": 21,
   "id": "00729f4f",
   "metadata": {
    "hidden": true
   },
   "outputs": [
    {
     "name": "stdout",
     "output_type": "stream",
     "text": [
      "<class 'list'>\n"
     ]
    }
   ],
   "source": [
    "print(type(numbers))"
   ]
  },
  {
   "cell_type": "code",
   "execution_count": 22,
   "id": "4e400347",
   "metadata": {
    "hidden": true
   },
   "outputs": [
    {
     "data": {
      "text/plain": [
       "[(1, 2), 'Ahmed', 47, [25, -9]]"
      ]
     },
     "execution_count": 22,
     "metadata": {},
     "output_type": "execute_result"
    }
   ],
   "source": [
    "misc = [(1,2), 'Ahmed', 47, [25, -9]]\n",
    "misc"
   ]
  },
  {
   "cell_type": "code",
   "execution_count": 23,
   "id": "2b500faa",
   "metadata": {
    "hidden": true
   },
   "outputs": [
    {
     "name": "stdout",
     "output_type": "stream",
     "text": [
      "<class 'list'>\n"
     ]
    }
   ],
   "source": [
    "print(type(misc))"
   ]
  },
  {
   "cell_type": "code",
   "execution_count": 24,
   "id": "06c1be01",
   "metadata": {
    "hidden": true
   },
   "outputs": [
    {
     "name": "stdout",
     "output_type": "stream",
     "text": [
      "['trek', 'cannondale', 'redline', 'specialized']\n"
     ]
    }
   ],
   "source": [
    "bicycles = ['trek', 'cannondale', 'redline', 'specialized']\n",
    "print(bicycles)"
   ]
  },
  {
   "cell_type": "code",
   "execution_count": 26,
   "id": "593a003d",
   "metadata": {
    "hidden": true
   },
   "outputs": [
    {
     "name": "stdout",
     "output_type": "stream",
     "text": [
      "['trek', 'cannondale', 'redline', 'specialized']\n"
     ]
    }
   ],
   "source": [
    "# Implicit line joining\n",
    "bicycles = ['trek', \n",
    "            'cannondale', \n",
    "            'redline',\n",
    "            'specialized']\n",
    "print(bicycles)"
   ]
  },
  {
   "cell_type": "markdown",
   "id": "a9d4e33b",
   "metadata": {
    "heading_collapsed": true,
    "hidden": true
   },
   "source": [
    "### Accessing Elements in a List"
   ]
  },
  {
   "cell_type": "code",
   "execution_count": 34,
   "id": "6cd73046",
   "metadata": {
    "hidden": true
   },
   "outputs": [
    {
     "name": "stdout",
     "output_type": "stream",
     "text": [
      "cannondale\n"
     ]
    }
   ],
   "source": [
    "bicycles = ['trek', 'cannondale', 'redline', 'specialized']\n",
    "print(bicycles[1])"
   ]
  },
  {
   "cell_type": "code",
   "execution_count": 35,
   "id": "cacfa554",
   "metadata": {
    "hidden": true
   },
   "outputs": [
    {
     "data": {
      "text/plain": [
       "str"
      ]
     },
     "execution_count": 35,
     "metadata": {},
     "output_type": "execute_result"
    }
   ],
   "source": [
    "type(bicycles[1])"
   ]
  },
  {
   "cell_type": "code",
   "execution_count": 36,
   "id": "d563099d",
   "metadata": {
    "hidden": true
   },
   "outputs": [
    {
     "name": "stdout",
     "output_type": "stream",
     "text": [
      "Cannondale\n"
     ]
    }
   ],
   "source": [
    "bicycles = ['trek', 'cannondale', 'redline', 'specialized']\n",
    "print(bicycles[1].title())\n"
   ]
  },
  {
   "cell_type": "markdown",
   "id": "07bf7207",
   "metadata": {
    "heading_collapsed": true,
    "hidden": true
   },
   "source": [
    "### Index Positions Start at 0, Not 1"
   ]
  },
  {
   "cell_type": "code",
   "execution_count": 37,
   "id": "b30695ab",
   "metadata": {
    "hidden": true
   },
   "outputs": [
    {
     "name": "stdout",
     "output_type": "stream",
     "text": [
      "cannondale\n",
      "redline\n"
     ]
    }
   ],
   "source": [
    "bicycles = ['trek', 'cannondale', 'redline', 'specialized']\n",
    "print(bicycles[1])\n",
    "print(bicycles[2])"
   ]
  },
  {
   "cell_type": "code",
   "execution_count": 38,
   "id": "15a48a36",
   "metadata": {
    "hidden": true
   },
   "outputs": [
    {
     "ename": "IndexError",
     "evalue": "list index out of range",
     "output_type": "error",
     "traceback": [
      "\u001b[1;31m---------------------------------------------------------------------------\u001b[0m",
      "\u001b[1;31mIndexError\u001b[0m                                Traceback (most recent call last)",
      "Cell \u001b[1;32mIn[38], line 1\u001b[0m\n\u001b[1;32m----> 1\u001b[0m \u001b[38;5;28mprint\u001b[39m(bicycles[\u001b[38;5;241m5\u001b[39m])\n",
      "\u001b[1;31mIndexError\u001b[0m: list index out of range"
     ]
    }
   ],
   "source": [
    "print(bicycles[5])"
   ]
  },
  {
   "cell_type": "code",
   "execution_count": 39,
   "id": "718b7d18",
   "metadata": {
    "hidden": true
   },
   "outputs": [
    {
     "name": "stdout",
     "output_type": "stream",
     "text": [
      "specialized\n",
      "redline\n"
     ]
    }
   ],
   "source": [
    "bicycles = ['trek', 'cannondale', 'redline', 'specialized']\n",
    "print(bicycles[-1])\n",
    "print(bicycles[-2])"
   ]
  },
  {
   "cell_type": "markdown",
   "id": "2b3800e3",
   "metadata": {
    "heading_collapsed": true,
    "hidden": true
   },
   "source": [
    "### Using Individual Values from a List"
   ]
  },
  {
   "cell_type": "code",
   "execution_count": 246,
   "id": "d8300785",
   "metadata": {
    "hidden": true
   },
   "outputs": [
    {
     "name": "stdout",
     "output_type": "stream",
     "text": [
      "My first bicycle was a Trek.\n"
     ]
    }
   ],
   "source": [
    "message = \"My first bicycle was a \" + bicycles[0].title() + \".\"\n",
    "print(message)"
   ]
  },
  {
   "cell_type": "code",
   "execution_count": null,
   "id": "b1327b4a",
   "metadata": {
    "hidden": true
   },
   "outputs": [],
   "source": []
  },
  {
   "cell_type": "markdown",
   "id": "07c51e24",
   "metadata": {
    "heading_collapsed": true,
    "hidden": true
   },
   "source": [
    "## Changing, Adding, and Removing Elements"
   ]
  },
  {
   "cell_type": "markdown",
   "id": "5301b372",
   "metadata": {
    "heading_collapsed": true,
    "hidden": true
   },
   "source": [
    "### Modifying Elements in a List"
   ]
  },
  {
   "cell_type": "code",
   "execution_count": 50,
   "id": "fe3f6fee",
   "metadata": {
    "hidden": true
   },
   "outputs": [
    {
     "name": "stdout",
     "output_type": "stream",
     "text": [
      "['honda', 'yamaha', 'suzuki']\n"
     ]
    }
   ],
   "source": [
    "# This is what Mutable means \"can change at item\"\n",
    "motorcycles = ['honda', 'yamaha', 'suzuki']\n",
    "print(motorcycles)"
   ]
  },
  {
   "cell_type": "code",
   "execution_count": 51,
   "id": "6bf6bde1",
   "metadata": {
    "hidden": true
   },
   "outputs": [
    {
     "name": "stdout",
     "output_type": "stream",
     "text": [
      "['ducati', 'yamaha', 'suzuki']\n"
     ]
    }
   ],
   "source": [
    "motorcycles[0] = 'ducati'\n",
    "print(motorcycles)"
   ]
  },
  {
   "cell_type": "markdown",
   "id": "f17087af",
   "metadata": {
    "heading_collapsed": true,
    "hidden": true
   },
   "source": [
    "#### Adding Elements to the End of a List"
   ]
  },
  {
   "cell_type": "code",
   "execution_count": 52,
   "id": "667d25fc",
   "metadata": {
    "hidden": true
   },
   "outputs": [
    {
     "name": "stdout",
     "output_type": "stream",
     "text": [
      "['honda', 'yamaha', 'suzuki']\n",
      "['honda', 'yamaha', 'suzuki', 'ducati']\n"
     ]
    }
   ],
   "source": [
    "motorcycles = ['honda', 'yamaha', 'suzuki']\n",
    "print(motorcycles)\n",
    "\n",
    "motorcycles.append('ducati')\n",
    "print(motorcycles)"
   ]
  },
  {
   "cell_type": "code",
   "execution_count": 53,
   "id": "2b8d4cc3",
   "metadata": {
    "hidden": true
   },
   "outputs": [
    {
     "name": "stdout",
     "output_type": "stream",
     "text": [
      "['honda', 'yamaha', 'suzuki']\n"
     ]
    }
   ],
   "source": [
    "motorcycles = []\n",
    "\n",
    "motorcycles.append('honda')\n",
    "motorcycles.append('yamaha')\n",
    "motorcycles.append('suzuki') \n",
    "\n",
    "print(motorcycles)"
   ]
  },
  {
   "cell_type": "code",
   "execution_count": 54,
   "id": "2e31bbae",
   "metadata": {
    "hidden": true,
    "scrolled": true
   },
   "outputs": [
    {
     "data": {
      "text/plain": [
       "[12, 423, 109, 99, -24]"
      ]
     },
     "execution_count": 54,
     "metadata": {},
     "output_type": "execute_result"
    }
   ],
   "source": [
    "# Concatinating Lists\n",
    "\n",
    "num1 = [12, 423, 109]\n",
    "num2 = [99, -24]\n",
    "num = num1 + num2\n",
    "num "
   ]
  },
  {
   "cell_type": "code",
   "execution_count": 55,
   "id": "0e12836d",
   "metadata": {
    "hidden": true
   },
   "outputs": [
    {
     "data": {
      "text/plain": [
       "[2, 4, 7, 2, 4, 7]"
      ]
     },
     "execution_count": 55,
     "metadata": {},
     "output_type": "execute_result"
    }
   ],
   "source": [
    "num = [2,4,7]\n",
    "num * 2 "
   ]
  },
  {
   "cell_type": "code",
   "execution_count": null,
   "id": "06781ee0-650c-4a12-965c-27c52c7733c6",
   "metadata": {},
   "outputs": [],
   "source": []
  },
  {
   "cell_type": "markdown",
   "id": "91ad8d7c",
   "metadata": {
    "heading_collapsed": true,
    "hidden": true
   },
   "source": [
    "#### Inserting Elements into a List"
   ]
  },
  {
   "cell_type": "code",
   "execution_count": 56,
   "id": "f705a2e3",
   "metadata": {
    "hidden": true
   },
   "outputs": [
    {
     "name": "stdout",
     "output_type": "stream",
     "text": [
      "['honda', 'yamaha', 'suzuki']\n",
      "['honda', 'yamaha', 'ducati', 'suzuki']\n"
     ]
    }
   ],
   "source": [
    "motorcycles = ['honda', 'yamaha', 'suzuki']\n",
    "print(motorcycles)\n",
    "\n",
    "motorcycles.insert(2, 'ducati')\n",
    "print(motorcycles)"
   ]
  },
  {
   "cell_type": "markdown",
   "id": "5c0fc64a",
   "metadata": {
    "heading_collapsed": true,
    "hidden": true
   },
   "source": [
    "### Removing Elements from a List"
   ]
  },
  {
   "cell_type": "markdown",
   "id": "362402ca",
   "metadata": {
    "heading_collapsed": true,
    "hidden": true
   },
   "source": [
    "#### Removing an Item Using the del Statement"
   ]
  },
  {
   "cell_type": "code",
   "execution_count": 57,
   "id": "b6114cd2",
   "metadata": {
    "hidden": true
   },
   "outputs": [
    {
     "name": "stdout",
     "output_type": "stream",
     "text": [
      "['honda', 'yamaha', 'suzuki']\n",
      "['yamaha', 'suzuki']\n"
     ]
    }
   ],
   "source": [
    "motorcycles = ['honda', 'yamaha', 'suzuki']\n",
    "print(motorcycles)\n",
    "\n",
    "del motorcycles[0]\n",
    "print(motorcycles)"
   ]
  },
  {
   "cell_type": "code",
   "execution_count": 58,
   "id": "52c53f4b",
   "metadata": {
    "hidden": true
   },
   "outputs": [
    {
     "name": "stdout",
     "output_type": "stream",
     "text": [
      "['honda', 'yamaha', 'suzuki']\n",
      "['honda', 'suzuki']\n"
     ]
    }
   ],
   "source": [
    "motorcycles = ['honda', 'yamaha', 'suzuki']\n",
    "print(motorcycles)\n",
    "\n",
    "del motorcycles[1]\n",
    "print(motorcycles)"
   ]
  },
  {
   "cell_type": "markdown",
   "id": "49b2bdb2",
   "metadata": {
    "heading_collapsed": true,
    "hidden": true
   },
   "source": [
    "#### Removing an Item Using the pop() Method"
   ]
  },
  {
   "cell_type": "code",
   "execution_count": 59,
   "id": "06618c28",
   "metadata": {
    "hidden": true
   },
   "outputs": [
    {
     "name": "stdout",
     "output_type": "stream",
     "text": [
      "['honda', 'yamaha', 'suzuki']\n",
      "['honda', 'yamaha']\n",
      "suzuki\n"
     ]
    }
   ],
   "source": [
    "motorcycles = ['honda', 'yamaha', 'suzuki']\n",
    "print(motorcycles)\n",
    "\n",
    "popped_motorcycle = motorcycles.pop()\n",
    "\n",
    "print(motorcycles)\n",
    "print(popped_motorcycle)"
   ]
  },
  {
   "cell_type": "code",
   "execution_count": 60,
   "id": "34e6e98f",
   "metadata": {
    "hidden": true
   },
   "outputs": [
    {
     "name": "stdout",
     "output_type": "stream",
     "text": [
      "The last motorcycle I owned was a Suzuki.\n"
     ]
    }
   ],
   "source": [
    "motorcycles = ['honda', 'yamaha', 'suzuki']\n",
    "last_owned = motorcycles.pop()\n",
    "\n",
    "print(\"The last motorcycle I owned was a \" + last_owned.title() + \".\")"
   ]
  },
  {
   "cell_type": "markdown",
   "id": "e0fc5eb7",
   "metadata": {
    "heading_collapsed": true,
    "hidden": true
   },
   "source": [
    "#### Popping Items from any Position in a List"
   ]
  },
  {
   "cell_type": "code",
   "execution_count": 61,
   "id": "ee5dba2b",
   "metadata": {
    "hidden": true
   },
   "outputs": [
    {
     "name": "stdout",
     "output_type": "stream",
     "text": [
      "The first motorcycle I owned was a Honda.\n"
     ]
    }
   ],
   "source": [
    "motorcycles = ['honda', 'yamaha', 'suzuki']\n",
    "first_owned = motorcycles.pop(0)\n",
    "\n",
    "print('The first motorcycle I owned was a ' + first_owned.title() + '.')"
   ]
  },
  {
   "cell_type": "markdown",
   "id": "a00c1135",
   "metadata": {
    "heading_collapsed": true,
    "hidden": true
   },
   "source": [
    "#### Removing an Item by Value"
   ]
  },
  {
   "cell_type": "code",
   "execution_count": 62,
   "id": "b1d9b67f",
   "metadata": {
    "hidden": true
   },
   "outputs": [
    {
     "name": "stdout",
     "output_type": "stream",
     "text": [
      "['honda', 'yamaha', 'suzuki', 'ducati']\n",
      "['honda', 'yamaha', 'suzuki']\n"
     ]
    }
   ],
   "source": [
    "motorcycles = ['honda', 'yamaha', 'suzuki', 'ducati']\n",
    "print(motorcycles)\n",
    "\n",
    "motorcycles.remove('ducati')\n",
    "print(motorcycles)"
   ]
  },
  {
   "cell_type": "code",
   "execution_count": 63,
   "id": "0b384091",
   "metadata": {
    "hidden": true
   },
   "outputs": [
    {
     "name": "stdout",
     "output_type": "stream",
     "text": [
      "['honda', 'yamaha', 'suzuki', 'ducati']\n",
      "['honda', 'yamaha', 'suzuki']\n",
      "\n",
      "A Ducati is too expensive for me.\n"
     ]
    }
   ],
   "source": [
    "motorcycles = ['honda', 'yamaha', 'suzuki', 'ducati']\n",
    "print(motorcycles)\n",
    "\n",
    "too_expensive = 'ducati'\n",
    "motorcycles.remove(too_expensive)\n",
    "\n",
    "print(motorcycles)\n",
    "print(\"\\nA \" + too_expensive.title() + \" is too expensive for me.\")"
   ]
  },
  {
   "cell_type": "markdown",
   "id": "67001bf9",
   "metadata": {
    "heading_collapsed": true,
    "hidden": true
   },
   "source": [
    "## Organizing a List"
   ]
  },
  {
   "cell_type": "markdown",
   "id": "b001e203",
   "metadata": {
    "heading_collapsed": true,
    "hidden": true
   },
   "source": [
    "### Sorting a List Permanently with the sort() Method"
   ]
  },
  {
   "cell_type": "code",
   "execution_count": 64,
   "id": "dc611980",
   "metadata": {
    "hidden": true
   },
   "outputs": [
    {
     "name": "stdout",
     "output_type": "stream",
     "text": [
      "['audi', 'bmw', 'subaru', 'toyota']\n"
     ]
    }
   ],
   "source": [
    "cars = ['bmw', 'audi', 'toyota', 'subaru']\n",
    "cars.sort()\n",
    "print(cars)"
   ]
  },
  {
   "cell_type": "code",
   "execution_count": 65,
   "id": "d6f2015a",
   "metadata": {
    "hidden": true
   },
   "outputs": [
    {
     "name": "stdout",
     "output_type": "stream",
     "text": [
      "['toyota', 'subaru', 'bmw', 'audi']\n"
     ]
    }
   ],
   "source": [
    "cars = ['bmw', 'audi', 'toyota', 'subaru']\n",
    "cars.sort(reverse=True)\n",
    "print(cars)"
   ]
  },
  {
   "cell_type": "markdown",
   "id": "c290e72f",
   "metadata": {
    "heading_collapsed": true,
    "hidden": true
   },
   "source": [
    "### Sorting a List Temporarily with the sorted() Function"
   ]
  },
  {
   "cell_type": "code",
   "execution_count": 68,
   "id": "38102ec6",
   "metadata": {
    "hidden": true
   },
   "outputs": [
    {
     "name": "stdout",
     "output_type": "stream",
     "text": [
      "Here is the original list:\n",
      "['bmw', 'audi', 'toyota', 'subaru']\n",
      "\n",
      "Here is the sorted list:\n",
      "['audi', 'bmw', 'subaru', 'toyota']\n",
      "\n",
      "Here is the original list again:\n",
      "['bmw', 'audi', 'toyota', 'subaru']\n"
     ]
    }
   ],
   "source": [
    "cars = ['bmw', 'audi', 'toyota', 'subaru']\n",
    "print(\"Here is the original list:\")\n",
    "print(cars)\n",
    "\n",
    "print(\"\\nHere is the sorted list:\")\n",
    "print(sorted(cars))\n",
    "\n",
    "print(\"\\nHere is the original list again:\")\n",
    "print(cars)"
   ]
  },
  {
   "cell_type": "markdown",
   "id": "9c5f59a9",
   "metadata": {
    "heading_collapsed": true,
    "hidden": true
   },
   "source": [
    "### Printing a List in Reverse Order"
   ]
  },
  {
   "cell_type": "code",
   "execution_count": 69,
   "id": "9cca7928",
   "metadata": {
    "hidden": true
   },
   "outputs": [
    {
     "name": "stdout",
     "output_type": "stream",
     "text": [
      "['bmw', 'audi', 'toyota', 'subaru']\n",
      "['subaru', 'toyota', 'audi', 'bmw']\n"
     ]
    }
   ],
   "source": [
    "cars = ['bmw', 'audi', 'toyota', 'subaru']\n",
    "print(cars)\n",
    "\n",
    "cars.reverse()\n",
    "print(cars)"
   ]
  },
  {
   "cell_type": "markdown",
   "id": "e4daa031",
   "metadata": {
    "heading_collapsed": true,
    "hidden": true
   },
   "source": [
    "### Finding the Length of a List"
   ]
  },
  {
   "cell_type": "code",
   "execution_count": 70,
   "id": "2539f402",
   "metadata": {
    "hidden": true
   },
   "outputs": [
    {
     "data": {
      "text/plain": [
       "4"
      ]
     },
     "execution_count": 70,
     "metadata": {},
     "output_type": "execute_result"
    }
   ],
   "source": [
    "cars = ['bmw', 'audi', 'toyota', 'subaru']\n",
    "len(cars)"
   ]
  },
  {
   "cell_type": "markdown",
   "id": "07af37eb",
   "metadata": {
    "heading_collapsed": true,
    "hidden": true
   },
   "source": [
    "## `list()` constructor function"
   ]
  },
  {
   "cell_type": "code",
   "execution_count": 71,
   "id": "16591a0f",
   "metadata": {
    "hidden": true
   },
   "outputs": [
    {
     "data": {
      "text/plain": [
       "[1, 3, 4, 5]"
      ]
     },
     "execution_count": 71,
     "metadata": {},
     "output_type": "execute_result"
    }
   ],
   "source": [
    "list([1,3,4,5])"
   ]
  },
  {
   "cell_type": "code",
   "execution_count": 72,
   "id": "f92205ac",
   "metadata": {
    "hidden": true
   },
   "outputs": [
    {
     "data": {
      "text/plain": [
       "list"
      ]
     },
     "execution_count": 72,
     "metadata": {},
     "output_type": "execute_result"
    }
   ],
   "source": [
    "type(list([1,3,4,5]))"
   ]
  },
  {
   "cell_type": "code",
   "execution_count": 73,
   "id": "981e7ad7",
   "metadata": {
    "hidden": true
   },
   "outputs": [
    {
     "data": {
      "text/plain": [
       "['P', 'y', 't', 'h', 'o', 'n']"
      ]
     },
     "execution_count": 73,
     "metadata": {},
     "output_type": "execute_result"
    }
   ],
   "source": [
    "list('Python')"
   ]
  },
  {
   "cell_type": "markdown",
   "id": "2b87e881",
   "metadata": {
    "heading_collapsed": true,
    "hidden": true
   },
   "source": [
    "## `list()` with `enumerate()`"
   ]
  },
  {
   "cell_type": "code",
   "execution_count": 74,
   "id": "816a139a",
   "metadata": {
    "hidden": true
   },
   "outputs": [
    {
     "name": "stdout",
     "output_type": "stream",
     "text": [
      "0 first\n",
      "1 second\n",
      "2 third\n",
      "3 fourth\n"
     ]
    }
   ],
   "source": [
    "values = ['first', 'second', 'third', 'fourth']\n",
    "for index in range(len(values)):\n",
    "    value = values[index]\n",
    "    print(index, value)"
   ]
  },
  {
   "cell_type": "code",
   "execution_count": 75,
   "id": "30ee036e",
   "metadata": {
    "hidden": true
   },
   "outputs": [
    {
     "data": {
      "text/plain": [
       "<enumerate at 0x1dedbd491c0>"
      ]
     },
     "execution_count": 75,
     "metadata": {},
     "output_type": "execute_result"
    }
   ],
   "source": [
    "enumerate(values)"
   ]
  },
  {
   "cell_type": "code",
   "execution_count": 76,
   "id": "d55e8d18",
   "metadata": {
    "hidden": true
   },
   "outputs": [
    {
     "data": {
      "text/plain": [
       "[(0, 'first'), (1, 'second'), (2, 'third'), (3, 'fourth')]"
      ]
     },
     "execution_count": 76,
     "metadata": {},
     "output_type": "execute_result"
    }
   ],
   "source": [
    "list(enumerate(values)) # unpacking sequences"
   ]
  },
  {
   "cell_type": "code",
   "execution_count": 77,
   "id": "41446bce",
   "metadata": {
    "hidden": true
   },
   "outputs": [
    {
     "name": "stdout",
     "output_type": "stream",
     "text": [
      "0 first\n",
      "1 second\n",
      "2 third\n",
      "3 fourth\n"
     ]
    }
   ],
   "source": [
    "values = ['first', 'second', 'third', 'fourth']\n",
    "for index, value in enumerate(values):\n",
    "    print(index, value)"
   ]
  },
  {
   "cell_type": "code",
   "execution_count": null,
   "id": "771e233c",
   "metadata": {
    "hidden": true
   },
   "outputs": [],
   "source": []
  },
  {
   "cell_type": "markdown",
   "id": "84aa51d1",
   "metadata": {
    "heading_collapsed": true,
    "hidden": true
   },
   "source": [
    "## Avoiding Index Errors When Working with Lists"
   ]
  },
  {
   "cell_type": "code",
   "execution_count": 78,
   "id": "2992964f",
   "metadata": {
    "hidden": true
   },
   "outputs": [
    {
     "ename": "IndexError",
     "evalue": "list index out of range",
     "output_type": "error",
     "traceback": [
      "\u001b[1;31m---------------------------------------------------------------------------\u001b[0m",
      "\u001b[1;31mIndexError\u001b[0m                                Traceback (most recent call last)",
      "Cell \u001b[1;32mIn[78], line 3\u001b[0m\n\u001b[0;32m      1\u001b[0m \u001b[38;5;66;03m#This will generate 'index out of range error'\u001b[39;00m\n\u001b[0;32m      2\u001b[0m motorcycles \u001b[38;5;241m=\u001b[39m [\u001b[38;5;124m'\u001b[39m\u001b[38;5;124mhonda\u001b[39m\u001b[38;5;124m'\u001b[39m, \u001b[38;5;124m'\u001b[39m\u001b[38;5;124myamaha\u001b[39m\u001b[38;5;124m'\u001b[39m, \u001b[38;5;124m'\u001b[39m\u001b[38;5;124msuzuki\u001b[39m\u001b[38;5;124m'\u001b[39m]\n\u001b[1;32m----> 3\u001b[0m \u001b[38;5;28mprint\u001b[39m(motorcycles[\u001b[38;5;241m3\u001b[39m])\n",
      "\u001b[1;31mIndexError\u001b[0m: list index out of range"
     ]
    }
   ],
   "source": [
    "#This will generate 'index out of range error'\n",
    "motorcycles = ['honda', 'yamaha', 'suzuki']\n",
    "print(motorcycles[3])"
   ]
  },
  {
   "cell_type": "code",
   "execution_count": 79,
   "id": "9e9933a4",
   "metadata": {
    "hidden": true
   },
   "outputs": [
    {
     "name": "stdout",
     "output_type": "stream",
     "text": [
      "suzuki\n"
     ]
    }
   ],
   "source": [
    "motorcycles = ['honda', 'yamaha', 'suzuki']\n",
    "print(motorcycles[-1])"
   ]
  },
  {
   "cell_type": "code",
   "execution_count": 80,
   "id": "2cd27f5b",
   "metadata": {
    "hidden": true
   },
   "outputs": [
    {
     "ename": "IndexError",
     "evalue": "list index out of range",
     "output_type": "error",
     "traceback": [
      "\u001b[1;31m---------------------------------------------------------------------------\u001b[0m",
      "\u001b[1;31mIndexError\u001b[0m                                Traceback (most recent call last)",
      "Cell \u001b[1;32mIn[80], line 6\u001b[0m\n\u001b[0;32m      2\u001b[0m motorcycles \u001b[38;5;241m=\u001b[39m []\n\u001b[0;32m      4\u001b[0m \u001b[38;5;28mlen\u001b[39m(motorcycles)\n\u001b[1;32m----> 6\u001b[0m \u001b[38;5;28mprint\u001b[39m(motorcycles[\u001b[38;5;241m-\u001b[39m\u001b[38;5;241m1\u001b[39m])\n",
      "\u001b[1;31mIndexError\u001b[0m: list index out of range"
     ]
    }
   ],
   "source": [
    "#This will generate 'index out of range error'\n",
    "motorcycles = []\n",
    "\n",
    "len(motorcycles)\n",
    "\n",
    "print(motorcycles[-1])"
   ]
  },
  {
   "cell_type": "markdown",
   "id": "25492ccb",
   "metadata": {
    "heading_collapsed": true,
    "hidden": true
   },
   "source": [
    "## Making Numerical Lists"
   ]
  },
  {
   "cell_type": "markdown",
   "id": "851ada66",
   "metadata": {
    "heading_collapsed": true,
    "hidden": true
   },
   "source": [
    "### Using the `range()` Function"
   ]
  },
  {
   "cell_type": "code",
   "execution_count": 81,
   "id": "b1ea5f2b",
   "metadata": {
    "hidden": true,
    "scrolled": true
   },
   "outputs": [
    {
     "data": {
      "text/plain": [
       "[0, 1, 2, 3, 4]"
      ]
     },
     "execution_count": 81,
     "metadata": {},
     "output_type": "execute_result"
    }
   ],
   "source": [
    "list(range(5))"
   ]
  },
  {
   "cell_type": "code",
   "execution_count": 1,
   "id": "bdb8463a-0d6e-4527-a0d8-c880ef33519a",
   "metadata": {},
   "outputs": [
    {
     "data": {
      "text/plain": [
       "range(0, 5)"
      ]
     },
     "execution_count": 1,
     "metadata": {},
     "output_type": "execute_result"
    }
   ],
   "source": [
    "range(5)"
   ]
  },
  {
   "cell_type": "code",
   "execution_count": 2,
   "id": "1c1732e6",
   "metadata": {
    "hidden": true
   },
   "outputs": [
    {
     "name": "stdout",
     "output_type": "stream",
     "text": [
      "<class 'range'>\n"
     ]
    }
   ],
   "source": [
    "print(type(range(5)))"
   ]
  },
  {
   "cell_type": "code",
   "execution_count": 82,
   "id": "f81cef98",
   "metadata": {
    "hidden": true
   },
   "outputs": [
    {
     "data": {
      "text/plain": [
       "[20, 18, 16, 14, 12, 10, 8, 6, 4]"
      ]
     },
     "execution_count": 82,
     "metadata": {},
     "output_type": "execute_result"
    }
   ],
   "source": [
    "# slicing (start,stop, step)\n",
    "list(range(20,2,-2))"
   ]
  },
  {
   "cell_type": "code",
   "execution_count": 83,
   "id": "81d73c5e",
   "metadata": {
    "hidden": true
   },
   "outputs": [
    {
     "name": "stdout",
     "output_type": "stream",
     "text": [
      "1\n",
      "2\n",
      "3\n",
      "4\n"
     ]
    }
   ],
   "source": [
    "for value in range(1,5):\n",
    "    print(value)"
   ]
  },
  {
   "cell_type": "code",
   "execution_count": 84,
   "id": "8b562fd0",
   "metadata": {
    "hidden": true
   },
   "outputs": [
    {
     "name": "stdout",
     "output_type": "stream",
     "text": [
      "1\n",
      "2\n",
      "3\n",
      "4\n",
      "5\n"
     ]
    }
   ],
   "source": [
    "for value in range(1,6):\n",
    "    print(value)"
   ]
  },
  {
   "cell_type": "markdown",
   "id": "ffa1dd3c",
   "metadata": {
    "heading_collapsed": true,
    "hidden": true
   },
   "source": [
    "### Using `range()` to Make a List of Numbers"
   ]
  },
  {
   "cell_type": "code",
   "execution_count": 85,
   "id": "39704ceb",
   "metadata": {
    "hidden": true
   },
   "outputs": [
    {
     "name": "stdout",
     "output_type": "stream",
     "text": [
      "[1, 2, 3, 4, 5]\n"
     ]
    }
   ],
   "source": [
    "numbers = list(range(1,6))\n",
    "print(numbers)"
   ]
  },
  {
   "cell_type": "code",
   "execution_count": 86,
   "id": "5385d9fd",
   "metadata": {
    "hidden": true
   },
   "outputs": [
    {
     "name": "stdout",
     "output_type": "stream",
     "text": [
      "[2, 4, 6, 8, 10]\n"
     ]
    }
   ],
   "source": [
    "even_numbers = list(range(2,11,2))\n",
    "print(even_numbers)"
   ]
  },
  {
   "cell_type": "code",
   "execution_count": 87,
   "id": "90fb3985",
   "metadata": {
    "hidden": true
   },
   "outputs": [
    {
     "name": "stdout",
     "output_type": "stream",
     "text": [
      "[1, 4, 9, 16, 25, 36, 49, 64, 81, 100]\n"
     ]
    }
   ],
   "source": [
    "# Squares\n",
    "\n",
    "squares = []\n",
    "for value in range(1,11):\n",
    "    square = value ** 2\n",
    "    squares.append(square)\n",
    "print(squares)"
   ]
  },
  {
   "cell_type": "markdown",
   "id": "d3a442d1",
   "metadata": {
    "heading_collapsed": true,
    "hidden": true
   },
   "source": [
    "### Simple Statistics with a List of Numbers"
   ]
  },
  {
   "cell_type": "code",
   "execution_count": 88,
   "id": "0330ccb1",
   "metadata": {
    "hidden": true
   },
   "outputs": [
    {
     "name": "stdout",
     "output_type": "stream",
     "text": [
      "0\n",
      "9\n",
      "45\n"
     ]
    }
   ],
   "source": [
    "digits = [1, 2, 3, 4, 5, 6, 7, 8, 9, 0]\n",
    "\n",
    "print(min(digits))\n",
    "\n",
    "print(max(digits))\n",
    "\n",
    "print(sum(digits))"
   ]
  },
  {
   "cell_type": "markdown",
   "id": "14f72096",
   "metadata": {
    "heading_collapsed": true,
    "hidden": true
   },
   "source": [
    "### List Comprehensions"
   ]
  },
  {
   "cell_type": "code",
   "execution_count": 89,
   "id": "9798964e",
   "metadata": {
    "hidden": true
   },
   "outputs": [
    {
     "data": {
      "text/plain": [
       "[1, 4, 9, 16, 25, 36, 49, 64, 81, 100]"
      ]
     },
     "execution_count": 89,
     "metadata": {},
     "output_type": "execute_result"
    }
   ],
   "source": [
    "squares = []\n",
    "\n",
    "for sq in range(1,11):\n",
    "    squares.append(sq**2)\n",
    "\n",
    "squares\n",
    "    "
   ]
  },
  {
   "cell_type": "code",
   "execution_count": null,
   "id": "3e5f1aea",
   "metadata": {
    "hidden": true
   },
   "outputs": [],
   "source": []
  },
  {
   "cell_type": "code",
   "execution_count": 4,
   "id": "88fec152",
   "metadata": {
    "hidden": true
   },
   "outputs": [
    {
     "name": "stdout",
     "output_type": "stream",
     "text": [
      "[1, 4, 9, 16, 25, 36, 49, 64, 81, 100]\n"
     ]
    }
   ],
   "source": [
    "squares = [sq**2 for sq in range(1,11)]\n",
    "print(squares)"
   ]
  },
  {
   "cell_type": "markdown",
   "id": "a70b4eca",
   "metadata": {
    "hidden": true
   },
   "source": [
    "## Working with part of a List"
   ]
  },
  {
   "cell_type": "markdown",
   "id": "92fd3edb",
   "metadata": {
    "heading_collapsed": true,
    "hidden": true
   },
   "source": [
    "### Slicing a List"
   ]
  },
  {
   "cell_type": "code",
   "execution_count": 91,
   "id": "b918b131",
   "metadata": {
    "hidden": true
   },
   "outputs": [
    {
     "name": "stdout",
     "output_type": "stream",
     "text": [
      "<class 'list'>\n",
      "<class 'str'>\n"
     ]
    }
   ],
   "source": [
    "players = ['charles', 'martina', 'michael', 'florence', 'eli']\n",
    "print(type(players[0:3]))\n",
    "print(type(players[0]))\n",
    "\n",
    "# list[start:stop:step]"
   ]
  },
  {
   "cell_type": "code",
   "execution_count": 92,
   "id": "451de306",
   "metadata": {
    "hidden": true
   },
   "outputs": [
    {
     "name": "stdout",
     "output_type": "stream",
     "text": [
      "['charles', 'michael', 'eli']\n"
     ]
    }
   ],
   "source": [
    "players = ['charles', 'martina', 'michael', 'florence', 'eli', 'hassan', 'naima']\n",
    "print(players[0:5:2])"
   ]
  },
  {
   "cell_type": "code",
   "execution_count": 93,
   "id": "4416735e",
   "metadata": {
    "hidden": true
   },
   "outputs": [
    {
     "name": "stdout",
     "output_type": "stream",
     "text": [
      "['charles', 'martina', 'michael', 'florence']\n"
     ]
    }
   ],
   "source": [
    "players = ['charles', 'martina', 'michael', 'florence', 'eli']\n",
    "print(players[0:4])"
   ]
  },
  {
   "cell_type": "code",
   "execution_count": 94,
   "id": "9e9334bd",
   "metadata": {
    "hidden": true
   },
   "outputs": [
    {
     "name": "stdout",
     "output_type": "stream",
     "text": [
      "['michael', 'florence', 'eli']\n"
     ]
    }
   ],
   "source": [
    "players = ['charles', 'martina', 'michael', 'florence', 'eli']\n",
    "print(players[2:])"
   ]
  },
  {
   "cell_type": "markdown",
   "id": "ca46f2ee",
   "metadata": {
    "heading_collapsed": true,
    "hidden": true
   },
   "source": [
    "### Looping Through a Slice"
   ]
  },
  {
   "cell_type": "code",
   "execution_count": 12,
   "id": "fabf1f92",
   "metadata": {
    "hidden": true
   },
   "outputs": [
    {
     "name": "stdout",
     "output_type": "stream",
     "text": [
      "Here are the first three players on my team:\n",
      "Charles\n",
      "Martina\n",
      "Michael\n"
     ]
    }
   ],
   "source": [
    "players = ['charles', 'martina', 'michael', 'florence', 'eli']\n",
    "print(\"Here are the first three players on my team:\")\n",
    "\n",
    "#for player in players[:3]:\n",
    " #   print(player.title())\n",
    "for player in players[:3]:\n",
    "    print(player.title())\n"
   ]
  },
  {
   "cell_type": "markdown",
   "id": "c0af91ef",
   "metadata": {
    "heading_collapsed": true,
    "hidden": true
   },
   "source": [
    "### Copying a List"
   ]
  },
  {
   "cell_type": "code",
   "execution_count": 96,
   "id": "aa95088f",
   "metadata": {
    "hidden": true
   },
   "outputs": [
    {
     "name": "stdout",
     "output_type": "stream",
     "text": [
      "My favorite foods are:\n",
      "['pizza', 'falafel', 'carrot cake']\n",
      "\n",
      "My friend's favorite foods are:\n",
      "['pizza', 'falafel', 'carrot cake']\n"
     ]
    }
   ],
   "source": [
    "my_foods = ['pizza', 'falafel', 'carrot cake']\n",
    "friend_foods = my_foods[:]\n",
    "\n",
    "print(\"My favorite foods are:\")\n",
    "print(my_foods)\n",
    "\n",
    "print(\"\\nMy friend's favorite foods are:\")\n",
    "print(friend_foods)"
   ]
  },
  {
   "cell_type": "code",
   "execution_count": 15,
   "id": "7bb877f6",
   "metadata": {
    "hidden": true
   },
   "outputs": [
    {
     "name": "stdout",
     "output_type": "stream",
     "text": [
      "My favorite foods are:\n",
      "['pizza', 'falafel', 'carrot cake', 'ice cream']\n",
      "\n",
      "My friend's favorite foods are:\n",
      "['pizza', 'falafel', 'carrot cake', 'ice cream']\n"
     ]
    }
   ],
   "source": [
    "my_foods = ['pizza', 'falafel', 'carrot cake']\n",
    "\n",
    "# This doesn't work: \n",
    "friend_foods = my_foods\n",
    "# you should do >>  friend_foods = my_foods.copy()\n",
    "friend_foods.append('ice cream')\n",
    "\n",
    "print(\"My favorite foods are:\")\n",
    "print(my_foods)\n",
    "\n",
    "print(\"\\nMy friend's favorite foods are:\")\n",
    "print(friend_foods)"
   ]
  },
  {
   "cell_type": "code",
   "execution_count": 98,
   "id": "57fd2ad2",
   "metadata": {
    "hidden": true
   },
   "outputs": [
    {
     "name": "stdout",
     "output_type": "stream",
     "text": [
      "My favorite drinks are:\n",
      "['shai', 'bebsy', '3er2soos', 'sa7lab']\n",
      "\n",
      "My friend's favorite drinks are:\n",
      "['shai', 'bebsy', '3er2soos', 'sa7lab']\n"
     ]
    }
   ],
   "source": [
    "my_drinks = ['shai', 'bebsy', '3er2soos']\n",
    "\n",
    "# This doesn't work:\n",
    "friend_drinks = my_drinks\n",
    "\n",
    "my_drinks.append('sa7lab')\n",
    "\n",
    "print(\"My favorite drinks are:\")\n",
    "print(my_drinks)\n",
    "\n",
    "print(\"\\nMy friend's favorite drinks are:\")\n",
    "print(friend_drinks)\n"
   ]
  },
  {
   "cell_type": "code",
   "execution_count": 16,
   "id": "eb33cdb7",
   "metadata": {
    "hidden": true
   },
   "outputs": [
    {
     "name": "stdout",
     "output_type": "stream",
     "text": [
      "My favorite drinks are:\n",
      "['shai', 'bebsy', '3er2soos', 'sa7lab']\n",
      "\n",
      "My friend's favorite drinks are:\n",
      "['shai', 'bebsy', '3er2soos']\n"
     ]
    }
   ],
   "source": [
    "my_drinks = ['shai', 'bebsy', '3er2soos']\n",
    "\n",
    "# this should work:\n",
    "friend_drinks = my_drinks.copy()\n",
    "\n",
    "my_drinks.append('sa7lab')\n",
    "\n",
    "print(\"My favorite drinks are:\")\n",
    "print(my_drinks)\n",
    "\n",
    "print(\"\\nMy friend's favorite drinks are:\")\n",
    "print(friend_drinks)"
   ]
  },
  {
   "cell_type": "markdown",
   "id": "9bbfb2ba",
   "metadata": {
    "heading_collapsed": true
   },
   "source": [
    "# Tuples"
   ]
  },
  {
   "cell_type": "markdown",
   "id": "894a251c",
   "metadata": {
    "heading_collapsed": true,
    "hidden": true
   },
   "source": [
    "## Defining a Tuple"
   ]
  },
  {
   "cell_type": "code",
   "execution_count": 18,
   "id": "0b8bc852",
   "metadata": {
    "hidden": true
   },
   "outputs": [
    {
     "name": "stdout",
     "output_type": "stream",
     "text": [
      "200\n",
      "50\n",
      "100\n"
     ]
    }
   ],
   "source": [
    "# Immutable list // you can't change on it\n",
    "dimensions = (200, 50, 100)\n",
    "\n",
    "print(dimensions[0])\n",
    "print(dimensions[1])\n",
    "print(dimensions[2])"
   ]
  },
  {
   "cell_type": "code",
   "execution_count": 19,
   "id": "fdbff9ee",
   "metadata": {
    "hidden": true
   },
   "outputs": [
    {
     "ename": "TypeError",
     "evalue": "'tuple' object does not support item assignment",
     "output_type": "error",
     "traceback": [
      "\u001b[1;31m---------------------------------------------------------------------------\u001b[0m",
      "\u001b[1;31mTypeError\u001b[0m                                 Traceback (most recent call last)",
      "Cell \u001b[1;32mIn[19], line 3\u001b[0m\n\u001b[0;32m      1\u001b[0m \u001b[38;5;66;03m# Error\u001b[39;00m\n\u001b[0;32m      2\u001b[0m dimensions \u001b[38;5;241m=\u001b[39m (\u001b[38;5;241m200\u001b[39m, \u001b[38;5;241m50\u001b[39m)\n\u001b[1;32m----> 3\u001b[0m dimensions[\u001b[38;5;241m0\u001b[39m] \u001b[38;5;241m=\u001b[39m \u001b[38;5;241m250\u001b[39m\n",
      "\u001b[1;31mTypeError\u001b[0m: 'tuple' object does not support item assignment"
     ]
    }
   ],
   "source": [
    "# Error\n",
    "dimensions = (200, 50)\n",
    "dimensions[0] = 250"
   ]
  },
  {
   "cell_type": "code",
   "execution_count": 20,
   "id": "18fbee2c",
   "metadata": {
    "hidden": true
   },
   "outputs": [
    {
     "data": {
      "text/plain": [
       "((0, 19), (23, -4), (91, 54.2))"
      ]
     },
     "execution_count": 20,
     "metadata": {},
     "output_type": "execute_result"
    }
   ],
   "source": [
    "two_d = ((0,19), (23,-4), (91,54.2))\n",
    "two_d "
   ]
  },
  {
   "cell_type": "code",
   "execution_count": 21,
   "id": "cd1276be",
   "metadata": {
    "hidden": true
   },
   "outputs": [
    {
     "data": {
      "text/plain": [
       "(15, 'abc', (9, 1), [1, 2, 3], {'def': 15})"
      ]
     },
     "execution_count": 21,
     "metadata": {},
     "output_type": "execute_result"
    }
   ],
   "source": [
    "misc_d = (15, 'abc', (9,1), [1,2,3], {'def':15})\n",
    "misc_d"
   ]
  },
  {
   "cell_type": "code",
   "execution_count": 22,
   "id": "ba7a83c5",
   "metadata": {
    "hidden": true
   },
   "outputs": [
    {
     "name": "stdout",
     "output_type": "stream",
     "text": [
      "<class 'int'>\n",
      "<class 'str'>\n",
      "<class 'tuple'>\n",
      "<class 'list'>\n",
      "<class 'dict'>\n"
     ]
    }
   ],
   "source": [
    "print(type(misc_d[0]))\n",
    "print(type(misc_d[1]))\n",
    "print(type(misc_d[2]))\n",
    "print(type(misc_d[3]))\n",
    "print(type(misc_d[4]))"
   ]
  },
  {
   "cell_type": "markdown",
   "id": "8396068b",
   "metadata": {
    "heading_collapsed": true,
    "hidden": true
   },
   "source": [
    "## Looping Through All Values in a Tuple"
   ]
  },
  {
   "cell_type": "code",
   "execution_count": 26,
   "id": "116f58cb",
   "metadata": {
    "hidden": true
   },
   "outputs": [
    {
     "name": "stdout",
     "output_type": "stream",
     "text": [
      "200\n",
      "50\n",
      "92\n"
     ]
    }
   ],
   "source": [
    "dimensions =[200, 50, 92]\n",
    "for dimension in dimensions:\n",
    "    print(dimension)"
   ]
  },
  {
   "cell_type": "code",
   "execution_count": 27,
   "id": "b88052b8",
   "metadata": {
    "hidden": true
   },
   "outputs": [
    {
     "name": "stdout",
     "output_type": "stream",
     "text": [
      "200\n",
      "50\n",
      "92\n",
      "200\n"
     ]
    }
   ],
   "source": [
    "dimensions = (200, 50, 92, 200)\n",
    "for dimension in dimensions:\n",
    "    print(dimension)"
   ]
  },
  {
   "cell_type": "code",
   "execution_count": 28,
   "id": "f9dc0b0e",
   "metadata": {
    "hidden": true
   },
   "outputs": [
    {
     "data": {
      "text/plain": [
       "2"
      ]
     },
     "execution_count": 28,
     "metadata": {},
     "output_type": "execute_result"
    }
   ],
   "source": [
    "dimensions.count(200)"
   ]
  },
  {
   "cell_type": "code",
   "execution_count": 34,
   "id": "cffe714f",
   "metadata": {
    "hidden": true
   },
   "outputs": [
    {
     "data": {
      "text/plain": [
       "0"
      ]
     },
     "execution_count": 34,
     "metadata": {},
     "output_type": "execute_result"
    }
   ],
   "source": [
    "dimensions.index(200)"
   ]
  },
  {
   "cell_type": "code",
   "execution_count": 35,
   "id": "a2f2c4b3-82d0-462e-a0bd-b68a01b821a8",
   "metadata": {},
   "outputs": [
    {
     "data": {
      "text/plain": [
       "2"
      ]
     },
     "execution_count": 35,
     "metadata": {},
     "output_type": "execute_result"
    }
   ],
   "source": [
    "dimensions.index(92)"
   ]
  },
  {
   "cell_type": "markdown",
   "id": "3b98d8f7",
   "metadata": {
    "heading_collapsed": true,
    "hidden": true
   },
   "source": [
    "## `list()` with `enumerate()`"
   ]
  },
  {
   "cell_type": "code",
   "execution_count": 36,
   "id": "d83d9ab8",
   "metadata": {
    "hidden": true
   },
   "outputs": [
    {
     "name": "stdout",
     "output_type": "stream",
     "text": [
      "0 first\n",
      "1 second\n",
      "2 third\n",
      "3 fourth\n"
     ]
    }
   ],
   "source": [
    "values = ('first', 'second', 'third', 'fourth')\n",
    "for index, value in enumerate(values):\n",
    "    print(index, value)"
   ]
  },
  {
   "cell_type": "markdown",
   "id": "70287f07",
   "metadata": {
    "heading_collapsed": true,
    "hidden": true
   },
   "source": [
    "## Writing over a Tuple"
   ]
  },
  {
   "cell_type": "code",
   "execution_count": 37,
   "id": "0d25ece3",
   "metadata": {
    "hidden": true
   },
   "outputs": [
    {
     "name": "stdout",
     "output_type": "stream",
     "text": [
      "Original dimensions:\n",
      "200\n",
      "50\n",
      "88\n",
      "\n",
      "Modified dimensions:\n",
      "400\n",
      "100\n"
     ]
    }
   ],
   "source": [
    "dimensions = (200, 50, 88)\n",
    "print(\"Original dimensions:\")\n",
    "\n",
    "for dimension in dimensions:\n",
    "    print(dimension)\n",
    "\n",
    "dimensions = (400, 100)\n",
    "print(\"\\nModified dimensions:\")\n",
    "for dimension in dimensions:\n",
    "    print(dimension)"
   ]
  },
  {
   "cell_type": "markdown",
   "id": "528c97ce",
   "metadata": {
    "heading_collapsed": true
   },
   "source": [
    "# Strings"
   ]
  },
  {
   "cell_type": "markdown",
   "id": "51a09e8f",
   "metadata": {
    "hidden": true
   },
   "source": [
    "**Really??**\n",
    "- Yes, strings are ordered sequences :)"
   ]
  },
  {
   "cell_type": "code",
   "execution_count": 38,
   "id": "648d78f0",
   "metadata": {
    "hidden": true
   },
   "outputs": [
    {
     "data": {
      "text/plain": [
       "'H'"
      ]
     },
     "execution_count": 38,
     "metadata": {},
     "output_type": "execute_result"
    }
   ],
   "source": [
    "string = 'Hello Everyone'\n",
    "string[0]"
   ]
  },
  {
   "cell_type": "code",
   "execution_count": 39,
   "id": "28ab00ef",
   "metadata": {
    "hidden": true,
    "scrolled": true
   },
   "outputs": [
    {
     "ename": "TypeError",
     "evalue": "'str' object does not support item assignment",
     "output_type": "error",
     "traceback": [
      "\u001b[1;31m---------------------------------------------------------------------------\u001b[0m",
      "\u001b[1;31mTypeError\u001b[0m                                 Traceback (most recent call last)",
      "Cell \u001b[1;32mIn[39], line 1\u001b[0m\n\u001b[1;32m----> 1\u001b[0m string[\u001b[38;5;241m0\u001b[39m] \u001b[38;5;241m=\u001b[39m \u001b[38;5;124m'\u001b[39m\u001b[38;5;124mM\u001b[39m\u001b[38;5;124m'\u001b[39m\n",
      "\u001b[1;31mTypeError\u001b[0m: 'str' object does not support item assignment"
     ]
    }
   ],
   "source": [
    "string[0] = 'M' # Error, strings are immutable sequences"
   ]
  },
  {
   "cell_type": "code",
   "execution_count": 40,
   "id": "479d596b",
   "metadata": {
    "hidden": true,
    "scrolled": true
   },
   "outputs": [
    {
     "data": {
      "text/plain": [
       "3"
      ]
     },
     "execution_count": 40,
     "metadata": {},
     "output_type": "execute_result"
    }
   ],
   "source": [
    "string.count('e')"
   ]
  },
  {
   "cell_type": "code",
   "execution_count": 41,
   "id": "28fd220b",
   "metadata": {
    "hidden": true
   },
   "outputs": [
    {
     "data": {
      "text/plain": [
       "10"
      ]
     },
     "execution_count": 41,
     "metadata": {},
     "output_type": "execute_result"
    }
   ],
   "source": [
    "string.index('y')"
   ]
  },
  {
   "cell_type": "code",
   "execution_count": 42,
   "id": "c3cb2548",
   "metadata": {
    "hidden": true
   },
   "outputs": [
    {
     "ename": "SyntaxError",
     "evalue": "invalid syntax (1280888391.py, line 1)",
     "output_type": "error",
     "traceback": [
      "\u001b[1;36m  Cell \u001b[1;32mIn[42], line 1\u001b[1;36m\u001b[0m\n\u001b[1;33m    string.\u001b[0m\n\u001b[1;37m           ^\u001b[0m\n\u001b[1;31mSyntaxError\u001b[0m\u001b[1;31m:\u001b[0m invalid syntax\n"
     ]
    }
   ],
   "source": [
    "string."
   ]
  },
  {
   "cell_type": "code",
   "execution_count": 43,
   "id": "514427d6",
   "metadata": {
    "hidden": true,
    "scrolled": true
   },
   "outputs": [
    {
     "data": {
      "text/plain": [
       "['H', 'e', 'l', 'l', 'o', ' ', 'E', 'v', 'e', 'r', 'y', 'o', 'n', 'e']"
      ]
     },
     "execution_count": 43,
     "metadata": {},
     "output_type": "execute_result"
    }
   ],
   "source": [
    "list(string)"
   ]
  },
  {
   "cell_type": "code",
   "execution_count": 44,
   "id": "cb11f2fe",
   "metadata": {
    "hidden": true
   },
   "outputs": [
    {
     "data": {
      "text/plain": [
       "['__add__',\n",
       " '__class__',\n",
       " '__contains__',\n",
       " '__delattr__',\n",
       " '__dir__',\n",
       " '__doc__',\n",
       " '__eq__',\n",
       " '__format__',\n",
       " '__ge__',\n",
       " '__getattribute__',\n",
       " '__getitem__',\n",
       " '__getnewargs__',\n",
       " '__getstate__',\n",
       " '__gt__',\n",
       " '__hash__',\n",
       " '__init__',\n",
       " '__init_subclass__',\n",
       " '__iter__',\n",
       " '__le__',\n",
       " '__len__',\n",
       " '__lt__',\n",
       " '__mod__',\n",
       " '__mul__',\n",
       " '__ne__',\n",
       " '__new__',\n",
       " '__reduce__',\n",
       " '__reduce_ex__',\n",
       " '__repr__',\n",
       " '__rmod__',\n",
       " '__rmul__',\n",
       " '__setattr__',\n",
       " '__sizeof__',\n",
       " '__str__',\n",
       " '__subclasshook__',\n",
       " 'capitalize',\n",
       " 'casefold',\n",
       " 'center',\n",
       " 'count',\n",
       " 'encode',\n",
       " 'endswith',\n",
       " 'expandtabs',\n",
       " 'find',\n",
       " 'format',\n",
       " 'format_map',\n",
       " 'index',\n",
       " 'isalnum',\n",
       " 'isalpha',\n",
       " 'isascii',\n",
       " 'isdecimal',\n",
       " 'isdigit',\n",
       " 'isidentifier',\n",
       " 'islower',\n",
       " 'isnumeric',\n",
       " 'isprintable',\n",
       " 'isspace',\n",
       " 'istitle',\n",
       " 'isupper',\n",
       " 'join',\n",
       " 'ljust',\n",
       " 'lower',\n",
       " 'lstrip',\n",
       " 'maketrans',\n",
       " 'partition',\n",
       " 'removeprefix',\n",
       " 'removesuffix',\n",
       " 'replace',\n",
       " 'rfind',\n",
       " 'rindex',\n",
       " 'rjust',\n",
       " 'rpartition',\n",
       " 'rsplit',\n",
       " 'rstrip',\n",
       " 'split',\n",
       " 'splitlines',\n",
       " 'startswith',\n",
       " 'strip',\n",
       " 'swapcase',\n",
       " 'title',\n",
       " 'translate',\n",
       " 'upper',\n",
       " 'zfill']"
      ]
     },
     "execution_count": 44,
     "metadata": {},
     "output_type": "execute_result"
    }
   ],
   "source": [
    "dir(string)"
   ]
  },
  {
   "cell_type": "markdown",
   "id": "1c04e777",
   "metadata": {
    "heading_collapsed": true
   },
   "source": [
    "# [[Unordered Sequences]]"
   ]
  },
  {
   "cell_type": "markdown",
   "id": "21a4f97d",
   "metadata": {
    "heading_collapsed": true
   },
   "source": [
    "# Sets"
   ]
  },
  {
   "cell_type": "code",
   "execution_count": 99,
   "id": "b37df442",
   "metadata": {
    "hidden": true,
    "scrolled": true
   },
   "outputs": [
    {
     "data": {
      "text/plain": [
       "{1, 3, 4, 6, 8, 9}"
      ]
     },
     "execution_count": 99,
     "metadata": {},
     "output_type": "execute_result"
    }
   ],
   "source": [
    "set1 = {1, 3, 4, 4, 6, 8, 9, 9}\n",
    "set1"
   ]
  },
  {
   "cell_type": "code",
   "execution_count": 100,
   "id": "1df0e427",
   "metadata": {
    "hidden": true
   },
   "outputs": [
    {
     "data": {
      "text/plain": [
       "set"
      ]
     },
     "execution_count": 100,
     "metadata": {},
     "output_type": "execute_result"
    }
   ],
   "source": [
    "type(set1)"
   ]
  },
  {
   "cell_type": "code",
   "execution_count": 101,
   "id": "e49c317a",
   "metadata": {
    "hidden": true
   },
   "outputs": [
    {
     "data": {
      "text/plain": [
       "['one', 'one', 'two', 'three', 'three', 'four']"
      ]
     },
     "execution_count": 101,
     "metadata": {},
     "output_type": "execute_result"
    }
   ],
   "source": [
    "my_list = ['one', 'one', 'two', 'three', 'three', 'four']\n",
    "my_list"
   ]
  },
  {
   "cell_type": "code",
   "execution_count": 104,
   "id": "380266fa",
   "metadata": {
    "hidden": true,
    "scrolled": true
   },
   "outputs": [
    {
     "data": {
      "text/plain": [
       "{'four', 'one', 'three', 'two'}"
      ]
     },
     "execution_count": 104,
     "metadata": {},
     "output_type": "execute_result"
    }
   ],
   "source": [
    "# Using the set() function\n",
    "my_set = set(my_list)\n",
    "my_set"
   ]
  },
  {
   "cell_type": "code",
   "execution_count": 105,
   "id": "46e49856",
   "metadata": {
    "hidden": true
   },
   "outputs": [
    {
     "data": {
      "text/plain": [
       "['one', 'four', 'two', 'three']"
      ]
     },
     "execution_count": 105,
     "metadata": {},
     "output_type": "execute_result"
    }
   ],
   "source": [
    "list_again = list(set(my_list))\n",
    "list_again"
   ]
  },
  {
   "cell_type": "code",
   "execution_count": 50,
   "id": "f5608dfa",
   "metadata": {
    "hidden": true
   },
   "outputs": [
    {
     "data": {
      "text/plain": [
       "['__and__',\n",
       " '__class__',\n",
       " '__class_getitem__',\n",
       " '__contains__',\n",
       " '__delattr__',\n",
       " '__dir__',\n",
       " '__doc__',\n",
       " '__eq__',\n",
       " '__format__',\n",
       " '__ge__',\n",
       " '__getattribute__',\n",
       " '__getstate__',\n",
       " '__gt__',\n",
       " '__hash__',\n",
       " '__iand__',\n",
       " '__init__',\n",
       " '__init_subclass__',\n",
       " '__ior__',\n",
       " '__isub__',\n",
       " '__iter__',\n",
       " '__ixor__',\n",
       " '__le__',\n",
       " '__len__',\n",
       " '__lt__',\n",
       " '__ne__',\n",
       " '__new__',\n",
       " '__or__',\n",
       " '__rand__',\n",
       " '__reduce__',\n",
       " '__reduce_ex__',\n",
       " '__repr__',\n",
       " '__ror__',\n",
       " '__rsub__',\n",
       " '__rxor__',\n",
       " '__setattr__',\n",
       " '__sizeof__',\n",
       " '__str__',\n",
       " '__sub__',\n",
       " '__subclasshook__',\n",
       " '__xor__',\n",
       " 'add',\n",
       " 'clear',\n",
       " 'copy',\n",
       " 'difference',\n",
       " 'difference_update',\n",
       " 'discard',\n",
       " 'intersection',\n",
       " 'intersection_update',\n",
       " 'isdisjoint',\n",
       " 'issubset',\n",
       " 'issuperset',\n",
       " 'pop',\n",
       " 'remove',\n",
       " 'symmetric_difference',\n",
       " 'symmetric_difference_update',\n",
       " 'union',\n",
       " 'update']"
      ]
     },
     "execution_count": 50,
     "metadata": {},
     "output_type": "execute_result"
    }
   ],
   "source": [
    "dir(set1)"
   ]
  },
  {
   "cell_type": "code",
   "execution_count": 51,
   "id": "11ecd7cd",
   "metadata": {
    "hidden": true
   },
   "outputs": [
    {
     "data": {
      "text/plain": [
       "{1, 3, 4, 6, 8, 9, 15, 100}"
      ]
     },
     "execution_count": 51,
     "metadata": {},
     "output_type": "execute_result"
    }
   ],
   "source": [
    "set1.add(15)\n",
    "set1.add(100)\n",
    "set1.add(100)\n",
    "set1.add(100)\n",
    "set1"
   ]
  },
  {
   "cell_type": "code",
   "execution_count": 52,
   "id": "6fefee86",
   "metadata": {
    "hidden": true
   },
   "outputs": [
    {
     "name": "stdout",
     "output_type": "stream",
     "text": [
      "{1, 3}\n"
     ]
    }
   ],
   "source": [
    "# initialize my_set\n",
    "my_set = {1, 3}\n",
    "print(my_set)\n"
   ]
  },
  {
   "cell_type": "code",
   "execution_count": 53,
   "id": "908a9919",
   "metadata": {
    "hidden": true
   },
   "outputs": [
    {
     "name": "stdout",
     "output_type": "stream",
     "text": [
      "{1, 3, 4, 5, 6, 8}\n"
     ]
    }
   ],
   "source": [
    "my_set.update([4, 5], {1, 6, 8})\n",
    "print(my_set)"
   ]
  },
  {
   "cell_type": "code",
   "execution_count": 54,
   "id": "4a7bfb3e",
   "metadata": {
    "hidden": true
   },
   "outputs": [
    {
     "name": "stdout",
     "output_type": "stream",
     "text": [
      "{1, 3, 5, 6, 8}\n"
     ]
    }
   ],
   "source": [
    "my_set.discard(4)\n",
    "print(my_set)"
   ]
  },
  {
   "cell_type": "code",
   "execution_count": 55,
   "id": "1b14389a",
   "metadata": {
    "hidden": true
   },
   "outputs": [
    {
     "name": "stdout",
     "output_type": "stream",
     "text": [
      "{1, 2, 3, 4, 5, 6, 7, 8}\n",
      "{1, 2, 3, 4, 5, 6, 7, 8}\n",
      "{1, 2, 3, 4, 5, 6, 7, 8}\n"
     ]
    }
   ],
   "source": [
    "# Set union method\n",
    "# initialize A and B\n",
    "A = {1, 2, 3, 4, 5}\n",
    "B = {4, 5, 6, 7, 8}\n",
    "\n",
    "# use | operator UNION\n",
    "# Output: {1, 2, 3, 4, 5, 6, 7, 8}\n",
    "print(A | B) # A U B\n",
    "print(A.union(B))\n",
    "print(B.union(A))"
   ]
  },
  {
   "cell_type": "code",
   "execution_count": 56,
   "id": "56efe071",
   "metadata": {
    "hidden": true
   },
   "outputs": [
    {
     "name": "stdout",
     "output_type": "stream",
     "text": [
      "{4, 5}\n",
      "{4, 5}\n",
      "{4, 5}\n"
     ]
    }
   ],
   "source": [
    "# Intersection of sets\n",
    "# initialize A and B\n",
    "A = {1, 2, 3, 4, 5}\n",
    "B = {4, 5, 6, 7, 8}\n",
    "\n",
    "# use & operator INTERSECTION\n",
    "# Output: {4, 5}\n",
    "print(A & B)\n",
    "print(A.intersection(B))\n",
    "print(B.intersection(A))"
   ]
  },
  {
   "cell_type": "code",
   "execution_count": 57,
   "id": "f85c5885",
   "metadata": {
    "hidden": true
   },
   "outputs": [
    {
     "name": "stdout",
     "output_type": "stream",
     "text": [
      "{1, 2, 3}\n",
      "{1, 2, 3}\n",
      "{8, 6, 7}\n",
      "{8, 6, 7}\n"
     ]
    }
   ],
   "source": [
    "# Difference of two sets\n",
    "# initialize A and B\n",
    "A = {1, 2, 3, 4, 5}\n",
    "B = {4, 5, 6, 7, 8}\n",
    "\n",
    "# use - operator on A\n",
    "# Output: {1, 2, 3}\n",
    "print(A - B)\n",
    "print(A.difference(B))\n",
    "# !=\n",
    "print(B - A)\n",
    "print(B.difference(A))"
   ]
  },
  {
   "cell_type": "code",
   "execution_count": 58,
   "id": "7067bc3f",
   "metadata": {
    "hidden": true
   },
   "outputs": [
    {
     "name": "stdout",
     "output_type": "stream",
     "text": [
      "{1, 2, 3, 6, 7, 8}\n",
      "{1, 2, 3, 6, 7, 8}\n"
     ]
    }
   ],
   "source": [
    "# Symmetric difference of two sets\n",
    "# initialize A and B\n",
    "A = {1, 2, 3, 4, 5}\n",
    "B = {4, 5, 6, 7, 8}\n",
    "\n",
    "# use ^ operator\n",
    "# Output: {1, 2, 3, 6, 7, 8}\n",
    "print(A ^ B)\n",
    "print(A.symmetric_difference(B))"
   ]
  },
  {
   "cell_type": "code",
   "execution_count": 59,
   "id": "b5043d59",
   "metadata": {
    "hidden": true
   },
   "outputs": [
    {
     "name": "stdout",
     "output_type": "stream",
     "text": [
      "1\n",
      "2\n",
      "3\n",
      "4\n",
      "5\n"
     ]
    }
   ],
   "source": [
    "# No Index but you can loop and test\n",
    "\n",
    "for num in A:\n",
    "    print(num)"
   ]
  },
  {
   "cell_type": "code",
   "execution_count": 60,
   "id": "faa242f6",
   "metadata": {
    "hidden": true
   },
   "outputs": [
    {
     "name": "stdout",
     "output_type": "stream",
     "text": [
      "True\n",
      "False\n"
     ]
    }
   ],
   "source": [
    "print (2 in A)\n",
    "print (2 in B)"
   ]
  },
  {
   "cell_type": "code",
   "execution_count": 61,
   "id": "46301f84",
   "metadata": {
    "hidden": true
   },
   "outputs": [],
   "source": [
    "# You can also use the following methods with sets\n",
    "# enumerate()\n",
    "# max()\n",
    "# min()\n",
    "# len()\n",
    "# sum()\n",
    "# sorted()"
   ]
  },
  {
   "cell_type": "code",
   "execution_count": 223,
   "id": "dbe717e1",
   "metadata": {
    "hidden": true
   },
   "outputs": [
    {
     "data": {
      "text/plain": [
       "3"
      ]
     },
     "execution_count": 223,
     "metadata": {},
     "output_type": "execute_result"
    }
   ],
   "source": [
    "n1= 9\n",
    "array1 = [1, 2, 5, 4, 6, 7, 8, 9]\n",
    "\n",
    "\n",
    "class Solution:\n",
    "    def missingNumber(self,array,n):\n",
    "        set1 = set(array)\n",
    "        set2 = set(list(range(1,n+1)))\n",
    "        res = set2 - set1\n",
    "        res = res.pop()\n",
    "        return res                \n",
    "            \n",
    "sol = Solution()\n",
    "sol.missingNumber(array1, n1)"
   ]
  },
  {
   "cell_type": "code",
   "execution_count": null,
   "id": "57aa0bd6-69d5-4e7f-a7c9-6709afd6949e",
   "metadata": {},
   "outputs": [],
   "source": []
  },
  {
   "cell_type": "markdown",
   "id": "851616a2",
   "metadata": {
    "heading_collapsed": true
   },
   "source": [
    "# Dictionaries"
   ]
  },
  {
   "cell_type": "code",
   "execution_count": 62,
   "id": "01c39d96",
   "metadata": {
    "hidden": true
   },
   "outputs": [],
   "source": [
    "# A dictionary is a collection of a key-value pairs.\n",
    "human1 = {'height':180, 'weight':80, 'eye-color':'green', 'language':'mongolian'}"
   ]
  },
  {
   "cell_type": "code",
   "execution_count": 63,
   "id": "945782d3",
   "metadata": {
    "hidden": true,
    "scrolled": true
   },
   "outputs": [
    {
     "name": "stdout",
     "output_type": "stream",
     "text": [
      "{'height': 180, 'weight': 80, 'eye-color': 'green', 'language': 'mongolian'}\n",
      "<class 'dict'>\n"
     ]
    }
   ],
   "source": [
    "print(human1)\n",
    "print(type(human1))"
   ]
  },
  {
   "cell_type": "code",
   "execution_count": 64,
   "id": "34165384",
   "metadata": {
    "hidden": true
   },
   "outputs": [
    {
     "data": {
      "text/plain": [
       "{'height': 180, 'weight': 80, 'eye-color': 'green', 'language': 'mongolian'}"
      ]
     },
     "execution_count": 64,
     "metadata": {},
     "output_type": "execute_result"
    }
   ],
   "source": [
    "# human1 vs print(human1)\n",
    "human1"
   ]
  },
  {
   "cell_type": "code",
   "execution_count": 65,
   "id": "e5f2dc8f",
   "metadata": {
    "hidden": true
   },
   "outputs": [
    {
     "data": {
      "text/plain": [
       "['__class__',\n",
       " '__class_getitem__',\n",
       " '__contains__',\n",
       " '__delattr__',\n",
       " '__delitem__',\n",
       " '__dir__',\n",
       " '__doc__',\n",
       " '__eq__',\n",
       " '__format__',\n",
       " '__ge__',\n",
       " '__getattribute__',\n",
       " '__getitem__',\n",
       " '__getstate__',\n",
       " '__gt__',\n",
       " '__hash__',\n",
       " '__init__',\n",
       " '__init_subclass__',\n",
       " '__ior__',\n",
       " '__iter__',\n",
       " '__le__',\n",
       " '__len__',\n",
       " '__lt__',\n",
       " '__ne__',\n",
       " '__new__',\n",
       " '__or__',\n",
       " '__reduce__',\n",
       " '__reduce_ex__',\n",
       " '__repr__',\n",
       " '__reversed__',\n",
       " '__ror__',\n",
       " '__setattr__',\n",
       " '__setitem__',\n",
       " '__sizeof__',\n",
       " '__str__',\n",
       " '__subclasshook__',\n",
       " 'clear',\n",
       " 'copy',\n",
       " 'fromkeys',\n",
       " 'get',\n",
       " 'items',\n",
       " 'keys',\n",
       " 'pop',\n",
       " 'popitem',\n",
       " 'setdefault',\n",
       " 'update',\n",
       " 'values']"
      ]
     },
     "execution_count": 65,
     "metadata": {},
     "output_type": "execute_result"
    }
   ],
   "source": [
    "dir(human1)"
   ]
  },
  {
   "cell_type": "code",
   "execution_count": 66,
   "id": "cd604b8c",
   "metadata": {
    "hidden": true
   },
   "outputs": [
    {
     "data": {
      "text/plain": [
       "dict_items([('height', 180), ('weight', 80), ('eye-color', 'green'), ('language', 'mongolian')])"
      ]
     },
     "execution_count": 66,
     "metadata": {},
     "output_type": "execute_result"
    }
   ],
   "source": [
    "human1.items()"
   ]
  },
  {
   "cell_type": "code",
   "execution_count": 67,
   "id": "c9f6a395",
   "metadata": {
    "hidden": true
   },
   "outputs": [
    {
     "name": "stdout",
     "output_type": "stream",
     "text": [
      "dict_keys(['height', 'weight', 'eye-color', 'language'])\n",
      "dict_values([180, 80, 'green', 'mongolian'])\n"
     ]
    }
   ],
   "source": [
    "print(human1.keys())\n",
    "print(human1.values())"
   ]
  },
  {
   "cell_type": "code",
   "execution_count": 68,
   "id": "64d9b7bc",
   "metadata": {
    "hidden": true
   },
   "outputs": [
    {
     "data": {
      "text/plain": [
       "4"
      ]
     },
     "execution_count": 68,
     "metadata": {},
     "output_type": "execute_result"
    }
   ],
   "source": [
    "len(human1)"
   ]
  },
  {
   "cell_type": "code",
   "execution_count": 69,
   "id": "a03adb0d",
   "metadata": {
    "hidden": true
   },
   "outputs": [
    {
     "data": {
      "text/plain": [
       "{'height': 180,\n",
       " 'weight': 80,\n",
       " 'eye-color': 'green',\n",
       " 'language': 'mongolian',\n",
       " 'sex': 'male'}"
      ]
     },
     "execution_count": 69,
     "metadata": {},
     "output_type": "execute_result"
    }
   ],
   "source": [
    "human1['sex'] = 'male'\n",
    "human1"
   ]
  },
  {
   "cell_type": "code",
   "execution_count": 70,
   "id": "c0a3349d",
   "metadata": {
    "hidden": true
   },
   "outputs": [
    {
     "data": {
      "text/plain": [
       "{'height': 180,\n",
       " 'weight': 82,\n",
       " 'eye-color': 'green',\n",
       " 'language': 'mongolian',\n",
       " 'sex': 'male'}"
      ]
     },
     "execution_count": 70,
     "metadata": {},
     "output_type": "execute_result"
    }
   ],
   "source": [
    "# Modify a value\n",
    "human1['weight'] = 82\n",
    "human1"
   ]
  },
  {
   "cell_type": "code",
   "execution_count": 71,
   "id": "d8711442",
   "metadata": {
    "hidden": true
   },
   "outputs": [
    {
     "data": {
      "text/plain": [
       "{180, 82, 'green', 'male', 'mongolian'}"
      ]
     },
     "execution_count": 71,
     "metadata": {},
     "output_type": "execute_result"
    }
   ],
   "source": [
    "my_set = set(human1.values())\n",
    "my_set"
   ]
  },
  {
   "cell_type": "code",
   "execution_count": 72,
   "id": "f65e9543",
   "metadata": {
    "hidden": true
   },
   "outputs": [
    {
     "data": {
      "text/plain": [
       "{'height': 180, 'weight': 82, 'eye-color': 'green', 'language': 'mongolian'}"
      ]
     },
     "execution_count": 72,
     "metadata": {},
     "output_type": "execute_result"
    }
   ],
   "source": [
    "del human1['sex']\n",
    "human1"
   ]
  },
  {
   "cell_type": "code",
   "execution_count": 73,
   "id": "26f3e2a7",
   "metadata": {
    "hidden": true
   },
   "outputs": [],
   "source": [
    "human2 = {'hight': 160,\n",
    " 'weight': 52,\n",
    " 'eye-color': 'brown',\n",
    " 'language': 'british',\n",
    " 'sex': 'female'}"
   ]
  },
  {
   "cell_type": "code",
   "execution_count": 74,
   "id": "c2a19134",
   "metadata": {
    "hidden": true
   },
   "outputs": [
    {
     "data": {
      "text/plain": [
       "{'hight': 160,\n",
       " 'weight': 52,\n",
       " 'eye-color': 'brown',\n",
       " 'language': 'british',\n",
       " 'sex': 'female'}"
      ]
     },
     "execution_count": 74,
     "metadata": {},
     "output_type": "execute_result"
    }
   ],
   "source": [
    "human2"
   ]
  },
  {
   "cell_type": "code",
   "execution_count": 75,
   "id": "2301b871",
   "metadata": {
    "hidden": true
   },
   "outputs": [],
   "source": [
    "# list values\n",
    "human3 = {'name':'ahmed','age':45,'language':['arabic','english']}"
   ]
  },
  {
   "cell_type": "code",
   "execution_count": 76,
   "id": "d0911ec4",
   "metadata": {
    "hidden": true
   },
   "outputs": [
    {
     "data": {
      "text/plain": [
       "'english'"
      ]
     },
     "execution_count": 76,
     "metadata": {},
     "output_type": "execute_result"
    }
   ],
   "source": [
    "human3['language'][1]"
   ]
  },
  {
   "cell_type": "code",
   "execution_count": 77,
   "id": "5134c5d8",
   "metadata": {
    "hidden": true
   },
   "outputs": [
    {
     "data": {
      "text/plain": [
       "'arabic'"
      ]
     },
     "execution_count": 77,
     "metadata": {},
     "output_type": "execute_result"
    }
   ],
   "source": [
    "human3['language'][0]"
   ]
  },
  {
   "cell_type": "code",
   "execution_count": 78,
   "id": "7add4e48",
   "metadata": {
    "hidden": true
   },
   "outputs": [],
   "source": [
    "human4 = {'name':'ahmed','age':45,'language':['arabic','english'], 19:19}"
   ]
  },
  {
   "cell_type": "code",
   "execution_count": 79,
   "id": "751e5f32",
   "metadata": {
    "hidden": true
   },
   "outputs": [
    {
     "data": {
      "text/plain": [
       "{1: {'name': 'John', 'age': '27', 'sex': 'Male'},\n",
       " 2: {'name': 'Marie', 'age': '22', 'sex': 'Female'},\n",
       " 3: {'name': 'shawkat', 'age': '62', 'sex': 'Male'}}"
      ]
     },
     "execution_count": 79,
     "metadata": {},
     "output_type": "execute_result"
    }
   ],
   "source": [
    "# nested dictionaries\n",
    "# nesteddict = {1:{},\n",
    "#           2:{},\n",
    "#           3:{}\n",
    "#          }\n",
    "\n",
    "humans = {1:{'name': 'John', 'age': '27', 'sex': 'Male'},\n",
    "          2:{'name': 'Marie', 'age': '22', 'sex': 'Female'},\n",
    "          3:{'name': 'shawkat', 'age': '62', 'sex': 'Male'}\n",
    "         }\n",
    "\n",
    "humans"
   ]
  },
  {
   "cell_type": "code",
   "execution_count": 80,
   "id": "d7d72965",
   "metadata": {
    "hidden": true
   },
   "outputs": [
    {
     "data": {
      "text/plain": [
       "'27'"
      ]
     },
     "execution_count": 80,
     "metadata": {},
     "output_type": "execute_result"
    }
   ],
   "source": [
    "humans[1]['age']\n",
    "# humans[1]['name']"
   ]
  },
  {
   "cell_type": "code",
   "execution_count": 81,
   "id": "d737cb57",
   "metadata": {
    "hidden": true
   },
   "outputs": [
    {
     "name": "stdout",
     "output_type": "stream",
     "text": [
      "John Marie shawkat\n"
     ]
    }
   ],
   "source": [
    "print(humans[1]['name'],humans[2]['name'],humans[3]['name'])"
   ]
  },
  {
   "cell_type": "code",
   "execution_count": 82,
   "id": "a636bb82",
   "metadata": {
    "hidden": true
   },
   "outputs": [
    {
     "data": {
      "text/plain": [
       "{1: {'name': 'John', 'age': '27', 'sex': 'Male'},\n",
       " 2: {'name': 'Marie', 'age': '22', 'sex': 'Female'},\n",
       " 3: {'name': 'rabso', 'age': '100', 'sex': 'powder'}}"
      ]
     },
     "execution_count": 82,
     "metadata": {},
     "output_type": "execute_result"
    }
   ],
   "source": [
    "humans[3]['name'] = 'rabso'\n",
    "humans[3]['age'] = '100'\n",
    "humans[3]['sex'] = 'powder'\n",
    "humans"
   ]
  },
  {
   "cell_type": "code",
   "execution_count": 83,
   "id": "793ff6d3",
   "metadata": {
    "hidden": true
   },
   "outputs": [
    {
     "data": {
      "text/plain": [
       "{1: {'name': 'John', 'age': '27', 'sex': 'Male'},\n",
       " 2: {'name': 'Marie', 'age': '22', 'sex': 'Female'},\n",
       " 3: {'name': 'rabso', 'age': '100', 'sex': 'powder'},\n",
       " 4: {'name': 'Gamal', 'age': '47', 'married': 'No'}}"
      ]
     },
     "execution_count": 83,
     "metadata": {},
     "output_type": "execute_result"
    }
   ],
   "source": [
    "humans[4] = {'name': 'Gamal', 'age': '47', 'married':'No'}\n",
    "humans"
   ]
  },
  {
   "cell_type": "code",
   "execution_count": 84,
   "id": "d35b304d",
   "metadata": {
    "hidden": true
   },
   "outputs": [
    {
     "data": {
      "text/plain": [
       "{1: {'name': 'John', 'age': '27', 'sex': 'Male'},\n",
       " 2: {'name': 'Marie', 'age': '22', 'sex': 'Female'},\n",
       " 3: {'name': 'rabso', 'age': '100', 'sex': 'powder'},\n",
       " 4: {'name': 'Gamal', 'age': '47'}}"
      ]
     },
     "execution_count": 84,
     "metadata": {},
     "output_type": "execute_result"
    }
   ],
   "source": [
    "del humans[4]['married']\n",
    "humans"
   ]
  },
  {
   "cell_type": "code",
   "execution_count": 85,
   "id": "9b0f21aa",
   "metadata": {
    "hidden": true
   },
   "outputs": [
    {
     "data": {
      "text/plain": [
       "{1: {'name': 'John', 'age': '27', 'sex': 'Male'},\n",
       " 3: {'name': 'rabso', 'age': '100', 'sex': 'powder'}}"
      ]
     },
     "execution_count": 85,
     "metadata": {},
     "output_type": "execute_result"
    }
   ],
   "source": [
    "del humans[2], humans[4]\n",
    "humans"
   ]
  },
  {
   "cell_type": "code",
   "execution_count": null,
   "id": "87c07d51",
   "metadata": {
    "hidden": true
   },
   "outputs": [],
   "source": []
  },
  {
   "cell_type": "markdown",
   "id": "66ce2d51",
   "metadata": {
    "heading_collapsed": true
   },
   "source": [
    "# [Optional] Other Specialized Container Datatypes (Collections)"
   ]
  },
  {
   "cell_type": "markdown",
   "id": "9bd7c890",
   "metadata": {
    "hidden": true
   },
   "source": [
    "**Specialized container datatypes providing alternatives to Python’s general purpose built-in containers, dict, list, set, and tuple.**"
   ]
  },
  {
   "cell_type": "markdown",
   "id": "9f9ce816",
   "metadata": {
    "hidden": true
   },
   "source": [
    "![Python Collections](./images/7.png)"
   ]
  },
  {
   "cell_type": "markdown",
   "id": "3a55b19b",
   "metadata": {
    "hidden": true
   },
   "source": [
    "### [Python Collections](https://docs.python.org/3/library/collections.html)"
   ]
  },
  {
   "cell_type": "markdown",
   "id": "92cb1203",
   "metadata": {},
   "source": [
    "# String - A Deeper Look"
   ]
  },
  {
   "cell_type": "markdown",
   "id": "bbd5abed",
   "metadata": {},
   "source": [
    "**[Format Specification Mini-Language](https://docs.python.org/3/library/string.html)**"
   ]
  },
  {
   "cell_type": "markdown",
   "id": "4000b8a4",
   "metadata": {},
   "source": [
    "## `format()` method"
   ]
  },
  {
   "cell_type": "code",
   "execution_count": 86,
   "id": "a2e8f67a",
   "metadata": {},
   "outputs": [
    {
     "data": {
      "text/plain": [
       "'I am Ahmed and I am 54 years old'"
      ]
     },
     "execution_count": 86,
     "metadata": {},
     "output_type": "execute_result"
    }
   ],
   "source": [
    "'I am Ahmed and I am 54 years old'"
   ]
  },
  {
   "cell_type": "code",
   "execution_count": 87,
   "id": "c9e97370",
   "metadata": {},
   "outputs": [
    {
     "name": "stdout",
     "output_type": "stream",
     "text": [
      "I am Ahmed  and I am 54\n"
     ]
    }
   ],
   "source": [
    "name = 'Ahmed'\n",
    "age = 54\n",
    "\n",
    "print('I am', name, ' and I am', age)"
   ]
  },
  {
   "cell_type": "code",
   "execution_count": 106,
   "id": "e36fb814",
   "metadata": {},
   "outputs": [
    {
     "data": {
      "text/plain": [
       "'abc is c1 def is 365 hij (9, 2)'"
      ]
     },
     "execution_count": 106,
     "metadata": {},
     "output_type": "execute_result"
    }
   ],
   "source": [
    "# {} as 'replacement fields'\n",
    "'abc is {} def is {} hij {}'.format('c1', 365, (9,2))"
   ]
  },
  {
   "cell_type": "markdown",
   "id": "cfc1db1b",
   "metadata": {},
   "source": [
    "**Replacement fields have the following format:**   \n",
    "\n",
    "\n",
    "`{<argument>!<conversion>:<format-specification}`"
   ]
  },
  {
   "cell_type": "code",
   "execution_count": 107,
   "id": "c13c2686",
   "metadata": {},
   "outputs": [
    {
     "data": {
      "text/plain": [
       "'abc is 1 def is 3 hij 2 pos 2'"
      ]
     },
     "execution_count": 107,
     "metadata": {},
     "output_type": "execute_result"
    }
   ],
   "source": [
    "# positional arguments\n",
    "'abc is {0} def is {2} hij {1}'.format(1,2,3)\n",
    "'abc is {0} def is {2} hij {1} pos {1}'.format(1,2,3)"
   ]
  },
  {
   "cell_type": "code",
   "execution_count": 108,
   "id": "e0036915",
   "metadata": {},
   "outputs": [
    {
     "data": {
      "text/plain": [
       "'abc is 1 def is 2 hij 3'"
      ]
     },
     "execution_count": 108,
     "metadata": {},
     "output_type": "execute_result"
    }
   ],
   "source": [
    "# replacement fields with keyword arguments\n",
    "'abc is {a} def is {b} hij {c}'.format(a=1,b=2,c=3)"
   ]
  },
  {
   "cell_type": "code",
   "execution_count": 109,
   "id": "65b015ff",
   "metadata": {},
   "outputs": [
    {
     "data": {
      "text/plain": [
       "'abc is 2 def is 3 hij 1'"
      ]
     },
     "execution_count": 109,
     "metadata": {},
     "output_type": "execute_result"
    }
   ],
   "source": [
    "# keywargs replacement fields in different order\n",
    "'abc is {a} def is {c} hij {b}'.format(b=1,a=2,c=3)"
   ]
  },
  {
   "cell_type": "code",
   "execution_count": 110,
   "id": "621cc80b",
   "metadata": {},
   "outputs": [
    {
     "data": {
      "text/plain": [
       "'abc is L def is Ahmed'"
      ]
     },
     "execution_count": 110,
     "metadata": {},
     "output_type": "execute_result"
    }
   ],
   "source": [
    "# replacement fields can reference attributes and elements of positional arguments\n",
    "'abc is {a[3]} def is {b[0]}'.format(a='hElLo',b=['Ahmed', 'Sami'])"
   ]
  },
  {
   "cell_type": "code",
   "execution_count": 160,
   "id": "8e1073ce",
   "metadata": {},
   "outputs": [
    {
     "data": {
      "text/plain": [
       "'abc is hElLo def is Ahmed'"
      ]
     },
     "execution_count": 160,
     "metadata": {},
     "output_type": "execute_result"
    }
   ],
   "source": [
    "'abc is {a} def is {b[0]}'.format(a='hElLo',b=['Ahmed', 'Sami'])\n"
   ]
  },
  {
   "cell_type": "code",
   "execution_count": 162,
   "id": "a0048a4c-3305-450a-93e6-1d7f80d0fe78",
   "metadata": {},
   "outputs": [
    {
     "data": {
      "text/plain": [
       "'abc is Hello def is Ahmed'"
      ]
     },
     "execution_count": 162,
     "metadata": {},
     "output_type": "execute_result"
    }
   ],
   "source": [
    "# if you need  'abc is Hello def is Ahmed'\n",
    "a='hElLo'\n",
    "b=['Ahmed', 'Sami']\n",
    "f'abc is {a.title()} def is {b[0]}'"
   ]
  },
  {
   "cell_type": "code",
   "execution_count": 145,
   "id": "3787ea03",
   "metadata": {},
   "outputs": [
    {
     "data": {
      "text/plain": [
       "\"abc is 'Pyth\\\\xf6n'\""
      ]
     },
     "execution_count": 145,
     "metadata": {},
     "output_type": "execute_result"
    }
   ],
   "source": [
    "# replacement fields with conversion: 'r' [repr()], 's' [str()] or 'a' [ascii()]\n",
    "'abc is {a!a}'.format(a='Pythön')"
   ]
  },
  {
   "cell_type": "code",
   "execution_count": 146,
   "id": "80616dc5",
   "metadata": {},
   "outputs": [
    {
     "data": {
      "text/plain": [
       "'The value of pi is: 3.1416'"
      ]
     },
     "execution_count": 146,
     "metadata": {},
     "output_type": "execute_result"
    }
   ],
   "source": [
    "# replacement fields with format specification\n",
    "# float precision\n",
    "'The value of pi is: {0:.4f}'.format(3.14159265)"
   ]
  },
  {
   "cell_type": "code",
   "execution_count": 116,
   "id": "ce6bb5a0",
   "metadata": {},
   "outputs": [
    {
     "data": {
      "text/plain": [
       "'we can also zero-pad integers like this: 0020'"
      ]
     },
     "execution_count": 116,
     "metadata": {},
     "output_type": "execute_result"
    }
   ],
   "source": [
    "# replacement fields with format specification\n",
    "# float precision\n",
    "'we can also zero-pad integers like this: {:04}'.format(20)"
   ]
  },
  {
   "cell_type": "code",
   "execution_count": null,
   "id": "0a376d9f",
   "metadata": {},
   "outputs": [],
   "source": [
    "\n"
   ]
  },
  {
   "cell_type": "markdown",
   "id": "6b3c413a",
   "metadata": {},
   "source": [
    "## Formatting f-strings"
   ]
  },
  {
   "cell_type": "code",
   "execution_count": 163,
   "id": "580a53f9",
   "metadata": {
    "scrolled": true
   },
   "outputs": [
    {
     "data": {
      "text/plain": [
       "\"My name is 36, I'm John\""
      ]
     },
     "execution_count": 163,
     "metadata": {},
     "output_type": "execute_result"
    }
   ],
   "source": [
    "txt1 = \"My name is {1}, I'm {0}\".format(\"John\",  36)\n",
    "txt1"
   ]
  },
  {
   "cell_type": "code",
   "execution_count": 164,
   "id": "7059072d",
   "metadata": {},
   "outputs": [
    {
     "data": {
      "text/plain": [
       "'My name is Ahmed, I am 45'"
      ]
     },
     "execution_count": 164,
     "metadata": {},
     "output_type": "execute_result"
    }
   ],
   "source": [
    "name = 'Ahmed'\n",
    "age = 45\n",
    "\n",
    "txt1 = f\"My name is {name}, I am {age}\"\n",
    "txt1"
   ]
  },
  {
   "cell_type": "code",
   "execution_count": null,
   "id": "90d1c707",
   "metadata": {},
   "outputs": [],
   "source": []
  },
  {
   "cell_type": "code",
   "execution_count": 149,
   "id": "e72afd66",
   "metadata": {},
   "outputs": [
    {
     "data": {
      "text/plain": [
       "'17.49'"
      ]
     },
     "execution_count": 149,
     "metadata": {},
     "output_type": "execute_result"
    }
   ],
   "source": [
    "f'{17.489:.2f}' # float"
   ]
  },
  {
   "cell_type": "code",
   "execution_count": 165,
   "id": "f1082628",
   "metadata": {
    "scrolled": true
   },
   "outputs": [
    {
     "data": {
      "text/plain": [
       "'010'"
      ]
     },
     "execution_count": 165,
     "metadata": {},
     "output_type": "execute_result"
    }
   ],
   "source": [
    "f'{10:03d}' # int"
   ]
  },
  {
   "cell_type": "code",
   "execution_count": 166,
   "id": "744a0265",
   "metadata": {},
   "outputs": [
    {
     "data": {
      "text/plain": [
       "'A a'"
      ]
     },
     "execution_count": 166,
     "metadata": {},
     "output_type": "execute_result"
    }
   ],
   "source": [
    "f'{65:c} {97:c}' # chr"
   ]
  },
  {
   "cell_type": "code",
   "execution_count": 167,
   "id": "478283aa",
   "metadata": {},
   "outputs": [],
   "source": [
    "from decimal import Decimal"
   ]
  },
  {
   "cell_type": "code",
   "execution_count": 153,
   "id": "c1ccb1ae",
   "metadata": {},
   "outputs": [
    {
     "data": {
      "text/plain": [
       "'10000000000000000000000000.000'"
      ]
     },
     "execution_count": 153,
     "metadata": {},
     "output_type": "execute_result"
    }
   ],
   "source": [
    "f'{Decimal(\"10000000000000000000000000.0\"):.3f}'"
   ]
  },
  {
   "cell_type": "code",
   "execution_count": 154,
   "id": "929cc6b5",
   "metadata": {},
   "outputs": [
    {
     "data": {
      "text/plain": [
       "'1.00E+25'"
      ]
     },
     "execution_count": 154,
     "metadata": {},
     "output_type": "execute_result"
    }
   ],
   "source": [
    "f'{Decimal(\"10000000000000000000000000.0\"):.2E}'"
   ]
  },
  {
   "cell_type": "code",
   "execution_count": 155,
   "id": "1b54e11e",
   "metadata": {},
   "outputs": [
    {
     "data": {
      "text/plain": [
       "'12,345,678'"
      ]
     },
     "execution_count": 155,
     "metadata": {},
     "output_type": "execute_result"
    }
   ],
   "source": [
    "# grouping digits\n",
    "f'{12345678:,d}'"
   ]
  },
  {
   "cell_type": "code",
   "execution_count": 156,
   "id": "cb3e34ff",
   "metadata": {},
   "outputs": [
    {
     "data": {
      "text/plain": [
       "'123,456.78'"
      ]
     },
     "execution_count": 156,
     "metadata": {},
     "output_type": "execute_result"
    }
   ],
   "source": [
    "# grouping digits\n",
    "f'{123456.78:,.2f}'"
   ]
  },
  {
   "cell_type": "code",
   "execution_count": 157,
   "id": "cee8c09e",
   "metadata": {},
   "outputs": [],
   "source": [
    "# you can also format +ve and -ve signs, left, center & right aligntment, field width, etc. "
   ]
  },
  {
   "cell_type": "code",
   "execution_count": 168,
   "id": "fa3717ec",
   "metadata": {},
   "outputs": [
    {
     "data": {
      "text/plain": [
       "\"abc is HELLO def is ['falafel', 'kebda', 'ma7shi'] and also try HALLO\""
      ]
     },
     "execution_count": 168,
     "metadata": {},
     "output_type": "execute_result"
    }
   ],
   "source": [
    "# you can also use functions and methods inside replacement fields\n",
    "a = 'hElLo'\n",
    "b = ['ma7shi', 'falafel', 'kebda']\n",
    "\n",
    "f\"abc is {a.upper()} def is {sorted(b)} and also try {a.replace('E','A').upper()}\""
   ]
  },
  {
   "cell_type": "markdown",
   "id": "0ab50a51",
   "metadata": {},
   "source": [
    "## Splitting and Joining String"
   ]
  },
  {
   "cell_type": "code",
   "execution_count": 169,
   "id": "a3328d41",
   "metadata": {},
   "outputs": [
    {
     "data": {
      "text/plain": [
       "['My',\n",
       " 'favourites',\n",
       " 'hobbies',\n",
       " 'are',\n",
       " 'chess,',\n",
       " 'estimation,',\n",
       " 'reading',\n",
       " 'and',\n",
       " 'vlogging']"
      ]
     },
     "execution_count": 169,
     "metadata": {},
     "output_type": "execute_result"
    }
   ],
   "source": [
    "# str split() method\n",
    "some_text = \"My favourites hobbies are chess, estimation, reading and vlogging\"\n",
    "splitted_text = some_text.split(' ')\n",
    "splitted_text"
   ]
  },
  {
   "cell_type": "code",
   "execution_count": null,
   "id": "c4c9e856",
   "metadata": {},
   "outputs": [],
   "source": [
    "some_text = \"chess, estimation, computers, reading, handball, smoking\"\n",
    "splitted_text = some_text.split(',')\n",
    "splitted_text"
   ]
  },
  {
   "cell_type": "code",
   "execution_count": null,
   "id": "6d52737c",
   "metadata": {},
   "outputs": [],
   "source": [
    "lines = \"\"\"This is line 1\n",
    "This is line2\n",
    "This is line3\"\"\"\n",
    "lines"
   ]
  },
  {
   "cell_type": "code",
   "execution_count": null,
   "id": "39b159ca",
   "metadata": {},
   "outputs": [],
   "source": [
    "lines.splitlines()"
   ]
  },
  {
   "cell_type": "code",
   "execution_count": null,
   "id": "190f3b12",
   "metadata": {},
   "outputs": [],
   "source": [
    "lines.splitlines(True)  # to keep the line breaks"
   ]
  },
  {
   "cell_type": "code",
   "execution_count": null,
   "id": "51ab3adf",
   "metadata": {},
   "outputs": [],
   "source": [
    "# str join text \n",
    "text_list = ['chess', 'estimation', 'computers', 'reading', 'handball', 'smoking']\n",
    "','.join(text_list)"
   ]
  },
  {
   "cell_type": "code",
   "execution_count": null,
   "id": "40408a71",
   "metadata": {},
   "outputs": [],
   "source": [
    "# partition() divides string at first occurence of a char\n",
    "# thus returns a tuple\n",
    "print('Amanda: 89, 97, 92 and also mike: 30, 11'.partition(': '))"
   ]
  },
  {
   "cell_type": "markdown",
   "id": "fd6557ae",
   "metadata": {},
   "source": [
    "## Character Checks"
   ]
  },
  {
   "cell_type": "code",
   "execution_count": 95,
   "id": "92ad242b",
   "metadata": {},
   "outputs": [
    {
     "data": {
      "text/plain": [
       "False"
      ]
     },
     "execution_count": 95,
     "metadata": {},
     "output_type": "execute_result"
    }
   ],
   "source": [
    "'-27'.isdigit()"
   ]
  },
  {
   "cell_type": "code",
   "execution_count": 96,
   "id": "f7cd0ce7",
   "metadata": {},
   "outputs": [
    {
     "data": {
      "text/plain": [
       "True"
      ]
     },
     "execution_count": 96,
     "metadata": {},
     "output_type": "execute_result"
    }
   ],
   "source": [
    "'27'.isdigit()"
   ]
  },
  {
   "cell_type": "code",
   "execution_count": 97,
   "id": "7bc6d6ce",
   "metadata": {},
   "outputs": [
    {
     "data": {
      "text/plain": [
       "True"
      ]
     },
     "execution_count": 97,
     "metadata": {},
     "output_type": "execute_result"
    }
   ],
   "source": [
    "'A9876'.isalnum()"
   ]
  },
  {
   "cell_type": "code",
   "execution_count": 98,
   "id": "9adf02e4",
   "metadata": {},
   "outputs": [
    {
     "data": {
      "text/plain": [
       "False"
      ]
     },
     "execution_count": 98,
     "metadata": {},
     "output_type": "execute_result"
    }
   ],
   "source": [
    "'123 Main Street'.isalnum()"
   ]
  },
  {
   "cell_type": "markdown",
   "id": "72dc8e83",
   "metadata": {},
   "source": [
    "## Raw String"
   ]
  },
  {
   "cell_type": "code",
   "execution_count": 224,
   "id": "c11dfcf6",
   "metadata": {},
   "outputs": [],
   "source": [
    "file_path = 'C:\\\\MyFolder\\\\MySubFolder\\\\MyFile.txt'"
   ]
  },
  {
   "cell_type": "code",
   "execution_count": 225,
   "id": "16142d68",
   "metadata": {},
   "outputs": [
    {
     "data": {
      "text/plain": [
       "'C:\\\\MyFolder\\\\MySubFolder\\\\MyFile.txt'"
      ]
     },
     "execution_count": 225,
     "metadata": {},
     "output_type": "execute_result"
    }
   ],
   "source": [
    "file_path"
   ]
  },
  {
   "cell_type": "code",
   "execution_count": 226,
   "id": "958cd7a8",
   "metadata": {},
   "outputs": [
    {
     "name": "stdout",
     "output_type": "stream",
     "text": [
      "C:\\MyFolder\\MySubFolder\\MyFile.txt\n"
     ]
    }
   ],
   "source": [
    "print(file_path)"
   ]
  },
  {
   "cell_type": "code",
   "execution_count": 227,
   "id": "0774a8b9",
   "metadata": {},
   "outputs": [],
   "source": [
    "file_path = r'C:\\MyFolder\\MySubFolder\\MyFile.txt'"
   ]
  },
  {
   "cell_type": "code",
   "execution_count": 228,
   "id": "8c786f31",
   "metadata": {},
   "outputs": [
    {
     "data": {
      "text/plain": [
       "'C:\\\\MyFolder\\\\MySubFolder\\\\MyFile.txt'"
      ]
     },
     "execution_count": 228,
     "metadata": {},
     "output_type": "execute_result"
    }
   ],
   "source": [
    "file_path"
   ]
  },
  {
   "cell_type": "code",
   "execution_count": 229,
   "id": "43ab18c3",
   "metadata": {
    "scrolled": true
   },
   "outputs": [
    {
     "name": "stdout",
     "output_type": "stream",
     "text": [
      "C:\\MyFolder\\MySubFolder\\MyFile.txt\n"
     ]
    }
   ],
   "source": [
    "print(file_path)"
   ]
  },
  {
   "cell_type": "code",
   "execution_count": null,
   "id": "7a8b37f6",
   "metadata": {},
   "outputs": [],
   "source": []
  },
  {
   "cell_type": "markdown",
   "id": "5e39b444",
   "metadata": {},
   "source": [
    "# `if...else` and `if...elif...else` Statements"
   ]
  },
  {
   "cell_type": "code",
   "execution_count": 230,
   "id": "62c95289",
   "metadata": {
    "scrolled": true
   },
   "outputs": [
    {
     "name": "stdout",
     "output_type": "stream",
     "text": [
      "Yes it is\n"
     ]
    }
   ],
   "source": [
    "car = 'bmw'\n",
    "\n",
    "if car == 'bmw':\n",
    "    print ('Yes it is')\n"
   ]
  },
  {
   "cell_type": "code",
   "execution_count": 231,
   "id": "d04a8499",
   "metadata": {},
   "outputs": [
    {
     "name": "stdout",
     "output_type": "stream",
     "text": [
      "Yes it is\n"
     ]
    }
   ],
   "source": [
    "car = 'bmw'\n",
    "\n",
    "if True:\n",
    "    print ('Yes it is')\n"
   ]
  },
  {
   "cell_type": "code",
   "execution_count": 232,
   "id": "d9ea37e2",
   "metadata": {},
   "outputs": [],
   "source": [
    "# if <conditional test>:\n",
    "#    <do something>\n",
    "#else:\n",
    "#    <do something else>"
   ]
  },
  {
   "cell_type": "code",
   "execution_count": 233,
   "id": "7a3157ac",
   "metadata": {},
   "outputs": [],
   "source": [
    "# if (bool(<something>) == True):\n",
    "#     do something..."
   ]
  },
  {
   "cell_type": "code",
   "execution_count": 234,
   "id": "7cfee965",
   "metadata": {},
   "outputs": [
    {
     "name": "stdout",
     "output_type": "stream",
     "text": [
      "Yes it is\n"
     ]
    }
   ],
   "source": [
    "# why does this still work? or does it?\n",
    "\n",
    "car = 1\n",
    "\n",
    "if car:\n",
    "    print ('Yes it is')\n"
   ]
  },
  {
   "cell_type": "code",
   "execution_count": 235,
   "id": "7dc921cb",
   "metadata": {},
   "outputs": [
    {
     "name": "stdout",
     "output_type": "stream",
     "text": [
      "Nonzero values are true, so this will print\n"
     ]
    }
   ],
   "source": [
    "if 1:\n",
    "    print('Nonzero values are true, so this will print')"
   ]
  },
  {
   "cell_type": "code",
   "execution_count": 236,
   "id": "9e09ce7a",
   "metadata": {},
   "outputs": [],
   "source": [
    "if 0:\n",
    "    print('Zero is false, so this will not print')"
   ]
  },
  {
   "cell_type": "code",
   "execution_count": 237,
   "id": "ed908ecc",
   "metadata": {},
   "outputs": [],
   "source": [
    "# consider standardizing string when used in conditional tests (i.e case, stripping, etc.)"
   ]
  },
  {
   "cell_type": "code",
   "execution_count": 238,
   "id": "7b907a10",
   "metadata": {},
   "outputs": [],
   "source": [
    "# remember that 'is', 'is not', 'not', 'in', 'and', 'or', chaining ops can all be used for comparison"
   ]
  },
  {
   "cell_type": "code",
   "execution_count": 242,
   "id": "af53bc97",
   "metadata": {},
   "outputs": [
    {
     "name": "stdin",
     "output_type": "stream",
     "text": [
      "How old are you? 55\n"
     ]
    },
    {
     "name": "stdout",
     "output_type": "stream",
     "text": [
      "You are still young!!\n"
     ]
    }
   ],
   "source": [
    "age = int(input('How old are you?'))\n",
    "\n",
    "if 60 >= age >= 45:\n",
    "    print(\"You are still young!!\")\n",
    "        "
   ]
  },
  {
   "cell_type": "code",
   "execution_count": 243,
   "id": "23cfde33",
   "metadata": {},
   "outputs": [],
   "source": [
    "# if...else"
   ]
  },
  {
   "cell_type": "code",
   "execution_count": 245,
   "id": "0996c6dd",
   "metadata": {},
   "outputs": [
    {
     "name": "stdin",
     "output_type": "stream",
     "text": [
      "How old are you? 34\n"
     ]
    },
    {
     "name": "stdout",
     "output_type": "stream",
     "text": [
      "Sorry!\n"
     ]
    }
   ],
   "source": [
    "age = int(input('How old are you?'))\n",
    "\n",
    "if 60 >= age >= 45:\n",
    "    print(\"You are still young!!\")\n",
    "else:\n",
    "    print(\"Sorry!\")"
   ]
  },
  {
   "cell_type": "code",
   "execution_count": 246,
   "id": "fc7af69c",
   "metadata": {},
   "outputs": [],
   "source": [
    "# if...elif..else chain"
   ]
  },
  {
   "cell_type": "code",
   "execution_count": null,
   "id": "d83e0deb",
   "metadata": {
    "scrolled": true
   },
   "outputs": [],
   "source": [
    "age = int(input('How old are you?'))\n",
    "\n",
    "if 60 >= float(age) >= 45:\n",
    "    print(\"You are still young!!\")\n",
    "elif age < 45:\n",
    "    print(\"Too young ya man!\")\n",
    "else:\n",
    "    print(\"A bit old\")"
   ]
  },
  {
   "cell_type": "code",
   "execution_count": 247,
   "id": "bea32e21",
   "metadata": {},
   "outputs": [
    {
     "name": "stdout",
     "output_type": "stream",
     "text": [
      "B\n"
     ]
    }
   ],
   "source": [
    "grade = 80\n",
    "\n",
    "if grade >= 90:\n",
    "    print('A')\n",
    "elif grade >= 80:\n",
    "    print('B')\n",
    "elif grade >= 70:\n",
    "    print('C')\n",
    "elif grade >= 60:\n",
    "    print('D')\n",
    "else:\n",
    "    print('F')"
   ]
  },
  {
   "cell_type": "code",
   "execution_count": 248,
   "id": "cebb2f2e",
   "metadata": {},
   "outputs": [
    {
     "name": "stdin",
     "output_type": "stream",
     "text": [
      "How old are you? 87\n",
      "Enta mneen yaad? jhjh\n"
     ]
    },
    {
     "name": "stdout",
     "output_type": "stream",
     "text": [
      "ahlan\n"
     ]
    }
   ],
   "source": [
    "# multiple tests\n",
    "\n",
    "age = int(input('How old are you?'))\n",
    "country = input('Enta mneen yaad?')\n",
    "    \n",
    "if 60 >= float(age) >= 45 and country.lower() == 'egypt':\n",
    "    print(\"kafa2a\")\n",
    "else:\n",
    "    print(\"ahlan\")\n"
   ]
  },
  {
   "cell_type": "code",
   "execution_count": 249,
   "id": "5285e601",
   "metadata": {
    "scrolled": true
   },
   "outputs": [
    {
     "name": "stdin",
     "output_type": "stream",
     "text": [
      "Enta mneen yaad? ijk\n",
      "Enta ragel yaad? kjk\n"
     ]
    },
    {
     "name": "stdout",
     "output_type": "stream",
     "text": [
      "Ahlan beeky\n"
     ]
    }
   ],
   "source": [
    "# try flags\n",
    "\n",
    "country = input('Enta mneen yaad?')\n",
    "gender = input('Enta ragel yaad?')\n",
    "\n",
    "flags = ''\n",
    "\n",
    "if country.lower() == 'egypt':\n",
    "    flags += 'p'\n",
    "#    print (flags)\n",
    "if gender.lower() == 'male':\n",
    "    flags += 'm'\n",
    "#    print (flags)\n",
    "else:\n",
    "    flags += 'f'\n",
    "\n",
    "if flags == 'pm':\n",
    "    print ('Ahlan beek')\n",
    "else:\n",
    "    print ('Ahlan beeky')\n"
   ]
  },
  {
   "cell_type": "code",
   "execution_count": 250,
   "id": "59ea11fc",
   "metadata": {},
   "outputs": [],
   "source": [
    "# "
   ]
  },
  {
   "cell_type": "code",
   "execution_count": 252,
   "id": "caf31d31",
   "metadata": {},
   "outputs": [
    {
     "name": "stdin",
     "output_type": "stream",
     "text": [
      "How old are you? 66\n",
      "Enta mneen yaad? hjhkj\n"
     ]
    },
    {
     "name": "stdout",
     "output_type": "stream",
     "text": [
      "mashi\n"
     ]
    }
   ],
   "source": [
    "# nesting if stmnt\n",
    "\n",
    "# if 60 >= float(age) >= 45 and country.lower() == 'egypt':\n",
    "#     print(\"kafa2a\")\n",
    "#  else:\n",
    "#     print(\"ahlan\")\n",
    "\n",
    "#\n",
    "\n",
    "age = int(input('How old are you?'))\n",
    "country = input('Enta mneen yaad?')\n",
    "\n",
    "if 60 >= float(age) >= 45:\n",
    "    if  country.lower() == 'egypt':\n",
    "        print (\"You are an Egyptian yound man\")\n",
    "    else:\n",
    "        print (\"You are a young man bas\")\n",
    "else:\n",
    "    print (\"mashi\")"
   ]
  },
  {
   "cell_type": "code",
   "execution_count": 253,
   "id": "aefde493",
   "metadata": {},
   "outputs": [
    {
     "data": {
      "text/plain": [
       "'Passed'"
      ]
     },
     "execution_count": 253,
     "metadata": {},
     "output_type": "execute_result"
    }
   ],
   "source": [
    "# Conditional Expressions\n",
    "\n",
    "grade = 87\n",
    "\n",
    "if grade >= 60:\n",
    "    result = 'Passed'\n",
    "else:\n",
    "    result = 'Failed'\n",
    "\n",
    "result"
   ]
  },
  {
   "cell_type": "code",
   "execution_count": 254,
   "id": "141b9fdd",
   "metadata": {},
   "outputs": [
    {
     "data": {
      "text/plain": [
       "'Passed'"
      ]
     },
     "execution_count": 254,
     "metadata": {},
     "output_type": "execute_result"
    }
   ],
   "source": [
    "'Passed' if grade >= 60 else 'Failed'"
   ]
  },
  {
   "cell_type": "code",
   "execution_count": 256,
   "id": "7c751a50",
   "metadata": {},
   "outputs": [
    {
     "name": "stdin",
     "output_type": "stream",
     "text": [
      "Enter an integer: 56\n"
     ]
    },
    {
     "data": {
      "text/plain": [
       "'even'"
      ]
     },
     "execution_count": 256,
     "metadata": {},
     "output_type": "execute_result"
    }
   ],
   "source": [
    "'even' if int(input('Enter an integer:')) % 2 == 0 else 'odd'"
   ]
  },
  {
   "cell_type": "code",
   "execution_count": 257,
   "id": "477061e6",
   "metadata": {
    "scrolled": true
   },
   "outputs": [
    {
     "name": "stdin",
     "output_type": "stream",
     "text": [
      "Enter an integer: 88\n"
     ]
    },
    {
     "data": {
      "text/plain": [
       "[2, 4, 6]"
      ]
     },
     "execution_count": 257,
     "metadata": {},
     "output_type": "execute_result"
    }
   ],
   "source": [
    "[2,4,6] if int(input('Enter an integer:')) % 2 == 0 else [1,3,5]"
   ]
  },
  {
   "cell_type": "code",
   "execution_count": 258,
   "id": "77e23820",
   "metadata": {},
   "outputs": [],
   "source": [
    "# if..elif..else expression"
   ]
  },
  {
   "cell_type": "code",
   "execution_count": 259,
   "id": "13defbda",
   "metadata": {},
   "outputs": [
    {
     "data": {
      "text/plain": [
       "'A'"
      ]
     },
     "execution_count": 259,
     "metadata": {},
     "output_type": "execute_result"
    }
   ],
   "source": [
    "grade = 90\n",
    "\n",
    "# if grade >= 90:\n",
    "#     print('A')\n",
    "# elif grade >= 80:\n",
    "#     print('B')\n",
    "# elif grade >= 70:\n",
    "#     print('C')\n",
    "# elif grade >= 60:\n",
    "#     print('D')\n",
    "# else:\n",
    "#     print('F')\n",
    "\n",
    "'A' if grade >= 90 else ( 'B' if grade >= 80 else ( 'C' if grade >= 70 else ( 'D' if grade >= 60 else 'F')) )"
   ]
  },
  {
   "cell_type": "code",
   "execution_count": 260,
   "id": "99bf7e2a",
   "metadata": {},
   "outputs": [
    {
     "data": {
      "text/plain": [
       "[1, 20, 3, 40, 5, 60, 7, 80, 9, 100, 11, 120, 13, 140]"
      ]
     },
     "execution_count": 260,
     "metadata": {},
     "output_type": "execute_result"
    }
   ],
   "source": [
    "# list comprehensions\n",
    "\n",
    "l = [i * 10 if i % 2 == 0 else i for i in range(1,15)]\n",
    "l"
   ]
  },
  {
   "cell_type": "code",
   "execution_count": 262,
   "id": "5befd31c",
   "metadata": {},
   "outputs": [],
   "source": [
    "# pass statement\n",
    "# to change the if stmnt later\n",
    "\n",
    "if True:\n",
    "    pass\n"
   ]
  },
  {
   "cell_type": "code",
   "execution_count": null,
   "id": "f75b7609",
   "metadata": {},
   "outputs": [],
   "source": []
  },
  {
   "cell_type": "markdown",
   "id": "e2ae140b",
   "metadata": {},
   "source": [
    "# `for` and `while` Loops"
   ]
  },
  {
   "cell_type": "markdown",
   "id": "54dacfb1",
   "metadata": {},
   "source": [
    "## `while` statement"
   ]
  },
  {
   "cell_type": "code",
   "execution_count": null,
   "id": "a81e90ec",
   "metadata": {},
   "outputs": [],
   "source": [
    "# cont. if stmnt logic\n",
    "\n",
    "# while True:\n",
    "#    <do something then repeat UNTIL condition is False >\n",
    "\n",
    "counter = 1\n",
    "\n",
    "while counter < 90:\n",
    "    counter += 3\n",
    "\n",
    "counter"
   ]
  },
  {
   "cell_type": "code",
   "execution_count": null,
   "id": "b9208e61",
   "metadata": {},
   "outputs": [],
   "source": [
    "counter = 1\n",
    "\n",
    "while counter < 90:\n",
    "    print(f'[{counter}', end=' ')\n",
    "    counter *= 3\n",
    "    print (f'{counter}]', end=' ')\n",
    "\n",
    "#counter"
   ]
  },
  {
   "cell_type": "code",
   "execution_count": null,
   "id": "9cd90702",
   "metadata": {},
   "outputs": [],
   "source": [
    "my_list = ['foul', 'flafel', 'batates', 'pickles', 'koshary', 'betengan']\n",
    "\n",
    "while len(my_list) > 0:\n",
    "    print(my_list[-1])\n",
    "    my_list.pop()\n",
    "    print(my_list)\n",
    "    print('--')\n",
    "    \n",
    "print('---\\nalf hana ya brens:)')"
   ]
  },
  {
   "cell_type": "code",
   "execution_count": null,
   "id": "0430bcab",
   "metadata": {
    "scrolled": true
   },
   "outputs": [],
   "source": [
    "# combine while and if\n",
    "# why use a break statement?\n",
    "\n",
    "#user_input = ''\n",
    "retries = 1\n",
    "\n",
    "while retries <= 3:\n",
    "    user_input = input('type a number: ')\n",
    "    if not user_input.isdigit():\n",
    "        retries += 1\n",
    "    else:\n",
    "        print(\n",
    "            f'Finally! the square root of the number you entered is {(int(user_input)**(1/2)):.4f}'\n",
    "        )\n",
    "        break\n",
    "\n",
    "if retries > 2:\n",
    "    print('rabbena yehdeek')"
   ]
  },
  {
   "cell_type": "code",
   "execution_count": null,
   "id": "c84b5708",
   "metadata": {},
   "outputs": [],
   "source": [
    "# combine while and if\n",
    "# why use a break statement?\n",
    "\n",
    "#user_input = ''\n",
    "retries = 1\n",
    "\n",
    "while True:\n",
    "    user_input = input('type a number: ')\n",
    "    if not user_input.isdigit():\n",
    "        retries += 1\n",
    "    else:\n",
    "        print(\n",
    "            f'Finally! the square root of the number you entered is {(int(user_input)**(1/2)):.4f}'\n",
    "        )\n",
    "        break\n",
    "\n",
    "if retries > 2:\n",
    "    print('rabbena yehdeek')"
   ]
  },
  {
   "cell_type": "markdown",
   "id": "a59a70ad",
   "metadata": {},
   "source": [
    "## `for` Loop"
   ]
  },
  {
   "cell_type": "code",
   "execution_count": null,
   "id": "bce2f216",
   "metadata": {},
   "outputs": [],
   "source": [
    "# iterate through iterable\n",
    "foods = ['foul', 'falafel', 'batates', 'pickles', 'koshary', 'betengan']\n",
    "\n",
    "for food in foods:\n",
    "    print(food)"
   ]
  },
  {
   "cell_type": "code",
   "execution_count": null,
   "id": "94c5f25f",
   "metadata": {},
   "outputs": [],
   "source": [
    "some_text = 'This is a string'\n",
    "\n",
    "for letter in some_text:\n",
    "    print(f'{letter}')"
   ]
  },
  {
   "cell_type": "code",
   "execution_count": null,
   "id": "223dbd77",
   "metadata": {},
   "outputs": [],
   "source": [
    "foods_set = {'foul', 'falafel', 'batates', 'pickles', 'koshary', 'betengan'}\n",
    "foods_tuple = ('foul', 'flafel', 'batates', 'pickles', 'koshary', 'betengan')\n",
    "foods_dictionary = {\n",
    "    '1': 'foul',\n",
    "    '2': 'falafel',\n",
    "    '3': 'batates',\n",
    "    '4': 'pickles',\n",
    "    '5': 'koshary',\n",
    "    '6': 'betengan'\n",
    "}\n",
    "\n",
    "for food in foods_set:\n",
    "    print(food)\n",
    "\n",
    "print('-----')"
   ]
  },
  {
   "cell_type": "code",
   "execution_count": null,
   "id": "4ac9ce10",
   "metadata": {},
   "outputs": [],
   "source": [
    "# for food in foods_tuple:\n",
    "#     print(food)\n",
    "# print('----')\n",
    "\n",
    "for index, food in enumerate(foods_tuple):\n",
    "    print(index, food)"
   ]
  },
  {
   "cell_type": "code",
   "execution_count": null,
   "id": "07ae18d9",
   "metadata": {},
   "outputs": [],
   "source": [
    "for food in enumerate(foods_dictionary.values()):\n",
    "    print(food[1])"
   ]
  },
  {
   "cell_type": "code",
   "execution_count": null,
   "id": "5641b9d3",
   "metadata": {},
   "outputs": [],
   "source": [
    "# (0, ('1', 'foul'))\n",
    "\n",
    "for counter, (index, value) in list(enumerate(foods_dictionary.items())):\n",
    "    print (f'{index} {value}')"
   ]
  },
  {
   "cell_type": "code",
   "execution_count": null,
   "id": "c8eea66e",
   "metadata": {},
   "outputs": [],
   "source": []
  },
  {
   "cell_type": "code",
   "execution_count": null,
   "id": "e3af6204",
   "metadata": {},
   "outputs": [],
   "source": [
    "for index, item in list(enumerate(foods_dictionary.values())):\n",
    "    print(index, item)"
   ]
  },
  {
   "cell_type": "code",
   "execution_count": null,
   "id": "a7e3fb4d",
   "metadata": {
    "scrolled": true
   },
   "outputs": [],
   "source": [
    "for counter, (index, food) in enumerate(foods_dictionary.items()):\n",
    "    print(index, food)"
   ]
  },
  {
   "cell_type": "code",
   "execution_count": null,
   "id": "61b7b5bf",
   "metadata": {},
   "outputs": [],
   "source": [
    "# range()\n",
    "for counter in range(1,22):\n",
    "    if counter % 2 != 0:\n",
    "        print(f'{counter} is odd')\n",
    "    else:\n",
    "        print(f'{counter} is even')"
   ]
  },
  {
   "cell_type": "code",
   "execution_count": null,
   "id": "ed63faf6",
   "metadata": {},
   "outputs": [],
   "source": [
    "# break statement "
   ]
  },
  {
   "cell_type": "code",
   "execution_count": null,
   "id": "b55ea3a0",
   "metadata": {},
   "outputs": [],
   "source": [
    "foods = ['foul', 'falafel', 'batates', 'pickles', 'koshary', 'betengan']\n",
    "\n",
    "for food in foods:\n",
    "\n",
    "    if food == 'pickles':\n",
    "        print('tamam keda :)')\n",
    "        break\n",
    "    print(food)"
   ]
  },
  {
   "cell_type": "code",
   "execution_count": null,
   "id": "49f7d90b",
   "metadata": {},
   "outputs": [],
   "source": [
    "# nested for with if\n",
    "# prime numbers\n",
    "\n",
    "for n in range(2, 10):\n",
    "    for x in range(2, n):\n",
    "        if n % x == 0:\n",
    "            print(n, 'equals', x, '*', n // x)\n",
    "            break\n",
    "    else:\n",
    "        # loop fell through without finding a factor\n",
    "        print(n, 'is a prime number')"
   ]
  },
  {
   "cell_type": "code",
   "execution_count": null,
   "id": "e655f322",
   "metadata": {},
   "outputs": [],
   "source": [
    "# continue statement\n",
    "# range()\n",
    "for counter in range(1,22):\n",
    "    if counter % 2 == 0:\n",
    "        print(f'{counter} is even')\n",
    "    else:\n",
    "        print(f'{counter} is odd')"
   ]
  },
  {
   "cell_type": "code",
   "execution_count": null,
   "id": "d67b434a",
   "metadata": {},
   "outputs": [],
   "source": [
    "for counter in range(1,22):\n",
    "    if counter % 2 == 0:\n",
    "        print(f'{counter} is even')\n",
    "        continue\n",
    "    print(f'{counter} is odd')"
   ]
  },
  {
   "cell_type": "code",
   "execution_count": null,
   "id": "ec83386d",
   "metadata": {},
   "outputs": [],
   "source": [
    "for letter in \"This is a simple string\":\n",
    "    if letter == 'i':\n",
    "        continue\n",
    "#         pass\n",
    "    print(letter)"
   ]
  },
  {
   "cell_type": "code",
   "execution_count": null,
   "id": "8b34bd1c",
   "metadata": {},
   "outputs": [],
   "source": [
    "# else statement with for?"
   ]
  },
  {
   "cell_type": "code",
   "execution_count": null,
   "id": "ae0d65a6",
   "metadata": {},
   "outputs": [],
   "source": [
    "for num in range (20):\n",
    "    if num % 3 == 0:\n",
    "        print(f'{num} is dividable by 3')\n",
    "else:\n",
    "    print(num)"
   ]
  },
  {
   "cell_type": "code",
   "execution_count": null,
   "id": "4aa533b1",
   "metadata": {},
   "outputs": [],
   "source": []
  },
  {
   "cell_type": "markdown",
   "id": "d3e148c6",
   "metadata": {},
   "source": [
    "# Example: Word Count"
   ]
  },
  {
   "cell_type": "code",
   "execution_count": null,
   "id": "45de3cce",
   "metadata": {},
   "outputs": [],
   "source": [
    "text = ('this is sample text with several words '\n",
    "        'this is more sample text with some different words '\n",
    "        'that is also another text with other different words'\n",
    "       )\n",
    "text"
   ]
  },
  {
   "cell_type": "code",
   "execution_count": null,
   "id": "b17bf8ed",
   "metadata": {},
   "outputs": [],
   "source": [
    "text.split()"
   ]
  },
  {
   "cell_type": "code",
   "execution_count": null,
   "id": "53f75de1",
   "metadata": {},
   "outputs": [],
   "source": [
    "word_counts = {}"
   ]
  },
  {
   "cell_type": "code",
   "execution_count": null,
   "id": "99bedab0",
   "metadata": {},
   "outputs": [],
   "source": [
    "\n",
    "word = 'this'\n",
    "\n",
    "if word in word_counts:\n",
    "    word_counts[word] += 1    \n",
    "else:\n",
    "    word_counts[word] = 1\n",
    "\n",
    "print(word_counts)"
   ]
  },
  {
   "cell_type": "code",
   "execution_count": null,
   "id": "9b303083",
   "metadata": {},
   "outputs": [],
   "source": [
    "word_counts = {}\n",
    "\n",
    "for word in text.split():\n",
    "    if word in word_counts:\n",
    "        word_counts[word] += 1    \n",
    "    else:\n",
    "        word_counts[word] = 1\n",
    "\n",
    "# print(word_counts)\n",
    "# print(word_counts.items())\n",
    "\n",
    "for word, count in sorted(word_counts.items()):\n",
    "    print(f'{word:<12} : {count}')\n",
    "    \n",
    "print(len(word_counts))"
   ]
  },
  {
   "cell_type": "code",
   "execution_count": null,
   "id": "c2aae317",
   "metadata": {},
   "outputs": [],
   "source": []
  },
  {
   "cell_type": "markdown",
   "id": "9fafe737",
   "metadata": {},
   "source": [
    "### Python Standard Library Module `collections`"
   ]
  },
  {
   "cell_type": "code",
   "execution_count": null,
   "id": "e7842625",
   "metadata": {},
   "outputs": [],
   "source": [
    "from collections import Counter"
   ]
  },
  {
   "cell_type": "code",
   "execution_count": null,
   "id": "08f4c78c",
   "metadata": {},
   "outputs": [],
   "source": [
    "text = ('this is sample text with several words '\n",
    "        'this is more sample text with some different words')"
   ]
  },
  {
   "cell_type": "code",
   "execution_count": null,
   "id": "44043ccd",
   "metadata": {},
   "outputs": [],
   "source": [
    "print(type(text.split()))"
   ]
  },
  {
   "cell_type": "code",
   "execution_count": null,
   "id": "dbe48385",
   "metadata": {},
   "outputs": [],
   "source": [
    "counter = Counter(text.split())"
   ]
  },
  {
   "cell_type": "code",
   "execution_count": null,
   "id": "ed42f96a",
   "metadata": {},
   "outputs": [],
   "source": [
    "counter"
   ]
  },
  {
   "cell_type": "code",
   "execution_count": null,
   "id": "f6d8f6e8",
   "metadata": {},
   "outputs": [],
   "source": [
    "for word, count in sorted(counter.items()):\n",
    "    print(f'{word:<12}{count}')"
   ]
  },
  {
   "cell_type": "code",
   "execution_count": null,
   "id": "7e07769b",
   "metadata": {},
   "outputs": [],
   "source": [
    "print('Number of unique keys:', len(counter.keys()))"
   ]
  },
  {
   "cell_type": "code",
   "execution_count": 170,
   "id": "f0720e42",
   "metadata": {},
   "outputs": [
    {
     "name": "stdout",
     "output_type": "stream",
     "text": [
      "22.4 ns ± 3.31 ns per loop (mean ± std. dev. of 7 runs, 10,000,000 loops each)\n"
     ]
    }
   ],
   "source": [
    "%%timeit\n",
    "pass"
   ]
  },
  {
   "cell_type": "raw",
   "id": "1a1c0b5a-07bd-46f6-8988-8be5c4fb333e",
   "metadata": {},
   "source": []
  },
  {
   "cell_type": "markdown",
   "id": "25fe1cb5",
   "metadata": {},
   "source": [
    "# Functions"
   ]
  },
  {
   "cell_type": "code",
   "execution_count": 173,
   "id": "1b5c8b9c",
   "metadata": {},
   "outputs": [],
   "source": [
    "# block of code to perform a task"
   ]
  },
  {
   "cell_type": "raw",
   "id": "e6cc4cd9-5013-4470-8995-e580a65d3721",
   "metadata": {},
   "source": []
  },
  {
   "cell_type": "code",
   "execution_count": null,
   "id": "3aa6e032",
   "metadata": {},
   "outputs": [],
   "source": [
    "# block of code to perform a task\n",
    "name = input('اسمك ايه ياض؟: ')\n",
    "print(f'راجل يا {name}')"
   ]
  },
  {
   "cell_type": "code",
   "execution_count": null,
   "id": "a73053c1",
   "metadata": {},
   "outputs": [],
   "source": [
    "# function definition\n",
    "def greeting():\n",
    "    name = input('What is your name?')\n",
    "    print(f'Welcome to Python {name}')"
   ]
  },
  {
   "cell_type": "code",
   "execution_count": null,
   "id": "cff46266",
   "metadata": {},
   "outputs": [],
   "source": [
    "# function call\n",
    "greeting()"
   ]
  },
  {
   "cell_type": "code",
   "execution_count": null,
   "id": "400f1a7c",
   "metadata": {},
   "outputs": [],
   "source": [
    "# passing arguments\n",
    "def greeting(username):\n",
    "    print(f'Welcome to Python Mr. {username.title()}!')"
   ]
  },
  {
   "cell_type": "code",
   "execution_count": null,
   "id": "0f0f2d9a",
   "metadata": {},
   "outputs": [],
   "source": [
    "# call \n",
    "greeting('ahmed')"
   ]
  },
  {
   "cell_type": "code",
   "execution_count": null,
   "id": "a4e4113b",
   "metadata": {},
   "outputs": [],
   "source": [
    "# passing multiple arguments\n",
    "def pets(owner_name, pet_name):\n",
    "    print(f'Hi {owner_name.title()} please take care of {pet_name.title()}!')"
   ]
  },
  {
   "cell_type": "code",
   "execution_count": null,
   "id": "74d356b8",
   "metadata": {},
   "outputs": [],
   "source": [
    "pets('ahmed', 'Sultan')"
   ]
  },
  {
   "cell_type": "code",
   "execution_count": null,
   "id": "af23be91",
   "metadata": {},
   "outputs": [],
   "source": [
    "pets('sultan', 'ahMed')"
   ]
  },
  {
   "cell_type": "code",
   "execution_count": null,
   "id": "35bb4e0b",
   "metadata": {},
   "outputs": [],
   "source": [
    "# keyward arguments\n",
    "pets(pet_name='sultan', owner_name='ahmed')"
   ]
  },
  {
   "cell_type": "code",
   "execution_count": null,
   "id": "0facd970",
   "metadata": {},
   "outputs": [],
   "source": [
    "# default values\n",
    "\n",
    "pets('ahmed') # error"
   ]
  },
  {
   "cell_type": "code",
   "execution_count": null,
   "id": "0085b276",
   "metadata": {},
   "outputs": [],
   "source": [
    "def pets(owner_name, pet_name = 'sultan'):\n",
    "    print(f'Hi {owner_name.title()} please take care of {pet_name.title()}!')"
   ]
  },
  {
   "cell_type": "code",
   "execution_count": null,
   "id": "ecf57956",
   "metadata": {},
   "outputs": [],
   "source": [
    "pets('ahmed')"
   ]
  },
  {
   "cell_type": "code",
   "execution_count": null,
   "id": "63e712d1",
   "metadata": {},
   "outputs": [],
   "source": [
    "# return values\n",
    "# what is the type of the output?"
   ]
  },
  {
   "cell_type": "code",
   "execution_count": null,
   "id": "abedc026",
   "metadata": {},
   "outputs": [],
   "source": [
    "def pets(owner_name = 'ahmed', pet_name = 'sultan'):\n",
    "    advice = f'Hi {owner_name.title()} please take care of {pet_name.title()}!'\n",
    "    return advice\n"
   ]
  },
  {
   "cell_type": "code",
   "execution_count": null,
   "id": "638582bc",
   "metadata": {},
   "outputs": [],
   "source": [
    "pets()"
   ]
  },
  {
   "cell_type": "code",
   "execution_count": null,
   "id": "28b79c81",
   "metadata": {},
   "outputs": [],
   "source": [
    "type(pets())"
   ]
  },
  {
   "cell_type": "code",
   "execution_count": null,
   "id": "54a6b9e4",
   "metadata": {},
   "outputs": [],
   "source": [
    "# which default is considered?\n",
    "\n",
    "def pets(owner_name = '', pet_name = ''):\n",
    "    advice = f'Hi {owner_name.title()} please take care of {pet_name.title()}!'\n",
    "    return advice\n",
    "pets('ahmed')"
   ]
  },
  {
   "cell_type": "code",
   "execution_count": null,
   "id": "0393c896",
   "metadata": {},
   "outputs": [],
   "source": [
    "# optional arguments\n",
    "\n",
    "def fullname(fname = 'x', mname = 'y', lname = 'z'):\n",
    "    return f'Your full name is: {fname.title()} {mname.title()} {lname.title()}-'\n",
    "fullname ('magnus','جادالحق','carlsen')"
   ]
  },
  {
   "cell_type": "code",
   "execution_count": null,
   "id": "a77adef0",
   "metadata": {},
   "outputs": [],
   "source": [
    "fullname ('magnus')"
   ]
  },
  {
   "cell_type": "code",
   "execution_count": null,
   "id": "1e0050d3",
   "metadata": {},
   "outputs": [],
   "source": [
    "# opt arg must be defaulted and be last arg in list\n",
    "\n",
    "def fullname(fname, lname,  mname = ''):\n",
    "    if mname:\n",
    "        fname =  f'Your full name is: {fname.title()} {mname.title()} {lname.title()}-'\n",
    "    else:\n",
    "        fname =  f'Your full name is: {fname.title()} {lname.title()}-'\n",
    "    return fname\n",
    "\n",
    "fullname ('magnus','جادالحق','carlsen')\n"
   ]
  },
  {
   "cell_type": "code",
   "execution_count": null,
   "id": "ee1d8a83",
   "metadata": {},
   "outputs": [],
   "source": [
    "fullname('magnus','carlsen')"
   ]
  },
  {
   "cell_type": "code",
   "execution_count": null,
   "id": "0cfcbbb6",
   "metadata": {},
   "outputs": [],
   "source": [
    "# python style code recommends beginning the code block with a docstring \"\"\"func desc\"\"\"\n",
    "\n",
    "def fullname(fname, lname,  mname = ''):\n",
    "    \"\"\"prints out a fullname for a given triplet firstname, middlename and last name\n",
    "    with an optional parameter 'middlename'\"\"\"\n",
    "    if mname:\n",
    "        fname =  f'Your full name is: {fname.title()} {mname.title()} {lname.title()}-'\n",
    "    else:\n",
    "        fname =  f'Your full name is: {fname.title()} {lname.title()}-'\n",
    "    return fname"
   ]
  },
  {
   "cell_type": "code",
   "execution_count": null,
   "id": "087c6f68",
   "metadata": {},
   "outputs": [],
   "source": [
    "fullname??"
   ]
  },
  {
   "cell_type": "code",
   "execution_count": null,
   "id": "2b59f131",
   "metadata": {},
   "outputs": [],
   "source": []
  },
  {
   "cell_type": "code",
   "execution_count": null,
   "id": "fdf1102a",
   "metadata": {},
   "outputs": [],
   "source": [
    "# func help - can we use shift-tab like with built-in functions and methods?\n",
    "#print()\n",
    "print??"
   ]
  },
  {
   "cell_type": "code",
   "execution_count": null,
   "id": "a2899167",
   "metadata": {},
   "outputs": [],
   "source": [
    "fullname?"
   ]
  },
  {
   "cell_type": "code",
   "execution_count": null,
   "id": "af4da5c4",
   "metadata": {},
   "outputs": [],
   "source": [
    "fullname??"
   ]
  },
  {
   "cell_type": "code",
   "execution_count": null,
   "id": "74825f98",
   "metadata": {},
   "outputs": [],
   "source": [
    "# arbitrary argument lists\n",
    "def average(*args):\n",
    "    return sum(args) / len(args)\n",
    "\n",
    "average(1, 2, 3, 4, 5, 56, 878, 23)"
   ]
  },
  {
   "cell_type": "code",
   "execution_count": null,
   "id": "dfa37ea7",
   "metadata": {},
   "outputs": [],
   "source": [
    "# what happens to parameters defined in the func after calling it?"
   ]
  },
  {
   "cell_type": "code",
   "execution_count": null,
   "id": "68ea8e8e",
   "metadata": {},
   "outputs": [],
   "source": [
    "# local scope vs global scope"
   ]
  },
  {
   "cell_type": "code",
   "execution_count": null,
   "id": "078354c6",
   "metadata": {},
   "outputs": [],
   "source": [
    "# local scope\n",
    "\n",
    "x = 10 # global variable within this ipython script scope\n",
    "\n",
    "# functions can reference global variables\n",
    "def access_global():\n",
    "    print('x printed from access_global:', x) "
   ]
  },
  {
   "cell_type": "code",
   "execution_count": null,
   "id": "9887c43f",
   "metadata": {},
   "outputs": [],
   "source": [
    "access_global()"
   ]
  },
  {
   "cell_type": "code",
   "execution_count": null,
   "id": "1494a671",
   "metadata": {},
   "outputs": [],
   "source": [
    "# if a variable wasn't defined within a function python will look for it in the global variables"
   ]
  },
  {
   "cell_type": "code",
   "execution_count": null,
   "id": "cc31d9bf",
   "metadata": {},
   "outputs": [],
   "source": [
    "# however, unline other languages, a function cannot modify a global variable!\n",
    "def try_to_modify_global():\n",
    "    x = 3.5\n",
    "    print('x printed from try_to_modify_global:', x)\n",
    "try_to_modify_global()"
   ]
  },
  {
   "cell_type": "code",
   "execution_count": null,
   "id": "b5c35bc1",
   "metadata": {},
   "outputs": [],
   "source": [
    "x"
   ]
  },
  {
   "cell_type": "code",
   "execution_count": null,
   "id": "8b5a544b",
   "metadata": {},
   "outputs": [],
   "source": [
    "# you can resolve this by using the 'global' statement\n",
    "def modify_global():\n",
    "    global x;\n",
    "    x = 'hello'\n",
    "    print('x printed from modify_global:', x)"
   ]
  },
  {
   "cell_type": "code",
   "execution_count": null,
   "id": "5a2849f6",
   "metadata": {},
   "outputs": [],
   "source": [
    "modify_global()"
   ]
  },
  {
   "cell_type": "code",
   "execution_count": null,
   "id": "e74d7cb4",
   "metadata": {},
   "outputs": [],
   "source": [
    "x"
   ]
  },
  {
   "cell_type": "code",
   "execution_count": null,
   "id": "f44edf4b",
   "metadata": {},
   "outputs": [],
   "source": [
    "# be careful of the function 'shadow' of death"
   ]
  },
  {
   "cell_type": "code",
   "execution_count": null,
   "id": "68ae260e",
   "metadata": {
    "scrolled": true
   },
   "outputs": [],
   "source": [
    "type(sum)"
   ]
  },
  {
   "cell_type": "code",
   "execution_count": null,
   "id": "e24ebd78",
   "metadata": {},
   "outputs": [],
   "source": [
    "sum = 10 + 5"
   ]
  },
  {
   "cell_type": "code",
   "execution_count": null,
   "id": "80824ac1",
   "metadata": {},
   "outputs": [],
   "source": [
    "sum"
   ]
  },
  {
   "cell_type": "code",
   "execution_count": null,
   "id": "a8c90b48",
   "metadata": {},
   "outputs": [],
   "source": [
    "sum([10, 5])"
   ]
  },
  {
   "cell_type": "code",
   "execution_count": null,
   "id": "636a8864",
   "metadata": {},
   "outputs": [],
   "source": [
    "type(sum)"
   ]
  },
  {
   "cell_type": "code",
   "execution_count": null,
   "id": "7b98f0bb",
   "metadata": {},
   "outputs": [],
   "source": [
    "# more on passing parameters"
   ]
  },
  {
   "cell_type": "code",
   "execution_count": null,
   "id": "fadf7c26",
   "metadata": {},
   "outputs": [],
   "source": [
    "# are parameters passed value reference or value"
   ]
  },
  {
   "cell_type": "code",
   "execution_count": null,
   "id": "4f88a5e5",
   "metadata": {},
   "outputs": [],
   "source": [
    "x = 13"
   ]
  },
  {
   "cell_type": "code",
   "execution_count": null,
   "id": "e49525e4",
   "metadata": {},
   "outputs": [],
   "source": [
    "id(x)"
   ]
  },
  {
   "cell_type": "code",
   "execution_count": null,
   "id": "5c5f56cb",
   "metadata": {},
   "outputs": [],
   "source": [
    "def cube(number):\n",
    "    print('id(number):', id(number))\n",
    "    return number ** 3"
   ]
  },
  {
   "cell_type": "code",
   "execution_count": null,
   "id": "712c57c5",
   "metadata": {
    "scrolled": true
   },
   "outputs": [],
   "source": [
    "cube(x)"
   ]
  },
  {
   "cell_type": "code",
   "execution_count": null,
   "id": "96493562",
   "metadata": {},
   "outputs": [],
   "source": [
    "cube(13) # welcome to big data :)"
   ]
  },
  {
   "cell_type": "code",
   "execution_count": null,
   "id": "432f99c4",
   "metadata": {},
   "outputs": [],
   "source": [
    "# what about immutable objects?\n",
    "def cube(number):\n",
    "    print('id(number) before modifying number:', id(number))\n",
    "    number **= 3\n",
    "    print('id(number) after modifying number:', id(number))\n",
    "    return number"
   ]
  },
  {
   "cell_type": "code",
   "execution_count": null,
   "id": "1f90eb78",
   "metadata": {
    "scrolled": true
   },
   "outputs": [],
   "source": [
    "cube(x)"
   ]
  },
  {
   "cell_type": "code",
   "execution_count": null,
   "id": "0ff995d3",
   "metadata": {},
   "outputs": [],
   "source": []
  },
  {
   "cell_type": "code",
   "execution_count": null,
   "id": "2f662191",
   "metadata": {},
   "outputs": [],
   "source": [
    "# map() function"
   ]
  },
  {
   "cell_type": "code",
   "execution_count": null,
   "id": "35062fa9",
   "metadata": {},
   "outputs": [],
   "source": [
    "# def cuber(x):\n",
    "#     return x ** 3\n",
    "\n",
    "# my_list = [2,3,4]\n",
    "\n",
    "# result = map(cuber,my_list)\n",
    "# print(list(result))\n",
    "\n",
    "## equivalent to :\n",
    "\n",
    "newresult = []\n",
    "for item in my_list:\n",
    "    newresult.append(item ** 3)\n",
    "print(newresult)"
   ]
  },
  {
   "cell_type": "code",
   "execution_count": null,
   "id": "48ff1f8f",
   "metadata": {},
   "outputs": [],
   "source": [
    "# === #"
   ]
  },
  {
   "cell_type": "code",
   "execution_count": null,
   "id": "bdf2f0ed",
   "metadata": {},
   "outputs": [],
   "source": [
    "# anonymous functions = lambda expressions"
   ]
  },
  {
   "cell_type": "code",
   "execution_count": null,
   "id": "10027431",
   "metadata": {},
   "outputs": [],
   "source": [
    "# lambda <arguments> : <expression>\n",
    "lambda a, b, c: a + b - c +  10"
   ]
  },
  {
   "cell_type": "code",
   "execution_count": null,
   "id": "32b07a00",
   "metadata": {},
   "outputs": [],
   "source": [
    "# lambda a, b, ..., n: <expression> \n",
    "# any number of arguments\n",
    "# the <expression> is the return value\n",
    "# all must be in a single line"
   ]
  },
  {
   "cell_type": "code",
   "execution_count": null,
   "id": "129e7de3",
   "metadata": {},
   "outputs": [],
   "source": [
    "f = lambda x: x ** 2 # lambda's name is 'f' and it takes one arg 'x' and it squares it\n",
    "\n",
    "f(2)"
   ]
  },
  {
   "cell_type": "code",
   "execution_count": null,
   "id": "7fb717e0",
   "metadata": {},
   "outputs": [],
   "source": [
    "f = lambda x, y: 3 * (x ** 2) + 2 * y - 5 # lambda can also take multiple args\n",
    "\n",
    "f(2,3)"
   ]
  },
  {
   "cell_type": "code",
   "execution_count": null,
   "id": "1b07240a",
   "metadata": {},
   "outputs": [],
   "source": []
  },
  {
   "cell_type": "code",
   "execution_count": null,
   "id": "f39bec26",
   "metadata": {},
   "outputs": [],
   "source": [
    "# remember this?\n",
    "\n",
    "my_list = [2,3,4]\n",
    "\n",
    "# def cuber(x):\n",
    "#     return x ** 3\n",
    "# result = map(cuber,my_list)\n",
    "# print(list(result))\n",
    "\n",
    "result = list(map(lambda x: x ** 3, my_list))\n",
    "result"
   ]
  },
  {
   "cell_type": "code",
   "execution_count": null,
   "id": "a0fd51d1",
   "metadata": {},
   "outputs": [],
   "source": [
    "the_greats = ['machael jackson', 'ahmed sami', 'magdi shatta', 'alireza firouzja', 'marwan pablo']\n",
    "# the_greats.sort(key=len)\n",
    "the_greats.sort()\n",
    "\n",
    "the_greats"
   ]
  },
  {
   "cell_type": "code",
   "execution_count": null,
   "id": "859c01ab",
   "metadata": {},
   "outputs": [],
   "source": [
    "for name in the_greats:\n",
    "    print(name.split(' ')[0])\n",
    "    \n",
    "\n",
    "# the_greats = ['machael jackson', 'ahmed sami', 'magdi shatta', 'alireza firouzja', 'marwan pablo']\n",
    "# the_greats.sort(key=lambda name: name.split(' ')[0])\n",
    "\n",
    "# the_greats"
   ]
  },
  {
   "cell_type": "code",
   "execution_count": null,
   "id": "99c22c2d",
   "metadata": {},
   "outputs": [],
   "source": [
    "# one level deeper"
   ]
  },
  {
   "cell_type": "code",
   "execution_count": null,
   "id": "c7927571",
   "metadata": {},
   "outputs": [],
   "source": [
    "def myfunc(n):\n",
    "    return lambda a : a * n\n",
    "\n",
    "\n",
    "mydoubler = myfunc(2)\n",
    "\n",
    "# type(mydoubler)\n",
    "\n",
    "print(mydoubler(11))"
   ]
  },
  {
   "cell_type": "code",
   "execution_count": null,
   "id": "7cf7055b",
   "metadata": {},
   "outputs": [],
   "source": [
    "# remember this\n",
    "# lambda x, y: 3 * (x ** 2) + 2 * y - 5\n",
    "\n",
    "def quadratic(a,b,c):\n",
    "    return lambda x: a * (x ** 2) + b * x - c\n",
    "\n",
    "# f = quadratic(2,3,5)\n",
    "# f(2)\n",
    "quadratic(2,3,5)(2)"
   ]
  },
  {
   "cell_type": "code",
   "execution_count": null,
   "id": "252552ca",
   "metadata": {},
   "outputs": [],
   "source": [
    "# same as but not as readable\n",
    "\n",
    "quadratic(2,3,5)(2)"
   ]
  },
  {
   "cell_type": "code",
   "execution_count": null,
   "id": "262d9050",
   "metadata": {},
   "outputs": [],
   "source": []
  },
  {
   "cell_type": "code",
   "execution_count": null,
   "id": "50ecb559",
   "metadata": {},
   "outputs": [],
   "source": []
  },
  {
   "cell_type": "markdown",
   "id": "403d87f6",
   "metadata": {},
   "source": [
    "# Intro to Object-Oriented Programming"
   ]
  },
  {
   "cell_type": "markdown",
   "id": "740793e4",
   "metadata": {},
   "source": [
    "```python\n",
    "class ClassName:\n",
    "    <statement-1>\n",
    "    .\n",
    "    .\n",
    "    .\n",
    "    <statement-N>\n",
    "```"
   ]
  },
  {
   "cell_type": "markdown",
   "id": "fe7f274b-8ec4-443a-b4a8-76c96c3e3988",
   "metadata": {},
   "source": [
    "```python\n",
    "A variable stored in an instance or class is called an attribute.\n",
    "A function stored in an instance or class is called a method.\n",
    "```"
   ]
  },
  {
   "cell_type": "code",
   "execution_count": null,
   "id": "626717b3",
   "metadata": {},
   "outputs": [],
   "source": [
    "class Trivial:\n",
    "    pass"
   ]
  },
  {
   "cell_type": "code",
   "execution_count": null,
   "id": "4eabd04b",
   "metadata": {},
   "outputs": [],
   "source": [
    "t1 = Trivial()"
   ]
  },
  {
   "cell_type": "code",
   "execution_count": null,
   "id": "faf93d66",
   "metadata": {},
   "outputs": [],
   "source": [
    "print(type(t1))"
   ]
  },
  {
   "cell_type": "code",
   "execution_count": null,
   "id": "4366e0c6",
   "metadata": {},
   "outputs": [],
   "source": [
    "dir(t1)"
   ]
  },
  {
   "cell_type": "code",
   "execution_count": null,
   "id": "438a2b26",
   "metadata": {},
   "outputs": [],
   "source": [
    "t1.name = 'sameh'"
   ]
  },
  {
   "cell_type": "code",
   "execution_count": null,
   "id": "70e5cfb1",
   "metadata": {},
   "outputs": [],
   "source": [
    "t1.name"
   ]
  },
  {
   "cell_type": "code",
   "execution_count": null,
   "id": "fb24aa79",
   "metadata": {},
   "outputs": [],
   "source": [
    "dir(t1)"
   ]
  },
  {
   "cell_type": "code",
   "execution_count": null,
   "id": "262cbd59",
   "metadata": {},
   "outputs": [],
   "source": [
    "t2 = Trivial()"
   ]
  },
  {
   "cell_type": "code",
   "execution_count": null,
   "id": "f9f9edc7",
   "metadata": {},
   "outputs": [],
   "source": [
    "t2.name = 'mohsen'"
   ]
  },
  {
   "cell_type": "code",
   "execution_count": null,
   "id": "f4602381",
   "metadata": {},
   "outputs": [],
   "source": [
    "print(t2.name, t1.name)"
   ]
  },
  {
   "cell_type": "code",
   "execution_count": null,
   "id": "68695b65",
   "metadata": {},
   "outputs": [],
   "source": [
    "name ='ahmed'"
   ]
  },
  {
   "cell_type": "code",
   "execution_count": null,
   "id": "c3b14944",
   "metadata": {
    "scrolled": true
   },
   "outputs": [],
   "source": [
    "print(t2.name, t1.name, name)"
   ]
  },
  {
   "cell_type": "code",
   "execution_count": null,
   "id": "eedbaa2c",
   "metadata": {},
   "outputs": [],
   "source": [
    "class Dog:\n",
    "    def bark(): # obj.bark() method\n",
    "        print('haw haw haw')"
   ]
  },
  {
   "cell_type": "code",
   "execution_count": null,
   "id": "330bdc8c",
   "metadata": {},
   "outputs": [],
   "source": [
    "dog1 = Dog()"
   ]
  },
  {
   "cell_type": "code",
   "execution_count": null,
   "id": "1d681736",
   "metadata": {},
   "outputs": [],
   "source": [
    "dir(dog1)"
   ]
  },
  {
   "cell_type": "code",
   "execution_count": null,
   "id": "5dae5007",
   "metadata": {},
   "outputs": [],
   "source": [
    "Dog.bark()"
   ]
  },
  {
   "cell_type": "code",
   "execution_count": null,
   "id": "ad3a20a8",
   "metadata": {},
   "outputs": [],
   "source": [
    "type(dog1)"
   ]
  },
  {
   "cell_type": "code",
   "execution_count": null,
   "id": "082b5ec2",
   "metadata": {
    "scrolled": true
   },
   "outputs": [],
   "source": [
    "dog1.bark()"
   ]
  },
  {
   "cell_type": "code",
   "execution_count": null,
   "id": "656ecc5b",
   "metadata": {},
   "outputs": [],
   "source": [
    "# namespaces"
   ]
  },
  {
   "cell_type": "code",
   "execution_count": null,
   "id": "8deb5048",
   "metadata": {},
   "outputs": [],
   "source": [
    "class Dog:\n",
    "    def bark(self): # obj.bark() method\n",
    "        print('haw haw haw')"
   ]
  },
  {
   "cell_type": "code",
   "execution_count": null,
   "id": "da3f0c63",
   "metadata": {},
   "outputs": [],
   "source": [
    "dog1 = Dog()"
   ]
  },
  {
   "cell_type": "code",
   "execution_count": null,
   "id": "5f6bb370",
   "metadata": {},
   "outputs": [],
   "source": [
    "Dog.bark(dog1)"
   ]
  },
  {
   "cell_type": "code",
   "execution_count": null,
   "id": "1d855697",
   "metadata": {},
   "outputs": [],
   "source": [
    "dog1.bark()"
   ]
  },
  {
   "cell_type": "code",
   "execution_count": null,
   "id": "bd1da0f0",
   "metadata": {},
   "outputs": [],
   "source": [
    "dog2 = Dog()"
   ]
  },
  {
   "cell_type": "code",
   "execution_count": null,
   "id": "692988fe",
   "metadata": {},
   "outputs": [],
   "source": [
    "dog2.bark()"
   ]
  },
  {
   "cell_type": "code",
   "execution_count": null,
   "id": "df84dc0f",
   "metadata": {},
   "outputs": [],
   "source": []
  },
  {
   "cell_type": "code",
   "execution_count": null,
   "id": "528cf4dd",
   "metadata": {},
   "outputs": [],
   "source": [
    "class Dog:\n",
    "    def __init__(self):\n",
    "        self.name = 'rex'\n",
    "        \n",
    "    def bark(self): # obj.bark() method\n",
    "        print('haw haw haw')"
   ]
  },
  {
   "cell_type": "code",
   "execution_count": null,
   "id": "b64f0b64",
   "metadata": {},
   "outputs": [],
   "source": [
    "dog1 = Dog()"
   ]
  },
  {
   "cell_type": "code",
   "execution_count": null,
   "id": "0df9ca03",
   "metadata": {},
   "outputs": [],
   "source": [
    "dog1.name"
   ]
  },
  {
   "cell_type": "code",
   "execution_count": null,
   "id": "15cbdf56",
   "metadata": {},
   "outputs": [],
   "source": [
    "dog2 = Dog()"
   ]
  },
  {
   "cell_type": "code",
   "execution_count": null,
   "id": "b442c5b0",
   "metadata": {},
   "outputs": [],
   "source": [
    "dog2.name\n"
   ]
  },
  {
   "cell_type": "code",
   "execution_count": null,
   "id": "daef75c3",
   "metadata": {},
   "outputs": [],
   "source": [
    "class Dog:\n",
    "    def __init__(self, name):\n",
    "        self.name = name\n",
    "        \n",
    "    def bark(self): # obj.bark() method\n",
    "        print('haw haw haw')"
   ]
  },
  {
   "cell_type": "code",
   "execution_count": null,
   "id": "2ec76a26",
   "metadata": {},
   "outputs": [],
   "source": [
    "dog1 = Dog('simba')"
   ]
  },
  {
   "cell_type": "code",
   "execution_count": null,
   "id": "d4360bf9",
   "metadata": {},
   "outputs": [],
   "source": [
    "dog1.name"
   ]
  },
  {
   "cell_type": "code",
   "execution_count": null,
   "id": "5e567edc",
   "metadata": {},
   "outputs": [],
   "source": [
    "dog2 = Dog('mesh simba')"
   ]
  },
  {
   "cell_type": "code",
   "execution_count": null,
   "id": "b7af1116",
   "metadata": {},
   "outputs": [],
   "source": [
    "dog2.name"
   ]
  },
  {
   "cell_type": "code",
   "execution_count": null,
   "id": "91554c60",
   "metadata": {},
   "outputs": [],
   "source": [
    "dog1.name = 'Joy'"
   ]
  },
  {
   "cell_type": "code",
   "execution_count": null,
   "id": "ab7fec87",
   "metadata": {},
   "outputs": [],
   "source": [
    "dog2.name"
   ]
  },
  {
   "cell_type": "code",
   "execution_count": null,
   "id": "b2ecda27",
   "metadata": {},
   "outputs": [],
   "source": [
    "dog1.name"
   ]
  },
  {
   "cell_type": "code",
   "execution_count": null,
   "id": "3b28b015",
   "metadata": {},
   "outputs": [],
   "source": [
    "class Dog:\n",
    "    \n",
    "    def __init__(self, name, age):\n",
    "        self.name = name\n",
    "        self.age = age\n",
    "    def bark(self):\n",
    "        print(\"haw haw haw\")\n",
    "    def set_age(self, age):\n",
    "        self.age = age"
   ]
  },
  {
   "cell_type": "code",
   "execution_count": null,
   "id": "21f815eb",
   "metadata": {},
   "outputs": [],
   "source": [
    "dog1 = Dog('zeft', 2)"
   ]
  },
  {
   "cell_type": "code",
   "execution_count": null,
   "id": "9b9e85f4",
   "metadata": {},
   "outputs": [],
   "source": [
    "dog1.set_age(3)"
   ]
  },
  {
   "cell_type": "code",
   "execution_count": null,
   "id": "d92884c8",
   "metadata": {},
   "outputs": [],
   "source": [
    "dog1.age"
   ]
  },
  {
   "cell_type": "code",
   "execution_count": 179,
   "id": "67710567",
   "metadata": {},
   "outputs": [
    {
     "name": "stdout",
     "output_type": "stream",
     "text": [
      "mammal\n",
      "I'm a mammal\n",
      "I'm a dog\n"
     ]
    },
    {
     "data": {
      "text/plain": [
       "'mammal'"
      ]
     },
     "execution_count": 179,
     "metadata": {},
     "output_type": "execute_result"
    }
   ],
   "source": [
    "\n",
    "\n",
    "\n",
    "# demonstrate instantiating\n",
    "# a class\n",
    "class Dog:\n",
    " \n",
    "    # A simple class\n",
    "    # attribute\n",
    "    attr1 = \"mammal\"\n",
    "    attr2 = \"dog\"\n",
    " \n",
    "    # A sample method\n",
    "    def fun(self):\n",
    "        print(\"I'm a\", self.attr1)\n",
    "        print(\"I'm a\", self.attr2)\n",
    " \n",
    " \n",
    "# Driver code\n",
    "# Object instantiation\n",
    "Rodger = Dog()\n",
    " \n",
    "# Accessing class attributes\n",
    "# and method through objects\n",
    "print(Rodger.attr1)\n",
    "Rodger.fun()\n",
    "Rodger.attr1"
   ]
  },
  {
   "cell_type": "code",
   "execution_count": 203,
   "id": "84453abf",
   "metadata": {},
   "outputs": [],
   "source": [
    "class Dog:\n",
    "    \n",
    "    def __init__(self, name, age):\n",
    "        self.name = name\n",
    "        self.age = age\n",
    "    def bark(self):\n",
    "        print(\"haw haw haw\")\n",
    "    def set_age(self, age):\n",
    "        self.age = age\n",
    "   \n",
    "    @property\n",
    "    def name(self):\n",
    "        return self._name\n",
    "    \n",
    "    @name.setter\n",
    "    def name(self, name):\n",
    "        if not name.isalpha():\n",
    "            raise ValueError('Dog name must be letters only')\n",
    "        self._name = name\n",
    "     @name.dele"
   ]
  },
  {
   "cell_type": "code",
   "execution_count": 204,
   "id": "028ddae4",
   "metadata": {},
   "outputs": [],
   "source": [
    "dog1 = Dog('juva', 2)"
   ]
  },
  {
   "cell_type": "code",
   "execution_count": 205,
   "id": "7432b57a",
   "metadata": {},
   "outputs": [
    {
     "ename": "ValueError",
     "evalue": "Dog name must be letters only",
     "output_type": "error",
     "traceback": [
      "\u001b[1;31m---------------------------------------------------------------------------\u001b[0m",
      "\u001b[1;31mValueError\u001b[0m                                Traceback (most recent call last)",
      "Cell \u001b[1;32mIn[205], line 1\u001b[0m\n\u001b[1;32m----> 1\u001b[0m dog2 \u001b[38;5;241m=\u001b[39m Dog(\u001b[38;5;124m'\u001b[39m\u001b[38;5;124mabc1\u001b[39m\u001b[38;5;124m'\u001b[39m,\u001b[38;5;241m2\u001b[39m)\n",
      "Cell \u001b[1;32mIn[203], line 4\u001b[0m, in \u001b[0;36mDog.__init__\u001b[1;34m(self, name, age)\u001b[0m\n\u001b[0;32m      3\u001b[0m \u001b[38;5;28;01mdef\u001b[39;00m \u001b[38;5;21m__init__\u001b[39m(\u001b[38;5;28mself\u001b[39m, name, age):\n\u001b[1;32m----> 4\u001b[0m     \u001b[38;5;28mself\u001b[39m\u001b[38;5;241m.\u001b[39mname \u001b[38;5;241m=\u001b[39m name\n\u001b[0;32m      5\u001b[0m     \u001b[38;5;28mself\u001b[39m\u001b[38;5;241m.\u001b[39mage \u001b[38;5;241m=\u001b[39m age\n",
      "Cell \u001b[1;32mIn[203], line 18\u001b[0m, in \u001b[0;36mDog.name\u001b[1;34m(self, name)\u001b[0m\n\u001b[0;32m     15\u001b[0m \u001b[38;5;129m@name\u001b[39m\u001b[38;5;241m.\u001b[39msetter\n\u001b[0;32m     16\u001b[0m \u001b[38;5;28;01mdef\u001b[39;00m \u001b[38;5;21mname\u001b[39m(\u001b[38;5;28mself\u001b[39m, name):\n\u001b[0;32m     17\u001b[0m     \u001b[38;5;28;01mif\u001b[39;00m \u001b[38;5;129;01mnot\u001b[39;00m name\u001b[38;5;241m.\u001b[39misalpha():\n\u001b[1;32m---> 18\u001b[0m         \u001b[38;5;28;01mraise\u001b[39;00m \u001b[38;5;167;01mValueError\u001b[39;00m(\u001b[38;5;124m'\u001b[39m\u001b[38;5;124mDog name must be letters only\u001b[39m\u001b[38;5;124m'\u001b[39m)\n\u001b[0;32m     19\u001b[0m     \u001b[38;5;28mself\u001b[39m\u001b[38;5;241m.\u001b[39m_name \u001b[38;5;241m=\u001b[39m name\n",
      "\u001b[1;31mValueError\u001b[0m: Dog name must be letters only"
     ]
    }
   ],
   "source": [
    "dog2 = Dog('abc1',2)"
   ]
  },
  {
   "cell_type": "code",
   "execution_count": 206,
   "id": "0534c9c7",
   "metadata": {},
   "outputs": [
    {
     "data": {
      "text/plain": [
       "'abc1'"
      ]
     },
     "execution_count": 206,
     "metadata": {},
     "output_type": "execute_result"
    }
   ],
   "source": [
    "dog2.name"
   ]
  },
  {
   "cell_type": "code",
   "execution_count": 202,
   "id": "1755b977",
   "metadata": {},
   "outputs": [],
   "source": [
    "dog1.name = 'mory'"
   ]
  },
  {
   "cell_type": "code",
   "execution_count": 194,
   "id": "feedeb9d",
   "metadata": {},
   "outputs": [
    {
     "data": {
      "text/plain": [
       "'mory'"
      ]
     },
     "execution_count": 194,
     "metadata": {},
     "output_type": "execute_result"
    }
   ],
   "source": [
    "dog1.name"
   ]
  },
  {
   "cell_type": "code",
   "execution_count": 195,
   "id": "a1e6cd6f",
   "metadata": {},
   "outputs": [],
   "source": [
    "dog1.name = 'mory0'"
   ]
  },
  {
   "cell_type": "code",
   "execution_count": null,
   "id": "3c00d582",
   "metadata": {},
   "outputs": [],
   "source": []
  },
  {
   "cell_type": "code",
   "execution_count": null,
   "id": "b252c765",
   "metadata": {},
   "outputs": [],
   "source": [
    "class Account:\n",
    "    \"\"\"This class is a base class for bank accounts\n",
    "    that is created by passing name and balance\"\"\"\n",
    "    def __init__(self, name, balance):\n",
    "        \"\"\" to initialize basic info\"\"\"\n",
    "        self.name = name\n",
    "        self.balance = balance\n",
    "    def deposit(self, amount):\n",
    "        self.balance += amount\n",
    "    def withdraw(self, amount):\n",
    "        self.balance -= amount\n"
   ]
  },
  {
   "cell_type": "code",
   "execution_count": null,
   "id": "f3f093ce",
   "metadata": {},
   "outputs": [],
   "source": [
    "acct1 = Account('maher', 230.7)"
   ]
  },
  {
   "cell_type": "code",
   "execution_count": null,
   "id": "5f3a777c",
   "metadata": {
    "scrolled": true
   },
   "outputs": [],
   "source": [
    "dir(acct1)"
   ]
  },
  {
   "cell_type": "code",
   "execution_count": null,
   "id": "e3cd6442",
   "metadata": {},
   "outputs": [],
   "source": [
    "acct1.balance"
   ]
  },
  {
   "cell_type": "code",
   "execution_count": null,
   "id": "7bc0803f",
   "metadata": {},
   "outputs": [],
   "source": [
    "acct1.deposit(-12)"
   ]
  },
  {
   "cell_type": "code",
   "execution_count": null,
   "id": "174e5e8b",
   "metadata": {},
   "outputs": [],
   "source": [
    "class Account:\n",
    "    def __init__(self, name, balance):\n",
    "        self.name = name\n",
    "        self.balance = balance\n",
    "    def deposit(self, amount):\n",
    "        if amount > 0:\n",
    "            self.balance += amount\n",
    "        else:\n",
    "            raise ValueError('amount must be positive.')\n",
    "    def withdraw(self, amount):\n",
    "        if amount > 0:\n",
    "            self.balance -= amount\n"
   ]
  },
  {
   "cell_type": "code",
   "execution_count": null,
   "id": "2efb4f34",
   "metadata": {},
   "outputs": [],
   "source": [
    "my_acct = Account('ahmed', 230.15)"
   ]
  },
  {
   "cell_type": "code",
   "execution_count": null,
   "id": "50a3fc69",
   "metadata": {},
   "outputs": [],
   "source": [
    "my_acct.deposit(-12)"
   ]
  },
  {
   "cell_type": "code",
   "execution_count": null,
   "id": "1d4d75ba",
   "metadata": {},
   "outputs": [],
   "source": [
    "class Account:\n",
    "    def __init__(self, name, balance):\n",
    "        self.name = name\n",
    "        self.balance = balance\n",
    "        self.__ssn = '123-45-6789'\n",
    "    def deposit(self, amount:'must be positive value') -> 'insert money':\n",
    "        if amount > 0:\n",
    "            self.balance += amount\n",
    "        else:\n",
    "            raise ValueError('amount must be positive.')\n",
    "    def withdraw(self, amount):\n",
    "        if amount > 0:\n",
    "            self.balance -= amount"
   ]
  },
  {
   "cell_type": "code",
   "execution_count": null,
   "id": "1062f812",
   "metadata": {},
   "outputs": [],
   "source": [
    "acct2 = Account('magdy', 300)"
   ]
  },
  {
   "cell_type": "code",
   "execution_count": null,
   "id": "8a256bea",
   "metadata": {},
   "outputs": [],
   "source": [
    "dir(acct2)"
   ]
  },
  {
   "cell_type": "code",
   "execution_count": null,
   "id": "c0c14c97",
   "metadata": {},
   "outputs": [],
   "source": [
    "acct2._Account__ssn = '000000'"
   ]
  },
  {
   "cell_type": "code",
   "execution_count": null,
   "id": "a086b540",
   "metadata": {},
   "outputs": [],
   "source": [
    "acct2"
   ]
  },
  {
   "cell_type": "code",
   "execution_count": null,
   "id": "60c7a290",
   "metadata": {},
   "outputs": [],
   "source": [
    "print(acct2)"
   ]
  },
  {
   "cell_type": "code",
   "execution_count": null,
   "id": "9d63d18b",
   "metadata": {},
   "outputs": [],
   "source": [
    "myr = range(1,178,3)"
   ]
  },
  {
   "cell_type": "code",
   "execution_count": null,
   "id": "23f67372",
   "metadata": {},
   "outputs": [],
   "source": [
    "myr"
   ]
  },
  {
   "cell_type": "code",
   "execution_count": null,
   "id": "07fd9f6e",
   "metadata": {},
   "outputs": [],
   "source": [
    "print(myr)"
   ]
  },
  {
   "cell_type": "code",
   "execution_count": null,
   "id": "46fb2b76",
   "metadata": {},
   "outputs": [],
   "source": [
    "myl = list([1,2,3])"
   ]
  },
  {
   "cell_type": "code",
   "execution_count": null,
   "id": "f4ef5991",
   "metadata": {},
   "outputs": [],
   "source": [
    "myl"
   ]
  },
  {
   "cell_type": "code",
   "execution_count": null,
   "id": "010f6a3e",
   "metadata": {},
   "outputs": [],
   "source": [
    "print(myl)"
   ]
  },
  {
   "cell_type": "code",
   "execution_count": null,
   "id": "1c4b42d6",
   "metadata": {},
   "outputs": [],
   "source": [
    "st = 'hello'"
   ]
  },
  {
   "cell_type": "code",
   "execution_count": null,
   "id": "8720c6de",
   "metadata": {},
   "outputs": [],
   "source": [
    "x = 10"
   ]
  },
  {
   "cell_type": "code",
   "execution_count": null,
   "id": "b13dd4bf",
   "metadata": {},
   "outputs": [],
   "source": [
    "st + x"
   ]
  },
  {
   "cell_type": "code",
   "execution_count": null,
   "id": "2581d6b9",
   "metadata": {},
   "outputs": [],
   "source": [
    "x + st"
   ]
  },
  {
   "cell_type": "code",
   "execution_count": null,
   "id": "c71b5c0f",
   "metadata": {},
   "outputs": [],
   "source": [
    "st + st"
   ]
  },
  {
   "cell_type": "code",
   "execution_count": null,
   "id": "8b7242aa",
   "metadata": {
    "scrolled": true
   },
   "outputs": [],
   "source": [
    "dir(acct2)"
   ]
  },
  {
   "cell_type": "code",
   "execution_count": null,
   "id": "f4ae60ad",
   "metadata": {},
   "outputs": [],
   "source": [
    "print(acct2)"
   ]
  },
  {
   "cell_type": "code",
   "execution_count": null,
   "id": "3d0c056a",
   "metadata": {},
   "outputs": [],
   "source": [
    "class Account:\n",
    "    def __init__(self, name, balance):\n",
    "        self.name = name\n",
    "        self.balance = balance\n",
    "        self.__ssn = '123-45-6789'\n",
    "    def deposit(self, amount:'must be positive value') -> 'insert money':\n",
    "        if amount > 0:\n",
    "            self.balance += amount\n",
    "        else:\n",
    "            raise ValueError('amount must be positive.')\n",
    "    def withdraw(self, amount):\n",
    "        if amount > 0:\n",
    "            self.balance -= amount\n",
    "    def __repr__(self):\n",
    "        return f'{{self.name} currently has {self.balance} in his account}'"
   ]
  },
  {
   "cell_type": "code",
   "execution_count": null,
   "id": "d6b9afd8",
   "metadata": {},
   "outputs": [],
   "source": [
    "acct2 = Account('yehia', 900)"
   ]
  },
  {
   "cell_type": "code",
   "execution_count": null,
   "id": "77578aa1",
   "metadata": {},
   "outputs": [],
   "source": [
    "acct2"
   ]
  },
  {
   "cell_type": "code",
   "execution_count": null,
   "id": "e60c3095",
   "metadata": {},
   "outputs": [],
   "source": [
    "print(acct2)"
   ]
  },
  {
   "cell_type": "code",
   "execution_count": null,
   "id": "7c33073f",
   "metadata": {},
   "outputs": [],
   "source": [
    "acct1 = Account('nadeem', 100)"
   ]
  },
  {
   "cell_type": "code",
   "execution_count": null,
   "id": "d8eb16fe",
   "metadata": {},
   "outputs": [],
   "source": [
    "acct1 + acct2"
   ]
  },
  {
   "cell_type": "code",
   "execution_count": null,
   "id": "cd3878de",
   "metadata": {},
   "outputs": [],
   "source": [
    "class Account:\n",
    "    def __init__(self, name, balance):\n",
    "        self.name = name\n",
    "        self.balance = balance\n",
    "        self.__ssn = '123-45-6789'\n",
    "    def deposit(self, amount:'must be positive value') -> 'insert money':\n",
    "        if amount > 0:\n",
    "            self.balance += amount\n",
    "        else:\n",
    "            raise ValueError('amount must be positive.')\n",
    "    def withdraw(self, amount):\n",
    "        if amount > 0:\n",
    "            self.balance -= amount\n",
    "    def __repr__(self):\n",
    "        return f'{self.name} currently has {self.balance} in his account'\n",
    "    def __add__(self, other):\n",
    "        return f'{self.name} and {other.name} both have a total of ', self.balance + other.balance"
   ]
  },
  {
   "cell_type": "code",
   "execution_count": null,
   "id": "e46a9da0",
   "metadata": {},
   "outputs": [],
   "source": [
    "acct2 = Account('yehia', 900)"
   ]
  },
  {
   "cell_type": "code",
   "execution_count": null,
   "id": "7e1400ae",
   "metadata": {},
   "outputs": [],
   "source": [
    "acct1 = Account('nadeem', 100)"
   ]
  },
  {
   "cell_type": "code",
   "execution_count": null,
   "id": "fd0043a8",
   "metadata": {},
   "outputs": [],
   "source": [
    "acct1 + acct2"
   ]
  },
  {
   "cell_type": "code",
   "execution_count": null,
   "id": "2db2ef10",
   "metadata": {},
   "outputs": [],
   "source": []
  },
  {
   "cell_type": "code",
   "execution_count": null,
   "id": "6b12d93b",
   "metadata": {},
   "outputs": [],
   "source": [
    "# inheritance"
   ]
  },
  {
   "cell_type": "code",
   "execution_count": null,
   "id": "97e0892d",
   "metadata": {},
   "outputs": [],
   "source": [
    "class Employee:\n",
    "    def __init__(self, fname, lname):\n",
    "        self.fname = fname\n",
    "        self.lname = lname\n",
    "        self.email = fname + '.' + lname + '@email.com'"
   ]
  },
  {
   "cell_type": "code",
   "execution_count": null,
   "id": "d267b29a",
   "metadata": {},
   "outputs": [],
   "source": [
    "emp1 = Employee('mohamed', 'tharwat')"
   ]
  },
  {
   "cell_type": "code",
   "execution_count": null,
   "id": "59709dda",
   "metadata": {},
   "outputs": [],
   "source": [
    "emp1.email"
   ]
  },
  {
   "cell_type": "code",
   "execution_count": null,
   "id": "6e40f990",
   "metadata": {},
   "outputs": [],
   "source": [
    "class Teacher(Employee):\n",
    "    pass"
   ]
  },
  {
   "cell_type": "code",
   "execution_count": null,
   "id": "93eb13b7",
   "metadata": {},
   "outputs": [],
   "source": [
    "tr1 = Teacher('hany', 'hassan')"
   ]
  },
  {
   "cell_type": "code",
   "execution_count": null,
   "id": "8b4f52cb",
   "metadata": {},
   "outputs": [],
   "source": [
    "tr1.email"
   ]
  },
  {
   "cell_type": "code",
   "execution_count": null,
   "id": "5a93bc5e",
   "metadata": {},
   "outputs": [],
   "source": [
    "class Teacher(Employee):\n",
    "    def __init__(self, fname, lname):\n",
    "        super().__init__(fname, lname)\n",
    "        self.email = 't-' +fname + '.' + lname + '@email.com'"
   ]
  },
  {
   "cell_type": "code",
   "execution_count": null,
   "id": "409dd850",
   "metadata": {},
   "outputs": [],
   "source": [
    "tr1 = Teacher('ahmed', 'adaweyya')"
   ]
  },
  {
   "cell_type": "code",
   "execution_count": null,
   "id": "cccd86d8",
   "metadata": {},
   "outputs": [],
   "source": [
    "tr1.email"
   ]
  },
  {
   "cell_type": "code",
   "execution_count": null,
   "id": "8f9469bf",
   "metadata": {},
   "outputs": [],
   "source": [
    "print(help(Teacher))"
   ]
  },
  {
   "cell_type": "code",
   "execution_count": null,
   "id": "7e3b8264",
   "metadata": {},
   "outputs": [],
   "source": []
  },
  {
   "cell_type": "code",
   "execution_count": null,
   "id": "f8770b1d",
   "metadata": {},
   "outputs": [],
   "source": []
  },
  {
   "cell_type": "raw",
   "id": "560afc3f",
   "metadata": {},
   "source": [
    "Dec  Char                           Dec  Char     Dec  Char     Dec  Char\n",
    "---------                           ---------     ---------     ----------\n",
    "  0  NUL (null)                      32  SPACE     64  @         96  `\n",
    "  1  SOH (start of heading)          33  !         65  A         97  a\n",
    "  2  STX (start of text)             34  \"         66  B         98  b\n",
    "  3  ETX (end of text)               35  #         67  C         99  c\n",
    "  4  EOT (end of transmission)       36  $         68  D        100  d\n",
    "  5  ENQ (enquiry)                   37  %         69  E        101  e\n",
    "  6  ACK (acknowledge)               38  &         70  F        102  f\n",
    "  7  BEL (bell)                      39  '         71  G        103  g\n",
    "  8  BS  (backspace)                 40  (         72  H        104  h\n",
    "  9  TAB (horizontal tab)            41  )         73  I        105  i\n",
    " 10  LF  (NL line feed, new line)    42  *         74  J        106  j\n",
    " 11  VT  (vertical tab)              43  +         75  K        107  k\n",
    " 12  FF  (NP form feed, new page)    44  ,         76  L        108  l\n",
    " 13  CR  (carriage return)           45  -         77  M        109  m\n",
    " 14  SO  (shift out)                 46  .         78  N        110  n\n",
    " 15  SI  (shift in)                  47  /         79  O        111  o\n",
    " 16  DLE (data link escape)          48  0         80  P        112  p\n",
    " 17  DC1 (device control 1)          49  1         81  Q        113  q\n",
    " 18  DC2 (device control 2)          50  2         82  R        114  r\n",
    " 19  DC3 (device control 3)          51  3         83  S        115  s\n",
    " 20  DC4 (device control 4)          52  4         84  T        116  t\n",
    " 21  NAK (negative acknowledge)      53  5         85  U        117  u\n",
    " 22  SYN (synchronous idle)          54  6         86  V        118  v\n",
    " 23  ETB (end of trans. block)       55  7         87  W        119  w\n",
    " 24  CAN (cancel)                    56  8         88  X        120  x\n",
    " 25  EM  (end of medium)             57  9         89  Y        121  y\n",
    " 26  SUB (substitute)                58  :         90  Z        122  z\n",
    " 27  ESC (escape)                    59  ;         91  [        123  {\n",
    " 28  FS  (file separator)            60  <         92  \\        124  |\n",
    " 29  GS  (group separator)           61  =         93  ]        125  }\n",
    " 30  RS  (record separator)          62  >         94  ^        126  ~\n",
    " 31  US  (unit separator)            63  ?         95  _        127  DEL"
   ]
  },
  {
   "cell_type": "code",
   "execution_count": null,
   "id": "489886d7",
   "metadata": {},
   "outputs": [],
   "source": [
    "somestr = 'hEllo mR. aHmed !'\n",
    "newstrlist = []\n",
    "for letter in somestr:\n",
    "\n",
    "    if 97 <= ord(letter) <= 122:\n",
    "\n",
    "        newstrlist.append(chr(ord(letter) - 32))\n",
    "    else:\n",
    "        newstrlist.append(letter)\n",
    "newstrlist\n",
    "''.join(newstrlist)"
   ]
  },
  {
   "cell_type": "code",
   "execution_count": null,
   "id": "6fd6b788",
   "metadata": {},
   "outputs": [],
   "source": []
  },
  {
   "cell_type": "code",
   "execution_count": null,
   "id": "3595b9af",
   "metadata": {},
   "outputs": [],
   "source": [
    "class Newstring:\n",
    "    \"\"\"bla bla\"\"\"\n",
    "    def __init__(self, nstr):\n",
    "        \"\"\"bla bla bardo\"\"\"\n",
    "        self.length = len(nstr)\n",
    "        self.uppercase\n",
    "        self.nstr = nstr\n",
    "        \n",
    "    def uppercase(self):\n",
    "        \"\"\"bla bla\"\"\"\n",
    "        somestr = self.nstr\n",
    "        newstrlist = []\n",
    "        for string in somestr:\n",
    "       \n",
    "            if 97 <= ord(string) <= 122:\n",
    "       \n",
    "                newstrlist.append(chr(ord(string) - 32))\n",
    "            else:\n",
    "                newstrlist.append(string)\n",
    "       \n",
    "        return ''.join(newstrlist)"
   ]
  },
  {
   "cell_type": "code",
   "execution_count": null,
   "id": "71dea719",
   "metadata": {},
   "outputs": [],
   "source": [
    "newstr = Newstring('string')"
   ]
  },
  {
   "cell_type": "code",
   "execution_count": null,
   "id": "47b6f483",
   "metadata": {},
   "outputs": [],
   "source": [
    "print(newstr.length)"
   ]
  },
  {
   "cell_type": "code",
   "execution_count": null,
   "id": "1ed230fe",
   "metadata": {},
   "outputs": [],
   "source": [
    "print(newstr.uppercase())"
   ]
  },
  {
   "cell_type": "code",
   "execution_count": null,
   "id": "5189d3e1",
   "metadata": {},
   "outputs": [],
   "source": []
  },
  {
   "cell_type": "code",
   "execution_count": null,
   "id": "951e0f38",
   "metadata": {},
   "outputs": [],
   "source": [
    "# card.py\n",
    "\"\"\"Card class that represents a playing card and its image file name.\"\"\"\n",
    "\n",
    "class Card:\n",
    "    FACES = ['ace', '2', '3', '4', '5', '6',\n",
    "             '7', '8', '9', '10', 'jack', 'queen', 'king']\n",
    "    SUITS = ['hearts', 'diamonds', 'clubs', 'spades']\n",
    "\n",
    "    def __init__(self, face, suit):\n",
    "        \"\"\"Initialize a Card with a face and suit.\"\"\"\n",
    "        self._face = face\n",
    "        self._suit = suit\n",
    "\n",
    "    @property\n",
    "    def face(self):\n",
    "        \"\"\"Return the Card's self._face value.\"\"\"\n",
    "        return self._face\n",
    "\n",
    "    @property\n",
    "    def suit(self):\n",
    "        \"\"\"Return the Card's self._suit value.\"\"\"\n",
    "        return self._suit\n",
    "\n",
    "    @property\n",
    "    def image_name(self):\n",
    "        \"\"\"Return the Card's image file name.\"\"\"\n",
    "        return str(self).replace(' ', '_') + '.png'\n",
    "\n",
    "    def __repr__(self):\n",
    "        \"\"\"Return string representation for repr().\"\"\"\n",
    "        return f\"Card(face='{self.face}', suit='{self.suit}')\"     \n",
    "\n",
    "    def __str__(self):\n",
    "        \"\"\"Return string representation for str().\"\"\"\n",
    "        return f'{self.face} of {self.suit}'\n",
    "\n",
    "    def __format__(self, format):\n",
    "        \"\"\"Return formatted string representation.\"\"\"\n",
    "        return f'{str(self):{format}}'\n",
    "\n"
   ]
  },
  {
   "cell_type": "code",
   "execution_count": null,
   "id": "012ffe22",
   "metadata": {},
   "outputs": [],
   "source": [
    "from card import Card"
   ]
  },
  {
   "cell_type": "code",
   "execution_count": null,
   "id": "701e1aad",
   "metadata": {},
   "outputs": [],
   "source": [
    "\n",
    "\n",
    "from deck import DeckOfCards\n",
    "\n",
    "deck_of_cards = DeckOfCards()\n",
    "\n",
    "# Enable Matplotlib in IPython\n",
    "%matplotlib\n",
    "\n",
    "# Create the Base `Path` for Each Image\n",
    "from pathlib import Path\n",
    "\n",
    "path = Path('.').joinpath('card_images')\n",
    "\n",
    "# Import the Matplotlib Features\n",
    "import matplotlib.pyplot as plt\n",
    "\n",
    "import matplotlib.image as mpimg\n",
    "\n",
    "# Create the `Figure` and `Axes` Objects\n",
    "figure, axes_list = plt.subplots(nrows=4, ncols=13)\n",
    "\n",
    "# Configure the `Axes` Objects and Display the Images\n",
    "for axes in axes_list.ravel():\n",
    "    axes.get_xaxis().set_visible(False)\n",
    "    axes.get_yaxis().set_visible(False)\n",
    "    image_name = deck_of_cards.deal_card().image_name\n",
    "    img = mpimg.imread(str(path.joinpath(image_name).resolve()))\n",
    "    axes.imshow(img)\n",
    "\n",
    "# Maximize the Image Sizes\n",
    "figure.tight_layout()\n",
    "\n",
    "### Shuffle and Re-Deal the Deck\n",
    "deck_of_cards.shuffle()\n",
    "\n",
    "for axes in axes_list.ravel():\n",
    "    axes.get_xaxis().set_visible(False)\n",
    "    axes.get_yaxis().set_visible(False)\n",
    "    image_name = deck_of_cards.deal_card().image_name\n",
    "    img = mpimg.imread(str(path.joinpath(image_name).resolve()))\n",
    "    axes.imshow(img)\n",
    "\n",
    "\n"
   ]
  },
  {
   "cell_type": "code",
   "execution_count": null,
   "id": "8e60ddb9",
   "metadata": {},
   "outputs": [],
   "source": [
    "from deck import DeckOfCards"
   ]
  },
  {
   "cell_type": "code",
   "execution_count": null,
   "id": "44b58a12",
   "metadata": {},
   "outputs": [],
   "source": []
  },
  {
   "cell_type": "code",
   "execution_count": null,
   "id": "3dc889e2",
   "metadata": {},
   "outputs": [],
   "source": [
    "deck_of_cards = DeckOfCards()"
   ]
  },
  {
   "cell_type": "code",
   "execution_count": null,
   "id": "ce4cd93a",
   "metadata": {},
   "outputs": [],
   "source": [
    "type(deck_of_cards)"
   ]
  },
  {
   "cell_type": "code",
   "execution_count": null,
   "id": "c682b03a",
   "metadata": {},
   "outputs": [],
   "source": [
    "deck_of_cards.shuffle()\n",
    "print(deck_of_cards)"
   ]
  },
  {
   "cell_type": "code",
   "execution_count": null,
   "id": "5ba07c9a",
   "metadata": {},
   "outputs": [],
   "source": [
    "from IPython.display import Image\n",
    "card = deck_of_cards.deal_card()\n",
    "print(card)\n",
    "Image(filename='card_images/'+card.image_name) "
   ]
  },
  {
   "cell_type": "code",
   "execution_count": null,
   "id": "86c5105b",
   "metadata": {},
   "outputs": [],
   "source": [
    "from IPython.display import Image\n",
    "card = deck_of_cards.deal_card()\n",
    "Image(filename='card_images/'+card.image_name) "
   ]
  },
  {
   "cell_type": "code",
   "execution_count": null,
   "id": "ca9f74e7",
   "metadata": {},
   "outputs": [],
   "source": []
  },
  {
   "cell_type": "markdown",
   "id": "72e863ef",
   "metadata": {},
   "source": [
    "# Modules, Packages, Libraries and Frameworks"
   ]
  },
  {
   "cell_type": "markdown",
   "id": "dd6a08c8",
   "metadata": {},
   "source": [
    "**[Brief Tour of the Standard Library - Part I](https://docs.python.org/3/tutorial/stdlib.html)**  \n",
    "**[Brief Tour of the Standard Library - Part II](https://docs.python.org/3/tutorial/stdlib2.html)**"
   ]
  },
  {
   "cell_type": "raw",
   "id": "bc562d79",
   "metadata": {},
   "source": [
    "sound/                          Top-level package\n",
    "      __init__.py               Initialize the sound package\n",
    "      formats/                  Subpackage for file format conversions\n",
    "              __init__.py\n",
    "              wavread.py\n",
    "              wavwrite.py\n",
    "              aiffread.py\n",
    "              aiffwrite.py\n",
    "              auread.py\n",
    "              auwrite.py\n",
    "              ...\n",
    "      effects/                  Subpackage for sound effects\n",
    "              __init__.py\n",
    "              echo.py\n",
    "              surround.py\n",
    "              reverse.py\n",
    "              ...\n",
    "      filters/                  Subpackage for filters\n",
    "              __init__.py\n",
    "              equalizer.py\n",
    "              vocoder.py\n",
    "              karaoke.py\n",
    "              ...\n"
   ]
  },
  {
   "cell_type": "code",
   "execution_count": null,
   "id": "8c8808c5",
   "metadata": {},
   "outputs": [],
   "source": [
    "# import sound.effects.echo\n",
    "# sound.effects.echo.echofilter(input, output, delay=0.7, atten=4)\n",
    "# equivalent to\n",
    "# from sound.effects import echo\n",
    "# echo.echofilter(input, output, delay=0.7, atten=4)\n",
    "# equivalent to\n",
    "# from sound.effects.echo import echofilter\n",
    "# echofilter(input, output, delay=0.7, atten=4)"
   ]
  },
  {
   "cell_type": "code",
   "execution_count": null,
   "id": "5db7c31a",
   "metadata": {},
   "outputs": [],
   "source": []
  },
  {
   "cell_type": "code",
   "execution_count": null,
   "id": "5b95ed5d",
   "metadata": {},
   "outputs": [],
   "source": [
    "# Python Standard Library"
   ]
  },
  {
   "cell_type": "code",
   "execution_count": null,
   "id": "d1f2aad7",
   "metadata": {},
   "outputs": [],
   "source": [
    "###############\n",
    "# os"
   ]
  },
  {
   "cell_type": "code",
   "execution_count": null,
   "id": "40f3e3f0",
   "metadata": {},
   "outputs": [],
   "source": [
    "import os "
   ]
  },
  {
   "cell_type": "code",
   "execution_count": null,
   "id": "1637617d",
   "metadata": {},
   "outputs": [],
   "source": [
    "dir(os)"
   ]
  },
  {
   "cell_type": "code",
   "execution_count": null,
   "id": "74e483e3",
   "metadata": {},
   "outputs": [],
   "source": [
    "os.getlogin()"
   ]
  },
  {
   "cell_type": "code",
   "execution_count": null,
   "id": "d3df5061",
   "metadata": {},
   "outputs": [],
   "source": [
    "os.getcwd()"
   ]
  },
  {
   "cell_type": "code",
   "execution_count": null,
   "id": "17555bc2",
   "metadata": {},
   "outputs": [],
   "source": [
    "os.system('mkdir today')"
   ]
  },
  {
   "cell_type": "code",
   "execution_count": null,
   "id": "c8fb2563",
   "metadata": {},
   "outputs": [],
   "source": [
    "os.listdir()"
   ]
  },
  {
   "cell_type": "code",
   "execution_count": null,
   "id": "2bb9032b",
   "metadata": {},
   "outputs": [],
   "source": [
    "###############\n",
    "# glob"
   ]
  },
  {
   "cell_type": "code",
   "execution_count": null,
   "id": "6c8e7a13",
   "metadata": {},
   "outputs": [],
   "source": [
    "import glob"
   ]
  },
  {
   "cell_type": "code",
   "execution_count": null,
   "id": "fca57987",
   "metadata": {},
   "outputs": [],
   "source": [
    "glob.glob('*.py')"
   ]
  },
  {
   "cell_type": "code",
   "execution_count": null,
   "id": "b8a906b6",
   "metadata": {},
   "outputs": [],
   "source": [
    "###############\n",
    "# re"
   ]
  },
  {
   "cell_type": "code",
   "execution_count": null,
   "id": "9aab1559",
   "metadata": {},
   "outputs": [],
   "source": [
    "import re"
   ]
  },
  {
   "cell_type": "code",
   "execution_count": null,
   "id": "10e051c6",
   "metadata": {},
   "outputs": [],
   "source": [
    "re.findall(r'\\bf[a-z]*', 'which foot or hand fell fastest f2ast1est')"
   ]
  },
  {
   "cell_type": "code",
   "execution_count": null,
   "id": "f97b1653",
   "metadata": {},
   "outputs": [],
   "source": [
    "###############\n",
    "# sys"
   ]
  },
  {
   "cell_type": "code",
   "execution_count": null,
   "id": "74f8e11c",
   "metadata": {},
   "outputs": [],
   "source": [
    "import sys"
   ]
  },
  {
   "cell_type": "code",
   "execution_count": null,
   "id": "cd4e8562",
   "metadata": {},
   "outputs": [],
   "source": [
    "print(sys.argv)"
   ]
  },
  {
   "cell_type": "code",
   "execution_count": null,
   "id": "66f74abe",
   "metadata": {},
   "outputs": [],
   "source": [
    "print(sys.ps3)"
   ]
  },
  {
   "cell_type": "code",
   "execution_count": null,
   "id": "474f3f0b",
   "metadata": {
    "scrolled": true
   },
   "outputs": [],
   "source": [
    "dir(sys)"
   ]
  },
  {
   "cell_type": "code",
   "execution_count": null,
   "id": "02940edb",
   "metadata": {},
   "outputs": [],
   "source": [
    "###############\n",
    "# datetime"
   ]
  },
  {
   "cell_type": "code",
   "execution_count": null,
   "id": "d8cbfe92",
   "metadata": {},
   "outputs": [],
   "source": [
    "from datetime import date"
   ]
  },
  {
   "cell_type": "code",
   "execution_count": null,
   "id": "ebf28ef0",
   "metadata": {},
   "outputs": [],
   "source": [
    "now = date.today()\n",
    "now"
   ]
  },
  {
   "cell_type": "code",
   "execution_count": null,
   "id": "91ba90d8",
   "metadata": {},
   "outputs": [],
   "source": [
    "now.strftime(\"%m-%d-%y. %d %b %Y is a %A on the %d day of %B.\")"
   ]
  },
  {
   "cell_type": "code",
   "execution_count": null,
   "id": "e1ce28e1",
   "metadata": {},
   "outputs": [],
   "source": [
    "# dates support calendar arithmetic\n",
    "birthday = date(1964, 7, 31)\n",
    "age = now - birthday\n",
    "age.days"
   ]
  },
  {
   "cell_type": "code",
   "execution_count": null,
   "id": "a7d8f92e",
   "metadata": {},
   "outputs": [],
   "source": [
    "###############\n",
    "# math"
   ]
  },
  {
   "cell_type": "code",
   "execution_count": null,
   "id": "1b248bd2",
   "metadata": {},
   "outputs": [],
   "source": [
    "import math"
   ]
  },
  {
   "cell_type": "code",
   "execution_count": null,
   "id": "88fe7ae0",
   "metadata": {},
   "outputs": [],
   "source": [
    "dir(math)"
   ]
  },
  {
   "cell_type": "code",
   "execution_count": null,
   "id": "10700236",
   "metadata": {},
   "outputs": [],
   "source": [
    "math.cos(math.pi)"
   ]
  },
  {
   "cell_type": "code",
   "execution_count": null,
   "id": "0c155906",
   "metadata": {},
   "outputs": [],
   "source": [
    "math.log(1024, 2)"
   ]
  },
  {
   "cell_type": "code",
   "execution_count": null,
   "id": "e17a0fd0",
   "metadata": {},
   "outputs": [],
   "source": [
    "math.gcd(35,105)"
   ]
  },
  {
   "cell_type": "code",
   "execution_count": null,
   "id": "0755b671",
   "metadata": {},
   "outputs": [],
   "source": [
    "import statistics"
   ]
  },
  {
   "cell_type": "code",
   "execution_count": null,
   "id": "0f1dd86e",
   "metadata": {},
   "outputs": [],
   "source": [
    "dir(statistics)"
   ]
  },
  {
   "cell_type": "code",
   "execution_count": null,
   "id": "c7f07d7f",
   "metadata": {},
   "outputs": [],
   "source": [
    "data = [2.75, 1.75, 1.25, 0.25, 0.5, 1.25, 3.5]\n",
    "print('mean: ', statistics.mean(data))\n",
    "print('median: ', statistics.median(data))\n",
    "print('variance: ', statistics.variance(data))"
   ]
  },
  {
   "cell_type": "code",
   "execution_count": null,
   "id": "9605a61a",
   "metadata": {},
   "outputs": [],
   "source": [
    "###############\n",
    "# decimal"
   ]
  },
  {
   "cell_type": "code",
   "execution_count": null,
   "id": "198c15ff",
   "metadata": {},
   "outputs": [],
   "source": [
    "from decimal import Decimal "
   ]
  },
  {
   "cell_type": "code",
   "execution_count": null,
   "id": "2ccd2a86",
   "metadata": {},
   "outputs": [],
   "source": [
    "x = y = z  = 0.1\n",
    "s = x + y + z"
   ]
  },
  {
   "cell_type": "code",
   "execution_count": null,
   "id": "f8e769fc",
   "metadata": {},
   "outputs": [],
   "source": [
    "s"
   ]
  },
  {
   "cell_type": "code",
   "execution_count": null,
   "id": "8b1a9a54",
   "metadata": {},
   "outputs": [],
   "source": [
    "0.300000000000004 ==  0.300000000000005"
   ]
  },
  {
   "cell_type": "code",
   "execution_count": null,
   "id": "e5b6f1cb",
   "metadata": {},
   "outputs": [],
   "source": [
    "x = Decimal('0.1')\n",
    "y = Decimal('0.1')\n",
    "z = Decimal('0.1')\n",
    "\n",
    "s = x + y + z\n",
    "\n",
    "print(s)"
   ]
  },
  {
   "cell_type": "code",
   "execution_count": null,
   "id": "8891b093",
   "metadata": {},
   "outputs": [],
   "source": [
    "x = Decimal((0, (3, 1, 4), -1))"
   ]
  },
  {
   "cell_type": "code",
   "execution_count": null,
   "id": "1977946b",
   "metadata": {},
   "outputs": [],
   "source": [
    "x"
   ]
  },
  {
   "cell_type": "code",
   "execution_count": null,
   "id": "e1c0844a",
   "metadata": {
    "scrolled": true
   },
   "outputs": [],
   "source": [
    "Decimal((0, (3, 1, 4), -2)) == Decimal('3.14')"
   ]
  },
  {
   "cell_type": "code",
   "execution_count": null,
   "id": "8c7893a4",
   "metadata": {},
   "outputs": [],
   "source": [
    "###############\n",
    "# typing"
   ]
  },
  {
   "cell_type": "code",
   "execution_count": null,
   "id": "7b838ef4",
   "metadata": {},
   "outputs": [],
   "source": [
    "import typing"
   ]
  },
  {
   "cell_type": "code",
   "execution_count": null,
   "id": "ce8d6d6d",
   "metadata": {},
   "outputs": [],
   "source": [
    "def scale(scalar, vector) :\n",
    "    return [scalar * num for num in vector]\n",
    "\n",
    "new_vector = scale(2.0, [1.0, -4.2, 5.4])"
   ]
  },
  {
   "cell_type": "code",
   "execution_count": null,
   "id": "f40ce028",
   "metadata": {},
   "outputs": [],
   "source": [
    "Vector = list[float]\n",
    "\n",
    "def scale(scalar: float, vector: Vector) -> Vector:\n",
    "    return [scalar * num for num in vector]\n",
    "\n",
    "# typechecks; a list of floats qualifies as a Vector.\n",
    "new_vector = scale(2.0, [1.0, -4.2, 5.4])"
   ]
  },
  {
   "cell_type": "code",
   "execution_count": null,
   "id": "8eead779",
   "metadata": {},
   "outputs": [],
   "source": [
    "type(new_vector)"
   ]
  },
  {
   "cell_type": "code",
   "execution_count": null,
   "id": "4cf45f1a",
   "metadata": {},
   "outputs": [],
   "source": []
  },
  {
   "cell_type": "code",
   "execution_count": null,
   "id": "886d490c",
   "metadata": {},
   "outputs": [],
   "source": [
    "import array"
   ]
  },
  {
   "cell_type": "code",
   "execution_count": null,
   "id": "820f6a2e",
   "metadata": {},
   "outputs": [],
   "source": [
    "a = array.array('l', [1,2,3,4,5])"
   ]
  },
  {
   "cell_type": "code",
   "execution_count": null,
   "id": "3944cd76",
   "metadata": {},
   "outputs": [],
   "source": [
    "a[0]"
   ]
  },
  {
   "cell_type": "code",
   "execution_count": null,
   "id": "230ff3ec",
   "metadata": {},
   "outputs": [],
   "source": [
    "type(a)"
   ]
  },
  {
   "cell_type": "code",
   "execution_count": null,
   "id": "d3896e8c",
   "metadata": {},
   "outputs": [],
   "source": [
    "###############\n",
    "# random"
   ]
  },
  {
   "cell_type": "code",
   "execution_count": null,
   "id": "381afe69",
   "metadata": {},
   "outputs": [],
   "source": [
    "import random"
   ]
  },
  {
   "cell_type": "code",
   "execution_count": null,
   "id": "349acf66",
   "metadata": {},
   "outputs": [],
   "source": [
    "random.seed(10)\n",
    "random.random()"
   ]
  },
  {
   "cell_type": "code",
   "execution_count": null,
   "id": "ea67bb32",
   "metadata": {},
   "outputs": [],
   "source": [
    "random.uniform(9,189)"
   ]
  },
  {
   "cell_type": "code",
   "execution_count": null,
   "id": "c08dcfa1",
   "metadata": {},
   "outputs": [],
   "source": [
    "random.randrange(0,100,3)  "
   ]
  },
  {
   "cell_type": "code",
   "execution_count": null,
   "id": "b5272a61",
   "metadata": {},
   "outputs": [],
   "source": [
    "random.choice(['win', 'lose', 'draw'])  "
   ]
  },
  {
   "cell_type": "code",
   "execution_count": null,
   "id": "81b49a32",
   "metadata": {},
   "outputs": [],
   "source": [
    "il = [1,2,3,4,5]\n",
    "sl = ['a','b','c','d','e']\n",
    "\n",
    "random.shuffle(il)\n",
    "random.shuffle(sl)\n",
    "\n",
    "print(il)\n",
    "print(sl)"
   ]
  },
  {
   "cell_type": "code",
   "execution_count": null,
   "id": "8744ecfa",
   "metadata": {
    "scrolled": true
   },
   "outputs": [],
   "source": [
    "random.sample([10, 20, 30, 40, 50, 'a', 'b', 'c', 'd', 'e'], k=7) "
   ]
  },
  {
   "cell_type": "code",
   "execution_count": null,
   "id": "91992276",
   "metadata": {},
   "outputs": [],
   "source": [
    "random.choices(['red', 'black', 'green'], [18, 1, 5], k=6)"
   ]
  },
  {
   "cell_type": "code",
   "execution_count": null,
   "id": "4ca5fcd2",
   "metadata": {},
   "outputs": [],
   "source": []
  },
  {
   "cell_type": "code",
   "execution_count": null,
   "id": "5e968e2e",
   "metadata": {},
   "outputs": [],
   "source": [
    "##############\n",
    "# collections"
   ]
  },
  {
   "cell_type": "code",
   "execution_count": null,
   "id": "3436751e",
   "metadata": {},
   "outputs": [],
   "source": [
    "import collections"
   ]
  },
  {
   "cell_type": "code",
   "execution_count": null,
   "id": "1a5331ef",
   "metadata": {},
   "outputs": [],
   "source": [
    "Point = collections.namedtuple('Point', ['x','y'])"
   ]
  },
  {
   "cell_type": "code",
   "execution_count": null,
   "id": "f628de1f",
   "metadata": {},
   "outputs": [],
   "source": [
    "p1 = Point(13, 99)"
   ]
  },
  {
   "cell_type": "code",
   "execution_count": null,
   "id": "d9edb196",
   "metadata": {},
   "outputs": [],
   "source": [
    "p1[0]"
   ]
  },
  {
   "cell_type": "code",
   "execution_count": null,
   "id": "99210337",
   "metadata": {},
   "outputs": [],
   "source": [
    "p1.x"
   ]
  },
  {
   "cell_type": "code",
   "execution_count": null,
   "id": "f89e5a48",
   "metadata": {},
   "outputs": [],
   "source": []
  },
  {
   "cell_type": "code",
   "execution_count": null,
   "id": "171b20ef",
   "metadata": {},
   "outputs": [],
   "source": [
    "######################"
   ]
  },
  {
   "cell_type": "code",
   "execution_count": null,
   "id": "eaec44da",
   "metadata": {},
   "outputs": [],
   "source": [
    "# string"
   ]
  },
  {
   "cell_type": "code",
   "execution_count": null,
   "id": "c7ab9a59",
   "metadata": {},
   "outputs": [],
   "source": [
    "import string"
   ]
  },
  {
   "cell_type": "code",
   "execution_count": null,
   "id": "b7129015",
   "metadata": {},
   "outputs": [],
   "source": [
    "import string\n",
    "\n",
    "# string module constants\n",
    "print(string.ascii_letters)\n",
    "print(string.ascii_lowercase)\n",
    "print(string.ascii_uppercase)\n",
    "print(string.digits)\n",
    "print(string.hexdigits)\n",
    "print(string.whitespace)  # ' \\t\\n\\r\\x0b\\x0c'\n",
    "print(string.punctuation)\n",
    "\n"
   ]
  },
  {
   "cell_type": "code",
   "execution_count": null,
   "id": "f0995ee8",
   "metadata": {},
   "outputs": [],
   "source": [
    "from string import Template\n",
    "t = Template('${village}folk send $$10 to $cause.')\n",
    "t.substitute(village='Nottingham', cause='the ditch fund')"
   ]
  },
  {
   "cell_type": "code",
   "execution_count": null,
   "id": "5110bc1d",
   "metadata": {},
   "outputs": [],
   "source": []
  },
  {
   "cell_type": "markdown",
   "id": "9b41c1d2",
   "metadata": {},
   "source": [
    "# Working with Files"
   ]
  },
  {
   "cell_type": "code",
   "execution_count": null,
   "id": "45af5ccb",
   "metadata": {},
   "outputs": [],
   "source": [
    "cat pi_digits.txt"
   ]
  },
  {
   "cell_type": "code",
   "execution_count": null,
   "id": "1faf27e5",
   "metadata": {},
   "outputs": [],
   "source": [
    "# the 'open()' functions returns an object representing the file\n",
    "# The keyword 'with' closes the file once access to it is no longer needed\n",
    "# you can also use the 'close()' function to close the file\n",
    "# use the 'read()' method in the second line of our program to \n",
    "# read the entire contents of the file and store it as one long string in contents\n",
    "\n",
    "with open('pi_digits.txt') as file_object:\n",
    "    contents = file_object.read()\n",
    "print(contents)"
   ]
  },
  {
   "cell_type": "code",
   "execution_count": null,
   "id": "1f56e0c9",
   "metadata": {},
   "outputs": [],
   "source": [
    "type(file_object)"
   ]
  },
  {
   "cell_type": "code",
   "execution_count": null,
   "id": "93d7ad63",
   "metadata": {},
   "outputs": [],
   "source": [
    "# you can use rstrip to remove the extra blank line\n",
    "with open('pi_digits.txt') as file_object:\n",
    "    contents = file_object.read()\n",
    "print(contents.rstrip())"
   ]
  },
  {
   "cell_type": "code",
   "execution_count": null,
   "id": "39edb4c8",
   "metadata": {},
   "outputs": [],
   "source": [
    "# read line by line\n",
    "filename = 'pi_digits.txt'\n",
    "\n",
    "with open(filename) as file_object:\n",
    "    lcounter = 1\n",
    "    for line in file_object:\n",
    "        print(lcounter, ': ', line.rstrip())\n",
    "        lcounter += 1"
   ]
  },
  {
   "cell_type": "code",
   "execution_count": null,
   "id": "c01578d7",
   "metadata": {},
   "outputs": [],
   "source": [
    "# readlines() method makes a list of lines\n",
    "filename = 'pi_digits.txt'\n",
    "\n",
    "with open(filename) as file_object:\n",
    "    lines = file_object.readlines()\n",
    "    for line in lines:\n",
    "        print(line.rstrip())"
   ]
  },
  {
   "cell_type": "code",
   "execution_count": null,
   "id": "88e66d1d",
   "metadata": {},
   "outputs": [],
   "source": [
    "# working with file contents\n",
    "# concatinate the contents\n",
    "\n",
    "filename = 'pi_digits.txt'\n",
    "\n",
    "with open(filename) as file_object:\n",
    "    lines = file_object.readlines()\n",
    "\n",
    "pi_string = ''\n",
    "for line in lines:\n",
    "    pi_string += line.strip()\n",
    "\n",
    "print(pi_string)\n",
    "print(len(pi_string))"
   ]
  },
  {
   "cell_type": "code",
   "execution_count": null,
   "id": "1c39dedf",
   "metadata": {},
   "outputs": [],
   "source": [
    "filename = 'pi_million_digits.txt'\n",
    "\n",
    "with open(filename) as file_object:\n",
    "    lines = file_object.readlines()\n",
    "\n",
    "pi_string = ''\n",
    "for line in lines:\n",
    "    pi_string += line.strip()\n",
    "\n",
    "print(f'{pi_string[:52]}...')\n",
    "print(len(pi_string))"
   ]
  },
  {
   "cell_type": "code",
   "execution_count": null,
   "id": "5d3c4402",
   "metadata": {},
   "outputs": [],
   "source": [
    "# birthday\n",
    "filename = 'pi_million_digits.txt'\n",
    "\n",
    "with open(filename) as file_object:\n",
    "    lines = file_object.readlines()\n",
    "\n",
    "pi_string = ''\n",
    "for line in lines:\n",
    "    pi_string += line.strip()\n",
    "\n",
    "birthday = input(\"Enter your birthday, in the form mmddyy: \")\n",
    "if birthday in pi_string:\n",
    "    print(\"Your birthday appears in the first million digits of pi!\")\n",
    "else:\n",
    "    print(\"Your birthday does not appear in the first million digits of pi.\")"
   ]
  },
  {
   "cell_type": "code",
   "execution_count": null,
   "id": "0fe23fe6",
   "metadata": {},
   "outputs": [],
   "source": [
    "%cat programming.txt"
   ]
  },
  {
   "cell_type": "code",
   "execution_count": null,
   "id": "f29446c8",
   "metadata": {},
   "outputs": [],
   "source": [
    "# writing to a file\n",
    "filename = 'programming.txt'\n",
    "\n",
    "with open(filename, 'w') as file_object:\n",
    "    file_object.write(\"I also love finding meaning in large datasets.\\n\")\n",
    "    file_object.write(\"I love creating apps that can run in a browser.\\n\")\n"
   ]
  },
  {
   "cell_type": "code",
   "execution_count": null,
   "id": "7f886765",
   "metadata": {},
   "outputs": [],
   "source": [
    "%cat programming.txt"
   ]
  },
  {
   "cell_type": "code",
   "execution_count": null,
   "id": "3c55bac8",
   "metadata": {},
   "outputs": [],
   "source": []
  },
  {
   "cell_type": "code",
   "execution_count": null,
   "id": "60093ccf",
   "metadata": {},
   "outputs": [],
   "source": [
    "############\n",
    "# csv "
   ]
  },
  {
   "cell_type": "markdown",
   "id": "484de81a",
   "metadata": {},
   "source": [
    "[csv — CSV File Reading and Writing](https://docs.python.org/3/library/csv.html)"
   ]
  },
  {
   "cell_type": "markdown",
   "id": "d1b6938d",
   "metadata": {},
   "source": [
    "[Common Format and MIME Type for Comma-Separated Values (CSV) Files](https://datatracker.ietf.org/doc/html/rfc4180)"
   ]
  },
  {
   "cell_type": "code",
   "execution_count": null,
   "id": "5c32df4d",
   "metadata": {},
   "outputs": [],
   "source": [
    "cat names.csv"
   ]
  },
  {
   "cell_type": "code",
   "execution_count": null,
   "id": "449f90be",
   "metadata": {},
   "outputs": [],
   "source": [
    "import csv"
   ]
  },
  {
   "cell_type": "code",
   "execution_count": null,
   "id": "6e2a10a1",
   "metadata": {},
   "outputs": [],
   "source": [
    "with open('./names.csv', newline='') as csvfile:\n",
    "    reader = csv.DictReader(csvfile)\n",
    "    for row in reader:\n",
    "        print(row['fname'], row['lname'], row['country'])\n",
    "type(row)"
   ]
  },
  {
   "cell_type": "code",
   "execution_count": null,
   "id": "06aa9c82",
   "metadata": {},
   "outputs": [],
   "source": [
    "# access modes r, w, a, r+, w+, etc.\n",
    "\n",
    "with open('names2.csv', 'a', newline='') as csvfile:\n",
    "    fieldnames = ['fname', 'lname','age','sex','country']\n",
    "    writer = csv.DictWriter(csvfile, fieldnames=fieldnames)\n",
    "\n",
    "    writer.writeheader()\n",
    "    writer.writerow({'fname': 'hammo', \n",
    "                     'lname': 'Bika', \n",
    "                     'age': '34', \n",
    "                     'sex': 'male', \n",
    "                     'country': 'egypt'})\n",
    "    \n",
    "    writer.writerow({'fname': 'alissa', \n",
    "                     'lname': 'abdrabbo', \n",
    "                     'age': '55', \n",
    "                     'sex': 'female', \n",
    "                     'country': 'lebanon'})"
   ]
  },
  {
   "cell_type": "code",
   "execution_count": null,
   "id": "0b42b482",
   "metadata": {},
   "outputs": [],
   "source": [
    "cat names2.csv"
   ]
  },
  {
   "cell_type": "code",
   "execution_count": null,
   "id": "5f784012",
   "metadata": {},
   "outputs": [],
   "source": [
    "cat names_tabs.csv"
   ]
  },
  {
   "cell_type": "code",
   "execution_count": null,
   "id": "22ffe36d",
   "metadata": {},
   "outputs": [],
   "source": [
    "# dialect\n",
    "# error\n",
    "with open('./names_tabs.csv', newline='') as csvfile:\n",
    "    reader = csv.DictReader(csvfile)\n",
    "    for row in reader:\n",
    "        print(row['fname'], row['lname'])"
   ]
  },
  {
   "cell_type": "code",
   "execution_count": null,
   "id": "738f2334",
   "metadata": {},
   "outputs": [],
   "source": [
    "# dialect\n",
    "with open('./names_tabs.csv', newline='') as csvfile:\n",
    "    reader = csv.DictReader(csvfile, delimiter='\t')\n",
    "    for row in reader:\n",
    "        print(row['fname'], row['lname'])"
   ]
  },
  {
   "cell_type": "code",
   "execution_count": null,
   "id": "09210d3e",
   "metadata": {},
   "outputs": [],
   "source": []
  },
  {
   "cell_type": "code",
   "execution_count": null,
   "id": "9c9f1dbd",
   "metadata": {},
   "outputs": [],
   "source": [
    "###########\n",
    "# json"
   ]
  },
  {
   "cell_type": "code",
   "execution_count": null,
   "id": "71e7c687",
   "metadata": {},
   "outputs": [],
   "source": [
    "import json"
   ]
  },
  {
   "cell_type": "code",
   "execution_count": null,
   "id": "c0549d3e",
   "metadata": {},
   "outputs": [],
   "source": [
    "json.dumps(['foo', {'bar': ('baz', None, 1.0, 2)}])"
   ]
  },
  {
   "cell_type": "raw",
   "id": "1ff5d039",
   "metadata": {},
   "source": [
    "JSON   | Python\n",
    "---------------\n",
    "object | dict\n",
    "array  | list\n",
    "string | str\n",
    "number | int\n",
    "number | float\n",
    "true   | True\n",
    "false  | False\n",
    "null   | None"
   ]
  },
  {
   "cell_type": "markdown",
   "id": "b0b8689a",
   "metadata": {},
   "source": [
    "**[json — JSON encoder and decode](https://docs.python.org/3/library/json.html)**"
   ]
  },
  {
   "cell_type": "markdown",
   "id": "76767566",
   "metadata": {},
   "source": [
    "[The JavaScript Object Notation (JSON) Data Interchange Format](https://datatracker.ietf.org/doc/html/rfc7159)"
   ]
  },
  {
   "cell_type": "code",
   "execution_count": null,
   "id": "a5a14537",
   "metadata": {},
   "outputs": [],
   "source": [
    "images = \"\"\"\n",
    "{\n",
    "    \"Images\": [\n",
    "    {\n",
    "        \"Title\":\"High View\",\n",
    "        \"Width\": 800,\n",
    "        \"Height\": 600,\n",
    "        \"Where\": \"View from 15th Floor\",\n",
    "        \"Greyscale\": true,\n",
    "        \"Author\": null,\n",
    "        \"Thumbnail\": {\n",
    "            \"Url\": \"http://www.example.com/image/481989943\",\n",
    "            \"Height\": 125,\n",
    "            \"Width\": 100\n",
    "        },\n",
    "        \"Animated\": false,\n",
    "        \"IDs\": [116, 943, 234, 38793]\n",
    "    },\n",
    "    {\n",
    "        \"Title\":\"Ground View\",\n",
    "        \"Width\": 800,\n",
    "        \"Height\": 600,\n",
    "        \"Where\": \"View from 1st Floor\",\n",
    "        \"Greyscale\": false,\n",
    "        \"Author\": \"Charles Darwin\",\n",
    "        \"Thumbnail\": {\n",
    "            \"Url\": \"http://www.example.com/image/481989955\",\n",
    "            \"Height\": 125,\n",
    "            \"Width\": 100\n",
    "        },\n",
    "        \"Animated\": false,\n",
    "        \"IDs\": [122, 867, 290, 90126]\n",
    "    }\n",
    "  ]\n",
    "}\n",
    "\"\"\""
   ]
  },
  {
   "cell_type": "code",
   "execution_count": null,
   "id": "6dac2ab3",
   "metadata": {},
   "outputs": [],
   "source": [
    "data = json.loads(images)\n",
    "print(data)"
   ]
  },
  {
   "cell_type": "code",
   "execution_count": null,
   "id": "5225b4d4",
   "metadata": {},
   "outputs": [],
   "source": [
    "type(data)"
   ]
  },
  {
   "cell_type": "code",
   "execution_count": null,
   "id": "837ffe27",
   "metadata": {},
   "outputs": [],
   "source": [
    "type(data[\"Images\"])"
   ]
  },
  {
   "cell_type": "code",
   "execution_count": null,
   "id": "0a9c7725",
   "metadata": {},
   "outputs": [],
   "source": [
    "for image in data[\"Images\"]:\n",
    "    print(image)\n",
    "    print('---')"
   ]
  },
  {
   "cell_type": "code",
   "execution_count": null,
   "id": "b723cf49",
   "metadata": {},
   "outputs": [],
   "source": [
    "for image in data[\"Images\"]:\n",
    "    print(image['Title'])\n",
    "    print('---')"
   ]
  },
  {
   "cell_type": "code",
   "execution_count": null,
   "id": "0f9776a3",
   "metadata": {},
   "outputs": [],
   "source": [
    "# del value"
   ]
  },
  {
   "cell_type": "code",
   "execution_count": null,
   "id": "5b169079",
   "metadata": {},
   "outputs": [],
   "source": [
    "for image in data[\"Images\"]:\n",
    "    del image['Thumbnail']\n",
    "print(data)"
   ]
  },
  {
   "cell_type": "code",
   "execution_count": null,
   "id": "82527994",
   "metadata": {},
   "outputs": [],
   "source": [
    "# dump\n",
    "new_data = json.dumps(data, indent=2)\n",
    "print(new_data)"
   ]
  },
  {
   "cell_type": "code",
   "execution_count": null,
   "id": "4e6cf85d",
   "metadata": {},
   "outputs": [],
   "source": [
    "# states\n",
    "filename = 'us_states.json'\n",
    "with open(filename) as f:\n",
    "    us_states_data = json.load(f)\n",
    "    for state in us_states_data['states']:\n",
    "        print(state)"
   ]
  },
  {
   "cell_type": "code",
   "execution_count": null,
   "id": "8458aa67",
   "metadata": {},
   "outputs": [],
   "source": [
    "filename = 'us_states.json'\n",
    "with open(filename) as f:\n",
    "    us_states_data = json.load(f)\n",
    "    lons, lats, hover_texts = [], [], []\n",
    "    for state in us_states_data['states']:\n",
    "        lon = state['long']\n",
    "        lat = state['lat']\n",
    "        title = state['capital']\n",
    "\n",
    "        lons.append(lon)\n",
    "        lats.append(lat)\n",
    "\n",
    "\n"
   ]
  },
  {
   "cell_type": "code",
   "execution_count": null,
   "id": "b4d7652e",
   "metadata": {},
   "outputs": [],
   "source": []
  },
  {
   "cell_type": "code",
   "execution_count": null,
   "id": "609c93ca",
   "metadata": {},
   "outputs": [],
   "source": [
    "import json\n",
    "\n",
    "from plotly.graph_objs import Scattergeo, Layout\n",
    "from plotly import offline\n",
    "\n",
    "# Explore the structure of the data.\n",
    "filename = 'eq_data_1_day_m1.json'\n",
    "with open(filename) as f:\n",
    "    all_eq_data = json.load(f)\n",
    "\n",
    "all_eq_dicts = all_eq_data['features']\n",
    "\n",
    "mags, lons, lats, hover_texts = [], [], [], []\n",
    "for eq_dict in all_eq_dicts:\n",
    "    mag = eq_dict['properties']['mag']\n",
    "    lon = eq_dict['geometry']['coordinates'][0]\n",
    "    lat = eq_dict['geometry']['coordinates'][1]\n",
    "    title = eq_dict['properties']['title']\n",
    "    mags.append(mag)\n",
    "    lons.append(lon)\n",
    "    lats.append(lat)\n",
    "    hover_texts.append(title)\n",
    "\n",
    "# Map the earthquakes.\n",
    "data = [{\n",
    "    'type': 'scattergeo',\n",
    "    'lon': lons,\n",
    "    'lat': lats,\n",
    "    'text': hover_texts,\n",
    "    'marker': {\n",
    "        'size': [5*mag for mag in mags],\n",
    "        'color': mags,\n",
    "        'colorscale': 'Viridis',\n",
    "        'reversescale': True,\n",
    "        'colorbar': {'title': 'Magnitude'},\n",
    "    },\n",
    "}]\n",
    "\n",
    "my_layout = Layout(title='Global Earthquakes')\n",
    "\n",
    "fig = {'data': data, 'layout': my_layout}\n",
    "offline.plot(fig, filename='global_earthquakes.html')"
   ]
  },
  {
   "cell_type": "code",
   "execution_count": null,
   "id": "05f7bc46",
   "metadata": {},
   "outputs": [],
   "source": []
  },
  {
   "cell_type": "markdown",
   "id": "eef15675",
   "metadata": {},
   "source": [
    "# Testing and Exceptions"
   ]
  },
  {
   "cell_type": "code",
   "execution_count": null,
   "id": "33f362a9",
   "metadata": {},
   "outputs": [],
   "source": [
    "# exceptions object"
   ]
  },
  {
   "cell_type": "code",
   "execution_count": null,
   "id": "a502cba1",
   "metadata": {},
   "outputs": [],
   "source": [
    "# try-except"
   ]
  },
  {
   "cell_type": "code",
   "execution_count": null,
   "id": "4839868f",
   "metadata": {},
   "outputs": [],
   "source": [
    "# Handling the ZeroDivisionError Exception"
   ]
  },
  {
   "cell_type": "code",
   "execution_count": null,
   "id": "56765684",
   "metadata": {},
   "outputs": [],
   "source": [
    "5 / 0"
   ]
  },
  {
   "cell_type": "code",
   "execution_count": null,
   "id": "be010833",
   "metadata": {},
   "outputs": [],
   "source": [
    "try:\n",
    "    5 / 0\n",
    "except:\n",
    "    print('something wrong happened')"
   ]
  },
  {
   "cell_type": "code",
   "execution_count": null,
   "id": "9131c329",
   "metadata": {},
   "outputs": [],
   "source": [
    "# get exception info\n",
    "try:\n",
    "    5 / 0\n",
    "except Exception as e:\n",
    "#     print(dir(e))\n",
    "    print(e.__class__)\n",
    "#     print(e.args[0])\n",
    "#    print(e)"
   ]
  },
  {
   "cell_type": "code",
   "execution_count": null,
   "id": "20064a03",
   "metadata": {},
   "outputs": [],
   "source": [
    "try:\n",
    "    5 / 0\n",
    "\n",
    "except ZeroDivisionError:\n",
    "    print(\"You cannot divide by zero\")"
   ]
  },
  {
   "cell_type": "code",
   "execution_count": null,
   "id": "812c9201",
   "metadata": {},
   "outputs": [],
   "source": [
    "# multiple excepts\n",
    "# default except last"
   ]
  },
  {
   "cell_type": "code",
   "execution_count": null,
   "id": "8e5d9570",
   "metadata": {},
   "outputs": [],
   "source": [
    "try:\n",
    "    print(aa)\n",
    "except ZeroDivisionError:\n",
    "    print(\"You cannot divide by zero\")\n",
    "except Exception as err:\n",
    "    print(f'something wrong happened which is {err}')"
   ]
  },
  {
   "cell_type": "code",
   "execution_count": null,
   "id": "4e5524d1",
   "metadata": {},
   "outputs": [],
   "source": [
    "# 'else' if no errors raised"
   ]
  },
  {
   "cell_type": "code",
   "execution_count": null,
   "id": "46d10619",
   "metadata": {},
   "outputs": [],
   "source": [
    "try:\n",
    "    print(aa)\n",
    "except ZeroDivisionError:\n",
    "    print(\"You cannot divide by zero\")\n",
    "except:\n",
    "    print('something wrong happened')\n",
    "else:\n",
    "    print('no errors found')"
   ]
  },
  {
   "cell_type": "code",
   "execution_count": null,
   "id": "8339ec12",
   "metadata": {},
   "outputs": [],
   "source": [
    "# 'finally' to be executed whether or not an error is raised"
   ]
  },
  {
   "cell_type": "code",
   "execution_count": null,
   "id": "3537bf2b",
   "metadata": {},
   "outputs": [],
   "source": [
    "try:\n",
    "    f = open(\"demofile.txt\")\n",
    "    try:\n",
    "        f.write(\"Lorum Ipsum\")\n",
    "    except:\n",
    "        print(\"Something went wrong when writing to the file\")\n",
    "    finally:\n",
    "        f.close()\n",
    "except:\n",
    "    print(\"Something went wrong when opening the file\")"
   ]
  },
  {
   "cell_type": "code",
   "execution_count": null,
   "id": "f9f32202",
   "metadata": {},
   "outputs": [],
   "source": [
    "# types of built-in exceptions\n",
    "# https://docs.python.org/3/library/exceptions.html#BaseException"
   ]
  },
  {
   "cell_type": "code",
   "execution_count": null,
   "id": "97506a26",
   "metadata": {},
   "outputs": [],
   "source": [
    "# rasing exceptions with 'raise' statement"
   ]
  },
  {
   "cell_type": "code",
   "execution_count": null,
   "id": "38775d82",
   "metadata": {},
   "outputs": [],
   "source": [
    "x = -1\n",
    "\n",
    "if x < 0:\n",
    "    raise Exception(\"Sorry, no numbers below zero\")"
   ]
  },
  {
   "cell_type": "code",
   "execution_count": null,
   "id": "df073469",
   "metadata": {},
   "outputs": [],
   "source": [
    "try:\n",
    "    raise Exception(\"Hi buddy\")\n",
    "except Exception:\n",
    "    print('انت هتصاحبني ولا إيه؟')"
   ]
  },
  {
   "cell_type": "code",
   "execution_count": null,
   "id": "44d58701",
   "metadata": {},
   "outputs": [],
   "source": [
    "# fail silently"
   ]
  },
  {
   "cell_type": "code",
   "execution_count": null,
   "id": "f23cbae7",
   "metadata": {},
   "outputs": [],
   "source": [
    "try:\n",
    "    5 / 0\n",
    "except:\n",
    "    pass\n",
    "print('as if nothing happened')"
   ]
  },
  {
   "cell_type": "code",
   "execution_count": null,
   "id": "576d4616",
   "metadata": {},
   "outputs": [],
   "source": []
  },
  {
   "cell_type": "markdown",
   "id": "4a25e06b",
   "metadata": {},
   "source": [
    "**[doctest — Test interactive Python examples](https://docs.python.org/3/library/doctest.html)**"
   ]
  },
  {
   "cell_type": "code",
   "execution_count": null,
   "id": "ebc4ce8d",
   "metadata": {},
   "outputs": [],
   "source": [
    "\"\"\"\n",
    "This is the \"example\" module.\n",
    "\n",
    "The example module supplies one function, factorial().  For example,\n",
    "\n",
    ">>> factorial(5)\n",
    "120\n",
    "\"\"\"\n",
    "\n",
    "\n",
    "def factorial(n):\n",
    "    \"\"\"Return the factorial of n, an exact integer >= 0.\n",
    "\n",
    "    >>> [factorial(n) for n in range(6)]\n",
    "    [1, 1, 2, 6, 24, 120]\n",
    "    >>> factorial(30)\n",
    "    265252859812191058636308480000000\n",
    "    >>> factorial(-1)\n",
    "    Traceback (most recent call last):\n",
    "        ...\n",
    "    ValueError: n must be >= 0\n",
    "\n",
    "    Factorials of floats are OK, but the float must be an exact integer:\n",
    "    >>> factorial(30.1)\n",
    "    Traceback (most recent call last):\n",
    "        ...\n",
    "    ValueError: n must be exact integer\n",
    "    >>> factorial(30.0)\n",
    "    265252859812191058636308480000000\n",
    "\n",
    "    It must also not be ridiculously large:\n",
    "    >>> factorial(1e100)\n",
    "    Traceback (most recent call last):\n",
    "        ...\n",
    "    OverflowError: n too large\n",
    "    \"\"\"\n",
    "\n",
    "    import math\n",
    "    if not n >= 0:\n",
    "        raise ValueError(\"n must be >= 0\")\n",
    "    if math.floor(n) != n:\n",
    "        raise ValueError(\"n must be exact integer\")\n",
    "    if n + 1 == n:  # catch a value like 1e300\n",
    "        raise OverflowError(\"n too large\")\n",
    "    result = 1\n",
    "    factor = 2\n",
    "    while factor <= n:\n",
    "        result *= factor\n",
    "        factor += 1\n",
    "    return result\n",
    "\n",
    "\n",
    "if __name__ == \"__main__\":\n",
    "    import doctest\n",
    "    doctest.testmod()"
   ]
  },
  {
   "cell_type": "code",
   "execution_count": null,
   "id": "b9266c19",
   "metadata": {},
   "outputs": [],
   "source": []
  },
  {
   "cell_type": "code",
   "execution_count": null,
   "id": "d26a4d34",
   "metadata": {},
   "outputs": [],
   "source": []
  },
  {
   "cell_type": "code",
   "execution_count": null,
   "id": "dd7cd907",
   "metadata": {},
   "outputs": [],
   "source": []
  },
  {
   "cell_type": "code",
   "execution_count": null,
   "id": "b03de6d7",
   "metadata": {},
   "outputs": [],
   "source": [
    "#################\n",
    "# Linear Diophantine Equation (LDE)\n",
    "# ax+by=c, where  x,y ∈ Z  and a, b, c are integer constants\n",
    "# has a solution if and only if c is a multiple of the gcd(a,b)"
   ]
  },
  {
   "cell_type": "code",
   "execution_count": null,
   "id": "ad3ba23b",
   "metadata": {
    "scrolled": true
   },
   "outputs": [],
   "source": [
    "def pour(jug1, jug2):\n",
    "    max1, max2, fill = 3, 5, 4 # 3x + 5y = 4\n",
    "    \n",
    "    print(f'{jug1} \\t {jug2}')\n",
    "    if jug2 == fill:\n",
    "        return\n",
    "    elif jug2 == max2:\n",
    "        pour(0, jug1)\n",
    "    elif jug1 != 0 and jug2 == 0:\n",
    "        pour(0, jug1)\n",
    "    elif jug1 == fill:\n",
    "        pour(jug1, 0)\n",
    "    elif jug1 < max1:\n",
    "        pour(max1, jug2)\n",
    "    elif jug1 < (max2-jug2):\n",
    "        pour(0, (jug1+jug2))\n",
    "    else:\n",
    "        pour(jug1-(max2-jug2), (max2-jug2)+jug2)\n",
    " \n",
    "print(\"JUG1\\tJUG2\")\n",
    "pour(0, 0)\n"
   ]
  },
  {
   "cell_type": "code",
   "execution_count": null,
   "id": "492a80a7",
   "metadata": {},
   "outputs": [],
   "source": []
  },
  {
   "cell_type": "code",
   "execution_count": null,
   "id": "eee89e0f",
   "metadata": {},
   "outputs": [],
   "source": [
    "#################\n",
    "# Linear Diophantine Equation (LDE)\n",
    "# ax+by=c, where  x,y ∈ Z  and a, b, c are integer constants\n",
    "# has a solution if and only if c is a multiple of the gcd(a,b)"
   ]
  },
  {
   "cell_type": "code",
   "execution_count": null,
   "id": "6d07dc79",
   "metadata": {},
   "outputs": [],
   "source": [
    "import math\n",
    "def pour(jug1, jug2):\n",
    "    max1, max2, fill = 6, 9, 7\n",
    "    if math.gcd(max1, max2) % fill != 0:\n",
    "        return f'sorry! the goal amount should be a multiple of the gcd of {max1} and {max2}'\n",
    "    print(f'{jug1} \\t {jug2}')\n",
    "    if jug2 == fill:\n",
    "        return \n",
    "    elif jug2 == max2:\n",
    "        pour(0, jug1)\n",
    "    elif jug1 != 0 and jug2 == 0:\n",
    "        pour(0, jug1)\n",
    "    elif jug1 == fill:\n",
    "        pour(jug1, 0)\n",
    "    elif jug1 < max1:\n",
    "        pour(max1, jug2)\n",
    "    elif jug1 < (max2-jug2):\n",
    "        pour(0, (jug1+jug2))\n",
    "    else:\n",
    "        pour(jug1-(max2-jug2), (max2-jug2)+jug2)\n",
    " \n",
    "print(\"JUG1\\tJUG2\")\n",
    "pour(0, 0)\n"
   ]
  },
  {
   "cell_type": "code",
   "execution_count": null,
   "id": "bef2ebfd",
   "metadata": {},
   "outputs": [],
   "source": []
  },
  {
   "cell_type": "code",
   "execution_count": null,
   "id": "8c5b5b53",
   "metadata": {},
   "outputs": [],
   "source": []
  },
  {
   "cell_type": "code",
   "execution_count": null,
   "id": "1a3f0156",
   "metadata": {},
   "outputs": [],
   "source": []
  },
  {
   "cell_type": "code",
   "execution_count": null,
   "id": "5d055bc6",
   "metadata": {},
   "outputs": [],
   "source": []
  },
  {
   "cell_type": "code",
   "execution_count": null,
   "id": "fc050faf",
   "metadata": {},
   "outputs": [],
   "source": []
  },
  {
   "cell_type": "code",
   "execution_count": null,
   "id": "2b13ba8c",
   "metadata": {},
   "outputs": [],
   "source": []
  },
  {
   "cell_type": "code",
   "execution_count": null,
   "id": "1aa99e05",
   "metadata": {},
   "outputs": [],
   "source": [
    "small = 0\n",
    "big = 0\n",
    "\n",
    "def fill_small():\n",
    "    small = 3\n",
    "\n",
    "def fill_big():\n",
    "    big = 5\n",
    "\n",
    "def empty_small():\n",
    "    small = 0\n",
    "\n",
    "def empty_big():\n",
    "    big = 0\n",
    "\n",
    "def pour_small_into_big():\n",
    "    old_big = big\n",
    "    big = min(5, big + small)\n",
    "    small = small - (big - old_big)\n",
    "\n",
    "def pour_big_into_small():\n",
    "    old_small = small\n",
    "    small = min(3, small + big)\n",
    "    big = big - (small - old_small)\n",
    "\n",
    "def physics_of_jugs():\n",
    "    assert 0 <= small <= 3\n",
    "    assert 0 <= big <= 5"
   ]
  }
 ],
 "metadata": {
  "kernelspec": {
   "display_name": "Python 3 (ipykernel)",
   "language": "python",
   "name": "python3"
  },
  "language_info": {
   "codemirror_mode": {
    "name": "ipython",
    "version": 3
   },
   "file_extension": ".py",
   "mimetype": "text/x-python",
   "name": "python",
   "nbconvert_exporter": "python",
   "pygments_lexer": "ipython3",
   "version": "3.11.5"
  },
  "toc": {
   "base_numbering": 1,
   "nav_menu": {},
   "number_sections": true,
   "sideBar": true,
   "skip_h1_title": false,
   "title_cell": "Python Basics",
   "title_sidebar": "Python Basics",
   "toc_cell": false,
   "toc_position": {
    "height": "calc(100% - 180px)",
    "left": "10px",
    "top": "150px",
    "width": "279.033px"
   },
   "toc_section_display": true,
   "toc_window_display": true
  },
  "varInspector": {
   "cols": {
    "lenName": 16,
    "lenType": 16,
    "lenVar": 40
   },
   "kernels_config": {
    "python": {
     "delete_cmd_postfix": "",
     "delete_cmd_prefix": "del ",
     "library": "var_list.py",
     "varRefreshCmd": "print(var_dic_list())"
    },
    "r": {
     "delete_cmd_postfix": ") ",
     "delete_cmd_prefix": "rm(",
     "library": "var_list.r",
     "varRefreshCmd": "cat(var_dic_list()) "
    }
   },
   "oldHeight": 122.94966599999998,
   "position": {
    "height": "209.617px",
    "left": "765px",
    "right": "20px",
    "top": "119px",
    "width": "440.667px"
   },
   "types_to_exclude": [
    "module",
    "function",
    "builtin_function_or_method",
    "instance",
    "_Feature"
   ],
   "varInspector_section_display": "block",
   "window_display": false
  },
  "widgets": {
   "application/vnd.jupyter.widget-state+json": {
    "state": {},
    "version_major": 2,
    "version_minor": 0
   }
  }
 },
 "nbformat": 4,
 "nbformat_minor": 5
}
