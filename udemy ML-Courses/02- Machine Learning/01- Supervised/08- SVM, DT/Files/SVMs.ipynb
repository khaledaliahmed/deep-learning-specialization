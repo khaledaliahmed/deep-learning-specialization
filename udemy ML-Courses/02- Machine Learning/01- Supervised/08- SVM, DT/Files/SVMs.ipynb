{
 "cells": [
  {
   "cell_type": "code",
   "execution_count": 1,
   "id": "33578e46",
   "metadata": {},
   "outputs": [],
   "source": [
    "## Main Libraries\n",
    "import numpy as np\n",
    "import pandas as pd\n",
    "import matplotlib.pyplot as plt\n",
    "%matplotlib inline\n",
    "import seaborn as sns\n",
    "\n",
    "## Embeded Datasets\n",
    "from sklearn import datasets\n",
    "\n",
    "## For shuffling the Dataset\n",
    "from sklearn import utils\n",
    "\n",
    "## Preprocessing\n",
    "from sklearn.preprocessing import StandardScaler\n",
    "from sklearn.impute import SimpleImputer\n",
    "from sklearn.pipeline import Pipeline\n",
    "from sklearn.model_selection import cross_val_score, cross_val_predict\n",
    "\n",
    "## Algorithms\n",
    "from sklearn.svm import LinearSVC, SVC     ## Classification Problems\n",
    "from sklearn.svm import LinearSVR, SVR     ## Regression Problems\n",
    "\n",
    "## Metric\n",
    "from sklearn.metrics import accuracy_score, r2_score"
   ]
  },
  {
   "cell_type": "markdown",
   "id": "89bf15ba",
   "metadata": {},
   "source": [
    "## `Classification`"
   ]
  },
  {
   "cell_type": "markdown",
   "id": "3ff0abfb",
   "metadata": {},
   "source": [
    "### `Loading the iris Dataset`"
   ]
  },
  {
   "cell_type": "code",
   "execution_count": 2,
   "id": "d58a776a",
   "metadata": {},
   "outputs": [
    {
     "data": {
      "text/plain": [
       "dict_keys(['data', 'target', 'frame', 'target_names', 'DESCR', 'feature_names', 'filename', 'data_module'])"
      ]
     },
     "execution_count": 2,
     "metadata": {},
     "output_type": "execute_result"
    }
   ],
   "source": [
    "## Load the iris dataset from the embeded datasets provided in sklearn\n",
    "iris_dataset = datasets.load_iris()\n",
    "\n",
    "## check the dataset by checking its keys\n",
    "iris_dataset.keys()           ## each key has data or information"
   ]
  },
  {
   "cell_type": "code",
   "execution_count": 3,
   "id": "b1db9514",
   "metadata": {},
   "outputs": [
    {
     "data": {
      "text/html": [
       "<div>\n",
       "<style scoped>\n",
       "    .dataframe tbody tr th:only-of-type {\n",
       "        vertical-align: middle;\n",
       "    }\n",
       "\n",
       "    .dataframe tbody tr th {\n",
       "        vertical-align: top;\n",
       "    }\n",
       "\n",
       "    .dataframe thead th {\n",
       "        text-align: right;\n",
       "    }\n",
       "</style>\n",
       "<table border=\"1\" class=\"dataframe\">\n",
       "  <thead>\n",
       "    <tr style=\"text-align: right;\">\n",
       "      <th></th>\n",
       "      <th>sepal length (cm)</th>\n",
       "      <th>sepal width (cm)</th>\n",
       "      <th>petal length (cm)</th>\n",
       "      <th>petal width (cm)</th>\n",
       "      <th>target</th>\n",
       "    </tr>\n",
       "  </thead>\n",
       "  <tbody>\n",
       "    <tr>\n",
       "      <th>0</th>\n",
       "      <td>5.1</td>\n",
       "      <td>3.5</td>\n",
       "      <td>1.4</td>\n",
       "      <td>0.2</td>\n",
       "      <td>0.0</td>\n",
       "    </tr>\n",
       "    <tr>\n",
       "      <th>1</th>\n",
       "      <td>4.9</td>\n",
       "      <td>3.0</td>\n",
       "      <td>1.4</td>\n",
       "      <td>0.2</td>\n",
       "      <td>0.0</td>\n",
       "    </tr>\n",
       "    <tr>\n",
       "      <th>2</th>\n",
       "      <td>4.7</td>\n",
       "      <td>3.2</td>\n",
       "      <td>1.3</td>\n",
       "      <td>0.2</td>\n",
       "      <td>0.0</td>\n",
       "    </tr>\n",
       "    <tr>\n",
       "      <th>3</th>\n",
       "      <td>4.6</td>\n",
       "      <td>3.1</td>\n",
       "      <td>1.5</td>\n",
       "      <td>0.2</td>\n",
       "      <td>0.0</td>\n",
       "    </tr>\n",
       "    <tr>\n",
       "      <th>4</th>\n",
       "      <td>5.0</td>\n",
       "      <td>3.6</td>\n",
       "      <td>1.4</td>\n",
       "      <td>0.2</td>\n",
       "      <td>0.0</td>\n",
       "    </tr>\n",
       "  </tbody>\n",
       "</table>\n",
       "</div>"
      ],
      "text/plain": [
       "   sepal length (cm)  sepal width (cm)  petal length (cm)  petal width (cm)  \\\n",
       "0                5.1               3.5                1.4               0.2   \n",
       "1                4.9               3.0                1.4               0.2   \n",
       "2                4.7               3.2                1.3               0.2   \n",
       "3                4.6               3.1                1.5               0.2   \n",
       "4                5.0               3.6                1.4               0.2   \n",
       "\n",
       "   target  \n",
       "0     0.0  \n",
       "1     0.0  \n",
       "2     0.0  \n",
       "3     0.0  \n",
       "4     0.0  "
      ]
     },
     "execution_count": 3,
     "metadata": {},
     "output_type": "execute_result"
    }
   ],
   "source": [
    "## Let's get all together and create a DF\n",
    "## I will do it in very fast way and it is my preferable one, but there are many ways as we learned together \n",
    "\n",
    "df_iris = pd.DataFrame(np.c_[iris_dataset['data'], iris_dataset['target'].reshape(-1, 1)], \n",
    "                       columns=iris_dataset['feature_names']+['target'])\n",
    "\n",
    "## check the head\n",
    "df_iris.head()"
   ]
  },
  {
   "cell_type": "code",
   "execution_count": 4,
   "id": "f0065164",
   "metadata": {},
   "outputs": [
    {
     "data": {
      "text/html": [
       "<div>\n",
       "<style scoped>\n",
       "    .dataframe tbody tr th:only-of-type {\n",
       "        vertical-align: middle;\n",
       "    }\n",
       "\n",
       "    .dataframe tbody tr th {\n",
       "        vertical-align: top;\n",
       "    }\n",
       "\n",
       "    .dataframe thead th {\n",
       "        text-align: right;\n",
       "    }\n",
       "</style>\n",
       "<table border=\"1\" class=\"dataframe\">\n",
       "  <thead>\n",
       "    <tr style=\"text-align: right;\">\n",
       "      <th></th>\n",
       "      <th>sepal length (cm)</th>\n",
       "      <th>sepal width (cm)</th>\n",
       "      <th>petal length (cm)</th>\n",
       "      <th>petal width (cm)</th>\n",
       "      <th>target</th>\n",
       "    </tr>\n",
       "  </thead>\n",
       "  <tbody>\n",
       "    <tr>\n",
       "      <th>73</th>\n",
       "      <td>6.1</td>\n",
       "      <td>2.8</td>\n",
       "      <td>4.7</td>\n",
       "      <td>1.2</td>\n",
       "      <td>1.0</td>\n",
       "    </tr>\n",
       "    <tr>\n",
       "      <th>18</th>\n",
       "      <td>5.7</td>\n",
       "      <td>3.8</td>\n",
       "      <td>1.7</td>\n",
       "      <td>0.3</td>\n",
       "      <td>0.0</td>\n",
       "    </tr>\n",
       "    <tr>\n",
       "      <th>118</th>\n",
       "      <td>7.7</td>\n",
       "      <td>2.6</td>\n",
       "      <td>6.9</td>\n",
       "      <td>2.3</td>\n",
       "      <td>2.0</td>\n",
       "    </tr>\n",
       "    <tr>\n",
       "      <th>78</th>\n",
       "      <td>6.0</td>\n",
       "      <td>2.9</td>\n",
       "      <td>4.5</td>\n",
       "      <td>1.5</td>\n",
       "      <td>1.0</td>\n",
       "    </tr>\n",
       "    <tr>\n",
       "      <th>76</th>\n",
       "      <td>6.8</td>\n",
       "      <td>2.8</td>\n",
       "      <td>4.8</td>\n",
       "      <td>1.4</td>\n",
       "      <td>1.0</td>\n",
       "    </tr>\n",
       "  </tbody>\n",
       "</table>\n",
       "</div>"
      ],
      "text/plain": [
       "     sepal length (cm)  sepal width (cm)  petal length (cm)  petal width (cm)  \\\n",
       "73                 6.1               2.8                4.7               1.2   \n",
       "18                 5.7               3.8                1.7               0.3   \n",
       "118                7.7               2.6                6.9               2.3   \n",
       "78                 6.0               2.9                4.5               1.5   \n",
       "76                 6.8               2.8                4.8               1.4   \n",
       "\n",
       "     target  \n",
       "73      1.0  \n",
       "18      0.0  \n",
       "118     2.0  \n",
       "78      1.0  \n",
       "76      1.0  "
      ]
     },
     "execution_count": 4,
     "metadata": {},
     "output_type": "execute_result"
    }
   ],
   "source": [
    "## Let's shuffle the Dataset as you see that the target is ordered (0 then 1 then 2) --> Classification problem\n",
    "## You can use function (sample) provided in pandas or use (shuffle) in sklearn\n",
    "df_iris = utils.shuffle(df_iris, random_state=42)   ## shuffle and overwrite\n",
    "\n",
    "## check the head again\n",
    "df_iris.head()    ## OK"
   ]
  },
  {
   "cell_type": "markdown",
   "id": "ee3b7439",
   "metadata": {},
   "source": [
    "### `Exploratory Data Analysis (EDA)`"
   ]
  },
  {
   "cell_type": "code",
   "execution_count": 5,
   "id": "61d37fe8",
   "metadata": {},
   "outputs": [],
   "source": [
    "## Do it Yourself"
   ]
  },
  {
   "cell_type": "markdown",
   "id": "ee044c67",
   "metadata": {},
   "source": [
    "### `Preprocessing`\n",
    "`The Dataset is very small, It is a Toy example, I will not split the data`"
   ]
  },
  {
   "cell_type": "code",
   "execution_count": 6,
   "id": "6cb6f211",
   "metadata": {},
   "outputs": [],
   "source": [
    "### Split the Dataset to Features and Target\n",
    "X = df_iris.drop(columns=['target'], axis=1)\n",
    "y = df_iris['target']"
   ]
  },
  {
   "cell_type": "code",
   "execution_count": 7,
   "id": "8b00342c",
   "metadata": {},
   "outputs": [],
   "source": [
    "## Let's impute (although there is no nulls) and standardize the Dataset ---> All in Pipeline\n",
    "num_pipeline = Pipeline(steps=[\n",
    "    ('imputer', SimpleImputer(strategy='median')),\n",
    "    ('scaler', StandardScaler())\n",
    "                              ]\n",
    "                       )\n",
    "\n",
    "X_train = num_pipeline.fit_transform(X)\n",
    "y_train = y.copy()   ## doesn't matter"
   ]
  },
  {
   "cell_type": "markdown",
   "id": "f0cbe9a6",
   "metadata": {},
   "source": [
    "### `Building a ML Model`\n",
    "* ` ---> Classification Problem`"
   ]
  },
  {
   "cell_type": "markdown",
   "id": "6d1835d2",
   "metadata": {},
   "source": [
    "### `Linear SVM`"
   ]
  },
  {
   "cell_type": "code",
   "execution_count": 8,
   "id": "acebd5e9",
   "metadata": {},
   "outputs": [
    {
     "data": {
      "text/plain": [
       "LinearSVC(C=1, loss='hinge', max_iter=10000)"
      ]
     },
     "execution_count": 8,
     "metadata": {},
     "output_type": "execute_result"
    }
   ],
   "source": [
    "## Build Linear SVM\n",
    "lin_svc_clf = LinearSVC(C=1, loss='hinge', max_iter=10000)          ## It is equal to ---> SVC(C=1, kernel='linear')\n",
    "lin_svc_clf.fit(X_train, y_train)"
   ]
  },
  {
   "cell_type": "code",
   "execution_count": 9,
   "id": "ef73eefc",
   "metadata": {},
   "outputs": [
    {
     "name": "stdout",
     "output_type": "stream",
     "text": [
      "Accuracy Scores --  0.9266666666666666\n",
      "------------------------------------------------------------\n",
      "Accuracy Scores using cross validation --- \n",
      "  [0.96666667 0.86666667 0.83333333 0.96666667 0.9       ]\n"
     ]
    }
   ],
   "source": [
    "## Prediction\n",
    "y_pred = lin_svc_clf.predict(X_train)\n",
    "\n",
    "## accuracy score\n",
    "print('Accuracy Scores -- ', accuracy_score(y_train, y_pred))\n",
    "\n",
    "print('--'*30)\n",
    "\n",
    "## If you want to use cross validation\n",
    "scores_acc_linsvc = cross_val_score(estimator=lin_svc_clf, X=X_train, y=y_train, cv=5, n_jobs=-1, scoring='accuracy')\n",
    "print('Accuracy Scores using cross validation --- \\n ', scores_acc_linsvc)"
   ]
  },
  {
   "cell_type": "code",
   "execution_count": 10,
   "id": "4fd4f2f0",
   "metadata": {},
   "outputs": [],
   "source": [
    "## prediction using cross validation predict\n",
    "y_pred_linsvc = cross_val_predict(estimator=lin_svc_clf, X=X_train, y=y_train, cv=5, n_jobs=-1, method='predict')"
   ]
  },
  {
   "cell_type": "code",
   "execution_count": 11,
   "id": "cd6435e1",
   "metadata": {},
   "outputs": [],
   "source": [
    "## If you want to get scores\n",
    "y_scores_linsvc = cross_val_predict(estimator=lin_svc_clf, X=X_train, y=y_train, cv=5, n_jobs=-1, method='decision_function')"
   ]
  },
  {
   "cell_type": "code",
   "execution_count": 12,
   "id": "cb9c6755",
   "metadata": {},
   "outputs": [],
   "source": [
    "## And so on you can do what we learn ------ take your time playing"
   ]
  },
  {
   "cell_type": "markdown",
   "id": "ed8a6de0",
   "metadata": {},
   "source": [
    "### `SVM`\n",
    "`Using SVM for Classification but still Linear`"
   ]
  },
  {
   "cell_type": "code",
   "execution_count": 13,
   "id": "7bedc21d",
   "metadata": {},
   "outputs": [
    {
     "data": {
      "text/plain": [
       "SVC(C=1, kernel='linear')"
      ]
     },
     "execution_count": 13,
     "metadata": {},
     "output_type": "execute_result"
    }
   ],
   "source": [
    "## SVC linear\n",
    "svc_clf = SVC(C=1, kernel='linear')  ## Using Linear Kernel\n",
    "svc_clf.fit(X_train, y_train)"
   ]
  },
  {
   "cell_type": "code",
   "execution_count": 14,
   "id": "a5aeba22",
   "metadata": {},
   "outputs": [
    {
     "name": "stdout",
     "output_type": "stream",
     "text": [
      "Accuracy Scores --  0.9666666666666667\n",
      "------------------------------------------------------------\n",
      "Accuracy Scores using cross validation --- \n",
      "  [0.96666667 0.96666667 0.9        0.93333333 1.        ]\n"
     ]
    }
   ],
   "source": [
    "## Prediction\n",
    "y_pred_linear = svc_clf.predict(X_train)\n",
    "## accuracy score\n",
    "print('Accuracy Scores -- ', accuracy_score(y_train, y_pred_linear))\n",
    "\n",
    "print('--'*30)\n",
    "\n",
    "## If you want to use cross validation\n",
    "scores_acc_linear = cross_val_score(estimator=svc_clf, X=X_train, y=y_train, cv=5, n_jobs=-1, scoring='accuracy')\n",
    "print('Accuracy Scores using cross validation --- \\n ', scores_acc_linear)"
   ]
  },
  {
   "cell_type": "code",
   "execution_count": 15,
   "id": "cd895886",
   "metadata": {},
   "outputs": [],
   "source": [
    "## prediction using cross validation predict\n",
    "y_pred_linear = cross_val_predict(estimator=svc_clf, X=X_train, y=y_train, cv=5, n_jobs=-1, method='predict')\n",
    "\n",
    "## If you want to get scores\n",
    "y_scores_linsvc = cross_val_predict(estimator=lin_svc_clf, X=X_train, y=y_train, cv=5, n_jobs=-1, method='decision_function')"
   ]
  },
  {
   "cell_type": "code",
   "execution_count": 16,
   "id": "0448582b",
   "metadata": {},
   "outputs": [],
   "source": [
    "## And so on you can do what we learn ------ take your time playing"
   ]
  },
  {
   "cell_type": "markdown",
   "id": "3f107da6",
   "metadata": {},
   "source": [
    "### `Loading moon dataset`"
   ]
  },
  {
   "cell_type": "code",
   "execution_count": 17,
   "id": "c297c8ee",
   "metadata": {},
   "outputs": [],
   "source": [
    "## Load another dataset -- moons dataset \n",
    "moons_data = datasets.make_moons(n_samples=1000, noise=0.2, shuffle=True, random_state=42) ## incresase noise -- more complex\n",
    "\n",
    "## Features is the first 2D array, and the second vector is the target\n",
    "X_train_moons = moons_data[0]\n",
    "y_train_moons = moons_data[1]"
   ]
  },
  {
   "cell_type": "code",
   "execution_count": 18,
   "id": "8cbc7c1f",
   "metadata": {},
   "outputs": [
    {
     "data": {
      "image/png": "[encoded data removed]",
      "text/plain": [
       "<Figure size 720x432 with 1 Axes>"
      ]
     },
     "metadata": {
      "needs_background": "light"
     },
     "output_type": "display_data"
    }
   ],
   "source": [
    "## Some EDA ---> Do it yourself and try SVM on another Dataset, but not big one\n",
    "plt.figure(figsize=(10, 6))\n",
    "plt.plot(X_train_moons[y_train_moons==1][:, 0], X_train_moons[y_train_moons==1][:, 1], 'bo', label='1')\n",
    "plt.plot(X_train_moons[y_train_moons==0][:, 0], X_train_moons[y_train_moons==0][:, 1], 'r*', label='0')\n",
    "plt.title('Distribution of The Dataset which contains only 2 Features', fontsize=14, c='k')\n",
    "plt.xlabel('Features 1', fontsize=14, c='k')\n",
    "plt.ylabel('Features 2', fontsize=14, c='k')\n",
    "plt.show()"
   ]
  },
  {
   "cell_type": "code",
   "execution_count": 19,
   "id": "fc5988ba",
   "metadata": {},
   "outputs": [],
   "source": [
    "## Create a pipeline for imputing and scaling\n",
    "feat_pipeline = Pipeline(steps=[\n",
    "                                ('imputer', SimpleImputer()),\n",
    "                                ('scaler', StandardScaler())\n",
    "                               ]\n",
    "                        )\n",
    "\n",
    "## fit and transform\n",
    "X_train_2 = feat_pipeline.fit_transform(X_train_moons)\n",
    "\n",
    "## Label as it is --, just copying to not overwrite and make the same name\n",
    "y_train_2 = y_train_moons.copy()"
   ]
  },
  {
   "cell_type": "markdown",
   "id": "d7730685",
   "metadata": {},
   "source": [
    "### `SVM using polynomial kernel`"
   ]
  },
  {
   "cell_type": "code",
   "execution_count": 20,
   "id": "3731be8d",
   "metadata": {},
   "outputs": [
    {
     "data": {
      "text/plain": [
       "SVC(C=5, coef0=1, degree=5, kernel='poly')"
      ]
     },
     "execution_count": 20,
     "metadata": {},
     "output_type": "execute_result"
    }
   ],
   "source": [
    "## Build SVM using polynomial kernel with degree \n",
    "## The hyperparameter coef0 controls how much the model is influenced by highdegree polynomials vs. low-degree polynomials.\n",
    "svc_clf_poly = SVC(C=5, kernel='poly', degree=5, coef0=1)   ## Need a lot of Tuning\n",
    "svc_clf_poly.fit(X_train_2, y_train_2)   \n",
    "\n",
    "## Note: (degree & coef0) Hyperparameters work only when kernel is 'poly'\n",
    "## Note: The same things can be done in Regression"
   ]
  },
  {
   "cell_type": "code",
   "execution_count": 21,
   "id": "8bef10d0",
   "metadata": {},
   "outputs": [
    {
     "name": "stdout",
     "output_type": "stream",
     "text": [
      "Accuracy Score using Polynmial Kernel ---  0.977\n"
     ]
    }
   ],
   "source": [
    "## Prediction\n",
    "y_pred_svc_poly = svc_clf_poly.predict(X_train_2)\n",
    "print('Accuracy Score using Polynmial Kernel --- ', accuracy_score(y_train_2, y_pred_svc_poly))"
   ]
  },
  {
   "cell_type": "code",
   "execution_count": 22,
   "id": "55c21013",
   "metadata": {},
   "outputs": [],
   "source": [
    "## You can use cross validation , get Predictions, get other metrics, get scores, get all we discussed before\n",
    "## Take your time playing with code"
   ]
  },
  {
   "cell_type": "markdown",
   "id": "e789b4f8",
   "metadata": {},
   "source": [
    "### `SVM using RBF kernel`\n",
    "* > `RBF stands for (Radian Basis Function)`"
   ]
  },
  {
   "cell_type": "code",
   "execution_count": 23,
   "id": "405487ad",
   "metadata": {},
   "outputs": [
    {
     "data": {
      "text/plain": [
       "SVC(C=5, gamma=0.001)"
      ]
     },
     "execution_count": 23,
     "metadata": {},
     "output_type": "execute_result"
    }
   ],
   "source": [
    "## Build SVM using RBF kernel with gamma\n",
    "svc_clf_rbf = SVC(C=5, kernel='rbf', gamma=0.001)   ## Need a lot of Tuning\n",
    "svc_clf_rbf.fit(X_train_2, y_train_2)   \n",
    "\n",
    "## Note: (gamma) Hyperparameter workes only when kernel is 'rbf'\n",
    "## Note: The same things can be done in Regression"
   ]
  },
  {
   "cell_type": "code",
   "execution_count": 24,
   "id": "95cb72dd",
   "metadata": {},
   "outputs": [
    {
     "name": "stdout",
     "output_type": "stream",
     "text": [
      "Accuracy Score using RBF Kernel ---  0.863\n"
     ]
    }
   ],
   "source": [
    "## Prediction\n",
    "y_pred_svc_rbf = svc_clf_rbf.predict(X_train_2)\n",
    "print('Accuracy Score using RBF Kernel --- ', accuracy_score(y_train_2, y_pred_svc_rbf))"
   ]
  },
  {
   "cell_type": "code",
   "execution_count": 25,
   "id": "0e9838ec",
   "metadata": {},
   "outputs": [],
   "source": [
    "## You can use cross validation , get Predictions, get other metrics, get scores, get all we discussed before\n",
    "## Take your time playing with code"
   ]
  },
  {
   "cell_type": "markdown",
   "id": "20a54ca9",
   "metadata": {},
   "source": [
    "## `Regression`"
   ]
  },
  {
   "cell_type": "code",
   "execution_count": 26,
   "id": "3dab15fa",
   "metadata": {},
   "outputs": [
    {
     "data": {
      "text/html": [
       "<div>\n",
       "<style scoped>\n",
       "    .dataframe tbody tr th:only-of-type {\n",
       "        vertical-align: middle;\n",
       "    }\n",
       "\n",
       "    .dataframe tbody tr th {\n",
       "        vertical-align: top;\n",
       "    }\n",
       "\n",
       "    .dataframe thead th {\n",
       "        text-align: right;\n",
       "    }\n",
       "</style>\n",
       "<table border=\"1\" class=\"dataframe\">\n",
       "  <thead>\n",
       "    <tr style=\"text-align: right;\">\n",
       "      <th></th>\n",
       "      <th>age</th>\n",
       "      <th>sex</th>\n",
       "      <th>bmi</th>\n",
       "      <th>bp</th>\n",
       "      <th>s1</th>\n",
       "      <th>s2</th>\n",
       "      <th>s3</th>\n",
       "      <th>s4</th>\n",
       "      <th>s5</th>\n",
       "      <th>s6</th>\n",
       "      <th>target</th>\n",
       "    </tr>\n",
       "  </thead>\n",
       "  <tbody>\n",
       "    <tr>\n",
       "      <th>0</th>\n",
       "      <td>0.038076</td>\n",
       "      <td>0.050680</td>\n",
       "      <td>0.061696</td>\n",
       "      <td>0.021872</td>\n",
       "      <td>-0.044223</td>\n",
       "      <td>-0.034821</td>\n",
       "      <td>-0.043401</td>\n",
       "      <td>-0.002592</td>\n",
       "      <td>0.019908</td>\n",
       "      <td>-0.017646</td>\n",
       "      <td>151.0</td>\n",
       "    </tr>\n",
       "    <tr>\n",
       "      <th>1</th>\n",
       "      <td>-0.001882</td>\n",
       "      <td>-0.044642</td>\n",
       "      <td>-0.051474</td>\n",
       "      <td>-0.026328</td>\n",
       "      <td>-0.008449</td>\n",
       "      <td>-0.019163</td>\n",
       "      <td>0.074412</td>\n",
       "      <td>-0.039493</td>\n",
       "      <td>-0.068330</td>\n",
       "      <td>-0.092204</td>\n",
       "      <td>75.0</td>\n",
       "    </tr>\n",
       "    <tr>\n",
       "      <th>2</th>\n",
       "      <td>0.085299</td>\n",
       "      <td>0.050680</td>\n",
       "      <td>0.044451</td>\n",
       "      <td>-0.005671</td>\n",
       "      <td>-0.045599</td>\n",
       "      <td>-0.034194</td>\n",
       "      <td>-0.032356</td>\n",
       "      <td>-0.002592</td>\n",
       "      <td>0.002864</td>\n",
       "      <td>-0.025930</td>\n",
       "      <td>141.0</td>\n",
       "    </tr>\n",
       "    <tr>\n",
       "      <th>3</th>\n",
       "      <td>-0.089063</td>\n",
       "      <td>-0.044642</td>\n",
       "      <td>-0.011595</td>\n",
       "      <td>-0.036656</td>\n",
       "      <td>0.012191</td>\n",
       "      <td>0.024991</td>\n",
       "      <td>-0.036038</td>\n",
       "      <td>0.034309</td>\n",
       "      <td>0.022692</td>\n",
       "      <td>-0.009362</td>\n",
       "      <td>206.0</td>\n",
       "    </tr>\n",
       "    <tr>\n",
       "      <th>4</th>\n",
       "      <td>0.005383</td>\n",
       "      <td>-0.044642</td>\n",
       "      <td>-0.036385</td>\n",
       "      <td>0.021872</td>\n",
       "      <td>0.003935</td>\n",
       "      <td>0.015596</td>\n",
       "      <td>0.008142</td>\n",
       "      <td>-0.002592</td>\n",
       "      <td>-0.031991</td>\n",
       "      <td>-0.046641</td>\n",
       "      <td>135.0</td>\n",
       "    </tr>\n",
       "  </tbody>\n",
       "</table>\n",
       "</div>"
      ],
      "text/plain": [
       "        age       sex       bmi        bp        s1        s2        s3  \\\n",
       "0  0.038076  0.050680  0.061696  0.021872 -0.044223 -0.034821 -0.043401   \n",
       "1 -0.001882 -0.044642 -0.051474 -0.026328 -0.008449 -0.019163  0.074412   \n",
       "2  0.085299  0.050680  0.044451 -0.005671 -0.045599 -0.034194 -0.032356   \n",
       "3 -0.089063 -0.044642 -0.011595 -0.036656  0.012191  0.024991 -0.036038   \n",
       "4  0.005383 -0.044642 -0.036385  0.021872  0.003935  0.015596  0.008142   \n",
       "\n",
       "         s4        s5        s6  target  \n",
       "0 -0.002592  0.019908 -0.017646   151.0  \n",
       "1 -0.039493 -0.068330 -0.092204    75.0  \n",
       "2 -0.002592  0.002864 -0.025930   141.0  \n",
       "3  0.034309  0.022692 -0.009362   206.0  \n",
       "4 -0.002592 -0.031991 -0.046641   135.0  "
      ]
     },
     "execution_count": 26,
     "metadata": {},
     "output_type": "execute_result"
    }
   ],
   "source": [
    "## Loading the Dataset for Regression\n",
    "diabet_dataset = datasets.load_diabetes()\n",
    "\n",
    "## To DataFrame\n",
    "df_diabet = pd.DataFrame(np.c_[diabet_dataset['data'], diabet_dataset['target'].reshape(-1, 1)], \n",
    "                         columns=diabet_dataset['feature_names']+['target'])\n",
    "\n",
    "df_diabet.head()  "
   ]
  },
  {
   "cell_type": "code",
   "execution_count": 27,
   "id": "e05d85c4",
   "metadata": {},
   "outputs": [],
   "source": [
    "## Slice to Features and Traget\n",
    "X_diabet = df_diabet.drop(columns=['target'], axis=1) \n",
    "y_diabet = df_diabet['target']\n",
    "\n",
    "\n",
    "## Pipeline\n",
    "diabet_pipeline = Pipeline(steps=[\n",
    "                                    ('imputer', SimpleImputer(strategy='median')),\n",
    "                                    ('scaler', StandardScaler())\n",
    "                                ]\n",
    "                          )\n",
    "\n",
    "## Fit\n",
    "X_train_3 = diabet_pipeline.fit_transform(X_diabet)\n",
    "y_train_3 = y_diabet.copy()"
   ]
  },
  {
   "cell_type": "markdown",
   "id": "11e884d5",
   "metadata": {},
   "source": [
    "### `Building ML Model`\n",
    "* > `Regression problem`"
   ]
  },
  {
   "cell_type": "markdown",
   "id": "9356d95a",
   "metadata": {},
   "source": [
    "### `Linear SVR`"
   ]
  },
  {
   "cell_type": "code",
   "execution_count": 28,
   "id": "7e632abb",
   "metadata": {},
   "outputs": [
    {
     "data": {
      "text/plain": [
       "LinearSVR(C=2, epsilon=1.0)"
      ]
     },
     "execution_count": 28,
     "metadata": {},
     "output_type": "execute_result"
    }
   ],
   "source": [
    "## Using Linear SVM\n",
    "lin_svr_reg = LinearSVR(epsilon=1.0, C=2)   ## Euqal to use --> SVR(kernel='linear')\n",
    "lin_svr_reg.fit(X_train_3, y_train_3)        ## fit"
   ]
  },
  {
   "cell_type": "code",
   "execution_count": 29,
   "id": "bc51d39e",
   "metadata": {},
   "outputs": [
    {
     "name": "stdout",
     "output_type": "stream",
     "text": [
      "R2 Score --  0.4817530033420966\n",
      "------------------------------------------------------------\n",
      "R2 Score using cross validation --- \n",
      "  [0.39509821 0.41432781 0.46536807 0.34421716 0.47527987]\n"
     ]
    }
   ],
   "source": [
    "## Prediction\n",
    "y_pred = lin_svr_reg.predict(X_train_3)\n",
    "\n",
    "## accuracy score\n",
    "print('R2 Score -- ', r2_score(y_train_3, y_pred))\n",
    "\n",
    "print('--'*30)\n",
    "\n",
    "## If you want to use cross validation\n",
    "scores_r2_linsvr = cross_val_score(estimator=lin_svr_reg, X=X_train_3, y=y_train_3, cv=5, n_jobs=-1, scoring='r2')\n",
    "print('R2 Score using cross validation --- \\n ', scores_r2_linsvr)"
   ]
  },
  {
   "cell_type": "code",
   "execution_count": 30,
   "id": "12bcb8c3",
   "metadata": {},
   "outputs": [],
   "source": [
    "## Complete what you want. take your time palying with code"
   ]
  },
  {
   "cell_type": "markdown",
   "id": "8f2442e1",
   "metadata": {},
   "source": [
    "### `Using Kernels for Regresion`"
   ]
  },
  {
   "cell_type": "code",
   "execution_count": 31,
   "id": "3f015634",
   "metadata": {},
   "outputs": [
    {
     "data": {
      "text/plain": [
       "SVR(C=2, coef0=1.0, degree=2, kernel='poly')"
      ]
     },
     "execution_count": 31,
     "metadata": {},
     "output_type": "execute_result"
    }
   ],
   "source": [
    "## You can use kernels (Linear, Polynomial, RBF, ....)\n",
    "poly_svr_reg = SVR(kernel='poly', degree=2, coef0=1.0, C=2)\n",
    "poly_svr_reg.fit(X_train_3, y_train_3)        ## fit"
   ]
  },
  {
   "cell_type": "code",
   "execution_count": 32,
   "id": "0f784d7d",
   "metadata": {},
   "outputs": [
    {
     "name": "stdout",
     "output_type": "stream",
     "text": [
      "R2 Score --  0.5232558717993397\n",
      "------------------------------------------------------------\n",
      "R2 Score using cross validation --- \n",
      "  [0.4009627  0.516024   0.49704909 0.43550665 0.51684849]\n"
     ]
    }
   ],
   "source": [
    "## Prediction\n",
    "y_pred = poly_svr_reg.predict(X_train_3)\n",
    "\n",
    "## accuracy score\n",
    "print('R2 Score -- ', r2_score(y_train_3, y_pred))\n",
    "\n",
    "print('--'*30)\n",
    "\n",
    "## If you want to use cross validation\n",
    "scores_r2_linsvr = cross_val_score(estimator=poly_svr_reg, X=X_train_3, y=y_train_3, cv=5, n_jobs=-1, scoring='r2')\n",
    "print('R2 Score using cross validation --- \\n ', scores_r2_linsvr)"
   ]
  },
  {
   "cell_type": "markdown",
   "id": "dc753280",
   "metadata": {},
   "source": [
    "> `Take your time playing with code, trying different methods`"
   ]
  },
  {
   "cell_type": "markdown",
   "id": "fd7ca04c",
   "metadata": {},
   "source": [
    "### `More Details Later`"
   ]
  }
 ],
 "metadata": {
  "kernelspec": {
   "display_name": "Python 3 (ipykernel)",
   "language": "python",
   "name": "python3"
  },
  "language_info": {
   "codemirror_mode": {
    "name": "ipython",
    "version": 3
   },
   "file_extension": ".py",
   "mimetype": "text/x-python",
   "name": "python",
   "nbconvert_exporter": "python",
   "pygments_lexer": "ipython3",
   "version": "3.9.7"
  }
 },
 "nbformat": 4,
 "nbformat_minor": 5
}
