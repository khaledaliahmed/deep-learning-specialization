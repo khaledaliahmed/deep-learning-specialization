{
 "cells": [
  {
   "cell_type": "markdown",
   "id": "7215cc14",
   "metadata": {},
   "source": [
    "### `Import the Main Libraries`"
   ]
  },
  {
   "cell_type": "code",
   "execution_count": 1,
   "id": "e0d1a5f6",
   "metadata": {},
   "outputs": [],
   "source": [
    "## Main Libraries\n",
    "import numpy as np\n",
    "import pandas as pd\n",
    "import matplotlib.pyplot as plt\n",
    "%matplotlib inline\n",
    "import seaborn as sns\n",
    "\n",
    "## Embeded Datasets\n",
    "from sklearn import datasets\n",
    "\n",
    "## For shuffling the Dataset\n",
    "from sklearn import utils\n",
    "\n",
    "## Preprocessing\n",
    "from sklearn.preprocessing import StandardScaler\n",
    "from sklearn.impute import SimpleImputer\n",
    "from sklearn.pipeline import Pipeline\n",
    "\n",
    "## Algorithms\n",
    "from sklearn.neighbors import KNeighborsClassifier\n",
    "\n",
    "## Metric\n",
    "from sklearn.metrics import accuracy_score"
   ]
  },
  {
   "cell_type": "markdown",
   "id": "6d8e4210",
   "metadata": {},
   "source": [
    "### `Load the Dataset and Look at the big Picture`"
   ]
  },
  {
   "cell_type": "code",
   "execution_count": 2,
   "id": "b9cb872b",
   "metadata": {},
   "outputs": [
    {
     "data": {
      "text/plain": [
       "dict_keys(['data', 'target', 'frame', 'target_names', 'DESCR', 'feature_names', 'filename', 'data_module'])"
      ]
     },
     "execution_count": 2,
     "metadata": {},
     "output_type": "execute_result"
    }
   ],
   "source": [
    "## Load the iris dataset from the embeded datasets provided in sklearn\n",
    "iris_dataset = datasets.load_iris()\n",
    "\n",
    "## check the dataset by checking its keys\n",
    "iris_dataset.keys()           ## each key has data or information"
   ]
  },
  {
   "cell_type": "code",
   "execution_count": 3,
   "id": "9e00efe4",
   "metadata": {},
   "outputs": [
    {
     "data": {
      "text/html": [
       "<div>\n",
       "<style scoped>\n",
       "    .dataframe tbody tr th:only-of-type {\n",
       "        vertical-align: middle;\n",
       "    }\n",
       "\n",
       "    .dataframe tbody tr th {\n",
       "        vertical-align: top;\n",
       "    }\n",
       "\n",
       "    .dataframe thead th {\n",
       "        text-align: right;\n",
       "    }\n",
       "</style>\n",
       "<table border=\"1\" class=\"dataframe\">\n",
       "  <thead>\n",
       "    <tr style=\"text-align: right;\">\n",
       "      <th></th>\n",
       "      <th>sepal length (cm)</th>\n",
       "      <th>sepal width (cm)</th>\n",
       "      <th>petal length (cm)</th>\n",
       "      <th>petal width (cm)</th>\n",
       "      <th>target</th>\n",
       "    </tr>\n",
       "  </thead>\n",
       "  <tbody>\n",
       "    <tr>\n",
       "      <th>0</th>\n",
       "      <td>5.1</td>\n",
       "      <td>3.5</td>\n",
       "      <td>1.4</td>\n",
       "      <td>0.2</td>\n",
       "      <td>0.0</td>\n",
       "    </tr>\n",
       "    <tr>\n",
       "      <th>1</th>\n",
       "      <td>4.9</td>\n",
       "      <td>3.0</td>\n",
       "      <td>1.4</td>\n",
       "      <td>0.2</td>\n",
       "      <td>0.0</td>\n",
       "    </tr>\n",
       "    <tr>\n",
       "      <th>2</th>\n",
       "      <td>4.7</td>\n",
       "      <td>3.2</td>\n",
       "      <td>1.3</td>\n",
       "      <td>0.2</td>\n",
       "      <td>0.0</td>\n",
       "    </tr>\n",
       "    <tr>\n",
       "      <th>3</th>\n",
       "      <td>4.6</td>\n",
       "      <td>3.1</td>\n",
       "      <td>1.5</td>\n",
       "      <td>0.2</td>\n",
       "      <td>0.0</td>\n",
       "    </tr>\n",
       "    <tr>\n",
       "      <th>4</th>\n",
       "      <td>5.0</td>\n",
       "      <td>3.6</td>\n",
       "      <td>1.4</td>\n",
       "      <td>0.2</td>\n",
       "      <td>0.0</td>\n",
       "    </tr>\n",
       "  </tbody>\n",
       "</table>\n",
       "</div>"
      ],
      "text/plain": [
       "   sepal length (cm)  sepal width (cm)  petal length (cm)  petal width (cm)  \\\n",
       "0                5.1               3.5                1.4               0.2   \n",
       "1                4.9               3.0                1.4               0.2   \n",
       "2                4.7               3.2                1.3               0.2   \n",
       "3                4.6               3.1                1.5               0.2   \n",
       "4                5.0               3.6                1.4               0.2   \n",
       "\n",
       "   target  \n",
       "0     0.0  \n",
       "1     0.0  \n",
       "2     0.0  \n",
       "3     0.0  \n",
       "4     0.0  "
      ]
     },
     "execution_count": 3,
     "metadata": {},
     "output_type": "execute_result"
    }
   ],
   "source": [
    "## Let's get all together and create a DF\n",
    "## I will do it in very fast way and it is my preferable one, but there are many ways as we learned together \n",
    "\n",
    "df_iris = pd.DataFrame(np.c_[iris_dataset['data'], iris_dataset['target'].reshape(-1, 1)], \n",
    "                       columns=iris_dataset['feature_names']+['target'])\n",
    "\n",
    "## check the head\n",
    "df_iris.head()"
   ]
  },
  {
   "cell_type": "code",
   "execution_count": 4,
   "id": "aefd185d",
   "metadata": {},
   "outputs": [
    {
     "data": {
      "text/html": [
       "<div>\n",
       "<style scoped>\n",
       "    .dataframe tbody tr th:only-of-type {\n",
       "        vertical-align: middle;\n",
       "    }\n",
       "\n",
       "    .dataframe tbody tr th {\n",
       "        vertical-align: top;\n",
       "    }\n",
       "\n",
       "    .dataframe thead th {\n",
       "        text-align: right;\n",
       "    }\n",
       "</style>\n",
       "<table border=\"1\" class=\"dataframe\">\n",
       "  <thead>\n",
       "    <tr style=\"text-align: right;\">\n",
       "      <th></th>\n",
       "      <th>sepal length (cm)</th>\n",
       "      <th>sepal width (cm)</th>\n",
       "      <th>petal length (cm)</th>\n",
       "      <th>petal width (cm)</th>\n",
       "      <th>target</th>\n",
       "    </tr>\n",
       "  </thead>\n",
       "  <tbody>\n",
       "    <tr>\n",
       "      <th>73</th>\n",
       "      <td>6.1</td>\n",
       "      <td>2.8</td>\n",
       "      <td>4.7</td>\n",
       "      <td>1.2</td>\n",
       "      <td>1.0</td>\n",
       "    </tr>\n",
       "    <tr>\n",
       "      <th>18</th>\n",
       "      <td>5.7</td>\n",
       "      <td>3.8</td>\n",
       "      <td>1.7</td>\n",
       "      <td>0.3</td>\n",
       "      <td>0.0</td>\n",
       "    </tr>\n",
       "    <tr>\n",
       "      <th>118</th>\n",
       "      <td>7.7</td>\n",
       "      <td>2.6</td>\n",
       "      <td>6.9</td>\n",
       "      <td>2.3</td>\n",
       "      <td>2.0</td>\n",
       "    </tr>\n",
       "    <tr>\n",
       "      <th>78</th>\n",
       "      <td>6.0</td>\n",
       "      <td>2.9</td>\n",
       "      <td>4.5</td>\n",
       "      <td>1.5</td>\n",
       "      <td>1.0</td>\n",
       "    </tr>\n",
       "    <tr>\n",
       "      <th>76</th>\n",
       "      <td>6.8</td>\n",
       "      <td>2.8</td>\n",
       "      <td>4.8</td>\n",
       "      <td>1.4</td>\n",
       "      <td>1.0</td>\n",
       "    </tr>\n",
       "  </tbody>\n",
       "</table>\n",
       "</div>"
      ],
      "text/plain": [
       "     sepal length (cm)  sepal width (cm)  petal length (cm)  petal width (cm)  \\\n",
       "73                 6.1               2.8                4.7               1.2   \n",
       "18                 5.7               3.8                1.7               0.3   \n",
       "118                7.7               2.6                6.9               2.3   \n",
       "78                 6.0               2.9                4.5               1.5   \n",
       "76                 6.8               2.8                4.8               1.4   \n",
       "\n",
       "     target  \n",
       "73      1.0  \n",
       "18      0.0  \n",
       "118     2.0  \n",
       "78      1.0  \n",
       "76      1.0  "
      ]
     },
     "execution_count": 4,
     "metadata": {},
     "output_type": "execute_result"
    }
   ],
   "source": [
    "## Let's shuffle the Dataset as you see that the target is ordered (0 then 1 then 2) --> Classification problem\n",
    "## You can use function (sample) provided in pandas or use (shuffle) in sklearn\n",
    "df_iris = utils.shuffle(df_iris, random_state=42)   ## shuffle and overwrite\n",
    "\n",
    "## check the head again\n",
    "df_iris.head()    ## OK"
   ]
  },
  {
   "cell_type": "markdown",
   "id": "3ffa9100",
   "metadata": {},
   "source": [
    "* > `The Dataset has 4 Features and no need for any encoding, we can only make standardization or Normalization, and the target ready (no need for encoding)`"
   ]
  },
  {
   "cell_type": "markdown",
   "id": "ee3b7439",
   "metadata": {},
   "source": [
    "### `Exploratory Data Analysis (EDA)`"
   ]
  },
  {
   "cell_type": "code",
   "execution_count": 5,
   "id": "61d37fe8",
   "metadata": {},
   "outputs": [],
   "source": [
    "## Do it Yourself"
   ]
  },
  {
   "cell_type": "markdown",
   "id": "ee044c67",
   "metadata": {},
   "source": [
    "### `Preprocessing`\n",
    "`The Dataset is very small, It is a Toy example, I will not split the data`"
   ]
  },
  {
   "cell_type": "code",
   "execution_count": 6,
   "id": "6cb6f211",
   "metadata": {},
   "outputs": [],
   "source": [
    "### Split the Dataset to Features and Target\n",
    "X = df_iris.drop(columns=['target'], axis=1)\n",
    "y = df_iris['target']"
   ]
  },
  {
   "cell_type": "code",
   "execution_count": 7,
   "id": "8b00342c",
   "metadata": {},
   "outputs": [],
   "source": [
    "## Let's impute (although there is no nulls) and standardize the Dataset ---> All in Pipeline\n",
    "num_pipeline = Pipeline(steps=[\n",
    "    ('imputer', SimpleImputer(strategy='median')),\n",
    "    ('scaler', StandardScaler())\n",
    "                            ])\n",
    "\n",
    "X_train = num_pipeline.fit_transform(X)\n",
    "y_train = y.copy()   ## doesn't matter"
   ]
  },
  {
   "cell_type": "markdown",
   "id": "f0cbe9a6",
   "metadata": {},
   "source": [
    "### `Building a ML Model`\n",
    "* ` ---> Classification Problem`"
   ]
  },
  {
   "cell_type": "code",
   "execution_count": 8,
   "id": "c90ef3d1",
   "metadata": {},
   "outputs": [
    {
     "data": {
      "text/plain": [
       "KNeighborsClassifier()"
      ]
     },
     "execution_count": 8,
     "metadata": {},
     "output_type": "execute_result"
    }
   ],
   "source": [
    "## Let's imagine an Algorithm called (KNN)\n",
    "knn_clf = KNeighborsClassifier(n_neighbors=5)\n",
    "\n",
    "knn_clf.fit(X_train, y_train)   ## fit"
   ]
  },
  {
   "cell_type": "code",
   "execution_count": 9,
   "id": "6669082e",
   "metadata": {},
   "outputs": [
    {
     "data": {
      "text/plain": [
       "array([1., 0., 2., 1., 1., 0., 1., 2., 1., 1., 2., 0., 0., 0., 0., 1., 2.,\n",
       "       1., 1., 2., 0., 2., 0., 2., 2., 2., 2., 2., 0., 0., 0., 0., 1., 0.,\n",
       "       0., 2., 1., 0., 0., 0., 2., 1., 1., 0., 0., 1., 1., 2., 1., 2., 1.,\n",
       "       2., 1., 0., 2., 1., 0., 0., 0., 1., 2., 0., 0., 0., 1., 0., 1., 2.,\n",
       "       0., 1., 2., 0., 2., 2., 1., 1., 2., 1., 0., 1., 2., 0., 0., 1., 1.,\n",
       "       0., 2., 0., 0., 2., 1., 2., 2., 1., 2., 1., 0., 0., 1., 2., 0., 0.,\n",
       "       0., 2., 2., 0., 2., 2., 0., 1., 1., 2., 1., 2., 0., 2., 1., 2., 1.,\n",
       "       1., 1., 0., 1., 1., 0., 1., 2., 2., 0., 1., 2., 2., 0., 2., 0., 1.,\n",
       "       2., 2., 1., 2., 1., 1., 2., 2., 0., 1., 1., 0., 1., 2.])"
      ]
     },
     "execution_count": 9,
     "metadata": {},
     "output_type": "execute_result"
    }
   ],
   "source": [
    "## Inference and predict\n",
    "y_pred_knn = knn_clf.predict(X_train)\n",
    "y_pred_knn"
   ]
  },
  {
   "cell_type": "code",
   "execution_count": 10,
   "id": "591bdf56",
   "metadata": {},
   "outputs": [
    {
     "data": {
      "text/html": [
       "<div>\n",
       "<style scoped>\n",
       "    .dataframe tbody tr th:only-of-type {\n",
       "        vertical-align: middle;\n",
       "    }\n",
       "\n",
       "    .dataframe tbody tr th {\n",
       "        vertical-align: top;\n",
       "    }\n",
       "\n",
       "    .dataframe thead th {\n",
       "        text-align: right;\n",
       "    }\n",
       "</style>\n",
       "<table border=\"1\" class=\"dataframe\">\n",
       "  <thead>\n",
       "    <tr style=\"text-align: right;\">\n",
       "      <th></th>\n",
       "      <th>Ground Truth</th>\n",
       "      <th>Predicted (KNN)</th>\n",
       "    </tr>\n",
       "  </thead>\n",
       "  <tbody>\n",
       "    <tr>\n",
       "      <th>0</th>\n",
       "      <td>1.0</td>\n",
       "      <td>1.0</td>\n",
       "    </tr>\n",
       "    <tr>\n",
       "      <th>1</th>\n",
       "      <td>0.0</td>\n",
       "      <td>0.0</td>\n",
       "    </tr>\n",
       "    <tr>\n",
       "      <th>2</th>\n",
       "      <td>2.0</td>\n",
       "      <td>2.0</td>\n",
       "    </tr>\n",
       "    <tr>\n",
       "      <th>3</th>\n",
       "      <td>1.0</td>\n",
       "      <td>1.0</td>\n",
       "    </tr>\n",
       "    <tr>\n",
       "      <th>4</th>\n",
       "      <td>1.0</td>\n",
       "      <td>1.0</td>\n",
       "    </tr>\n",
       "    <tr>\n",
       "      <th>...</th>\n",
       "      <td>...</td>\n",
       "      <td>...</td>\n",
       "    </tr>\n",
       "    <tr>\n",
       "      <th>145</th>\n",
       "      <td>1.0</td>\n",
       "      <td>1.0</td>\n",
       "    </tr>\n",
       "    <tr>\n",
       "      <th>146</th>\n",
       "      <td>2.0</td>\n",
       "      <td>1.0</td>\n",
       "    </tr>\n",
       "    <tr>\n",
       "      <th>147</th>\n",
       "      <td>0.0</td>\n",
       "      <td>0.0</td>\n",
       "    </tr>\n",
       "    <tr>\n",
       "      <th>148</th>\n",
       "      <td>1.0</td>\n",
       "      <td>1.0</td>\n",
       "    </tr>\n",
       "    <tr>\n",
       "      <th>149</th>\n",
       "      <td>2.0</td>\n",
       "      <td>2.0</td>\n",
       "    </tr>\n",
       "  </tbody>\n",
       "</table>\n",
       "<p>150 rows × 2 columns</p>\n",
       "</div>"
      ],
      "text/plain": [
       "     Ground Truth  Predicted (KNN)\n",
       "0             1.0              1.0\n",
       "1             0.0              0.0\n",
       "2             2.0              2.0\n",
       "3             1.0              1.0\n",
       "4             1.0              1.0\n",
       "..            ...              ...\n",
       "145           1.0              1.0\n",
       "146           2.0              1.0\n",
       "147           0.0              0.0\n",
       "148           1.0              1.0\n",
       "149           2.0              2.0\n",
       "\n",
       "[150 rows x 2 columns]"
      ]
     },
     "execution_count": 10,
     "metadata": {},
     "output_type": "execute_result"
    }
   ],
   "source": [
    "## What about Evaluation Metric --> Let's imagine a classification Metric called (accuracy) \n",
    "## Accuarcy is the total_number of true labeled instances to full_number of data\n",
    "\n",
    "## Stack both the Ground Truth and the predicted labels using KNN \n",
    "df_comapre = pd.DataFrame(np.column_stack((y, y_pred_knn)), columns=['Ground Truth', 'Predicted (KNN)'])\n",
    "df_comapre"
   ]
  },
  {
   "cell_type": "code",
   "execution_count": 11,
   "id": "92087745",
   "metadata": {},
   "outputs": [
    {
     "name": "stdout",
     "output_type": "stream",
     "text": [
      "Accuracy Score using KNN --- 95.33 %\n"
     ]
    }
   ],
   "source": [
    "## Using the Function provided by sklearn\n",
    "knn_acc_score = accuracy_score(y, y_pred_knn)\n",
    "print(f'Accuracy Score using KNN --- {100*knn_acc_score:.2f} %')"
   ]
  },
  {
   "cell_type": "code",
   "execution_count": 12,
   "id": "7f9b3961",
   "metadata": {},
   "outputs": [
    {
     "data": {
      "text/plain": [
       "0.9533333333333334"
      ]
     },
     "execution_count": 12,
     "metadata": {},
     "output_type": "execute_result"
    }
   ],
   "source": [
    "def my_accuracy_score(y_true, y_pred):\n",
    "    ''' This Function tries to get the accuracy score, simulating the accuracy_score function provided in sklearn\n",
    "    Args:\n",
    "    ****\n",
    "        (y_true: 1D array) --> NumPy 1D array or pandas Series\n",
    "        (y_pred: 1D array) --> NumPy 1D array or pandas Series\n",
    "    Returns:\n",
    "    *******\n",
    "        return the accuracy_score\n",
    "    '''\n",
    "    return np.sum(y_true==y_pred)/len(y_true)\n",
    "\n",
    "\n",
    "## call the function\n",
    "my_accuracy_score(y_true=y, y_pred=y_pred_knn)"
   ]
  },
  {
   "cell_type": "markdown",
   "id": "1908a8eb",
   "metadata": {},
   "source": [
    "### More Details Later"
   ]
  }
 ],
 "metadata": {
  "kernelspec": {
   "display_name": "Python 3 (ipykernel)",
   "language": "python",
   "name": "python3"
  },
  "language_info": {
   "codemirror_mode": {
    "name": "ipython",
    "version": 3
   },
   "file_extension": ".py",
   "mimetype": "text/x-python",
   "name": "python",
   "nbconvert_exporter": "python",
   "pygments_lexer": "ipython3",
   "version": "3.9.7"
  }
 },
 "nbformat": 4,
 "nbformat_minor": 5
}
