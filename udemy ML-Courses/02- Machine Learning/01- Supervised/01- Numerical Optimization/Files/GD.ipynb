{
 "cells": [
  {
   "cell_type": "code",
   "execution_count": 90,
   "metadata": {},
   "outputs": [],
   "source": [
    "import numpy as np\n",
    "import matplotlib.pyplot as plt\n",
    "plt.style.use('ggplot')"
   ]
  },
  {
   "cell_type": "code",
   "execution_count": 91,
   "metadata": {},
   "outputs": [
    {
     "data": {
      "text/plain": [
       "array([[2.9000001 , 4.        ],\n",
       "       [6.69999981, 7.4000001 ],\n",
       "       [4.9000001 , 5.        ],\n",
       "       [7.9000001 , 7.19999981],\n",
       "       [9.80000019, 7.9000001 ],\n",
       "       [6.9000001 , 6.0999999 ],\n",
       "       [6.0999999 , 6.        ],\n",
       "       [6.19999981, 5.80000019],\n",
       "       [6.        , 5.19999981],\n",
       "       [5.0999999 , 4.19999981],\n",
       "       [4.69999981, 4.        ],\n",
       "       [4.4000001 , 4.4000001 ],\n",
       "       [5.80000019, 5.19999981]])"
      ]
     },
     "execution_count": 91,
     "metadata": {},
     "output_type": "execute_result"
    }
   ],
   "source": [
    "## Load the Data using numby or you can use pandas but take care --> (header=None)\n",
    "data = np.genfromtxt('RegData.csv', delimiter=',')\n",
    "data        ## the first column is the Features(X), and the second one is the Target(y)"
   ]
  },
  {
   "cell_type": "code",
   "execution_count": 92,
   "metadata": {},
   "outputs": [
    {
     "name": "stdout",
     "output_type": "stream",
     "text": [
      "X shape -- (13, 1)\n",
      "y shape -- (13,)\n"
     ]
    }
   ],
   "source": [
    "## Slice the Data to (X & y)\n",
    "X = data[:, 0]   ## first column is the Features\n",
    "y = data[:, 1]   ## second column is the target\n",
    "\n",
    "X = X.reshape(-1, 1)   ## to be 2D array, don't change y \n",
    "\n",
    "print('X shape --', X.shape)  ## 2D array\n",
    "print('y shape --', y.shape)  ## vector"
   ]
  },
  {
   "cell_type": "code",
   "execution_count": 93,
   "metadata": {},
   "outputs": [
    {
     "data": {
      "image/png": "[encoded data removed]",
      "text/plain": [
       "<Figure size 432x288 with 1 Axes>"
      ]
     },
     "metadata": {},
     "output_type": "display_data"
    }
   ],
   "source": [
    "## plotting , check the relation between X, y\n",
    "plt.plot(X, y, 'bo')\n",
    "plt.xlabel('X')\n",
    "plt.ylabel('y')\n",
    "plt.show()"
   ]
  },
  {
   "cell_type": "code",
   "execution_count": 94,
   "metadata": {},
   "outputs": [
    {
     "data": {
      "text/plain": [
       "array([[1.        , 2.9000001 ],\n",
       "       [1.        , 6.69999981],\n",
       "       [1.        , 4.9000001 ],\n",
       "       [1.        , 7.9000001 ],\n",
       "       [1.        , 9.80000019],\n",
       "       [1.        , 6.9000001 ],\n",
       "       [1.        , 6.0999999 ],\n",
       "       [1.        , 6.19999981],\n",
       "       [1.        , 6.        ],\n",
       "       [1.        , 5.0999999 ],\n",
       "       [1.        , 4.69999981],\n",
       "       [1.        , 4.4000001 ],\n",
       "       [1.        , 5.80000019]])"
      ]
     },
     "execution_count": 94,
     "metadata": {},
     "output_type": "execute_result"
    }
   ],
   "source": [
    "## X is one feature (theta_1), what about theta_0\n",
    "## we want to insert a column in X (containing only ones)\n",
    "X = np.insert(arr=X, obj=0, values=1, axis=1)\n",
    "X"
   ]
  },
  {
   "cell_type": "code",
   "execution_count": 95,
   "metadata": {},
   "outputs": [
    {
     "data": {
      "text/plain": [
       "array([0., 0.])"
      ]
     },
     "execution_count": 95,
     "metadata": {},
     "output_type": "execute_result"
    }
   ],
   "source": [
    "## Initialize random values for (theta_0 & theta_1) --> it will be updated with GD\n",
    "thetas = np.zeros(2)    ## Let them be zeros \n",
    "thetas"
   ]
  },
  {
   "cell_type": "code",
   "execution_count": 96,
   "metadata": {},
   "outputs": [],
   "source": [
    "def batch_GD(X, y, theta_input, alfa, iters):\n",
    "    '''' This Function tries to get the updated thetas using Batch GD\n",
    "    Args:\n",
    "    *****\n",
    "        (X: 2D array) --> the Features of the Dataset containing ones (first column for theta_0)\n",
    "        (y: 1D array) --> the Target of the Dataset\n",
    "        (theta_input: 1D array) --> the initial values for thetas (random values), you will have thetas \n",
    "            according to your features, if you have one feature, then you have (theat_0, theta_1),\n",
    "            If you have two features, then you have (theta_0, theta_1, theta_2) ans so on.\n",
    "        (alfa: float) --> the learning rate\n",
    "        (iters: int) --> the number of iterations required and after thetas will stop learning\n",
    "    Returns:\n",
    "    *******\n",
    "        returns the updated thetas, you can use them for predicting\n",
    "        If you have two features --> y_predicted = theta_0 * 1 + theta_1 * feature_1 ... and so on.\n",
    "    '''\n",
    "\n",
    "    \n",
    "    for i in range(iters):  ## loop for (stopping criteria)\n",
    "        \n",
    "        h_theta = X @ theta_input   ## hypothesis (predicted)\n",
    "        \n",
    "        diff = h_theta - y           ## difference between predicted and Ground Truth\n",
    "        \n",
    "        cost = np.sum(diff**2) / (2 * len(X))  ## cost Function MSE\n",
    "        \n",
    "        gradient = (X.T @ diff) / len(X)       ## get the gradient\n",
    "        \n",
    "        theta_input = theta_input - alfa * gradient  ## update thetas, new_thetas = old_theta - alfa * gradient\n",
    "        ## Note we update in the same place (theta_input)\n",
    "        \n",
    "    # return thetas final \n",
    "    return theta_input"
   ]
  },
  {
   "cell_type": "code",
   "execution_count": 97,
   "metadata": {},
   "outputs": [],
   "source": [
    "## call the function\n",
    "new_thetas = batch_GD(X, y, theta_input=thetas, alfa=0.01, iters=1000)"
   ]
  },
  {
   "cell_type": "code",
   "execution_count": 98,
   "metadata": {},
   "outputs": [],
   "source": [
    "## Predicted values\n",
    "y_pred = X @ new_thetas"
   ]
  },
  {
   "cell_type": "code",
   "execution_count": 99,
   "metadata": {},
   "outputs": [
    {
     "data": {
      "image/png": "[encoded data removed]",
      "text/plain": [
       "<Figure size 720x432 with 1 Axes>"
      ]
     },
     "metadata": {},
     "output_type": "display_data"
    }
   ],
   "source": [
    "## remember, we add (column of ones in X), take the second one (Feature)\n",
    "## Don't forget to slice (X, take the second column)\n",
    "plt.figure(figsize=(10, 6))\n",
    "plt.plot(X[:, 1], y, 'bo', label='Data')  \n",
    "plt.plot(X[:, 1], y_pred, label='RegrssionLine')\n",
    "plt.title('Regression Line using Batch GD', fontsize=14, color='k')\n",
    "plt.xlabel('X', fontsize=14, color='k')\n",
    "plt.ylabel('y', fontsize=14, color='k')\n",
    "plt.legend()\n",
    "plt.show()"
   ]
  },
  {
   "cell_type": "code",
   "execution_count": 100,
   "metadata": {},
   "outputs": [
    {
     "name": "stdout",
     "output_type": "stream",
     "text": [
      "MAE  0.4442679098028135\n",
      "MSE  0.31458767460120385\n"
     ]
    }
   ],
   "source": [
    "## We can calculate (MSE & MAE) for the (y: True & y_pred: Predicted)\n",
    "\n",
    "## MSE\n",
    "def mean_squared_error(y_true, y_predicted):\n",
    "    mse = np.sum((y_true - y_predicted)**2) / len(y_true)\n",
    "    return mse\n",
    "def mean_absolute_error(y_true, y_predicted):\n",
    "    mae = np.sum(np.abs(y_true - y_predicted)) / len(y_true)\n",
    "    return mae\n",
    "\n",
    "## call the functions\n",
    "print('MAE ', mean_absolute_error(y, y_pred))\n",
    "print('MSE ', mean_squared_error(y, y_pred))   ## Later, we will use prepared libraries for that"
   ]
  },
  {
   "cell_type": "markdown",
   "metadata": {},
   "source": [
    "#### Notes\n",
    "* You can implement the Stochastic GD (SGD) & Mini-Batch GD by the same steps except the size of (m)\n",
    "* You can get the thetas at each step of updating\n",
    "* You can get the cost function at each step and draw a curve between thetas and cost function\n",
    "* You can do the above two points in function by creating two empty lists and append in them\n",
    "* You can change your stopping criteria, and stop at gradient <= , or cost <= , or what you want"
   ]
  },
  {
   "cell_type": "markdown",
   "metadata": {},
   "source": [
    "### Done!"
   ]
  }
 ],
 "metadata": {
  "interpreter": {
   "hash": "7bae2ad0e3ff5c185926381e73b34e345e2ac5206b732d8653c944570bc573b8"
  },
  "kernelspec": {
   "display_name": "Python 3 (ipykernel)",
   "language": "python",
   "name": "python3"
  },
  "language_info": {
   "codemirror_mode": {
    "name": "ipython",
    "version": 3
   },
   "file_extension": ".py",
   "mimetype": "text/x-python",
   "name": "python",
   "nbconvert_exporter": "python",
   "pygments_lexer": "ipython3",
   "version": "3.9.7"
  }
 },
 "nbformat": 4,
 "nbformat_minor": 2
}
