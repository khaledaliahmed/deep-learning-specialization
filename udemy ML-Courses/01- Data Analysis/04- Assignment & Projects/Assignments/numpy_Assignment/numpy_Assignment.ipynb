{
 "cells": [
  {
   "cell_type": "markdown",
   "id": "18ca1ece",
   "metadata": {},
   "source": [
    "### Write your Code in the same Notebook \n",
    "### After getting the desired output -- write a comment above this line of code showing what Question this output belongs to \n",
    "\n",
    "`Example for that `  \n",
    "``` python\n",
    "    ## this output is for Question No. 1\n",
    "    print('determinant of the matrix is -- ', det) \n",
    "    \n",
    "    ## this output is for Question No. 2\n",
    "    print('inverse of the matrix is -- ', inv) \n",
    "    \n",
    "```"
   ]
  },
  {
   "cell_type": "markdown",
   "id": "871ba414",
   "metadata": {},
   "source": [
    "### Questions:"
   ]
  },
  {
   "cell_type": "markdown",
   "id": "2f2102ef",
   "metadata": {},
   "source": [
    "* `Q1 : Apply (ceil, floor, sin, cos, tan, round ..... ) functions for x = 40.0502987, y= 89.466097` \n",
    "\n",
    "* `Q2 : Create a 1D & 2D numpy array and check their shapes -- choose any values to create them`\n",
    "\n",
    "* `Q3 : Create a numpy array of shape (3x5) -- choose any values to craete them`\n",
    "\n",
    "* `Q4 : Create a numpy array of shape (3x5) using rand function in random module`\n",
    "\n",
    "* `Q5 : Create a numpy array of shape (3x5) using randint function in random module`\n",
    "\n",
    "* `Q6 : Create a numpy array of shape (4x6) using uniform function with ranges between (0-5)`\n",
    "\n",
    "* `Q7 : Create a numpy array of shape (4x6) using normal function with mean=0 & std=1`\n",
    "\n",
    "* `Q8 : Use arange function ranges(0,16) with step 1 & reshape the output to be square matrix`\n",
    "\n",
    "* `Q9 : Use linspace function ranges(0,10) with only 16 value & reshape output to be square matrix`\n",
    "\n",
    "* `Q10 : Use arange function ranges(0, 20) with step 1 & get sum, mean, median, mode for values`\n",
    "\n",
    "* `Q11 : Use arange function ranges(5, 20) with step 1 & get sum, mean, median, mode for values`\n",
    "\n",
    "* `Q12 : Use arange function ranges(3, 33) with step 1 & get variance, standard Dev. for values`\n",
    "\n",
    "* `Q13 : Use vectors from Q11 & Q12 to get covariance & correlation between these two vectors`\n",
    "\n",
    "* `Q14 : Create a numpy array (4x4), slice it and get all rows with only last column`\n",
    "\n",
    "* `Q15 : Create a numpy array(3x5) & numpy array(3x3), concatenate them horizontally -- column wise`\n",
    "\n",
    "* `Q16 : Create a numpy array(3x5) & numpy array(2x5), concatenate them vertically -- row wise`\n",
    "\n",
    "* `Q17 : Create two random vectors and get the Inner/Dot product of them`\n",
    "\n",
    "* `Q18 : Create two random matrices and multiply them -- choose size to be multiplicable`\n",
    "\n",
    "* `Q19 : Create a random matrix(3x5) and get the [mean, max, sum] across both columns & rows (axis)`\n",
    "\n",
    "* `Q20 : Create a random matrix(3x5) and get [determinant, inverse, eigen values & vectors]`\n",
    "\n",
    "* `Q21 : Create a random vector with any shape and get both norm1 & norm2 `\n",
    "\n",
    "* `Q22 : Try to use solve function provided by numpy to solve any question A.x=b in slides `"
   ]
  },
  {
   "cell_type": "markdown",
   "id": "736cdc2e",
   "metadata": {},
   "source": [
    "------"
   ]
  },
  {
   "cell_type": "markdown",
   "id": "2c542e6a",
   "metadata": {},
   "source": [
    "### Your Solution"
   ]
  },
  {
   "cell_type": "code",
   "execution_count": null,
   "id": "32828478",
   "metadata": {},
   "outputs": [],
   "source": []
  }
 ],
 "metadata": {
  "kernelspec": {
   "display_name": "Python 3 (ipykernel)",
   "language": "python",
   "name": "python3"
  },
  "language_info": {
   "codemirror_mode": {
    "name": "ipython",
    "version": 3
   },
   "file_extension": ".py",
   "mimetype": "text/x-python",
   "name": "python",
   "nbconvert_exporter": "python",
   "pygments_lexer": "ipython3",
   "version": "3.9.7"
  }
 },
 "nbformat": 4,
 "nbformat_minor": 5
}
